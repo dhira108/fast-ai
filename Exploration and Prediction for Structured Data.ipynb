{
 "cells": [
  {
   "cell_type": "markdown",
   "metadata": {},
   "source": [
    "# Exploration and Prediction for Structured Data"
   ]
  },
  {
   "cell_type": "markdown",
   "metadata": {},
   "source": [
    "### Based on Kaggles \"Corporación Favorita Grocery Sales Forecasting\" Competion"
   ]
  },
  {
   "cell_type": "markdown",
   "metadata": {},
   "source": [
    "### Using Random Forests and Deep Learning Based on fast.ai Library"
   ]
  },
  {
   "cell_type": "markdown",
   "metadata": {},
   "source": [
    "The task of exploration and prediction based on structured data is common in industry, but less common in academics. I am particularly interested in this and my goal here is to have a blueprint for that task. I will document a step by step approach to exploration and prediction for a structured data set, and the [Kaggle \"Corporación Favorita Grocery Sales Forecasting\" competion](https://www.kaggle.com/c/favorita-grocery-sales-forecasting) will be used as the illustrating example throughout.\n",
    "\n",
    "My starting point is the analyses made in the corresponding [fastai](http://course.fast.ai) [machine learning](http://forums.fast.ai/t/another-treat-early-access-to-intro-to-machine-learning-videos/6826) and [deep learning](http://course.fast.ai/lessons/lesson4.html) lessons. The ML course describes exploration of structured data (especially the [Kaggle Bulldozers competition](https://www.kaggle.com/c/bluebook-for-bulldozers)) with random forests (starting with this [notebook](https://github.com/fastai/fastai/blob/master/courses/ml1/lesson1-rf.ipynb)), and the DL course describes prediction using deep learning for the [Kaggle Rossmann competition](https://www.kaggle.com/c/rossmann-store-sales) in this [notebook](https://github.com/fastai/fastai/blob/master/courses/dl1/lesson3-rossman.ipynb). The \"Grocery\" competion should be similar enough to Rossmann, so I want to try and replicate what I learned on that example."
   ]
  },
  {
   "cell_type": "markdown",
   "metadata": {},
   "source": [
    "If I understood [Jeremy](http://www.fast.ai/about/#jeremy) correctly, it is quite sufficient today to use [Random Forest](https://en.wikipedia.org/wiki/Random_forest) for exploration and [Deep Learning](https://en.wikipedia.org/wiki/Deep_learning) for prediction, because the two cover a large portion of what you will ever need in machine learning. That is why I focus only on those two technologies and I think they should be helpful as a starting point for most situations."
   ]
  },
  {
   "cell_type": "markdown",
   "metadata": {},
   "source": [
    "I have tried to use some of the ideas from [Data Science Primer](https://elitedatascience.com/primer) for structuring this analysis. There is this picture here telling us something about the tasks ahead. In retrospect I would give \"data cleaning\", or call it \"data wrangling\", a larger percentage, at least for this data set.\n",
    "\n",
    "<img src=\"https://elitedatascience.com/wp-content/uploads/2018/05/What-Goes-Into-a-Successful-Model.jpg\" height=\"80%\" width=\"80%\"/>"
   ]
  },
  {
   "cell_type": "markdown",
   "metadata": {},
   "source": [
    "## 1. Preparation"
   ]
  },
  {
   "cell_type": "markdown",
   "metadata": {},
   "source": [
    "### 1.1 Imports"
   ]
  },
  {
   "cell_type": "code",
   "execution_count": 1,
   "metadata": {},
   "outputs": [],
   "source": [
    "%matplotlib inline\n",
    "%reload_ext autoreload\n",
    "%autoreload 2"
   ]
  },
  {
   "cell_type": "code",
   "execution_count": 2,
   "metadata": {},
   "outputs": [],
   "source": [
    "from fastai.structured import *\n",
    "from fastai.column_data import *\n",
    "np.set_printoptions(threshold=50, edgeitems=20)"
   ]
  },
  {
   "cell_type": "code",
   "execution_count": 3,
   "metadata": {},
   "outputs": [],
   "source": [
    "def display_all(df):\n",
    "    with pd.option_context(\"display.max_rows\", 1000, \"display.max_columns\", 1000): \n",
    "        display(df)"
   ]
  },
  {
   "cell_type": "markdown",
   "metadata": {},
   "source": [
    "### 1.2 Data"
   ]
  },
  {
   "cell_type": "markdown",
   "metadata": {},
   "source": [
    "Data was downloaded from the [Kaggle data page](https://www.kaggle.com/c/favorita-grocery-sales-forecasting/data)"
   ]
  },
  {
   "cell_type": "code",
   "execution_count": 4,
   "metadata": {},
   "outputs": [],
   "source": [
    "PATH = \"data/grocery/\""
   ]
  },
  {
   "cell_type": "code",
   "execution_count": 5,
   "metadata": {},
   "outputs": [
    {
     "data": {
      "text/plain": [
       "[PosixPath('data/grocery/train.csv'),\n",
       " PosixPath('data/grocery/items.csv'),\n",
       " PosixPath('data/grocery/transactions.csv'),\n",
       " PosixPath('data/grocery/submission.csv'),\n",
       " PosixPath('data/grocery/holidays_events.csv'),\n",
       " PosixPath('data/grocery/test.csv'),\n",
       " PosixPath('data/grocery/oil.csv'),\n",
       " PosixPath('data/grocery/sample_submission.csv'),\n",
       " PosixPath('data/grocery/stores.csv')]"
      ]
     },
     "execution_count": 5,
     "metadata": {},
     "output_type": "execute_result"
    }
   ],
   "source": [
    "[x for x in Path(PATH).iterdir() if x.is_file()]"
   ]
  },
  {
   "cell_type": "markdown",
   "metadata": {},
   "source": [
    "### 1.3 Import Data"
   ]
  },
  {
   "cell_type": "code",
   "execution_count": 5,
   "metadata": {},
   "outputs": [],
   "source": [
    "dtypes = {'id': np.uint32,\n",
    "          'store_nbr': np.uint8, \n",
    "          'item_nbr': np.uint32, \n",
    "          'unit_sales': np.float32,\n",
    "          'class': np.uint16,\n",
    "          'perishable': np.bool,\n",
    "          'dcoilwtico':np.float16,\n",
    "          'onpromotion': np.bool,\n",
    "          'transactions':np.uint16,\n",
    "          'cluster': np.uint32}"
   ]
  },
  {
   "cell_type": "code",
   "execution_count": 6,
   "metadata": {},
   "outputs": [
    {
     "name": "stdout",
     "output_type": "stream",
     "text": [
      "Wall time: 2min 19s\n"
     ]
    }
   ],
   "source": [
    "%time train = pd.read_csv(f'{PATH}train.csv', low_memory=False, parse_dates=['date'], infer_datetime_format=True, dtype=dtypes)"
   ]
  },
  {
   "cell_type": "code",
   "execution_count": 8,
   "metadata": {},
   "outputs": [],
   "source": [
    "stores = pd.read_csv(f'{PATH}stores.csv', dtype=dtypes)"
   ]
  },
  {
   "cell_type": "code",
   "execution_count": 9,
   "metadata": {},
   "outputs": [],
   "source": [
    "holidays_events = pd.read_csv(f'{PATH}holidays_events.csv', low_memory=False, parse_dates=['date'], infer_datetime_format=True, \n",
    "                             dtype=dtypes)"
   ]
  },
  {
   "cell_type": "code",
   "execution_count": 10,
   "metadata": {},
   "outputs": [],
   "source": [
    "test = pd.read_csv(f'{PATH}test.csv', low_memory=False, parse_dates=['date'], infer_datetime_format=True, dtype=dtypes)"
   ]
  },
  {
   "cell_type": "code",
   "execution_count": 11,
   "metadata": {},
   "outputs": [],
   "source": [
    "items = pd.read_csv(f'{PATH}items.csv', dtype=dtypes)"
   ]
  },
  {
   "cell_type": "code",
   "execution_count": 12,
   "metadata": {},
   "outputs": [],
   "source": [
    "transactions, oil = [pd.read_csv(f'{PATH}{fname}.csv', parse_dates=['date'], infer_datetime_format=True, dtype=dtypes)\n",
    "               for fname in ['transactions', 'oil']]"
   ]
  },
  {
   "cell_type": "code",
   "execution_count": 13,
   "metadata": {},
   "outputs": [],
   "source": [
    "train.to_feather(f'{PATH}data/train_raw')"
   ]
  },
  {
   "cell_type": "code",
   "execution_count": 14,
   "metadata": {},
   "outputs": [
    {
     "name": "stderr",
     "output_type": "stream",
     "text": [
      "/home/ubuntu/anaconda3/envs/fastai/lib/python3.6/site-packages/pandas/io/feather_format.py:112: FutureWarning: `nthreads` argument is deprecated, pass `use_threads` instead\n",
      "  return feather.read_dataframe(path, nthreads=nthreads)\n"
     ]
    }
   ],
   "source": [
    "train = pd.read_feather(f'{PATH}data/train_raw')"
   ]
  },
  {
   "cell_type": "markdown",
   "metadata": {},
   "source": [
    "## 2. Exploratory Analysis"
   ]
  },
  {
   "cell_type": "markdown",
   "metadata": {},
   "source": [
    "Here some wise words from [Data Science Primer](https://elitedatascience.com/primer):\n",
    "\n",
    ">There’s a big challenge in data science called “Tactical Hell.” You have too many tactics to choose from:  \n",
    "_Should you clean your data more? Engineer features? Test new algorithms? Etc._  \n",
    "There’s a lot of trial and error, so how do you avoid chasing dead ends?  \n",
    "The answer is **Exploratory Analysis**, which means “getting to know” your data.  \n",
    "Doing this upfront helps you save time and avoid wild goose chases…"
   ]
  },
  {
   "cell_type": "markdown",
   "metadata": {},
   "source": [
    "### 2.1 Some Basics"
   ]
  },
  {
   "cell_type": "markdown",
   "metadata": {},
   "source": [
    "#### Number of Observations:"
   ]
  },
  {
   "cell_type": "code",
   "execution_count": 15,
   "metadata": {},
   "outputs": [
    {
     "data": {
      "text/plain": [
       "125497040"
      ]
     },
     "execution_count": 15,
     "metadata": {},
     "output_type": "execute_result"
    }
   ],
   "source": [
    "n = len(train); n"
   ]
  },
  {
   "cell_type": "code",
   "execution_count": 16,
   "metadata": {},
   "outputs": [
    {
     "data": {
      "text/plain": [
       "3370464"
      ]
     },
     "execution_count": 16,
     "metadata": {},
     "output_type": "execute_result"
    }
   ],
   "source": [
    "len(test)"
   ]
  },
  {
   "cell_type": "markdown",
   "metadata": {},
   "source": [
    "#### Features"
   ]
  },
  {
   "cell_type": "code",
   "execution_count": 17,
   "metadata": {},
   "outputs": [],
   "source": [
    "tables = train, stores, items, transactions, oil, holidays_events, test"
   ]
  },
  {
   "cell_type": "code",
   "execution_count": 18,
   "metadata": {},
   "outputs": [],
   "source": [
    "table_names = ['train', 'stores', 'items', 'transactions', 'oil', 'holidays_events', 'test']"
   ]
  },
  {
   "cell_type": "code",
   "execution_count": 19,
   "metadata": {
    "scrolled": false
   },
   "outputs": [
    {
     "name": "stdout",
     "output_type": "stream",
     "text": [
      "train\n"
     ]
    },
    {
     "data": {
      "text/html": [
       "<div>\n",
       "<style scoped>\n",
       "    .dataframe tbody tr th:only-of-type {\n",
       "        vertical-align: middle;\n",
       "    }\n",
       "\n",
       "    .dataframe tbody tr th {\n",
       "        vertical-align: top;\n",
       "    }\n",
       "\n",
       "    .dataframe thead th {\n",
       "        text-align: right;\n",
       "    }\n",
       "</style>\n",
       "<table border=\"1\" class=\"dataframe\">\n",
       "  <thead>\n",
       "    <tr style=\"text-align: right;\">\n",
       "      <th></th>\n",
       "      <th>id</th>\n",
       "      <th>date</th>\n",
       "      <th>store_nbr</th>\n",
       "      <th>item_nbr</th>\n",
       "      <th>unit_sales</th>\n",
       "      <th>onpromotion</th>\n",
       "    </tr>\n",
       "  </thead>\n",
       "  <tbody>\n",
       "    <tr>\n",
       "      <th>0</th>\n",
       "      <td>0</td>\n",
       "      <td>2013-01-01</td>\n",
       "      <td>25</td>\n",
       "      <td>103665</td>\n",
       "      <td>7.0</td>\n",
       "      <td>None</td>\n",
       "    </tr>\n",
       "    <tr>\n",
       "      <th>1</th>\n",
       "      <td>1</td>\n",
       "      <td>2013-01-01</td>\n",
       "      <td>25</td>\n",
       "      <td>105574</td>\n",
       "      <td>1.0</td>\n",
       "      <td>None</td>\n",
       "    </tr>\n",
       "    <tr>\n",
       "      <th>2</th>\n",
       "      <td>2</td>\n",
       "      <td>2013-01-01</td>\n",
       "      <td>25</td>\n",
       "      <td>105575</td>\n",
       "      <td>2.0</td>\n",
       "      <td>None</td>\n",
       "    </tr>\n",
       "    <tr>\n",
       "      <th>3</th>\n",
       "      <td>3</td>\n",
       "      <td>2013-01-01</td>\n",
       "      <td>25</td>\n",
       "      <td>108079</td>\n",
       "      <td>1.0</td>\n",
       "      <td>None</td>\n",
       "    </tr>\n",
       "    <tr>\n",
       "      <th>4</th>\n",
       "      <td>4</td>\n",
       "      <td>2013-01-01</td>\n",
       "      <td>25</td>\n",
       "      <td>108701</td>\n",
       "      <td>1.0</td>\n",
       "      <td>None</td>\n",
       "    </tr>\n",
       "  </tbody>\n",
       "</table>\n",
       "</div>"
      ],
      "text/plain": [
       "   id       date  store_nbr  item_nbr  unit_sales onpromotion\n",
       "0   0 2013-01-01         25    103665         7.0        None\n",
       "1   1 2013-01-01         25    105574         1.0        None\n",
       "2   2 2013-01-01         25    105575         2.0        None\n",
       "3   3 2013-01-01         25    108079         1.0        None\n",
       "4   4 2013-01-01         25    108701         1.0        None"
      ]
     },
     "metadata": {},
     "output_type": "display_data"
    },
    {
     "name": "stdout",
     "output_type": "stream",
     "text": [
      "stores\n"
     ]
    },
    {
     "data": {
      "text/html": [
       "<div>\n",
       "<style scoped>\n",
       "    .dataframe tbody tr th:only-of-type {\n",
       "        vertical-align: middle;\n",
       "    }\n",
       "\n",
       "    .dataframe tbody tr th {\n",
       "        vertical-align: top;\n",
       "    }\n",
       "\n",
       "    .dataframe thead th {\n",
       "        text-align: right;\n",
       "    }\n",
       "</style>\n",
       "<table border=\"1\" class=\"dataframe\">\n",
       "  <thead>\n",
       "    <tr style=\"text-align: right;\">\n",
       "      <th></th>\n",
       "      <th>store_nbr</th>\n",
       "      <th>city</th>\n",
       "      <th>state</th>\n",
       "      <th>type</th>\n",
       "      <th>cluster</th>\n",
       "    </tr>\n",
       "  </thead>\n",
       "  <tbody>\n",
       "    <tr>\n",
       "      <th>0</th>\n",
       "      <td>1</td>\n",
       "      <td>Quito</td>\n",
       "      <td>Pichincha</td>\n",
       "      <td>D</td>\n",
       "      <td>13</td>\n",
       "    </tr>\n",
       "    <tr>\n",
       "      <th>1</th>\n",
       "      <td>2</td>\n",
       "      <td>Quito</td>\n",
       "      <td>Pichincha</td>\n",
       "      <td>D</td>\n",
       "      <td>13</td>\n",
       "    </tr>\n",
       "    <tr>\n",
       "      <th>2</th>\n",
       "      <td>3</td>\n",
       "      <td>Quito</td>\n",
       "      <td>Pichincha</td>\n",
       "      <td>D</td>\n",
       "      <td>8</td>\n",
       "    </tr>\n",
       "    <tr>\n",
       "      <th>3</th>\n",
       "      <td>4</td>\n",
       "      <td>Quito</td>\n",
       "      <td>Pichincha</td>\n",
       "      <td>D</td>\n",
       "      <td>9</td>\n",
       "    </tr>\n",
       "    <tr>\n",
       "      <th>4</th>\n",
       "      <td>5</td>\n",
       "      <td>Santo Domingo</td>\n",
       "      <td>Santo Domingo de los Tsachilas</td>\n",
       "      <td>D</td>\n",
       "      <td>4</td>\n",
       "    </tr>\n",
       "  </tbody>\n",
       "</table>\n",
       "</div>"
      ],
      "text/plain": [
       "   store_nbr           city                           state type  cluster\n",
       "0          1          Quito                       Pichincha    D       13\n",
       "1          2          Quito                       Pichincha    D       13\n",
       "2          3          Quito                       Pichincha    D        8\n",
       "3          4          Quito                       Pichincha    D        9\n",
       "4          5  Santo Domingo  Santo Domingo de los Tsachilas    D        4"
      ]
     },
     "metadata": {},
     "output_type": "display_data"
    },
    {
     "name": "stdout",
     "output_type": "stream",
     "text": [
      "items\n"
     ]
    },
    {
     "data": {
      "text/html": [
       "<div>\n",
       "<style scoped>\n",
       "    .dataframe tbody tr th:only-of-type {\n",
       "        vertical-align: middle;\n",
       "    }\n",
       "\n",
       "    .dataframe tbody tr th {\n",
       "        vertical-align: top;\n",
       "    }\n",
       "\n",
       "    .dataframe thead th {\n",
       "        text-align: right;\n",
       "    }\n",
       "</style>\n",
       "<table border=\"1\" class=\"dataframe\">\n",
       "  <thead>\n",
       "    <tr style=\"text-align: right;\">\n",
       "      <th></th>\n",
       "      <th>item_nbr</th>\n",
       "      <th>family</th>\n",
       "      <th>class</th>\n",
       "      <th>perishable</th>\n",
       "    </tr>\n",
       "  </thead>\n",
       "  <tbody>\n",
       "    <tr>\n",
       "      <th>0</th>\n",
       "      <td>96995</td>\n",
       "      <td>GROCERY I</td>\n",
       "      <td>1093</td>\n",
       "      <td>False</td>\n",
       "    </tr>\n",
       "    <tr>\n",
       "      <th>1</th>\n",
       "      <td>99197</td>\n",
       "      <td>GROCERY I</td>\n",
       "      <td>1067</td>\n",
       "      <td>False</td>\n",
       "    </tr>\n",
       "    <tr>\n",
       "      <th>2</th>\n",
       "      <td>103501</td>\n",
       "      <td>CLEANING</td>\n",
       "      <td>3008</td>\n",
       "      <td>False</td>\n",
       "    </tr>\n",
       "    <tr>\n",
       "      <th>3</th>\n",
       "      <td>103520</td>\n",
       "      <td>GROCERY I</td>\n",
       "      <td>1028</td>\n",
       "      <td>False</td>\n",
       "    </tr>\n",
       "    <tr>\n",
       "      <th>4</th>\n",
       "      <td>103665</td>\n",
       "      <td>BREAD/BAKERY</td>\n",
       "      <td>2712</td>\n",
       "      <td>True</td>\n",
       "    </tr>\n",
       "  </tbody>\n",
       "</table>\n",
       "</div>"
      ],
      "text/plain": [
       "   item_nbr        family  class  perishable\n",
       "0     96995     GROCERY I   1093       False\n",
       "1     99197     GROCERY I   1067       False\n",
       "2    103501      CLEANING   3008       False\n",
       "3    103520     GROCERY I   1028       False\n",
       "4    103665  BREAD/BAKERY   2712        True"
      ]
     },
     "metadata": {},
     "output_type": "display_data"
    },
    {
     "name": "stdout",
     "output_type": "stream",
     "text": [
      "transactions\n"
     ]
    },
    {
     "data": {
      "text/html": [
       "<div>\n",
       "<style scoped>\n",
       "    .dataframe tbody tr th:only-of-type {\n",
       "        vertical-align: middle;\n",
       "    }\n",
       "\n",
       "    .dataframe tbody tr th {\n",
       "        vertical-align: top;\n",
       "    }\n",
       "\n",
       "    .dataframe thead th {\n",
       "        text-align: right;\n",
       "    }\n",
       "</style>\n",
       "<table border=\"1\" class=\"dataframe\">\n",
       "  <thead>\n",
       "    <tr style=\"text-align: right;\">\n",
       "      <th></th>\n",
       "      <th>date</th>\n",
       "      <th>store_nbr</th>\n",
       "      <th>transactions</th>\n",
       "    </tr>\n",
       "  </thead>\n",
       "  <tbody>\n",
       "    <tr>\n",
       "      <th>0</th>\n",
       "      <td>2013-01-01</td>\n",
       "      <td>25</td>\n",
       "      <td>770</td>\n",
       "    </tr>\n",
       "    <tr>\n",
       "      <th>1</th>\n",
       "      <td>2013-01-02</td>\n",
       "      <td>1</td>\n",
       "      <td>2111</td>\n",
       "    </tr>\n",
       "    <tr>\n",
       "      <th>2</th>\n",
       "      <td>2013-01-02</td>\n",
       "      <td>2</td>\n",
       "      <td>2358</td>\n",
       "    </tr>\n",
       "    <tr>\n",
       "      <th>3</th>\n",
       "      <td>2013-01-02</td>\n",
       "      <td>3</td>\n",
       "      <td>3487</td>\n",
       "    </tr>\n",
       "    <tr>\n",
       "      <th>4</th>\n",
       "      <td>2013-01-02</td>\n",
       "      <td>4</td>\n",
       "      <td>1922</td>\n",
       "    </tr>\n",
       "  </tbody>\n",
       "</table>\n",
       "</div>"
      ],
      "text/plain": [
       "        date  store_nbr  transactions\n",
       "0 2013-01-01         25           770\n",
       "1 2013-01-02          1          2111\n",
       "2 2013-01-02          2          2358\n",
       "3 2013-01-02          3          3487\n",
       "4 2013-01-02          4          1922"
      ]
     },
     "metadata": {},
     "output_type": "display_data"
    },
    {
     "name": "stdout",
     "output_type": "stream",
     "text": [
      "oil\n"
     ]
    },
    {
     "data": {
      "text/html": [
       "<div>\n",
       "<style scoped>\n",
       "    .dataframe tbody tr th:only-of-type {\n",
       "        vertical-align: middle;\n",
       "    }\n",
       "\n",
       "    .dataframe tbody tr th {\n",
       "        vertical-align: top;\n",
       "    }\n",
       "\n",
       "    .dataframe thead th {\n",
       "        text-align: right;\n",
       "    }\n",
       "</style>\n",
       "<table border=\"1\" class=\"dataframe\">\n",
       "  <thead>\n",
       "    <tr style=\"text-align: right;\">\n",
       "      <th></th>\n",
       "      <th>date</th>\n",
       "      <th>dcoilwtico</th>\n",
       "    </tr>\n",
       "  </thead>\n",
       "  <tbody>\n",
       "    <tr>\n",
       "      <th>0</th>\n",
       "      <td>2013-01-01</td>\n",
       "      <td>NaN</td>\n",
       "    </tr>\n",
       "    <tr>\n",
       "      <th>1</th>\n",
       "      <td>2013-01-02</td>\n",
       "      <td>93.1250</td>\n",
       "    </tr>\n",
       "    <tr>\n",
       "      <th>2</th>\n",
       "      <td>2013-01-03</td>\n",
       "      <td>93.0000</td>\n",
       "    </tr>\n",
       "    <tr>\n",
       "      <th>3</th>\n",
       "      <td>2013-01-04</td>\n",
       "      <td>93.1250</td>\n",
       "    </tr>\n",
       "    <tr>\n",
       "      <th>4</th>\n",
       "      <td>2013-01-07</td>\n",
       "      <td>93.1875</td>\n",
       "    </tr>\n",
       "  </tbody>\n",
       "</table>\n",
       "</div>"
      ],
      "text/plain": [
       "        date  dcoilwtico\n",
       "0 2013-01-01         NaN\n",
       "1 2013-01-02     93.1250\n",
       "2 2013-01-03     93.0000\n",
       "3 2013-01-04     93.1250\n",
       "4 2013-01-07     93.1875"
      ]
     },
     "metadata": {},
     "output_type": "display_data"
    },
    {
     "name": "stdout",
     "output_type": "stream",
     "text": [
      "holidays_events\n"
     ]
    },
    {
     "data": {
      "text/html": [
       "<div>\n",
       "<style scoped>\n",
       "    .dataframe tbody tr th:only-of-type {\n",
       "        vertical-align: middle;\n",
       "    }\n",
       "\n",
       "    .dataframe tbody tr th {\n",
       "        vertical-align: top;\n",
       "    }\n",
       "\n",
       "    .dataframe thead th {\n",
       "        text-align: right;\n",
       "    }\n",
       "</style>\n",
       "<table border=\"1\" class=\"dataframe\">\n",
       "  <thead>\n",
       "    <tr style=\"text-align: right;\">\n",
       "      <th></th>\n",
       "      <th>date</th>\n",
       "      <th>type</th>\n",
       "      <th>locale</th>\n",
       "      <th>locale_name</th>\n",
       "      <th>description</th>\n",
       "      <th>transferred</th>\n",
       "    </tr>\n",
       "  </thead>\n",
       "  <tbody>\n",
       "    <tr>\n",
       "      <th>0</th>\n",
       "      <td>2012-03-02</td>\n",
       "      <td>Holiday</td>\n",
       "      <td>Local</td>\n",
       "      <td>Manta</td>\n",
       "      <td>Fundacion de Manta</td>\n",
       "      <td>False</td>\n",
       "    </tr>\n",
       "    <tr>\n",
       "      <th>1</th>\n",
       "      <td>2012-04-01</td>\n",
       "      <td>Holiday</td>\n",
       "      <td>Regional</td>\n",
       "      <td>Cotopaxi</td>\n",
       "      <td>Provincializacion de Cotopaxi</td>\n",
       "      <td>False</td>\n",
       "    </tr>\n",
       "    <tr>\n",
       "      <th>2</th>\n",
       "      <td>2012-04-12</td>\n",
       "      <td>Holiday</td>\n",
       "      <td>Local</td>\n",
       "      <td>Cuenca</td>\n",
       "      <td>Fundacion de Cuenca</td>\n",
       "      <td>False</td>\n",
       "    </tr>\n",
       "    <tr>\n",
       "      <th>3</th>\n",
       "      <td>2012-04-14</td>\n",
       "      <td>Holiday</td>\n",
       "      <td>Local</td>\n",
       "      <td>Libertad</td>\n",
       "      <td>Cantonizacion de Libertad</td>\n",
       "      <td>False</td>\n",
       "    </tr>\n",
       "    <tr>\n",
       "      <th>4</th>\n",
       "      <td>2012-04-21</td>\n",
       "      <td>Holiday</td>\n",
       "      <td>Local</td>\n",
       "      <td>Riobamba</td>\n",
       "      <td>Cantonizacion de Riobamba</td>\n",
       "      <td>False</td>\n",
       "    </tr>\n",
       "  </tbody>\n",
       "</table>\n",
       "</div>"
      ],
      "text/plain": [
       "        date     type    locale locale_name                    description  \\\n",
       "0 2012-03-02  Holiday     Local       Manta             Fundacion de Manta   \n",
       "1 2012-04-01  Holiday  Regional    Cotopaxi  Provincializacion de Cotopaxi   \n",
       "2 2012-04-12  Holiday     Local      Cuenca            Fundacion de Cuenca   \n",
       "3 2012-04-14  Holiday     Local    Libertad      Cantonizacion de Libertad   \n",
       "4 2012-04-21  Holiday     Local    Riobamba      Cantonizacion de Riobamba   \n",
       "\n",
       "   transferred  \n",
       "0        False  \n",
       "1        False  \n",
       "2        False  \n",
       "3        False  \n",
       "4        False  "
      ]
     },
     "metadata": {},
     "output_type": "display_data"
    },
    {
     "name": "stdout",
     "output_type": "stream",
     "text": [
      "test\n"
     ]
    },
    {
     "data": {
      "text/html": [
       "<div>\n",
       "<style scoped>\n",
       "    .dataframe tbody tr th:only-of-type {\n",
       "        vertical-align: middle;\n",
       "    }\n",
       "\n",
       "    .dataframe tbody tr th {\n",
       "        vertical-align: top;\n",
       "    }\n",
       "\n",
       "    .dataframe thead th {\n",
       "        text-align: right;\n",
       "    }\n",
       "</style>\n",
       "<table border=\"1\" class=\"dataframe\">\n",
       "  <thead>\n",
       "    <tr style=\"text-align: right;\">\n",
       "      <th></th>\n",
       "      <th>id</th>\n",
       "      <th>date</th>\n",
       "      <th>store_nbr</th>\n",
       "      <th>item_nbr</th>\n",
       "      <th>onpromotion</th>\n",
       "    </tr>\n",
       "  </thead>\n",
       "  <tbody>\n",
       "    <tr>\n",
       "      <th>0</th>\n",
       "      <td>125497040</td>\n",
       "      <td>2017-08-16</td>\n",
       "      <td>1</td>\n",
       "      <td>96995</td>\n",
       "      <td>False</td>\n",
       "    </tr>\n",
       "    <tr>\n",
       "      <th>1</th>\n",
       "      <td>125497041</td>\n",
       "      <td>2017-08-16</td>\n",
       "      <td>1</td>\n",
       "      <td>99197</td>\n",
       "      <td>False</td>\n",
       "    </tr>\n",
       "    <tr>\n",
       "      <th>2</th>\n",
       "      <td>125497042</td>\n",
       "      <td>2017-08-16</td>\n",
       "      <td>1</td>\n",
       "      <td>103501</td>\n",
       "      <td>False</td>\n",
       "    </tr>\n",
       "    <tr>\n",
       "      <th>3</th>\n",
       "      <td>125497043</td>\n",
       "      <td>2017-08-16</td>\n",
       "      <td>1</td>\n",
       "      <td>103520</td>\n",
       "      <td>False</td>\n",
       "    </tr>\n",
       "    <tr>\n",
       "      <th>4</th>\n",
       "      <td>125497044</td>\n",
       "      <td>2017-08-16</td>\n",
       "      <td>1</td>\n",
       "      <td>103665</td>\n",
       "      <td>False</td>\n",
       "    </tr>\n",
       "  </tbody>\n",
       "</table>\n",
       "</div>"
      ],
      "text/plain": [
       "          id       date  store_nbr  item_nbr  onpromotion\n",
       "0  125497040 2017-08-16          1     96995        False\n",
       "1  125497041 2017-08-16          1     99197        False\n",
       "2  125497042 2017-08-16          1    103501        False\n",
       "3  125497043 2017-08-16          1    103520        False\n",
       "4  125497044 2017-08-16          1    103665        False"
      ]
     },
     "metadata": {},
     "output_type": "display_data"
    }
   ],
   "source": [
    "for i in range(len(tables)):\n",
    "    print(table_names[i])\n",
    "    display(tables[i].head())"
   ]
  },
  {
   "cell_type": "markdown",
   "metadata": {},
   "source": [
    "Data fields are described here: https://www.kaggle.com/c/favorita-grocery-sales-forecasting/data\n",
    "\n",
    "```unit_sales``` is the target and can be integer (e.g., a bag of chips) or float (e.g., 1.5 kg of cheese).\n",
    "\n",
    "Some notes from the Kaggle data page:\n",
    "* The training data does not include rows for items that had zero ```unit_sales``` for a store/date combination. There is no information as to whether or not the item was in stock for the store on the date.\n",
    "* The test data has a small number of items that are not contained in the training data. Part of the exercise will be to predict a new item sales based on similar products.\n",
    "* __transactions.csv__ contains the count of sales transactions for each date, store_nbr combination. It is only included for the training data timeframe.\n",
    "* __oil.csv__ contains the daily oil price. Includes values during both the train and test data timeframe. (Ecuador is an oil-dependent country and it's economical health is highly vulnerable to shocks in oil prices.)\n",
    "* A magnitude 7.8 earthquake struck Ecuador on April 16, 2016. People rallied in relief efforts donating water and other first need products which greatly affected supermarket sales for several weeks after the earthquake"
   ]
  },
  {
   "cell_type": "markdown",
   "metadata": {},
   "source": [
    "### 2.2 Graphical Insights"
   ]
  },
  {
   "cell_type": "markdown",
   "metadata": {},
   "source": [
    "There follows some graphical insights inspired by this [Kaggle kernel](https://www.kaggle.com/headsortails/shopping-for-insights-favorita-eda)"
   ]
  },
  {
   "cell_type": "markdown",
   "metadata": {},
   "source": [
    "We will use only a sample of elements to make rendering of visualizations faster. I am then using the ```plt.FuncFormatter``` to set the tick labels of the plot according to the original training set."
   ]
  },
  {
   "cell_type": "code",
   "execution_count": 7,
   "metadata": {},
   "outputs": [
    {
     "data": {
      "text/plain": [
       "1254971"
      ]
     },
     "execution_count": 7,
     "metadata": {},
     "output_type": "execute_result"
    }
   ],
   "source": [
    "train_samp = train[::100]\n",
    "len(train_samp)"
   ]
  },
  {
   "cell_type": "markdown",
   "metadata": {},
   "source": [
    "### 2.3 Unit Sales"
   ]
  },
  {
   "cell_type": "code",
   "execution_count": 8,
   "metadata": {
    "scrolled": true
   },
   "outputs": [
    {
     "data": {
      "image/png": "[encoded data removed]",
      "text/plain": [
       "<Figure size 432x288 with 1 Axes>"
      ]
     },
     "metadata": {},
     "output_type": "display_data"
    }
   ],
   "source": [
    "fig = train_samp.groupby('date').sum().unit_sales.plot()\n",
    "fig.yaxis.set_major_formatter(plt.FuncFormatter(lambda value, tick_number: int(100*value)))"
   ]
  },
  {
   "cell_type": "code",
   "execution_count": 9,
   "metadata": {
    "scrolled": true
   },
   "outputs": [
    {
     "data": {
      "image/png": "[encoded data removed]",
      "text/plain": [
       "<Figure size 432x288 with 1 Axes>"
      ]
     },
     "metadata": {},
     "output_type": "display_data"
    }
   ],
   "source": [
    "fig = train_samp[['date', 'unit_sales']].groupby('date').sum().unit_sales.hist()\n",
    "fig.yaxis.set_major_formatter(plt.FuncFormatter(lambda value, tick_number: int(100*value)))"
   ]
  },
  {
   "cell_type": "markdown",
   "metadata": {},
   "source": [
    "There are a few returns with negative ```unit_sales``` numbers"
   ]
  },
  {
   "cell_type": "code",
   "execution_count": 23,
   "metadata": {},
   "outputs": [
    {
     "data": {
      "text/plain": [
       "7795"
      ]
     },
     "execution_count": 23,
     "metadata": {},
     "output_type": "execute_result"
    }
   ],
   "source": [
    "len(train.unit_sales[train.unit_sales < 0])"
   ]
  },
  {
   "cell_type": "code",
   "execution_count": 24,
   "metadata": {},
   "outputs": [
    {
     "data": {
      "text/plain": [
       "-143580"
      ]
     },
     "execution_count": 24,
     "metadata": {},
     "output_type": "execute_result"
    }
   ],
   "source": [
    "int(sum(train.unit_sales[train.unit_sales < 0]))"
   ]
  },
  {
   "cell_type": "markdown",
   "metadata": {},
   "source": [
    "### 2.4 Median Number of Transactions Over All Stores"
   ]
  },
  {
   "cell_type": "code",
   "execution_count": 25,
   "metadata": {
    "scrolled": true
   },
   "outputs": [
    {
     "data": {
      "text/plain": [
       "<matplotlib.axes._subplots.AxesSubplot at 0x7f083282ddd8>"
      ]
     },
     "execution_count": 25,
     "metadata": {},
     "output_type": "execute_result"
    },
    {
     "data": {
      "image/png": "[encoded data removed]",
      "text/plain": [
       "<Figure size 432x288 with 1 Axes>"
      ]
     },
     "metadata": {
      "needs_background": "light"
     },
     "output_type": "display_data"
    }
   ],
   "source": [
    "transactions.groupby('date').median().transactions.plot()"
   ]
  },
  {
   "cell_type": "markdown",
   "metadata": {},
   "source": [
    "There is a strong spike before Christmas with a corresponding drop during the following holidays"
   ]
  },
  {
   "cell_type": "markdown",
   "metadata": {},
   "source": [
    "### 2.5 Oil Price"
   ]
  },
  {
   "cell_type": "code",
   "execution_count": 26,
   "metadata": {
    "scrolled": true
   },
   "outputs": [
    {
     "data": {
      "text/plain": [
       "<matplotlib.axes._subplots.AxesSubplot at 0x7f0816ade7f0>"
      ]
     },
     "execution_count": 26,
     "metadata": {},
     "output_type": "execute_result"
    },
    {
     "data": {
      "image/png": "[encoded data removed]",
      "text/plain": [
       "<Figure size 432x288 with 1 Axes>"
      ]
     },
     "metadata": {
      "needs_background": "light"
     },
     "output_type": "display_data"
    }
   ],
   "source": [
    "oil.set_index('date').plot()"
   ]
  },
  {
   "cell_type": "markdown",
   "metadata": {},
   "source": [
    "There is a strong long-term change in oil price with a drop in the second half of 2014. "
   ]
  },
  {
   "cell_type": "markdown",
   "metadata": {},
   "source": [
    "## 3. Data Cleaning and Merging"
   ]
  },
  {
   "cell_type": "code",
   "execution_count": 28,
   "metadata": {},
   "outputs": [
    {
     "name": "stderr",
     "output_type": "stream",
     "text": [
      "/home/ubuntu/anaconda3/envs/fastai/lib/python3.6/site-packages/pandas/io/feather_format.py:112: FutureWarning: `nthreads` argument is deprecated, pass `use_threads` instead\n",
      "  return feather.read_dataframe(path, nthreads=nthreads)\n"
     ]
    }
   ],
   "source": [
    "train = pd.read_feather(f'{PATH}data/train_raw')"
   ]
  },
  {
   "cell_type": "code",
   "execution_count": 29,
   "metadata": {},
   "outputs": [
    {
     "data": {
      "text/plain": [
       "125497040"
      ]
     },
     "execution_count": 29,
     "metadata": {},
     "output_type": "execute_result"
    }
   ],
   "source": [
    "n = len(train); n"
   ]
  },
  {
   "cell_type": "code",
   "execution_count": 30,
   "metadata": {},
   "outputs": [
    {
     "data": {
      "text/html": [
       "<div>\n",
       "<style scoped>\n",
       "    .dataframe tbody tr th:only-of-type {\n",
       "        vertical-align: middle;\n",
       "    }\n",
       "\n",
       "    .dataframe tbody tr th {\n",
       "        vertical-align: top;\n",
       "    }\n",
       "\n",
       "    .dataframe thead th {\n",
       "        text-align: right;\n",
       "    }\n",
       "</style>\n",
       "<table border=\"1\" class=\"dataframe\">\n",
       "  <thead>\n",
       "    <tr style=\"text-align: right;\">\n",
       "      <th></th>\n",
       "      <th>125497035</th>\n",
       "      <th>125497036</th>\n",
       "      <th>125497037</th>\n",
       "      <th>125497038</th>\n",
       "      <th>125497039</th>\n",
       "    </tr>\n",
       "  </thead>\n",
       "  <tbody>\n",
       "    <tr>\n",
       "      <th>id</th>\n",
       "      <td>125497035</td>\n",
       "      <td>125497036</td>\n",
       "      <td>125497037</td>\n",
       "      <td>125497038</td>\n",
       "      <td>125497039</td>\n",
       "    </tr>\n",
       "    <tr>\n",
       "      <th>date</th>\n",
       "      <td>2017-08-15 00:00:00</td>\n",
       "      <td>2017-08-15 00:00:00</td>\n",
       "      <td>2017-08-15 00:00:00</td>\n",
       "      <td>2017-08-15 00:00:00</td>\n",
       "      <td>2017-08-15 00:00:00</td>\n",
       "    </tr>\n",
       "    <tr>\n",
       "      <th>store_nbr</th>\n",
       "      <td>54</td>\n",
       "      <td>54</td>\n",
       "      <td>54</td>\n",
       "      <td>54</td>\n",
       "      <td>54</td>\n",
       "    </tr>\n",
       "    <tr>\n",
       "      <th>item_nbr</th>\n",
       "      <td>2089339</td>\n",
       "      <td>2106464</td>\n",
       "      <td>2110456</td>\n",
       "      <td>2113914</td>\n",
       "      <td>2116416</td>\n",
       "    </tr>\n",
       "    <tr>\n",
       "      <th>unit_sales</th>\n",
       "      <td>4</td>\n",
       "      <td>1</td>\n",
       "      <td>192</td>\n",
       "      <td>198</td>\n",
       "      <td>2</td>\n",
       "    </tr>\n",
       "    <tr>\n",
       "      <th>onpromotion</th>\n",
       "      <td>False</td>\n",
       "      <td>True</td>\n",
       "      <td>False</td>\n",
       "      <td>True</td>\n",
       "      <td>False</td>\n",
       "    </tr>\n",
       "  </tbody>\n",
       "</table>\n",
       "</div>"
      ],
      "text/plain": [
       "                       125497035            125497036            125497037  \\\n",
       "id                     125497035            125497036            125497037   \n",
       "date         2017-08-15 00:00:00  2017-08-15 00:00:00  2017-08-15 00:00:00   \n",
       "store_nbr                     54                   54                   54   \n",
       "item_nbr                 2089339              2106464              2110456   \n",
       "unit_sales                     4                    1                  192   \n",
       "onpromotion                False                 True                False   \n",
       "\n",
       "                       125497038            125497039  \n",
       "id                     125497038            125497039  \n",
       "date         2017-08-15 00:00:00  2017-08-15 00:00:00  \n",
       "store_nbr                     54                   54  \n",
       "item_nbr                 2113914              2116416  \n",
       "unit_sales                   198                    2  \n",
       "onpromotion                 True                False  "
      ]
     },
     "metadata": {},
     "output_type": "display_data"
    }
   ],
   "source": [
    "display_all(train.tail().T)"
   ]
  },
  {
   "cell_type": "code",
   "execution_count": 31,
   "metadata": {},
   "outputs": [],
   "source": [
    "# skip 2016 data\n",
    "train = train.loc[train.date>=pd.datetime(2017,1,1)]"
   ]
  },
  {
   "cell_type": "code",
   "execution_count": 32,
   "metadata": {},
   "outputs": [
    {
     "data": {
      "text/plain": [
       "23808261"
      ]
     },
     "execution_count": 32,
     "metadata": {},
     "output_type": "execute_result"
    }
   ],
   "source": [
    "n = len(train); n"
   ]
  },
  {
   "cell_type": "markdown",
   "metadata": {},
   "source": [
    "### 3.1 Training Data Enhancements"
   ]
  },
  {
   "cell_type": "markdown",
   "metadata": {},
   "source": [
    "There is an important remark from Jeremy in the forum relating to the issue that the training data does not include rows for items that had zero unit_sales for a store/date combination. **Jeremy**: \"Note that the zero sales rows have been removed from the training set - you need to put them back to have any chance of a good model. Most of the kaggle kernels show how.\"  \n",
    "(http://forums.fast.ai/t/corporacion-favorita-grocery-sales-forecasting/8359/9)\n",
    "\n",
    "Jeremy refers to the fact, that most combinations of items + stores do not appear in the training set. But they do appear in the test set, which is somewhat illogical, because how are you supposed to predict something you have never seen?\n",
    "\n",
    "https://www.kaggle.com/shixw125/1st-place-lgb-model-public-0-506-private-0-511"
   ]
  },
  {
   "cell_type": "code",
   "execution_count": 33,
   "metadata": {
    "scrolled": true
   },
   "outputs": [],
   "source": [
    "u_stores = train.store_nbr.unique()\n",
    "u_items = train.item_nbr.unique()\n",
    "u_dates = train.date.unique()"
   ]
  },
  {
   "cell_type": "code",
   "execution_count": 34,
   "metadata": {},
   "outputs": [],
   "source": [
    "train.set_index([\"store_nbr\", \"item_nbr\", \"date\"], inplace=True)"
   ]
  },
  {
   "cell_type": "code",
   "execution_count": 35,
   "metadata": {},
   "outputs": [
    {
     "name": "stdout",
     "output_type": "stream",
     "text": [
      "CPU times: user 6min 5s, sys: 11.6 s, total: 6min 17s\n",
      "Wall time: 6min 16s\n"
     ]
    }
   ],
   "source": [
    "%time train=train.reindex(pd.MultiIndex.from_product((u_stores, u_items, u_dates), names = ['store_nbr', 'item_nbr', 'date', ])).reset_index()"
   ]
  },
  {
   "cell_type": "code",
   "execution_count": 36,
   "metadata": {},
   "outputs": [
    {
     "data": {
      "text/plain": [
       "49252644"
      ]
     },
     "execution_count": 36,
     "metadata": {},
     "output_type": "execute_result"
    }
   ],
   "source": [
    "n = len(train); n"
   ]
  },
  {
   "cell_type": "code",
   "execution_count": 37,
   "metadata": {},
   "outputs": [],
   "source": [
    "train.unit_sales.fillna(0, inplace=True)\n",
    "train.onpromotion.fillna(False, inplace=True)"
   ]
  },
  {
   "cell_type": "code",
   "execution_count": 38,
   "metadata": {
    "scrolled": true
   },
   "outputs": [
    {
     "data": {
      "text/html": [
       "<div>\n",
       "<style scoped>\n",
       "    .dataframe tbody tr th:only-of-type {\n",
       "        vertical-align: middle;\n",
       "    }\n",
       "\n",
       "    .dataframe tbody tr th {\n",
       "        vertical-align: top;\n",
       "    }\n",
       "\n",
       "    .dataframe thead th {\n",
       "        text-align: right;\n",
       "    }\n",
       "</style>\n",
       "<table border=\"1\" class=\"dataframe\">\n",
       "  <thead>\n",
       "    <tr style=\"text-align: right;\">\n",
       "      <th></th>\n",
       "      <th>49252639</th>\n",
       "      <th>49252640</th>\n",
       "      <th>49252641</th>\n",
       "      <th>49252642</th>\n",
       "      <th>49252643</th>\n",
       "    </tr>\n",
       "  </thead>\n",
       "  <tbody>\n",
       "    <tr>\n",
       "      <th>store_nbr</th>\n",
       "      <td>52</td>\n",
       "      <td>52</td>\n",
       "      <td>52</td>\n",
       "      <td>52</td>\n",
       "      <td>52</td>\n",
       "    </tr>\n",
       "    <tr>\n",
       "      <th>item_nbr</th>\n",
       "      <td>2011451</td>\n",
       "      <td>2011451</td>\n",
       "      <td>2011451</td>\n",
       "      <td>2011451</td>\n",
       "      <td>2011451</td>\n",
       "    </tr>\n",
       "    <tr>\n",
       "      <th>date</th>\n",
       "      <td>2017-08-11 00:00:00</td>\n",
       "      <td>2017-08-12 00:00:00</td>\n",
       "      <td>2017-08-13 00:00:00</td>\n",
       "      <td>2017-08-14 00:00:00</td>\n",
       "      <td>2017-08-15 00:00:00</td>\n",
       "    </tr>\n",
       "    <tr>\n",
       "      <th>id</th>\n",
       "      <td>NaN</td>\n",
       "      <td>NaN</td>\n",
       "      <td>NaN</td>\n",
       "      <td>NaN</td>\n",
       "      <td>NaN</td>\n",
       "    </tr>\n",
       "    <tr>\n",
       "      <th>unit_sales</th>\n",
       "      <td>0</td>\n",
       "      <td>0</td>\n",
       "      <td>0</td>\n",
       "      <td>0</td>\n",
       "      <td>0</td>\n",
       "    </tr>\n",
       "    <tr>\n",
       "      <th>onpromotion</th>\n",
       "      <td>False</td>\n",
       "      <td>False</td>\n",
       "      <td>False</td>\n",
       "      <td>False</td>\n",
       "      <td>False</td>\n",
       "    </tr>\n",
       "  </tbody>\n",
       "</table>\n",
       "</div>"
      ],
      "text/plain": [
       "                        49252639             49252640             49252641  \\\n",
       "store_nbr                     52                   52                   52   \n",
       "item_nbr                 2011451              2011451              2011451   \n",
       "date         2017-08-11 00:00:00  2017-08-12 00:00:00  2017-08-13 00:00:00   \n",
       "id                           NaN                  NaN                  NaN   \n",
       "unit_sales                     0                    0                    0   \n",
       "onpromotion                False                False                False   \n",
       "\n",
       "                        49252642             49252643  \n",
       "store_nbr                     52                   52  \n",
       "item_nbr                 2011451              2011451  \n",
       "date         2017-08-14 00:00:00  2017-08-15 00:00:00  \n",
       "id                           NaN                  NaN  \n",
       "unit_sales                     0                    0  \n",
       "onpromotion                False                False  "
      ]
     },
     "metadata": {},
     "output_type": "display_data"
    }
   ],
   "source": [
    "display_all(train.tail().T)"
   ]
  },
  {
   "cell_type": "markdown",
   "metadata": {},
   "source": [
    "**TODO**: Everyone is combining test and train to do the training, so maybe do the same:\n",
    "\n",
    "https://www.kaggle.com/shixw125/1st-place-lgb-model-public-0-506-private-0-511"
   ]
  },
  {
   "cell_type": "code",
   "execution_count": 39,
   "metadata": {
    "scrolled": true
   },
   "outputs": [
    {
     "name": "stdout",
     "output_type": "stream",
     "text": [
      "train\n"
     ]
    },
    {
     "data": {
      "text/html": [
       "<div>\n",
       "<style scoped>\n",
       "    .dataframe tbody tr th:only-of-type {\n",
       "        vertical-align: middle;\n",
       "    }\n",
       "\n",
       "    .dataframe tbody tr th {\n",
       "        vertical-align: top;\n",
       "    }\n",
       "\n",
       "    .dataframe thead th {\n",
       "        text-align: right;\n",
       "    }\n",
       "</style>\n",
       "<table border=\"1\" class=\"dataframe\">\n",
       "  <thead>\n",
       "    <tr style=\"text-align: right;\">\n",
       "      <th></th>\n",
       "      <th>store_nbr</th>\n",
       "      <th>item_nbr</th>\n",
       "      <th>date</th>\n",
       "      <th>id</th>\n",
       "      <th>unit_sales</th>\n",
       "      <th>onpromotion</th>\n",
       "    </tr>\n",
       "  </thead>\n",
       "  <tbody>\n",
       "    <tr>\n",
       "      <th>0</th>\n",
       "      <td>25</td>\n",
       "      <td>99197</td>\n",
       "      <td>2017-01-01</td>\n",
       "      <td>101688779.0</td>\n",
       "      <td>1.0</td>\n",
       "      <td>False</td>\n",
       "    </tr>\n",
       "    <tr>\n",
       "      <th>1</th>\n",
       "      <td>25</td>\n",
       "      <td>99197</td>\n",
       "      <td>2017-01-02</td>\n",
       "      <td>NaN</td>\n",
       "      <td>0.0</td>\n",
       "      <td>False</td>\n",
       "    </tr>\n",
       "    <tr>\n",
       "      <th>2</th>\n",
       "      <td>25</td>\n",
       "      <td>99197</td>\n",
       "      <td>2017-01-03</td>\n",
       "      <td>101853597.0</td>\n",
       "      <td>2.0</td>\n",
       "      <td>False</td>\n",
       "    </tr>\n",
       "    <tr>\n",
       "      <th>3</th>\n",
       "      <td>25</td>\n",
       "      <td>99197</td>\n",
       "      <td>2017-01-04</td>\n",
       "      <td>101962201.0</td>\n",
       "      <td>4.0</td>\n",
       "      <td>False</td>\n",
       "    </tr>\n",
       "    <tr>\n",
       "      <th>4</th>\n",
       "      <td>25</td>\n",
       "      <td>99197</td>\n",
       "      <td>2017-01-05</td>\n",
       "      <td>102067019.0</td>\n",
       "      <td>2.0</td>\n",
       "      <td>False</td>\n",
       "    </tr>\n",
       "  </tbody>\n",
       "</table>\n",
       "</div>"
      ],
      "text/plain": [
       "   store_nbr  item_nbr       date           id  unit_sales  onpromotion\n",
       "0         25     99197 2017-01-01  101688779.0         1.0        False\n",
       "1         25     99197 2017-01-02          NaN         0.0        False\n",
       "2         25     99197 2017-01-03  101853597.0         2.0        False\n",
       "3         25     99197 2017-01-04  101962201.0         4.0        False\n",
       "4         25     99197 2017-01-05  102067019.0         2.0        False"
      ]
     },
     "execution_count": 39,
     "metadata": {},
     "output_type": "execute_result"
    }
   ],
   "source": [
    "print('train')\n",
    "train.head()"
   ]
  },
  {
   "cell_type": "code",
   "execution_count": 40,
   "metadata": {},
   "outputs": [],
   "source": [
    "train.to_feather(f'{PATH}data/grocery_train')"
   ]
  },
  {
   "cell_type": "code",
   "execution_count": 41,
   "metadata": {},
   "outputs": [
    {
     "name": "stderr",
     "output_type": "stream",
     "text": [
      "/home/ubuntu/anaconda3/envs/fastai/lib/python3.6/site-packages/pandas/io/feather_format.py:112: FutureWarning: `nthreads` argument is deprecated, pass `use_threads` instead\n",
      "  return feather.read_dataframe(path, nthreads=nthreads)\n"
     ]
    }
   ],
   "source": [
    "train = pd.read_feather(f'{PATH}data/grocery_train')"
   ]
  },
  {
   "cell_type": "code",
   "execution_count": 42,
   "metadata": {},
   "outputs": [],
   "source": [
    "pd.options.display.float_format = '{:,.2f}'.format"
   ]
  },
  {
   "cell_type": "code",
   "execution_count": 43,
   "metadata": {},
   "outputs": [
    {
     "data": {
      "text/html": [
       "<div>\n",
       "<style scoped>\n",
       "    .dataframe tbody tr th:only-of-type {\n",
       "        vertical-align: middle;\n",
       "    }\n",
       "\n",
       "    .dataframe tbody tr th {\n",
       "        vertical-align: top;\n",
       "    }\n",
       "\n",
       "    .dataframe thead th {\n",
       "        text-align: right;\n",
       "    }\n",
       "</style>\n",
       "<table border=\"1\" class=\"dataframe\">\n",
       "  <thead>\n",
       "    <tr style=\"text-align: right;\">\n",
       "      <th></th>\n",
       "      <th>store_nbr</th>\n",
       "      <th>item_nbr</th>\n",
       "      <th>date</th>\n",
       "      <th>id</th>\n",
       "      <th>unit_sales</th>\n",
       "      <th>onpromotion</th>\n",
       "    </tr>\n",
       "  </thead>\n",
       "  <tbody>\n",
       "    <tr>\n",
       "      <th>count</th>\n",
       "      <td>49,252,644.00</td>\n",
       "      <td>49,252,644.00</td>\n",
       "      <td>49252644</td>\n",
       "      <td>23,808,261.00</td>\n",
       "      <td>49,252,644.00</td>\n",
       "      <td>49252644</td>\n",
       "    </tr>\n",
       "    <tr>\n",
       "      <th>unique</th>\n",
       "      <td>nan</td>\n",
       "      <td>nan</td>\n",
       "      <td>227</td>\n",
       "      <td>nan</td>\n",
       "      <td>nan</td>\n",
       "      <td>2</td>\n",
       "    </tr>\n",
       "    <tr>\n",
       "      <th>top</th>\n",
       "      <td>nan</td>\n",
       "      <td>nan</td>\n",
       "      <td>2017-01-11 00:00:00</td>\n",
       "      <td>nan</td>\n",
       "      <td>nan</td>\n",
       "      <td>False</td>\n",
       "    </tr>\n",
       "    <tr>\n",
       "      <th>freq</th>\n",
       "      <td>nan</td>\n",
       "      <td>nan</td>\n",
       "      <td>216972</td>\n",
       "      <td>nan</td>\n",
       "      <td>nan</td>\n",
       "      <td>46502995</td>\n",
       "    </tr>\n",
       "    <tr>\n",
       "      <th>first</th>\n",
       "      <td>nan</td>\n",
       "      <td>nan</td>\n",
       "      <td>2017-01-01 00:00:00</td>\n",
       "      <td>nan</td>\n",
       "      <td>nan</td>\n",
       "      <td>NaN</td>\n",
       "    </tr>\n",
       "    <tr>\n",
       "      <th>last</th>\n",
       "      <td>nan</td>\n",
       "      <td>nan</td>\n",
       "      <td>2017-08-15 00:00:00</td>\n",
       "      <td>nan</td>\n",
       "      <td>nan</td>\n",
       "      <td>NaN</td>\n",
       "    </tr>\n",
       "    <tr>\n",
       "      <th>mean</th>\n",
       "      <td>27.50</td>\n",
       "      <td>1,238,099.69</td>\n",
       "      <td>NaN</td>\n",
       "      <td>113,592,909.00</td>\n",
       "      <td>3.94</td>\n",
       "      <td>NaN</td>\n",
       "    </tr>\n",
       "    <tr>\n",
       "      <th>std</th>\n",
       "      <td>15.59</td>\n",
       "      <td>582,663.07</td>\n",
       "      <td>NaN</td>\n",
       "      <td>6,872,853.09</td>\n",
       "      <td>17.22</td>\n",
       "      <td>NaN</td>\n",
       "    </tr>\n",
       "    <tr>\n",
       "      <th>min</th>\n",
       "      <td>1.00</td>\n",
       "      <td>96,995.00</td>\n",
       "      <td>NaN</td>\n",
       "      <td>101,688,779.00</td>\n",
       "      <td>-10,002.00</td>\n",
       "      <td>NaN</td>\n",
       "    </tr>\n",
       "    <tr>\n",
       "      <th>25%</th>\n",
       "      <td>14.00</td>\n",
       "      <td>809,183.00</td>\n",
       "      <td>NaN</td>\n",
       "      <td>107,640,844.00</td>\n",
       "      <td>0.00</td>\n",
       "      <td>NaN</td>\n",
       "    </tr>\n",
       "    <tr>\n",
       "      <th>50%</th>\n",
       "      <td>27.50</td>\n",
       "      <td>1,260,633.50</td>\n",
       "      <td>NaN</td>\n",
       "      <td>113,592,909.00</td>\n",
       "      <td>0.00</td>\n",
       "      <td>NaN</td>\n",
       "    </tr>\n",
       "    <tr>\n",
       "      <th>75%</th>\n",
       "      <td>41.00</td>\n",
       "      <td>1,696,036.00</td>\n",
       "      <td>NaN</td>\n",
       "      <td>119,544,974.00</td>\n",
       "      <td>4.00</td>\n",
       "      <td>NaN</td>\n",
       "    </tr>\n",
       "    <tr>\n",
       "      <th>max</th>\n",
       "      <td>54.00</td>\n",
       "      <td>2,127,114.00</td>\n",
       "      <td>NaN</td>\n",
       "      <td>125,497,039.00</td>\n",
       "      <td>17,146.00</td>\n",
       "      <td>NaN</td>\n",
       "    </tr>\n",
       "  </tbody>\n",
       "</table>\n",
       "</div>"
      ],
      "text/plain": [
       "           store_nbr      item_nbr                 date             id  \\\n",
       "count  49,252,644.00 49,252,644.00             49252644  23,808,261.00   \n",
       "unique           nan           nan                  227            nan   \n",
       "top              nan           nan  2017-01-11 00:00:00            nan   \n",
       "freq             nan           nan               216972            nan   \n",
       "first            nan           nan  2017-01-01 00:00:00            nan   \n",
       "last             nan           nan  2017-08-15 00:00:00            nan   \n",
       "mean           27.50  1,238,099.69                  NaN 113,592,909.00   \n",
       "std            15.59    582,663.07                  NaN   6,872,853.09   \n",
       "min             1.00     96,995.00                  NaN 101,688,779.00   \n",
       "25%            14.00    809,183.00                  NaN 107,640,844.00   \n",
       "50%            27.50  1,260,633.50                  NaN 113,592,909.00   \n",
       "75%            41.00  1,696,036.00                  NaN 119,544,974.00   \n",
       "max            54.00  2,127,114.00                  NaN 125,497,039.00   \n",
       "\n",
       "          unit_sales onpromotion  \n",
       "count  49,252,644.00    49252644  \n",
       "unique           nan           2  \n",
       "top              nan       False  \n",
       "freq             nan    46502995  \n",
       "first            nan         NaN  \n",
       "last             nan         NaN  \n",
       "mean            3.94         NaN  \n",
       "std            17.22         NaN  \n",
       "min       -10,002.00         NaN  \n",
       "25%             0.00         NaN  \n",
       "50%             0.00         NaN  \n",
       "75%             4.00         NaN  \n",
       "max        17,146.00         NaN  "
      ]
     },
     "execution_count": 43,
     "metadata": {},
     "output_type": "execute_result"
    }
   ],
   "source": [
    "train.describe(include='all')"
   ]
  },
  {
   "cell_type": "code",
   "execution_count": 44,
   "metadata": {},
   "outputs": [],
   "source": [
    "test.onpromotion.fillna(False, inplace=True)"
   ]
  },
  {
   "cell_type": "code",
   "execution_count": 45,
   "metadata": {},
   "outputs": [
    {
     "data": {
      "text/html": [
       "<div>\n",
       "<style scoped>\n",
       "    .dataframe tbody tr th:only-of-type {\n",
       "        vertical-align: middle;\n",
       "    }\n",
       "\n",
       "    .dataframe tbody tr th {\n",
       "        vertical-align: top;\n",
       "    }\n",
       "\n",
       "    .dataframe thead th {\n",
       "        text-align: right;\n",
       "    }\n",
       "</style>\n",
       "<table border=\"1\" class=\"dataframe\">\n",
       "  <thead>\n",
       "    <tr style=\"text-align: right;\">\n",
       "      <th></th>\n",
       "      <th>id</th>\n",
       "      <th>date</th>\n",
       "      <th>store_nbr</th>\n",
       "      <th>item_nbr</th>\n",
       "      <th>onpromotion</th>\n",
       "    </tr>\n",
       "  </thead>\n",
       "  <tbody>\n",
       "    <tr>\n",
       "      <th>count</th>\n",
       "      <td>3,370,464.00</td>\n",
       "      <td>3370464</td>\n",
       "      <td>3,370,464.00</td>\n",
       "      <td>3,370,464.00</td>\n",
       "      <td>3370464</td>\n",
       "    </tr>\n",
       "    <tr>\n",
       "      <th>unique</th>\n",
       "      <td>nan</td>\n",
       "      <td>16</td>\n",
       "      <td>nan</td>\n",
       "      <td>nan</td>\n",
       "      <td>2</td>\n",
       "    </tr>\n",
       "    <tr>\n",
       "      <th>top</th>\n",
       "      <td>nan</td>\n",
       "      <td>2017-08-27 00:00:00</td>\n",
       "      <td>nan</td>\n",
       "      <td>nan</td>\n",
       "      <td>False</td>\n",
       "    </tr>\n",
       "    <tr>\n",
       "      <th>freq</th>\n",
       "      <td>nan</td>\n",
       "      <td>210654</td>\n",
       "      <td>nan</td>\n",
       "      <td>nan</td>\n",
       "      <td>3171867</td>\n",
       "    </tr>\n",
       "    <tr>\n",
       "      <th>first</th>\n",
       "      <td>nan</td>\n",
       "      <td>2017-08-16 00:00:00</td>\n",
       "      <td>nan</td>\n",
       "      <td>nan</td>\n",
       "      <td>NaN</td>\n",
       "    </tr>\n",
       "    <tr>\n",
       "      <th>last</th>\n",
       "      <td>nan</td>\n",
       "      <td>2017-08-31 00:00:00</td>\n",
       "      <td>nan</td>\n",
       "      <td>nan</td>\n",
       "      <td>NaN</td>\n",
       "    </tr>\n",
       "    <tr>\n",
       "      <th>mean</th>\n",
       "      <td>127,182,271.50</td>\n",
       "      <td>NaN</td>\n",
       "      <td>27.50</td>\n",
       "      <td>1,244,798.25</td>\n",
       "      <td>NaN</td>\n",
       "    </tr>\n",
       "    <tr>\n",
       "      <th>std</th>\n",
       "      <td>972,969.29</td>\n",
       "      <td>NaN</td>\n",
       "      <td>15.59</td>\n",
       "      <td>589,836.22</td>\n",
       "      <td>NaN</td>\n",
       "    </tr>\n",
       "    <tr>\n",
       "      <th>min</th>\n",
       "      <td>125,497,040.00</td>\n",
       "      <td>NaN</td>\n",
       "      <td>1.00</td>\n",
       "      <td>96,995.00</td>\n",
       "      <td>NaN</td>\n",
       "    </tr>\n",
       "    <tr>\n",
       "      <th>25%</th>\n",
       "      <td>126,339,655.75</td>\n",
       "      <td>NaN</td>\n",
       "      <td>14.00</td>\n",
       "      <td>805,321.00</td>\n",
       "      <td>NaN</td>\n",
       "    </tr>\n",
       "    <tr>\n",
       "      <th>50%</th>\n",
       "      <td>127,182,271.50</td>\n",
       "      <td>NaN</td>\n",
       "      <td>27.50</td>\n",
       "      <td>1,294,665.00</td>\n",
       "      <td>NaN</td>\n",
       "    </tr>\n",
       "    <tr>\n",
       "      <th>75%</th>\n",
       "      <td>128,024,887.25</td>\n",
       "      <td>NaN</td>\n",
       "      <td>41.00</td>\n",
       "      <td>1,730,015.00</td>\n",
       "      <td>NaN</td>\n",
       "    </tr>\n",
       "    <tr>\n",
       "      <th>max</th>\n",
       "      <td>128,867,503.00</td>\n",
       "      <td>NaN</td>\n",
       "      <td>54.00</td>\n",
       "      <td>2,134,244.00</td>\n",
       "      <td>NaN</td>\n",
       "    </tr>\n",
       "  </tbody>\n",
       "</table>\n",
       "</div>"
      ],
      "text/plain": [
       "                   id                 date    store_nbr     item_nbr  \\\n",
       "count    3,370,464.00              3370464 3,370,464.00 3,370,464.00   \n",
       "unique            nan                   16          nan          nan   \n",
       "top               nan  2017-08-27 00:00:00          nan          nan   \n",
       "freq              nan               210654          nan          nan   \n",
       "first             nan  2017-08-16 00:00:00          nan          nan   \n",
       "last              nan  2017-08-31 00:00:00          nan          nan   \n",
       "mean   127,182,271.50                  NaN        27.50 1,244,798.25   \n",
       "std        972,969.29                  NaN        15.59   589,836.22   \n",
       "min    125,497,040.00                  NaN         1.00    96,995.00   \n",
       "25%    126,339,655.75                  NaN        14.00   805,321.00   \n",
       "50%    127,182,271.50                  NaN        27.50 1,294,665.00   \n",
       "75%    128,024,887.25                  NaN        41.00 1,730,015.00   \n",
       "max    128,867,503.00                  NaN        54.00 2,134,244.00   \n",
       "\n",
       "       onpromotion  \n",
       "count      3370464  \n",
       "unique           2  \n",
       "top          False  \n",
       "freq       3171867  \n",
       "first          NaN  \n",
       "last           NaN  \n",
       "mean           NaN  \n",
       "std            NaN  \n",
       "min            NaN  \n",
       "25%            NaN  \n",
       "50%            NaN  \n",
       "75%            NaN  \n",
       "max            NaN  "
      ]
     },
     "execution_count": 45,
     "metadata": {},
     "output_type": "execute_result"
    }
   ],
   "source": [
    "test.describe(include='all')"
   ]
  },
  {
   "cell_type": "code",
   "execution_count": 46,
   "metadata": {},
   "outputs": [
    {
     "data": {
      "text/plain": [
       "3370464"
      ]
     },
     "execution_count": 46,
     "metadata": {},
     "output_type": "execute_result"
    }
   ],
   "source": [
    "len(test)"
   ]
  },
  {
   "cell_type": "markdown",
   "metadata": {},
   "source": [
    "### 3.2 Merge Holidays"
   ]
  },
  {
   "cell_type": "markdown",
   "metadata": {},
   "source": [
    "Citation from the 1st place winner of the Kaggle competition:  \n",
    "\"useless features: holidays [and] other keys such as: cluster x item, store x family...\"\n",
    "\n",
    "I still have them in for now"
   ]
  },
  {
   "cell_type": "code",
   "execution_count": 47,
   "metadata": {},
   "outputs": [],
   "source": [
    "def join_df(left, right, left_on, right_on=None, suffix='_y'):\n",
    "    if right_on is None: right_on = left_on\n",
    "    return left.merge(right, how='left', left_on=left_on, right_on=right_on, \n",
    "                      suffixes=(\"\", suffix))"
   ]
  },
  {
   "cell_type": "markdown",
   "metadata": {},
   "source": [
    "`join_df` is a function for joining tables on specific fields. By default, we'll be doing a left outer join of `right` on the `left` argument using the given fields for each table.\n",
    "\n",
    "Pandas does joins using the `merge` method. The `suffixes` argument describes the naming convention for duplicate fields. We've elected to leave the duplicate field names on the left untouched, and append a \"\\_y\" to those on the right."
   ]
  },
  {
   "cell_type": "code",
   "execution_count": 48,
   "metadata": {},
   "outputs": [
    {
     "data": {
      "text/html": [
       "<div>\n",
       "<style scoped>\n",
       "    .dataframe tbody tr th:only-of-type {\n",
       "        vertical-align: middle;\n",
       "    }\n",
       "\n",
       "    .dataframe tbody tr th {\n",
       "        vertical-align: top;\n",
       "    }\n",
       "\n",
       "    .dataframe thead th {\n",
       "        text-align: right;\n",
       "    }\n",
       "</style>\n",
       "<table border=\"1\" class=\"dataframe\">\n",
       "  <thead>\n",
       "    <tr style=\"text-align: right;\">\n",
       "      <th></th>\n",
       "      <th>date</th>\n",
       "      <th>type</th>\n",
       "      <th>locale</th>\n",
       "      <th>locale_name</th>\n",
       "      <th>description</th>\n",
       "      <th>transferred</th>\n",
       "    </tr>\n",
       "  </thead>\n",
       "  <tbody>\n",
       "    <tr>\n",
       "      <th>0</th>\n",
       "      <td>2012-03-02</td>\n",
       "      <td>Holiday</td>\n",
       "      <td>Local</td>\n",
       "      <td>Manta</td>\n",
       "      <td>Fundacion de Manta</td>\n",
       "      <td>False</td>\n",
       "    </tr>\n",
       "    <tr>\n",
       "      <th>1</th>\n",
       "      <td>2012-04-01</td>\n",
       "      <td>Holiday</td>\n",
       "      <td>Regional</td>\n",
       "      <td>Cotopaxi</td>\n",
       "      <td>Provincializacion de Cotopaxi</td>\n",
       "      <td>False</td>\n",
       "    </tr>\n",
       "    <tr>\n",
       "      <th>2</th>\n",
       "      <td>2012-04-12</td>\n",
       "      <td>Holiday</td>\n",
       "      <td>Local</td>\n",
       "      <td>Cuenca</td>\n",
       "      <td>Fundacion de Cuenca</td>\n",
       "      <td>False</td>\n",
       "    </tr>\n",
       "    <tr>\n",
       "      <th>3</th>\n",
       "      <td>2012-04-14</td>\n",
       "      <td>Holiday</td>\n",
       "      <td>Local</td>\n",
       "      <td>Libertad</td>\n",
       "      <td>Cantonizacion de Libertad</td>\n",
       "      <td>False</td>\n",
       "    </tr>\n",
       "    <tr>\n",
       "      <th>4</th>\n",
       "      <td>2012-04-21</td>\n",
       "      <td>Holiday</td>\n",
       "      <td>Local</td>\n",
       "      <td>Riobamba</td>\n",
       "      <td>Cantonizacion de Riobamba</td>\n",
       "      <td>False</td>\n",
       "    </tr>\n",
       "  </tbody>\n",
       "</table>\n",
       "</div>"
      ],
      "text/plain": [
       "        date     type    locale locale_name                    description  \\\n",
       "0 2012-03-02  Holiday     Local       Manta             Fundacion de Manta   \n",
       "1 2012-04-01  Holiday  Regional    Cotopaxi  Provincializacion de Cotopaxi   \n",
       "2 2012-04-12  Holiday     Local      Cuenca            Fundacion de Cuenca   \n",
       "3 2012-04-14  Holiday     Local    Libertad      Cantonizacion de Libertad   \n",
       "4 2012-04-21  Holiday     Local    Riobamba      Cantonizacion de Riobamba   \n",
       "\n",
       "   transferred  \n",
       "0        False  \n",
       "1        False  \n",
       "2        False  \n",
       "3        False  \n",
       "4        False  "
      ]
     },
     "execution_count": 48,
     "metadata": {},
     "output_type": "execute_result"
    }
   ],
   "source": [
    "holidays_events.head()"
   ]
  },
  {
   "cell_type": "code",
   "execution_count": 49,
   "metadata": {},
   "outputs": [
    {
     "data": {
      "text/plain": [
       "array(['Holiday', 'Transfer', 'Additional', 'Bridge', 'Work Day', 'Event'], dtype=object)"
      ]
     },
     "execution_count": 49,
     "metadata": {},
     "output_type": "execute_result"
    }
   ],
   "source": [
    "holidays_events.type.unique()"
   ]
  },
  {
   "cell_type": "code",
   "execution_count": 50,
   "metadata": {},
   "outputs": [
    {
     "name": "stdout",
     "output_type": "stream",
     "text": [
      "CPU times: user 7.59 s, sys: 2.9 s, total: 10.5 s\n",
      "Wall time: 10.5 s\n"
     ]
    }
   ],
   "source": [
    "%time train = join_df(train, holidays_events, 'date')"
   ]
  },
  {
   "cell_type": "code",
   "execution_count": 51,
   "metadata": {
    "scrolled": true
   },
   "outputs": [
    {
     "data": {
      "text/html": [
       "<div>\n",
       "<style scoped>\n",
       "    .dataframe tbody tr th:only-of-type {\n",
       "        vertical-align: middle;\n",
       "    }\n",
       "\n",
       "    .dataframe tbody tr th {\n",
       "        vertical-align: top;\n",
       "    }\n",
       "\n",
       "    .dataframe thead th {\n",
       "        text-align: right;\n",
       "    }\n",
       "</style>\n",
       "<table border=\"1\" class=\"dataframe\">\n",
       "  <thead>\n",
       "    <tr style=\"text-align: right;\">\n",
       "      <th></th>\n",
       "      <th>store_nbr</th>\n",
       "      <th>item_nbr</th>\n",
       "      <th>date</th>\n",
       "      <th>id</th>\n",
       "      <th>unit_sales</th>\n",
       "      <th>onpromotion</th>\n",
       "      <th>type</th>\n",
       "      <th>locale</th>\n",
       "      <th>locale_name</th>\n",
       "      <th>description</th>\n",
       "      <th>transferred</th>\n",
       "    </tr>\n",
       "  </thead>\n",
       "  <tbody>\n",
       "    <tr>\n",
       "      <th>0</th>\n",
       "      <td>25</td>\n",
       "      <td>99197</td>\n",
       "      <td>2017-01-01</td>\n",
       "      <td>101,688,779.00</td>\n",
       "      <td>1.00</td>\n",
       "      <td>False</td>\n",
       "      <td>Holiday</td>\n",
       "      <td>National</td>\n",
       "      <td>Ecuador</td>\n",
       "      <td>Primer dia del ano</td>\n",
       "      <td>True</td>\n",
       "    </tr>\n",
       "    <tr>\n",
       "      <th>1</th>\n",
       "      <td>25</td>\n",
       "      <td>99197</td>\n",
       "      <td>2017-01-02</td>\n",
       "      <td>nan</td>\n",
       "      <td>0.00</td>\n",
       "      <td>False</td>\n",
       "      <td>Transfer</td>\n",
       "      <td>National</td>\n",
       "      <td>Ecuador</td>\n",
       "      <td>Traslado Primer dia del ano</td>\n",
       "      <td>False</td>\n",
       "    </tr>\n",
       "    <tr>\n",
       "      <th>2</th>\n",
       "      <td>25</td>\n",
       "      <td>99197</td>\n",
       "      <td>2017-01-03</td>\n",
       "      <td>101,853,597.00</td>\n",
       "      <td>2.00</td>\n",
       "      <td>False</td>\n",
       "      <td>NaN</td>\n",
       "      <td>NaN</td>\n",
       "      <td>NaN</td>\n",
       "      <td>NaN</td>\n",
       "      <td>NaN</td>\n",
       "    </tr>\n",
       "    <tr>\n",
       "      <th>3</th>\n",
       "      <td>25</td>\n",
       "      <td>99197</td>\n",
       "      <td>2017-01-04</td>\n",
       "      <td>101,962,201.00</td>\n",
       "      <td>4.00</td>\n",
       "      <td>False</td>\n",
       "      <td>NaN</td>\n",
       "      <td>NaN</td>\n",
       "      <td>NaN</td>\n",
       "      <td>NaN</td>\n",
       "      <td>NaN</td>\n",
       "    </tr>\n",
       "    <tr>\n",
       "      <th>4</th>\n",
       "      <td>25</td>\n",
       "      <td>99197</td>\n",
       "      <td>2017-01-05</td>\n",
       "      <td>102,067,019.00</td>\n",
       "      <td>2.00</td>\n",
       "      <td>False</td>\n",
       "      <td>NaN</td>\n",
       "      <td>NaN</td>\n",
       "      <td>NaN</td>\n",
       "      <td>NaN</td>\n",
       "      <td>NaN</td>\n",
       "    </tr>\n",
       "  </tbody>\n",
       "</table>\n",
       "</div>"
      ],
      "text/plain": [
       "   store_nbr  item_nbr       date             id  unit_sales  onpromotion  \\\n",
       "0         25     99197 2017-01-01 101,688,779.00        1.00        False   \n",
       "1         25     99197 2017-01-02            nan        0.00        False   \n",
       "2         25     99197 2017-01-03 101,853,597.00        2.00        False   \n",
       "3         25     99197 2017-01-04 101,962,201.00        4.00        False   \n",
       "4         25     99197 2017-01-05 102,067,019.00        2.00        False   \n",
       "\n",
       "       type    locale locale_name                  description transferred  \n",
       "0   Holiday  National     Ecuador           Primer dia del ano        True  \n",
       "1  Transfer  National     Ecuador  Traslado Primer dia del ano       False  \n",
       "2       NaN       NaN         NaN                          NaN         NaN  \n",
       "3       NaN       NaN         NaN                          NaN         NaN  \n",
       "4       NaN       NaN         NaN                          NaN         NaN  "
      ]
     },
     "execution_count": 51,
     "metadata": {},
     "output_type": "execute_result"
    }
   ],
   "source": [
    "train.head()"
   ]
  },
  {
   "cell_type": "code",
   "execution_count": 52,
   "metadata": {},
   "outputs": [
    {
     "name": "stdout",
     "output_type": "stream",
     "text": [
      "CPU times: user 384 ms, sys: 44 ms, total: 428 ms\n",
      "Wall time: 428 ms\n"
     ]
    }
   ],
   "source": [
    "%time test = join_df(test, holidays_events, 'date')"
   ]
  },
  {
   "cell_type": "code",
   "execution_count": 53,
   "metadata": {},
   "outputs": [],
   "source": [
    "train.type.fillna('Work Day', inplace=True)"
   ]
  },
  {
   "cell_type": "code",
   "execution_count": 54,
   "metadata": {},
   "outputs": [
    {
     "data": {
      "text/plain": [
       "array(['Holiday', 'Transfer', 'Work Day', 'Additional', 'Event'], dtype=object)"
      ]
     },
     "execution_count": 54,
     "metadata": {},
     "output_type": "execute_result"
    }
   ],
   "source": [
    "train.type.unique()"
   ]
  },
  {
   "cell_type": "code",
   "execution_count": 55,
   "metadata": {},
   "outputs": [],
   "source": [
    "test.type.fillna('Work Day', inplace=True)"
   ]
  },
  {
   "cell_type": "code",
   "execution_count": 56,
   "metadata": {},
   "outputs": [],
   "source": [
    "train.to_feather(f'{PATH}data/grocery_train')\n",
    "test.to_feather(f'{PATH}data/grocery_test')"
   ]
  },
  {
   "cell_type": "code",
   "execution_count": 57,
   "metadata": {},
   "outputs": [
    {
     "name": "stderr",
     "output_type": "stream",
     "text": [
      "/home/ubuntu/anaconda3/envs/fastai/lib/python3.6/site-packages/pandas/io/feather_format.py:112: FutureWarning: `nthreads` argument is deprecated, pass `use_threads` instead\n",
      "  return feather.read_dataframe(path, nthreads=nthreads)\n"
     ]
    }
   ],
   "source": [
    "train = pd.read_feather(f'{PATH}data/grocery_train')\n",
    "test = pd.read_feather(f'{PATH}data/grocery_test')"
   ]
  },
  {
   "cell_type": "markdown",
   "metadata": {},
   "source": [
    "### 3.3 Merge Stores"
   ]
  },
  {
   "cell_type": "code",
   "execution_count": 58,
   "metadata": {},
   "outputs": [
    {
     "data": {
      "text/html": [
       "<div>\n",
       "<style scoped>\n",
       "    .dataframe tbody tr th:only-of-type {\n",
       "        vertical-align: middle;\n",
       "    }\n",
       "\n",
       "    .dataframe tbody tr th {\n",
       "        vertical-align: top;\n",
       "    }\n",
       "\n",
       "    .dataframe thead th {\n",
       "        text-align: right;\n",
       "    }\n",
       "</style>\n",
       "<table border=\"1\" class=\"dataframe\">\n",
       "  <thead>\n",
       "    <tr style=\"text-align: right;\">\n",
       "      <th></th>\n",
       "      <th>store_nbr</th>\n",
       "      <th>city</th>\n",
       "      <th>state</th>\n",
       "      <th>type</th>\n",
       "      <th>cluster</th>\n",
       "    </tr>\n",
       "  </thead>\n",
       "  <tbody>\n",
       "    <tr>\n",
       "      <th>0</th>\n",
       "      <td>1</td>\n",
       "      <td>Quito</td>\n",
       "      <td>Pichincha</td>\n",
       "      <td>D</td>\n",
       "      <td>13</td>\n",
       "    </tr>\n",
       "    <tr>\n",
       "      <th>1</th>\n",
       "      <td>2</td>\n",
       "      <td>Quito</td>\n",
       "      <td>Pichincha</td>\n",
       "      <td>D</td>\n",
       "      <td>13</td>\n",
       "    </tr>\n",
       "    <tr>\n",
       "      <th>2</th>\n",
       "      <td>3</td>\n",
       "      <td>Quito</td>\n",
       "      <td>Pichincha</td>\n",
       "      <td>D</td>\n",
       "      <td>8</td>\n",
       "    </tr>\n",
       "    <tr>\n",
       "      <th>3</th>\n",
       "      <td>4</td>\n",
       "      <td>Quito</td>\n",
       "      <td>Pichincha</td>\n",
       "      <td>D</td>\n",
       "      <td>9</td>\n",
       "    </tr>\n",
       "    <tr>\n",
       "      <th>4</th>\n",
       "      <td>5</td>\n",
       "      <td>Santo Domingo</td>\n",
       "      <td>Santo Domingo de los Tsachilas</td>\n",
       "      <td>D</td>\n",
       "      <td>4</td>\n",
       "    </tr>\n",
       "  </tbody>\n",
       "</table>\n",
       "</div>"
      ],
      "text/plain": [
       "   store_nbr           city                           state type  cluster\n",
       "0          1          Quito                       Pichincha    D       13\n",
       "1          2          Quito                       Pichincha    D       13\n",
       "2          3          Quito                       Pichincha    D        8\n",
       "3          4          Quito                       Pichincha    D        9\n",
       "4          5  Santo Domingo  Santo Domingo de los Tsachilas    D        4"
      ]
     },
     "execution_count": 58,
     "metadata": {},
     "output_type": "execute_result"
    }
   ],
   "source": [
    "stores.head()"
   ]
  },
  {
   "cell_type": "code",
   "execution_count": 59,
   "metadata": {},
   "outputs": [
    {
     "name": "stdout",
     "output_type": "stream",
     "text": [
      "CPU times: user 8.68 s, sys: 2.78 s, total: 11.5 s\n",
      "Wall time: 11.5 s\n"
     ]
    }
   ],
   "source": [
    "%time train = join_df(train, stores, 'store_nbr')"
   ]
  },
  {
   "cell_type": "code",
   "execution_count": 60,
   "metadata": {},
   "outputs": [],
   "source": [
    "column_name_mapping={'type': 'holiday_type',\n",
    "                      'locale': 'holiday_locale',\n",
    "                      'locale_name': 'holiday_locale_name',\n",
    "                      'description': 'holiday_description',\n",
    "                      'transferred': 'holiday_transferred',\n",
    "                      'type_y': 'store_type'}"
   ]
  },
  {
   "cell_type": "code",
   "execution_count": 61,
   "metadata": {},
   "outputs": [],
   "source": [
    "train.rename(columns=column_name_mapping, inplace=True)"
   ]
  },
  {
   "cell_type": "code",
   "execution_count": 62,
   "metadata": {
    "scrolled": true
   },
   "outputs": [
    {
     "data": {
      "text/html": [
       "<div>\n",
       "<style scoped>\n",
       "    .dataframe tbody tr th:only-of-type {\n",
       "        vertical-align: middle;\n",
       "    }\n",
       "\n",
       "    .dataframe tbody tr th {\n",
       "        vertical-align: top;\n",
       "    }\n",
       "\n",
       "    .dataframe thead th {\n",
       "        text-align: right;\n",
       "    }\n",
       "</style>\n",
       "<table border=\"1\" class=\"dataframe\">\n",
       "  <thead>\n",
       "    <tr style=\"text-align: right;\">\n",
       "      <th></th>\n",
       "      <th>50120527</th>\n",
       "      <th>50120528</th>\n",
       "      <th>50120529</th>\n",
       "      <th>50120530</th>\n",
       "      <th>50120531</th>\n",
       "    </tr>\n",
       "  </thead>\n",
       "  <tbody>\n",
       "    <tr>\n",
       "      <th>store_nbr</th>\n",
       "      <td>52</td>\n",
       "      <td>52</td>\n",
       "      <td>52</td>\n",
       "      <td>52</td>\n",
       "      <td>52</td>\n",
       "    </tr>\n",
       "    <tr>\n",
       "      <th>item_nbr</th>\n",
       "      <td>2011451</td>\n",
       "      <td>2011451</td>\n",
       "      <td>2011451</td>\n",
       "      <td>2011451</td>\n",
       "      <td>2011451</td>\n",
       "    </tr>\n",
       "    <tr>\n",
       "      <th>date</th>\n",
       "      <td>2017-08-11 00:00:00</td>\n",
       "      <td>2017-08-12 00:00:00</td>\n",
       "      <td>2017-08-13 00:00:00</td>\n",
       "      <td>2017-08-14 00:00:00</td>\n",
       "      <td>2017-08-15 00:00:00</td>\n",
       "    </tr>\n",
       "    <tr>\n",
       "      <th>id</th>\n",
       "      <td>NaN</td>\n",
       "      <td>NaN</td>\n",
       "      <td>NaN</td>\n",
       "      <td>NaN</td>\n",
       "      <td>NaN</td>\n",
       "    </tr>\n",
       "    <tr>\n",
       "      <th>unit_sales</th>\n",
       "      <td>0.00</td>\n",
       "      <td>0.00</td>\n",
       "      <td>0.00</td>\n",
       "      <td>0.00</td>\n",
       "      <td>0.00</td>\n",
       "    </tr>\n",
       "    <tr>\n",
       "      <th>onpromotion</th>\n",
       "      <td>False</td>\n",
       "      <td>False</td>\n",
       "      <td>False</td>\n",
       "      <td>False</td>\n",
       "      <td>False</td>\n",
       "    </tr>\n",
       "    <tr>\n",
       "      <th>holiday_type</th>\n",
       "      <td>Transfer</td>\n",
       "      <td>Work Day</td>\n",
       "      <td>Work Day</td>\n",
       "      <td>Work Day</td>\n",
       "      <td>Holiday</td>\n",
       "    </tr>\n",
       "    <tr>\n",
       "      <th>holiday_locale</th>\n",
       "      <td>National</td>\n",
       "      <td>None</td>\n",
       "      <td>None</td>\n",
       "      <td>None</td>\n",
       "      <td>Local</td>\n",
       "    </tr>\n",
       "    <tr>\n",
       "      <th>holiday_locale_name</th>\n",
       "      <td>Ecuador</td>\n",
       "      <td>None</td>\n",
       "      <td>None</td>\n",
       "      <td>None</td>\n",
       "      <td>Riobamba</td>\n",
       "    </tr>\n",
       "    <tr>\n",
       "      <th>holiday_description</th>\n",
       "      <td>Traslado Primer Grito de Independencia</td>\n",
       "      <td>None</td>\n",
       "      <td>None</td>\n",
       "      <td>None</td>\n",
       "      <td>Fundacion de Riobamba</td>\n",
       "    </tr>\n",
       "    <tr>\n",
       "      <th>holiday_transferred</th>\n",
       "      <td>False</td>\n",
       "      <td>None</td>\n",
       "      <td>None</td>\n",
       "      <td>None</td>\n",
       "      <td>False</td>\n",
       "    </tr>\n",
       "    <tr>\n",
       "      <th>city</th>\n",
       "      <td>Manta</td>\n",
       "      <td>Manta</td>\n",
       "      <td>Manta</td>\n",
       "      <td>Manta</td>\n",
       "      <td>Manta</td>\n",
       "    </tr>\n",
       "    <tr>\n",
       "      <th>state</th>\n",
       "      <td>Manabi</td>\n",
       "      <td>Manabi</td>\n",
       "      <td>Manabi</td>\n",
       "      <td>Manabi</td>\n",
       "      <td>Manabi</td>\n",
       "    </tr>\n",
       "    <tr>\n",
       "      <th>store_type</th>\n",
       "      <td>A</td>\n",
       "      <td>A</td>\n",
       "      <td>A</td>\n",
       "      <td>A</td>\n",
       "      <td>A</td>\n",
       "    </tr>\n",
       "    <tr>\n",
       "      <th>cluster</th>\n",
       "      <td>11</td>\n",
       "      <td>11</td>\n",
       "      <td>11</td>\n",
       "      <td>11</td>\n",
       "      <td>11</td>\n",
       "    </tr>\n",
       "  </tbody>\n",
       "</table>\n",
       "</div>"
      ],
      "text/plain": [
       "                                                   50120527  \\\n",
       "store_nbr                                                52   \n",
       "item_nbr                                            2011451   \n",
       "date                                    2017-08-11 00:00:00   \n",
       "id                                                      NaN   \n",
       "unit_sales                                             0.00   \n",
       "onpromotion                                           False   \n",
       "holiday_type                                       Transfer   \n",
       "holiday_locale                                     National   \n",
       "holiday_locale_name                                 Ecuador   \n",
       "holiday_description  Traslado Primer Grito de Independencia   \n",
       "holiday_transferred                                   False   \n",
       "city                                                  Manta   \n",
       "state                                                Manabi   \n",
       "store_type                                                A   \n",
       "cluster                                                  11   \n",
       "\n",
       "                                50120528             50120529  \\\n",
       "store_nbr                             52                   52   \n",
       "item_nbr                         2011451              2011451   \n",
       "date                 2017-08-12 00:00:00  2017-08-13 00:00:00   \n",
       "id                                   NaN                  NaN   \n",
       "unit_sales                          0.00                 0.00   \n",
       "onpromotion                        False                False   \n",
       "holiday_type                    Work Day             Work Day   \n",
       "holiday_locale                      None                 None   \n",
       "holiday_locale_name                 None                 None   \n",
       "holiday_description                 None                 None   \n",
       "holiday_transferred                 None                 None   \n",
       "city                               Manta                Manta   \n",
       "state                             Manabi               Manabi   \n",
       "store_type                             A                    A   \n",
       "cluster                               11                   11   \n",
       "\n",
       "                                50120530               50120531  \n",
       "store_nbr                             52                     52  \n",
       "item_nbr                         2011451                2011451  \n",
       "date                 2017-08-14 00:00:00    2017-08-15 00:00:00  \n",
       "id                                   NaN                    NaN  \n",
       "unit_sales                          0.00                   0.00  \n",
       "onpromotion                        False                  False  \n",
       "holiday_type                    Work Day                Holiday  \n",
       "holiday_locale                      None                  Local  \n",
       "holiday_locale_name                 None               Riobamba  \n",
       "holiday_description                 None  Fundacion de Riobamba  \n",
       "holiday_transferred                 None                  False  \n",
       "city                               Manta                  Manta  \n",
       "state                             Manabi                 Manabi  \n",
       "store_type                             A                      A  \n",
       "cluster                               11                     11  "
      ]
     },
     "metadata": {},
     "output_type": "display_data"
    }
   ],
   "source": [
    "display_all(train.tail().T)"
   ]
  },
  {
   "cell_type": "code",
   "execution_count": 63,
   "metadata": {},
   "outputs": [],
   "source": [
    "test = join_df(test, stores, 'store_nbr')"
   ]
  },
  {
   "cell_type": "code",
   "execution_count": 64,
   "metadata": {},
   "outputs": [],
   "source": [
    "test.rename(columns=column_name_mapping, inplace=True)"
   ]
  },
  {
   "cell_type": "code",
   "execution_count": 65,
   "metadata": {
    "scrolled": true
   },
   "outputs": [
    {
     "data": {
      "text/html": [
       "<div>\n",
       "<style scoped>\n",
       "    .dataframe tbody tr th:only-of-type {\n",
       "        vertical-align: middle;\n",
       "    }\n",
       "\n",
       "    .dataframe tbody tr th {\n",
       "        vertical-align: top;\n",
       "    }\n",
       "\n",
       "    .dataframe thead th {\n",
       "        text-align: right;\n",
       "    }\n",
       "</style>\n",
       "<table border=\"1\" class=\"dataframe\">\n",
       "  <thead>\n",
       "    <tr style=\"text-align: right;\">\n",
       "      <th></th>\n",
       "      <th>3370459</th>\n",
       "      <th>3370460</th>\n",
       "      <th>3370461</th>\n",
       "      <th>3370462</th>\n",
       "      <th>3370463</th>\n",
       "    </tr>\n",
       "  </thead>\n",
       "  <tbody>\n",
       "    <tr>\n",
       "      <th>id</th>\n",
       "      <td>128867499</td>\n",
       "      <td>128867500</td>\n",
       "      <td>128867501</td>\n",
       "      <td>128867502</td>\n",
       "      <td>128867503</td>\n",
       "    </tr>\n",
       "    <tr>\n",
       "      <th>date</th>\n",
       "      <td>2017-08-31 00:00:00</td>\n",
       "      <td>2017-08-31 00:00:00</td>\n",
       "      <td>2017-08-31 00:00:00</td>\n",
       "      <td>2017-08-31 00:00:00</td>\n",
       "      <td>2017-08-31 00:00:00</td>\n",
       "    </tr>\n",
       "    <tr>\n",
       "      <th>store_nbr</th>\n",
       "      <td>54</td>\n",
       "      <td>54</td>\n",
       "      <td>54</td>\n",
       "      <td>54</td>\n",
       "      <td>54</td>\n",
       "    </tr>\n",
       "    <tr>\n",
       "      <th>item_nbr</th>\n",
       "      <td>2132163</td>\n",
       "      <td>2132318</td>\n",
       "      <td>2132945</td>\n",
       "      <td>2132957</td>\n",
       "      <td>2134244</td>\n",
       "    </tr>\n",
       "    <tr>\n",
       "      <th>onpromotion</th>\n",
       "      <td>False</td>\n",
       "      <td>False</td>\n",
       "      <td>False</td>\n",
       "      <td>False</td>\n",
       "      <td>False</td>\n",
       "    </tr>\n",
       "    <tr>\n",
       "      <th>holiday_type</th>\n",
       "      <td>Work Day</td>\n",
       "      <td>Work Day</td>\n",
       "      <td>Work Day</td>\n",
       "      <td>Work Day</td>\n",
       "      <td>Work Day</td>\n",
       "    </tr>\n",
       "    <tr>\n",
       "      <th>holiday_locale</th>\n",
       "      <td>None</td>\n",
       "      <td>None</td>\n",
       "      <td>None</td>\n",
       "      <td>None</td>\n",
       "      <td>None</td>\n",
       "    </tr>\n",
       "    <tr>\n",
       "      <th>holiday_locale_name</th>\n",
       "      <td>None</td>\n",
       "      <td>None</td>\n",
       "      <td>None</td>\n",
       "      <td>None</td>\n",
       "      <td>None</td>\n",
       "    </tr>\n",
       "    <tr>\n",
       "      <th>holiday_description</th>\n",
       "      <td>None</td>\n",
       "      <td>None</td>\n",
       "      <td>None</td>\n",
       "      <td>None</td>\n",
       "      <td>None</td>\n",
       "    </tr>\n",
       "    <tr>\n",
       "      <th>holiday_transferred</th>\n",
       "      <td>None</td>\n",
       "      <td>None</td>\n",
       "      <td>None</td>\n",
       "      <td>None</td>\n",
       "      <td>None</td>\n",
       "    </tr>\n",
       "    <tr>\n",
       "      <th>city</th>\n",
       "      <td>El Carmen</td>\n",
       "      <td>El Carmen</td>\n",
       "      <td>El Carmen</td>\n",
       "      <td>El Carmen</td>\n",
       "      <td>El Carmen</td>\n",
       "    </tr>\n",
       "    <tr>\n",
       "      <th>state</th>\n",
       "      <td>Manabi</td>\n",
       "      <td>Manabi</td>\n",
       "      <td>Manabi</td>\n",
       "      <td>Manabi</td>\n",
       "      <td>Manabi</td>\n",
       "    </tr>\n",
       "    <tr>\n",
       "      <th>store_type</th>\n",
       "      <td>C</td>\n",
       "      <td>C</td>\n",
       "      <td>C</td>\n",
       "      <td>C</td>\n",
       "      <td>C</td>\n",
       "    </tr>\n",
       "    <tr>\n",
       "      <th>cluster</th>\n",
       "      <td>3</td>\n",
       "      <td>3</td>\n",
       "      <td>3</td>\n",
       "      <td>3</td>\n",
       "      <td>3</td>\n",
       "    </tr>\n",
       "  </tbody>\n",
       "</table>\n",
       "</div>"
      ],
      "text/plain": [
       "                                 3370459              3370460  \\\n",
       "id                             128867499            128867500   \n",
       "date                 2017-08-31 00:00:00  2017-08-31 00:00:00   \n",
       "store_nbr                             54                   54   \n",
       "item_nbr                         2132163              2132318   \n",
       "onpromotion                        False                False   \n",
       "holiday_type                    Work Day             Work Day   \n",
       "holiday_locale                      None                 None   \n",
       "holiday_locale_name                 None                 None   \n",
       "holiday_description                 None                 None   \n",
       "holiday_transferred                 None                 None   \n",
       "city                           El Carmen            El Carmen   \n",
       "state                             Manabi               Manabi   \n",
       "store_type                             C                    C   \n",
       "cluster                                3                    3   \n",
       "\n",
       "                                 3370461              3370462  \\\n",
       "id                             128867501            128867502   \n",
       "date                 2017-08-31 00:00:00  2017-08-31 00:00:00   \n",
       "store_nbr                             54                   54   \n",
       "item_nbr                         2132945              2132957   \n",
       "onpromotion                        False                False   \n",
       "holiday_type                    Work Day             Work Day   \n",
       "holiday_locale                      None                 None   \n",
       "holiday_locale_name                 None                 None   \n",
       "holiday_description                 None                 None   \n",
       "holiday_transferred                 None                 None   \n",
       "city                           El Carmen            El Carmen   \n",
       "state                             Manabi               Manabi   \n",
       "store_type                             C                    C   \n",
       "cluster                                3                    3   \n",
       "\n",
       "                                 3370463  \n",
       "id                             128867503  \n",
       "date                 2017-08-31 00:00:00  \n",
       "store_nbr                             54  \n",
       "item_nbr                         2134244  \n",
       "onpromotion                        False  \n",
       "holiday_type                    Work Day  \n",
       "holiday_locale                      None  \n",
       "holiday_locale_name                 None  \n",
       "holiday_description                 None  \n",
       "holiday_transferred                 None  \n",
       "city                           El Carmen  \n",
       "state                             Manabi  \n",
       "store_type                             C  \n",
       "cluster                                3  "
      ]
     },
     "metadata": {},
     "output_type": "display_data"
    }
   ],
   "source": [
    "display_all(test.tail().T)"
   ]
  },
  {
   "cell_type": "code",
   "execution_count": 66,
   "metadata": {},
   "outputs": [
    {
     "name": "stdout",
     "output_type": "stream",
     "text": [
      "CPU times: user 15.2 s, sys: 5.28 s, total: 20.5 s\n",
      "Wall time: 54.2 s\n"
     ]
    }
   ],
   "source": [
    "%%time\n",
    "train.to_feather(f'{PATH}data/grocery_train')\n",
    "test.to_feather(f'{PATH}data/grocery_test')"
   ]
  },
  {
   "cell_type": "code",
   "execution_count": 67,
   "metadata": {},
   "outputs": [
    {
     "name": "stderr",
     "output_type": "stream",
     "text": [
      "/home/ubuntu/anaconda3/envs/fastai/lib/python3.6/site-packages/pandas/io/feather_format.py:112: FutureWarning: `nthreads` argument is deprecated, pass `use_threads` instead\n",
      "  return feather.read_dataframe(path, nthreads=nthreads)\n"
     ]
    }
   ],
   "source": [
    "train = pd.read_feather(f'{PATH}data/grocery_train')\n",
    "test = pd.read_feather(f'{PATH}data/grocery_test')"
   ]
  },
  {
   "cell_type": "markdown",
   "metadata": {},
   "source": [
    "### 3.4 Merge Items"
   ]
  },
  {
   "cell_type": "code",
   "execution_count": 68,
   "metadata": {},
   "outputs": [
    {
     "data": {
      "text/html": [
       "<div>\n",
       "<style scoped>\n",
       "    .dataframe tbody tr th:only-of-type {\n",
       "        vertical-align: middle;\n",
       "    }\n",
       "\n",
       "    .dataframe tbody tr th {\n",
       "        vertical-align: top;\n",
       "    }\n",
       "\n",
       "    .dataframe thead th {\n",
       "        text-align: right;\n",
       "    }\n",
       "</style>\n",
       "<table border=\"1\" class=\"dataframe\">\n",
       "  <thead>\n",
       "    <tr style=\"text-align: right;\">\n",
       "      <th></th>\n",
       "      <th>item_nbr</th>\n",
       "      <th>family</th>\n",
       "      <th>class</th>\n",
       "      <th>perishable</th>\n",
       "    </tr>\n",
       "  </thead>\n",
       "  <tbody>\n",
       "    <tr>\n",
       "      <th>0</th>\n",
       "      <td>96995</td>\n",
       "      <td>GROCERY I</td>\n",
       "      <td>1093</td>\n",
       "      <td>False</td>\n",
       "    </tr>\n",
       "    <tr>\n",
       "      <th>1</th>\n",
       "      <td>99197</td>\n",
       "      <td>GROCERY I</td>\n",
       "      <td>1067</td>\n",
       "      <td>False</td>\n",
       "    </tr>\n",
       "    <tr>\n",
       "      <th>2</th>\n",
       "      <td>103501</td>\n",
       "      <td>CLEANING</td>\n",
       "      <td>3008</td>\n",
       "      <td>False</td>\n",
       "    </tr>\n",
       "    <tr>\n",
       "      <th>3</th>\n",
       "      <td>103520</td>\n",
       "      <td>GROCERY I</td>\n",
       "      <td>1028</td>\n",
       "      <td>False</td>\n",
       "    </tr>\n",
       "    <tr>\n",
       "      <th>4</th>\n",
       "      <td>103665</td>\n",
       "      <td>BREAD/BAKERY</td>\n",
       "      <td>2712</td>\n",
       "      <td>True</td>\n",
       "    </tr>\n",
       "  </tbody>\n",
       "</table>\n",
       "</div>"
      ],
      "text/plain": [
       "   item_nbr        family  class  perishable\n",
       "0     96995     GROCERY I   1093       False\n",
       "1     99197     GROCERY I   1067       False\n",
       "2    103501      CLEANING   3008       False\n",
       "3    103520     GROCERY I   1028       False\n",
       "4    103665  BREAD/BAKERY   2712        True"
      ]
     },
     "execution_count": 68,
     "metadata": {},
     "output_type": "execute_result"
    }
   ],
   "source": [
    "items.head()"
   ]
  },
  {
   "cell_type": "code",
   "execution_count": 69,
   "metadata": {
    "scrolled": true
   },
   "outputs": [
    {
     "name": "stdout",
     "output_type": "stream",
     "text": [
      "CPU times: user 11.2 s, sys: 3.4 s, total: 14.6 s\n",
      "Wall time: 14.6 s\n"
     ]
    }
   ],
   "source": [
    "%time train = join_df(train, items, 'item_nbr')"
   ]
  },
  {
   "cell_type": "code",
   "execution_count": 70,
   "metadata": {},
   "outputs": [
    {
     "name": "stdout",
     "output_type": "stream",
     "text": [
      "CPU times: user 988 ms, sys: 136 ms, total: 1.12 s\n",
      "Wall time: 1.12 s\n"
     ]
    }
   ],
   "source": [
    "%time test = join_df(test, items, \"item_nbr\")"
   ]
  },
  {
   "cell_type": "code",
   "execution_count": 71,
   "metadata": {},
   "outputs": [
    {
     "data": {
      "text/plain": [
       "(0, 0)"
      ]
     },
     "execution_count": 71,
     "metadata": {},
     "output_type": "execute_result"
    }
   ],
   "source": [
    "len(train[train.family.isnull()]),len(test[test.family.isnull()])"
   ]
  },
  {
   "cell_type": "code",
   "execution_count": 72,
   "metadata": {
    "scrolled": true
   },
   "outputs": [
    {
     "data": {
      "text/html": [
       "<div>\n",
       "<style scoped>\n",
       "    .dataframe tbody tr th:only-of-type {\n",
       "        vertical-align: middle;\n",
       "    }\n",
       "\n",
       "    .dataframe tbody tr th {\n",
       "        vertical-align: top;\n",
       "    }\n",
       "\n",
       "    .dataframe thead th {\n",
       "        text-align: right;\n",
       "    }\n",
       "</style>\n",
       "<table border=\"1\" class=\"dataframe\">\n",
       "  <thead>\n",
       "    <tr style=\"text-align: right;\">\n",
       "      <th></th>\n",
       "      <th>50120527</th>\n",
       "      <th>50120528</th>\n",
       "      <th>50120529</th>\n",
       "      <th>50120530</th>\n",
       "      <th>50120531</th>\n",
       "    </tr>\n",
       "  </thead>\n",
       "  <tbody>\n",
       "    <tr>\n",
       "      <th>store_nbr</th>\n",
       "      <td>52</td>\n",
       "      <td>52</td>\n",
       "      <td>52</td>\n",
       "      <td>52</td>\n",
       "      <td>52</td>\n",
       "    </tr>\n",
       "    <tr>\n",
       "      <th>item_nbr</th>\n",
       "      <td>2011451</td>\n",
       "      <td>2011451</td>\n",
       "      <td>2011451</td>\n",
       "      <td>2011451</td>\n",
       "      <td>2011451</td>\n",
       "    </tr>\n",
       "    <tr>\n",
       "      <th>date</th>\n",
       "      <td>2017-08-11 00:00:00</td>\n",
       "      <td>2017-08-12 00:00:00</td>\n",
       "      <td>2017-08-13 00:00:00</td>\n",
       "      <td>2017-08-14 00:00:00</td>\n",
       "      <td>2017-08-15 00:00:00</td>\n",
       "    </tr>\n",
       "    <tr>\n",
       "      <th>id</th>\n",
       "      <td>NaN</td>\n",
       "      <td>NaN</td>\n",
       "      <td>NaN</td>\n",
       "      <td>NaN</td>\n",
       "      <td>NaN</td>\n",
       "    </tr>\n",
       "    <tr>\n",
       "      <th>unit_sales</th>\n",
       "      <td>0.00</td>\n",
       "      <td>0.00</td>\n",
       "      <td>0.00</td>\n",
       "      <td>0.00</td>\n",
       "      <td>0.00</td>\n",
       "    </tr>\n",
       "    <tr>\n",
       "      <th>onpromotion</th>\n",
       "      <td>False</td>\n",
       "      <td>False</td>\n",
       "      <td>False</td>\n",
       "      <td>False</td>\n",
       "      <td>False</td>\n",
       "    </tr>\n",
       "    <tr>\n",
       "      <th>holiday_type</th>\n",
       "      <td>Transfer</td>\n",
       "      <td>Work Day</td>\n",
       "      <td>Work Day</td>\n",
       "      <td>Work Day</td>\n",
       "      <td>Holiday</td>\n",
       "    </tr>\n",
       "    <tr>\n",
       "      <th>holiday_locale</th>\n",
       "      <td>National</td>\n",
       "      <td>None</td>\n",
       "      <td>None</td>\n",
       "      <td>None</td>\n",
       "      <td>Local</td>\n",
       "    </tr>\n",
       "    <tr>\n",
       "      <th>holiday_locale_name</th>\n",
       "      <td>Ecuador</td>\n",
       "      <td>None</td>\n",
       "      <td>None</td>\n",
       "      <td>None</td>\n",
       "      <td>Riobamba</td>\n",
       "    </tr>\n",
       "    <tr>\n",
       "      <th>holiday_description</th>\n",
       "      <td>Traslado Primer Grito de Independencia</td>\n",
       "      <td>None</td>\n",
       "      <td>None</td>\n",
       "      <td>None</td>\n",
       "      <td>Fundacion de Riobamba</td>\n",
       "    </tr>\n",
       "    <tr>\n",
       "      <th>holiday_transferred</th>\n",
       "      <td>False</td>\n",
       "      <td>None</td>\n",
       "      <td>None</td>\n",
       "      <td>None</td>\n",
       "      <td>False</td>\n",
       "    </tr>\n",
       "    <tr>\n",
       "      <th>city</th>\n",
       "      <td>Manta</td>\n",
       "      <td>Manta</td>\n",
       "      <td>Manta</td>\n",
       "      <td>Manta</td>\n",
       "      <td>Manta</td>\n",
       "    </tr>\n",
       "    <tr>\n",
       "      <th>state</th>\n",
       "      <td>Manabi</td>\n",
       "      <td>Manabi</td>\n",
       "      <td>Manabi</td>\n",
       "      <td>Manabi</td>\n",
       "      <td>Manabi</td>\n",
       "    </tr>\n",
       "    <tr>\n",
       "      <th>store_type</th>\n",
       "      <td>A</td>\n",
       "      <td>A</td>\n",
       "      <td>A</td>\n",
       "      <td>A</td>\n",
       "      <td>A</td>\n",
       "    </tr>\n",
       "    <tr>\n",
       "      <th>cluster</th>\n",
       "      <td>11</td>\n",
       "      <td>11</td>\n",
       "      <td>11</td>\n",
       "      <td>11</td>\n",
       "      <td>11</td>\n",
       "    </tr>\n",
       "    <tr>\n",
       "      <th>family</th>\n",
       "      <td>GROCERY I</td>\n",
       "      <td>GROCERY I</td>\n",
       "      <td>GROCERY I</td>\n",
       "      <td>GROCERY I</td>\n",
       "      <td>GROCERY I</td>\n",
       "    </tr>\n",
       "    <tr>\n",
       "      <th>class</th>\n",
       "      <td>1063</td>\n",
       "      <td>1063</td>\n",
       "      <td>1063</td>\n",
       "      <td>1063</td>\n",
       "      <td>1063</td>\n",
       "    </tr>\n",
       "    <tr>\n",
       "      <th>perishable</th>\n",
       "      <td>False</td>\n",
       "      <td>False</td>\n",
       "      <td>False</td>\n",
       "      <td>False</td>\n",
       "      <td>False</td>\n",
       "    </tr>\n",
       "  </tbody>\n",
       "</table>\n",
       "</div>"
      ],
      "text/plain": [
       "                                                   50120527  \\\n",
       "store_nbr                                                52   \n",
       "item_nbr                                            2011451   \n",
       "date                                    2017-08-11 00:00:00   \n",
       "id                                                      NaN   \n",
       "unit_sales                                             0.00   \n",
       "onpromotion                                           False   \n",
       "holiday_type                                       Transfer   \n",
       "holiday_locale                                     National   \n",
       "holiday_locale_name                                 Ecuador   \n",
       "holiday_description  Traslado Primer Grito de Independencia   \n",
       "holiday_transferred                                   False   \n",
       "city                                                  Manta   \n",
       "state                                                Manabi   \n",
       "store_type                                                A   \n",
       "cluster                                                  11   \n",
       "family                                            GROCERY I   \n",
       "class                                                  1063   \n",
       "perishable                                            False   \n",
       "\n",
       "                                50120528             50120529  \\\n",
       "store_nbr                             52                   52   \n",
       "item_nbr                         2011451              2011451   \n",
       "date                 2017-08-12 00:00:00  2017-08-13 00:00:00   \n",
       "id                                   NaN                  NaN   \n",
       "unit_sales                          0.00                 0.00   \n",
       "onpromotion                        False                False   \n",
       "holiday_type                    Work Day             Work Day   \n",
       "holiday_locale                      None                 None   \n",
       "holiday_locale_name                 None                 None   \n",
       "holiday_description                 None                 None   \n",
       "holiday_transferred                 None                 None   \n",
       "city                               Manta                Manta   \n",
       "state                             Manabi               Manabi   \n",
       "store_type                             A                    A   \n",
       "cluster                               11                   11   \n",
       "family                         GROCERY I            GROCERY I   \n",
       "class                               1063                 1063   \n",
       "perishable                         False                False   \n",
       "\n",
       "                                50120530               50120531  \n",
       "store_nbr                             52                     52  \n",
       "item_nbr                         2011451                2011451  \n",
       "date                 2017-08-14 00:00:00    2017-08-15 00:00:00  \n",
       "id                                   NaN                    NaN  \n",
       "unit_sales                          0.00                   0.00  \n",
       "onpromotion                        False                  False  \n",
       "holiday_type                    Work Day                Holiday  \n",
       "holiday_locale                      None                  Local  \n",
       "holiday_locale_name                 None               Riobamba  \n",
       "holiday_description                 None  Fundacion de Riobamba  \n",
       "holiday_transferred                 None                  False  \n",
       "city                               Manta                  Manta  \n",
       "state                             Manabi                 Manabi  \n",
       "store_type                             A                      A  \n",
       "cluster                               11                     11  \n",
       "family                         GROCERY I              GROCERY I  \n",
       "class                               1063                   1063  \n",
       "perishable                         False                  False  "
      ]
     },
     "metadata": {},
     "output_type": "display_data"
    }
   ],
   "source": [
    "display_all(train.tail().T)"
   ]
  },
  {
   "cell_type": "code",
   "execution_count": 73,
   "metadata": {
    "scrolled": true
   },
   "outputs": [
    {
     "data": {
      "text/html": [
       "<div>\n",
       "<style scoped>\n",
       "    .dataframe tbody tr th:only-of-type {\n",
       "        vertical-align: middle;\n",
       "    }\n",
       "\n",
       "    .dataframe tbody tr th {\n",
       "        vertical-align: top;\n",
       "    }\n",
       "\n",
       "    .dataframe thead th {\n",
       "        text-align: right;\n",
       "    }\n",
       "</style>\n",
       "<table border=\"1\" class=\"dataframe\">\n",
       "  <thead>\n",
       "    <tr style=\"text-align: right;\">\n",
       "      <th></th>\n",
       "      <th>3370459</th>\n",
       "      <th>3370460</th>\n",
       "      <th>3370461</th>\n",
       "      <th>3370462</th>\n",
       "      <th>3370463</th>\n",
       "    </tr>\n",
       "  </thead>\n",
       "  <tbody>\n",
       "    <tr>\n",
       "      <th>id</th>\n",
       "      <td>128867499</td>\n",
       "      <td>128867500</td>\n",
       "      <td>128867501</td>\n",
       "      <td>128867502</td>\n",
       "      <td>128867503</td>\n",
       "    </tr>\n",
       "    <tr>\n",
       "      <th>date</th>\n",
       "      <td>2017-08-31 00:00:00</td>\n",
       "      <td>2017-08-31 00:00:00</td>\n",
       "      <td>2017-08-31 00:00:00</td>\n",
       "      <td>2017-08-31 00:00:00</td>\n",
       "      <td>2017-08-31 00:00:00</td>\n",
       "    </tr>\n",
       "    <tr>\n",
       "      <th>store_nbr</th>\n",
       "      <td>54</td>\n",
       "      <td>54</td>\n",
       "      <td>54</td>\n",
       "      <td>54</td>\n",
       "      <td>54</td>\n",
       "    </tr>\n",
       "    <tr>\n",
       "      <th>item_nbr</th>\n",
       "      <td>2132163</td>\n",
       "      <td>2132318</td>\n",
       "      <td>2132945</td>\n",
       "      <td>2132957</td>\n",
       "      <td>2134244</td>\n",
       "    </tr>\n",
       "    <tr>\n",
       "      <th>onpromotion</th>\n",
       "      <td>False</td>\n",
       "      <td>False</td>\n",
       "      <td>False</td>\n",
       "      <td>False</td>\n",
       "      <td>False</td>\n",
       "    </tr>\n",
       "    <tr>\n",
       "      <th>holiday_type</th>\n",
       "      <td>Work Day</td>\n",
       "      <td>Work Day</td>\n",
       "      <td>Work Day</td>\n",
       "      <td>Work Day</td>\n",
       "      <td>Work Day</td>\n",
       "    </tr>\n",
       "    <tr>\n",
       "      <th>holiday_locale</th>\n",
       "      <td>None</td>\n",
       "      <td>None</td>\n",
       "      <td>None</td>\n",
       "      <td>None</td>\n",
       "      <td>None</td>\n",
       "    </tr>\n",
       "    <tr>\n",
       "      <th>holiday_locale_name</th>\n",
       "      <td>None</td>\n",
       "      <td>None</td>\n",
       "      <td>None</td>\n",
       "      <td>None</td>\n",
       "      <td>None</td>\n",
       "    </tr>\n",
       "    <tr>\n",
       "      <th>holiday_description</th>\n",
       "      <td>None</td>\n",
       "      <td>None</td>\n",
       "      <td>None</td>\n",
       "      <td>None</td>\n",
       "      <td>None</td>\n",
       "    </tr>\n",
       "    <tr>\n",
       "      <th>holiday_transferred</th>\n",
       "      <td>None</td>\n",
       "      <td>None</td>\n",
       "      <td>None</td>\n",
       "      <td>None</td>\n",
       "      <td>None</td>\n",
       "    </tr>\n",
       "    <tr>\n",
       "      <th>city</th>\n",
       "      <td>El Carmen</td>\n",
       "      <td>El Carmen</td>\n",
       "      <td>El Carmen</td>\n",
       "      <td>El Carmen</td>\n",
       "      <td>El Carmen</td>\n",
       "    </tr>\n",
       "    <tr>\n",
       "      <th>state</th>\n",
       "      <td>Manabi</td>\n",
       "      <td>Manabi</td>\n",
       "      <td>Manabi</td>\n",
       "      <td>Manabi</td>\n",
       "      <td>Manabi</td>\n",
       "    </tr>\n",
       "    <tr>\n",
       "      <th>store_type</th>\n",
       "      <td>C</td>\n",
       "      <td>C</td>\n",
       "      <td>C</td>\n",
       "      <td>C</td>\n",
       "      <td>C</td>\n",
       "    </tr>\n",
       "    <tr>\n",
       "      <th>cluster</th>\n",
       "      <td>3</td>\n",
       "      <td>3</td>\n",
       "      <td>3</td>\n",
       "      <td>3</td>\n",
       "      <td>3</td>\n",
       "    </tr>\n",
       "    <tr>\n",
       "      <th>family</th>\n",
       "      <td>GROCERY I</td>\n",
       "      <td>GROCERY I</td>\n",
       "      <td>GROCERY I</td>\n",
       "      <td>GROCERY I</td>\n",
       "      <td>LIQUOR,WINE,BEER</td>\n",
       "    </tr>\n",
       "    <tr>\n",
       "      <th>class</th>\n",
       "      <td>1040</td>\n",
       "      <td>1002</td>\n",
       "      <td>1026</td>\n",
       "      <td>1068</td>\n",
       "      <td>1364</td>\n",
       "    </tr>\n",
       "    <tr>\n",
       "      <th>perishable</th>\n",
       "      <td>False</td>\n",
       "      <td>False</td>\n",
       "      <td>False</td>\n",
       "      <td>False</td>\n",
       "      <td>False</td>\n",
       "    </tr>\n",
       "  </tbody>\n",
       "</table>\n",
       "</div>"
      ],
      "text/plain": [
       "                                 3370459              3370460  \\\n",
       "id                             128867499            128867500   \n",
       "date                 2017-08-31 00:00:00  2017-08-31 00:00:00   \n",
       "store_nbr                             54                   54   \n",
       "item_nbr                         2132163              2132318   \n",
       "onpromotion                        False                False   \n",
       "holiday_type                    Work Day             Work Day   \n",
       "holiday_locale                      None                 None   \n",
       "holiday_locale_name                 None                 None   \n",
       "holiday_description                 None                 None   \n",
       "holiday_transferred                 None                 None   \n",
       "city                           El Carmen            El Carmen   \n",
       "state                             Manabi               Manabi   \n",
       "store_type                             C                    C   \n",
       "cluster                                3                    3   \n",
       "family                         GROCERY I            GROCERY I   \n",
       "class                               1040                 1002   \n",
       "perishable                         False                False   \n",
       "\n",
       "                                 3370461              3370462  \\\n",
       "id                             128867501            128867502   \n",
       "date                 2017-08-31 00:00:00  2017-08-31 00:00:00   \n",
       "store_nbr                             54                   54   \n",
       "item_nbr                         2132945              2132957   \n",
       "onpromotion                        False                False   \n",
       "holiday_type                    Work Day             Work Day   \n",
       "holiday_locale                      None                 None   \n",
       "holiday_locale_name                 None                 None   \n",
       "holiday_description                 None                 None   \n",
       "holiday_transferred                 None                 None   \n",
       "city                           El Carmen            El Carmen   \n",
       "state                             Manabi               Manabi   \n",
       "store_type                             C                    C   \n",
       "cluster                                3                    3   \n",
       "family                         GROCERY I            GROCERY I   \n",
       "class                               1026                 1068   \n",
       "perishable                         False                False   \n",
       "\n",
       "                                 3370463  \n",
       "id                             128867503  \n",
       "date                 2017-08-31 00:00:00  \n",
       "store_nbr                             54  \n",
       "item_nbr                         2134244  \n",
       "onpromotion                        False  \n",
       "holiday_type                    Work Day  \n",
       "holiday_locale                      None  \n",
       "holiday_locale_name                 None  \n",
       "holiday_description                 None  \n",
       "holiday_transferred                 None  \n",
       "city                           El Carmen  \n",
       "state                             Manabi  \n",
       "store_type                             C  \n",
       "cluster                                3  \n",
       "family                  LIQUOR,WINE,BEER  \n",
       "class                               1364  \n",
       "perishable                         False  "
      ]
     },
     "metadata": {},
     "output_type": "display_data"
    }
   ],
   "source": [
    "display_all(test.tail().T)"
   ]
  },
  {
   "cell_type": "markdown",
   "metadata": {},
   "source": [
    "### 3.5 Merge Oil"
   ]
  },
  {
   "cell_type": "code",
   "execution_count": 74,
   "metadata": {
    "scrolled": true
   },
   "outputs": [
    {
     "data": {
      "text/html": [
       "<div>\n",
       "<style scoped>\n",
       "    .dataframe tbody tr th:only-of-type {\n",
       "        vertical-align: middle;\n",
       "    }\n",
       "\n",
       "    .dataframe tbody tr th {\n",
       "        vertical-align: top;\n",
       "    }\n",
       "\n",
       "    .dataframe thead th {\n",
       "        text-align: right;\n",
       "    }\n",
       "</style>\n",
       "<table border=\"1\" class=\"dataframe\">\n",
       "  <thead>\n",
       "    <tr style=\"text-align: right;\">\n",
       "      <th></th>\n",
       "      <th>date</th>\n",
       "      <th>dcoilwtico</th>\n",
       "    </tr>\n",
       "  </thead>\n",
       "  <tbody>\n",
       "    <tr>\n",
       "      <th>0</th>\n",
       "      <td>2013-01-01</td>\n",
       "      <td>nan</td>\n",
       "    </tr>\n",
       "    <tr>\n",
       "      <th>1</th>\n",
       "      <td>2013-01-02</td>\n",
       "      <td>93.12</td>\n",
       "    </tr>\n",
       "    <tr>\n",
       "      <th>2</th>\n",
       "      <td>2013-01-03</td>\n",
       "      <td>93.00</td>\n",
       "    </tr>\n",
       "    <tr>\n",
       "      <th>3</th>\n",
       "      <td>2013-01-04</td>\n",
       "      <td>93.12</td>\n",
       "    </tr>\n",
       "    <tr>\n",
       "      <th>4</th>\n",
       "      <td>2013-01-07</td>\n",
       "      <td>93.19</td>\n",
       "    </tr>\n",
       "  </tbody>\n",
       "</table>\n",
       "</div>"
      ],
      "text/plain": [
       "        date  dcoilwtico\n",
       "0 2013-01-01         nan\n",
       "1 2013-01-02       93.12\n",
       "2 2013-01-03       93.00\n",
       "3 2013-01-04       93.12\n",
       "4 2013-01-07       93.19"
      ]
     },
     "execution_count": 74,
     "metadata": {},
     "output_type": "execute_result"
    }
   ],
   "source": [
    "oil.head()"
   ]
  },
  {
   "cell_type": "code",
   "execution_count": 75,
   "metadata": {},
   "outputs": [
    {
     "name": "stdout",
     "output_type": "stream",
     "text": [
      "CPU times: user 23.6 s, sys: 4.73 s, total: 28.4 s\n",
      "Wall time: 28.3 s\n"
     ]
    }
   ],
   "source": [
    "%time train = join_df(train, oil, 'date')"
   ]
  },
  {
   "cell_type": "code",
   "execution_count": 76,
   "metadata": {
    "scrolled": true
   },
   "outputs": [
    {
     "data": {
      "text/html": [
       "<div>\n",
       "<style scoped>\n",
       "    .dataframe tbody tr th:only-of-type {\n",
       "        vertical-align: middle;\n",
       "    }\n",
       "\n",
       "    .dataframe tbody tr th {\n",
       "        vertical-align: top;\n",
       "    }\n",
       "\n",
       "    .dataframe thead th {\n",
       "        text-align: right;\n",
       "    }\n",
       "</style>\n",
       "<table border=\"1\" class=\"dataframe\">\n",
       "  <thead>\n",
       "    <tr style=\"text-align: right;\">\n",
       "      <th></th>\n",
       "      <th>50120527</th>\n",
       "      <th>50120528</th>\n",
       "      <th>50120529</th>\n",
       "      <th>50120530</th>\n",
       "      <th>50120531</th>\n",
       "    </tr>\n",
       "  </thead>\n",
       "  <tbody>\n",
       "    <tr>\n",
       "      <th>store_nbr</th>\n",
       "      <td>52</td>\n",
       "      <td>52</td>\n",
       "      <td>52</td>\n",
       "      <td>52</td>\n",
       "      <td>52</td>\n",
       "    </tr>\n",
       "    <tr>\n",
       "      <th>item_nbr</th>\n",
       "      <td>2011451</td>\n",
       "      <td>2011451</td>\n",
       "      <td>2011451</td>\n",
       "      <td>2011451</td>\n",
       "      <td>2011451</td>\n",
       "    </tr>\n",
       "    <tr>\n",
       "      <th>date</th>\n",
       "      <td>2017-08-11 00:00:00</td>\n",
       "      <td>2017-08-12 00:00:00</td>\n",
       "      <td>2017-08-13 00:00:00</td>\n",
       "      <td>2017-08-14 00:00:00</td>\n",
       "      <td>2017-08-15 00:00:00</td>\n",
       "    </tr>\n",
       "    <tr>\n",
       "      <th>id</th>\n",
       "      <td>NaN</td>\n",
       "      <td>NaN</td>\n",
       "      <td>NaN</td>\n",
       "      <td>NaN</td>\n",
       "      <td>NaN</td>\n",
       "    </tr>\n",
       "    <tr>\n",
       "      <th>unit_sales</th>\n",
       "      <td>0.00</td>\n",
       "      <td>0.00</td>\n",
       "      <td>0.00</td>\n",
       "      <td>0.00</td>\n",
       "      <td>0.00</td>\n",
       "    </tr>\n",
       "    <tr>\n",
       "      <th>onpromotion</th>\n",
       "      <td>False</td>\n",
       "      <td>False</td>\n",
       "      <td>False</td>\n",
       "      <td>False</td>\n",
       "      <td>False</td>\n",
       "    </tr>\n",
       "    <tr>\n",
       "      <th>holiday_type</th>\n",
       "      <td>Transfer</td>\n",
       "      <td>Work Day</td>\n",
       "      <td>Work Day</td>\n",
       "      <td>Work Day</td>\n",
       "      <td>Holiday</td>\n",
       "    </tr>\n",
       "    <tr>\n",
       "      <th>holiday_locale</th>\n",
       "      <td>National</td>\n",
       "      <td>None</td>\n",
       "      <td>None</td>\n",
       "      <td>None</td>\n",
       "      <td>Local</td>\n",
       "    </tr>\n",
       "    <tr>\n",
       "      <th>holiday_locale_name</th>\n",
       "      <td>Ecuador</td>\n",
       "      <td>None</td>\n",
       "      <td>None</td>\n",
       "      <td>None</td>\n",
       "      <td>Riobamba</td>\n",
       "    </tr>\n",
       "    <tr>\n",
       "      <th>holiday_description</th>\n",
       "      <td>Traslado Primer Grito de Independencia</td>\n",
       "      <td>None</td>\n",
       "      <td>None</td>\n",
       "      <td>None</td>\n",
       "      <td>Fundacion de Riobamba</td>\n",
       "    </tr>\n",
       "    <tr>\n",
       "      <th>holiday_transferred</th>\n",
       "      <td>False</td>\n",
       "      <td>None</td>\n",
       "      <td>None</td>\n",
       "      <td>None</td>\n",
       "      <td>False</td>\n",
       "    </tr>\n",
       "    <tr>\n",
       "      <th>city</th>\n",
       "      <td>Manta</td>\n",
       "      <td>Manta</td>\n",
       "      <td>Manta</td>\n",
       "      <td>Manta</td>\n",
       "      <td>Manta</td>\n",
       "    </tr>\n",
       "    <tr>\n",
       "      <th>state</th>\n",
       "      <td>Manabi</td>\n",
       "      <td>Manabi</td>\n",
       "      <td>Manabi</td>\n",
       "      <td>Manabi</td>\n",
       "      <td>Manabi</td>\n",
       "    </tr>\n",
       "    <tr>\n",
       "      <th>store_type</th>\n",
       "      <td>A</td>\n",
       "      <td>A</td>\n",
       "      <td>A</td>\n",
       "      <td>A</td>\n",
       "      <td>A</td>\n",
       "    </tr>\n",
       "    <tr>\n",
       "      <th>cluster</th>\n",
       "      <td>11</td>\n",
       "      <td>11</td>\n",
       "      <td>11</td>\n",
       "      <td>11</td>\n",
       "      <td>11</td>\n",
       "    </tr>\n",
       "    <tr>\n",
       "      <th>family</th>\n",
       "      <td>GROCERY I</td>\n",
       "      <td>GROCERY I</td>\n",
       "      <td>GROCERY I</td>\n",
       "      <td>GROCERY I</td>\n",
       "      <td>GROCERY I</td>\n",
       "    </tr>\n",
       "    <tr>\n",
       "      <th>class</th>\n",
       "      <td>1063</td>\n",
       "      <td>1063</td>\n",
       "      <td>1063</td>\n",
       "      <td>1063</td>\n",
       "      <td>1063</td>\n",
       "    </tr>\n",
       "    <tr>\n",
       "      <th>perishable</th>\n",
       "      <td>False</td>\n",
       "      <td>False</td>\n",
       "      <td>False</td>\n",
       "      <td>False</td>\n",
       "      <td>False</td>\n",
       "    </tr>\n",
       "    <tr>\n",
       "      <th>dcoilwtico</th>\n",
       "      <td>48.81</td>\n",
       "      <td>NaN</td>\n",
       "      <td>NaN</td>\n",
       "      <td>47.59</td>\n",
       "      <td>47.56</td>\n",
       "    </tr>\n",
       "  </tbody>\n",
       "</table>\n",
       "</div>"
      ],
      "text/plain": [
       "                                                   50120527  \\\n",
       "store_nbr                                                52   \n",
       "item_nbr                                            2011451   \n",
       "date                                    2017-08-11 00:00:00   \n",
       "id                                                      NaN   \n",
       "unit_sales                                             0.00   \n",
       "onpromotion                                           False   \n",
       "holiday_type                                       Transfer   \n",
       "holiday_locale                                     National   \n",
       "holiday_locale_name                                 Ecuador   \n",
       "holiday_description  Traslado Primer Grito de Independencia   \n",
       "holiday_transferred                                   False   \n",
       "city                                                  Manta   \n",
       "state                                                Manabi   \n",
       "store_type                                                A   \n",
       "cluster                                                  11   \n",
       "family                                            GROCERY I   \n",
       "class                                                  1063   \n",
       "perishable                                            False   \n",
       "dcoilwtico                                            48.81   \n",
       "\n",
       "                                50120528             50120529  \\\n",
       "store_nbr                             52                   52   \n",
       "item_nbr                         2011451              2011451   \n",
       "date                 2017-08-12 00:00:00  2017-08-13 00:00:00   \n",
       "id                                   NaN                  NaN   \n",
       "unit_sales                          0.00                 0.00   \n",
       "onpromotion                        False                False   \n",
       "holiday_type                    Work Day             Work Day   \n",
       "holiday_locale                      None                 None   \n",
       "holiday_locale_name                 None                 None   \n",
       "holiday_description                 None                 None   \n",
       "holiday_transferred                 None                 None   \n",
       "city                               Manta                Manta   \n",
       "state                             Manabi               Manabi   \n",
       "store_type                             A                    A   \n",
       "cluster                               11                   11   \n",
       "family                         GROCERY I            GROCERY I   \n",
       "class                               1063                 1063   \n",
       "perishable                         False                False   \n",
       "dcoilwtico                           NaN                  NaN   \n",
       "\n",
       "                                50120530               50120531  \n",
       "store_nbr                             52                     52  \n",
       "item_nbr                         2011451                2011451  \n",
       "date                 2017-08-14 00:00:00    2017-08-15 00:00:00  \n",
       "id                                   NaN                    NaN  \n",
       "unit_sales                          0.00                   0.00  \n",
       "onpromotion                        False                  False  \n",
       "holiday_type                    Work Day                Holiday  \n",
       "holiday_locale                      None                  Local  \n",
       "holiday_locale_name                 None               Riobamba  \n",
       "holiday_description                 None  Fundacion de Riobamba  \n",
       "holiday_transferred                 None                  False  \n",
       "city                               Manta                  Manta  \n",
       "state                             Manabi                 Manabi  \n",
       "store_type                             A                      A  \n",
       "cluster                               11                     11  \n",
       "family                         GROCERY I              GROCERY I  \n",
       "class                               1063                   1063  \n",
       "perishable                         False                  False  \n",
       "dcoilwtico                         47.59                  47.56  "
      ]
     },
     "metadata": {},
     "output_type": "display_data"
    }
   ],
   "source": [
    "display_all(train.tail().T)"
   ]
  },
  {
   "cell_type": "code",
   "execution_count": 77,
   "metadata": {},
   "outputs": [
    {
     "data": {
      "text/plain": [
       "16489872"
      ]
     },
     "execution_count": 77,
     "metadata": {},
     "output_type": "execute_result"
    }
   ],
   "source": [
    "len(train[train.dcoilwtico.isnull()])"
   ]
  },
  {
   "cell_type": "markdown",
   "metadata": {},
   "source": [
    "Try to fill NAs in some sensible way (could be improved)"
   ]
  },
  {
   "cell_type": "code",
   "execution_count": 78,
   "metadata": {},
   "outputs": [],
   "source": [
    "train.dcoilwtico = train.groupby(['store_nbr', 'item_nbr'])['dcoilwtico'].transform(lambda group: group.interpolate(limit_direction = 'both'))"
   ]
  },
  {
   "cell_type": "code",
   "execution_count": 79,
   "metadata": {},
   "outputs": [
    {
     "data": {
      "text/plain": [
       "0"
      ]
     },
     "execution_count": 79,
     "metadata": {},
     "output_type": "execute_result"
    }
   ],
   "source": [
    "len(train[train.dcoilwtico.isnull()])"
   ]
  },
  {
   "cell_type": "code",
   "execution_count": 80,
   "metadata": {},
   "outputs": [],
   "source": [
    "train['dcoilwtico']=train['dcoilwtico'].astype(np.int8)"
   ]
  },
  {
   "cell_type": "code",
   "execution_count": 81,
   "metadata": {},
   "outputs": [
    {
     "name": "stdout",
     "output_type": "stream",
     "text": [
      "CPU times: user 1.55 s, sys: 196 ms, total: 1.74 s\n",
      "Wall time: 1.74 s\n"
     ]
    }
   ],
   "source": [
    "%time test = join_df(test, oil, 'date')"
   ]
  },
  {
   "cell_type": "code",
   "execution_count": 82,
   "metadata": {},
   "outputs": [
    {
     "data": {
      "text/plain": [
       "842616"
      ]
     },
     "execution_count": 82,
     "metadata": {},
     "output_type": "execute_result"
    }
   ],
   "source": [
    "len(test[test.dcoilwtico.isnull()])"
   ]
  },
  {
   "cell_type": "code",
   "execution_count": 83,
   "metadata": {},
   "outputs": [],
   "source": [
    "test.dcoilwtico = test.groupby(['store_nbr', 'item_nbr'])['dcoilwtico'].transform(lambda group: group.interpolate(limit_direction = 'both'))"
   ]
  },
  {
   "cell_type": "code",
   "execution_count": 84,
   "metadata": {},
   "outputs": [],
   "source": [
    "test['dcoilwtico']=test['dcoilwtico'].astype(np.int8)"
   ]
  },
  {
   "cell_type": "code",
   "execution_count": 85,
   "metadata": {},
   "outputs": [
    {
     "data": {
      "text/plain": [
       "0"
      ]
     },
     "execution_count": 85,
     "metadata": {},
     "output_type": "execute_result"
    }
   ],
   "source": [
    "len(test[test.dcoilwtico.isnull()])"
   ]
  },
  {
   "cell_type": "code",
   "execution_count": 86,
   "metadata": {
    "scrolled": true
   },
   "outputs": [
    {
     "name": "stdout",
     "output_type": "stream",
     "text": [
      "CPU times: user 17.6 s, sys: 6.58 s, total: 24.2 s\n",
      "Wall time: 1min 3s\n"
     ]
    }
   ],
   "source": [
    "%%time\n",
    "train.to_feather(f'{PATH}data/grocery_train')\n",
    "test.to_feather(f'{PATH}data/grocery_test')"
   ]
  },
  {
   "cell_type": "code",
   "execution_count": 87,
   "metadata": {},
   "outputs": [
    {
     "name": "stderr",
     "output_type": "stream",
     "text": [
      "/home/ubuntu/anaconda3/envs/fastai/lib/python3.6/site-packages/pandas/io/feather_format.py:112: FutureWarning: `nthreads` argument is deprecated, pass `use_threads` instead\n",
      "  return feather.read_dataframe(path, nthreads=nthreads)\n"
     ]
    },
    {
     "name": "stdout",
     "output_type": "stream",
     "text": [
      "CPU times: user 18.7 s, sys: 7.8 s, total: 26.5 s\n",
      "Wall time: 26.5 s\n"
     ]
    }
   ],
   "source": [
    "%%time\n",
    "train = pd.read_feather(f'{PATH}data/grocery_train')\n",
    "test = pd.read_feather(f'{PATH}data/grocery_test')"
   ]
  },
  {
   "cell_type": "markdown",
   "metadata": {},
   "source": [
    "### 3.6 Evaluation Function"
   ]
  },
  {
   "cell_type": "markdown",
   "metadata": {},
   "source": [
    "https://www.kaggle.com/c/favorita-grocery-sales-forecasting#evaluation\n",
    "\n",
    "Submissions are evaluated on the Normalized Weighted Root Mean Squared Logarithmic Error (NWRMSLE), calculated as follows:\n",
    "\n",
    "$$NWRMSLE = \\sqrt{ \\frac{\\sum_{i=1}^n w_i \\left( \\ln(\\hat{y}_i + 1) - \\ln(y_i +1)  \\right)^2  }{\\sum_{i=1}^n w_i}}$$\n",
    "\n",
    "where for row i, $\\hat{y}_i$ is the predicted ```unit_sales``` of an item and $y_i$ is the actual ```unit_sales```; ```n``` is the total number of rows in the test set.\n",
    "\n",
    "The weights, $w_i$, can be found in the ```items.csv``` file. Perishable items are given a weight of 1.25 where all other items are given a weight of 1.00."
   ]
  },
  {
   "cell_type": "code",
   "execution_count": 88,
   "metadata": {},
   "outputs": [
    {
     "data": {
      "text/plain": [
       "0   1.00\n",
       "1   0.00\n",
       "2   2.00\n",
       "3   4.00\n",
       "4   2.00\n",
       "Name: unit_sales, dtype: float32"
      ]
     },
     "execution_count": 88,
     "metadata": {},
     "output_type": "execute_result"
    }
   ],
   "source": [
    "train.unit_sales[:5]"
   ]
  },
  {
   "cell_type": "code",
   "execution_count": 89,
   "metadata": {},
   "outputs": [],
   "source": [
    "# Log-transform\n",
    "# Negative values of unit_sales represent returns of that particular item\n",
    "# for the prediction, a return means the same as zero_sales - so convert to 0   \n",
    "train.unit_sales = np.log1p(np.clip(train.unit_sales, 0, None))"
   ]
  },
  {
   "cell_type": "code",
   "execution_count": 90,
   "metadata": {
    "scrolled": true
   },
   "outputs": [
    {
     "data": {
      "text/plain": [
       "0   0.69\n",
       "1   0.00\n",
       "2   1.10\n",
       "3   1.61\n",
       "4   1.10\n",
       "Name: unit_sales, dtype: float32"
      ]
     },
     "execution_count": 90,
     "metadata": {},
     "output_type": "execute_result"
    }
   ],
   "source": [
    "train.unit_sales[:5]"
   ]
  },
  {
   "cell_type": "markdown",
   "metadata": {},
   "source": [
    "Consider following from LeeKate (https://www.kaggle.com/deeplake/favorita-grocery-data-analysis-model-test)  \n",
    "test.csv has only values for the period 2017.08.16 ~ 2017.08.20 \n",
    "hence pick only August data from train.csv, to improve prediction when concerning the seasoning impact etc."
   ]
  },
  {
   "cell_type": "code",
   "execution_count": null,
   "metadata": {},
   "outputs": [],
   "source": [
    "# train = input['train'][(input['train']['date'].dt.month == 8) & (input['train']['date'].dt.day > 15)]"
   ]
  },
  {
   "cell_type": "code",
   "execution_count": 91,
   "metadata": {
    "scrolled": true
   },
   "outputs": [
    {
     "data": {
      "text/html": [
       "<div>\n",
       "<style scoped>\n",
       "    .dataframe tbody tr th:only-of-type {\n",
       "        vertical-align: middle;\n",
       "    }\n",
       "\n",
       "    .dataframe tbody tr th {\n",
       "        vertical-align: top;\n",
       "    }\n",
       "\n",
       "    .dataframe thead th {\n",
       "        text-align: right;\n",
       "    }\n",
       "</style>\n",
       "<table border=\"1\" class=\"dataframe\">\n",
       "  <thead>\n",
       "    <tr style=\"text-align: right;\">\n",
       "      <th></th>\n",
       "      <th>50120527</th>\n",
       "      <th>50120528</th>\n",
       "      <th>50120529</th>\n",
       "      <th>50120530</th>\n",
       "      <th>50120531</th>\n",
       "    </tr>\n",
       "  </thead>\n",
       "  <tbody>\n",
       "    <tr>\n",
       "      <th>store_nbr</th>\n",
       "      <td>52</td>\n",
       "      <td>52</td>\n",
       "      <td>52</td>\n",
       "      <td>52</td>\n",
       "      <td>52</td>\n",
       "    </tr>\n",
       "    <tr>\n",
       "      <th>item_nbr</th>\n",
       "      <td>2011451</td>\n",
       "      <td>2011451</td>\n",
       "      <td>2011451</td>\n",
       "      <td>2011451</td>\n",
       "      <td>2011451</td>\n",
       "    </tr>\n",
       "    <tr>\n",
       "      <th>date</th>\n",
       "      <td>2017-08-11 00:00:00</td>\n",
       "      <td>2017-08-12 00:00:00</td>\n",
       "      <td>2017-08-13 00:00:00</td>\n",
       "      <td>2017-08-14 00:00:00</td>\n",
       "      <td>2017-08-15 00:00:00</td>\n",
       "    </tr>\n",
       "    <tr>\n",
       "      <th>id</th>\n",
       "      <td>NaN</td>\n",
       "      <td>NaN</td>\n",
       "      <td>NaN</td>\n",
       "      <td>NaN</td>\n",
       "      <td>NaN</td>\n",
       "    </tr>\n",
       "    <tr>\n",
       "      <th>unit_sales</th>\n",
       "      <td>0.00</td>\n",
       "      <td>0.00</td>\n",
       "      <td>0.00</td>\n",
       "      <td>0.00</td>\n",
       "      <td>0.00</td>\n",
       "    </tr>\n",
       "    <tr>\n",
       "      <th>onpromotion</th>\n",
       "      <td>False</td>\n",
       "      <td>False</td>\n",
       "      <td>False</td>\n",
       "      <td>False</td>\n",
       "      <td>False</td>\n",
       "    </tr>\n",
       "    <tr>\n",
       "      <th>holiday_type</th>\n",
       "      <td>Transfer</td>\n",
       "      <td>Work Day</td>\n",
       "      <td>Work Day</td>\n",
       "      <td>Work Day</td>\n",
       "      <td>Holiday</td>\n",
       "    </tr>\n",
       "    <tr>\n",
       "      <th>holiday_locale</th>\n",
       "      <td>National</td>\n",
       "      <td>None</td>\n",
       "      <td>None</td>\n",
       "      <td>None</td>\n",
       "      <td>Local</td>\n",
       "    </tr>\n",
       "    <tr>\n",
       "      <th>holiday_locale_name</th>\n",
       "      <td>Ecuador</td>\n",
       "      <td>None</td>\n",
       "      <td>None</td>\n",
       "      <td>None</td>\n",
       "      <td>Riobamba</td>\n",
       "    </tr>\n",
       "    <tr>\n",
       "      <th>holiday_description</th>\n",
       "      <td>Traslado Primer Grito de Independencia</td>\n",
       "      <td>None</td>\n",
       "      <td>None</td>\n",
       "      <td>None</td>\n",
       "      <td>Fundacion de Riobamba</td>\n",
       "    </tr>\n",
       "    <tr>\n",
       "      <th>holiday_transferred</th>\n",
       "      <td>False</td>\n",
       "      <td>None</td>\n",
       "      <td>None</td>\n",
       "      <td>None</td>\n",
       "      <td>False</td>\n",
       "    </tr>\n",
       "    <tr>\n",
       "      <th>city</th>\n",
       "      <td>Manta</td>\n",
       "      <td>Manta</td>\n",
       "      <td>Manta</td>\n",
       "      <td>Manta</td>\n",
       "      <td>Manta</td>\n",
       "    </tr>\n",
       "    <tr>\n",
       "      <th>state</th>\n",
       "      <td>Manabi</td>\n",
       "      <td>Manabi</td>\n",
       "      <td>Manabi</td>\n",
       "      <td>Manabi</td>\n",
       "      <td>Manabi</td>\n",
       "    </tr>\n",
       "    <tr>\n",
       "      <th>store_type</th>\n",
       "      <td>A</td>\n",
       "      <td>A</td>\n",
       "      <td>A</td>\n",
       "      <td>A</td>\n",
       "      <td>A</td>\n",
       "    </tr>\n",
       "    <tr>\n",
       "      <th>cluster</th>\n",
       "      <td>11</td>\n",
       "      <td>11</td>\n",
       "      <td>11</td>\n",
       "      <td>11</td>\n",
       "      <td>11</td>\n",
       "    </tr>\n",
       "    <tr>\n",
       "      <th>family</th>\n",
       "      <td>GROCERY I</td>\n",
       "      <td>GROCERY I</td>\n",
       "      <td>GROCERY I</td>\n",
       "      <td>GROCERY I</td>\n",
       "      <td>GROCERY I</td>\n",
       "    </tr>\n",
       "    <tr>\n",
       "      <th>class</th>\n",
       "      <td>1063</td>\n",
       "      <td>1063</td>\n",
       "      <td>1063</td>\n",
       "      <td>1063</td>\n",
       "      <td>1063</td>\n",
       "    </tr>\n",
       "    <tr>\n",
       "      <th>perishable</th>\n",
       "      <td>False</td>\n",
       "      <td>False</td>\n",
       "      <td>False</td>\n",
       "      <td>False</td>\n",
       "      <td>False</td>\n",
       "    </tr>\n",
       "    <tr>\n",
       "      <th>dcoilwtico</th>\n",
       "      <td>48</td>\n",
       "      <td>48</td>\n",
       "      <td>48</td>\n",
       "      <td>47</td>\n",
       "      <td>47</td>\n",
       "    </tr>\n",
       "  </tbody>\n",
       "</table>\n",
       "</div>"
      ],
      "text/plain": [
       "                                                   50120527  \\\n",
       "store_nbr                                                52   \n",
       "item_nbr                                            2011451   \n",
       "date                                    2017-08-11 00:00:00   \n",
       "id                                                      NaN   \n",
       "unit_sales                                             0.00   \n",
       "onpromotion                                           False   \n",
       "holiday_type                                       Transfer   \n",
       "holiday_locale                                     National   \n",
       "holiday_locale_name                                 Ecuador   \n",
       "holiday_description  Traslado Primer Grito de Independencia   \n",
       "holiday_transferred                                   False   \n",
       "city                                                  Manta   \n",
       "state                                                Manabi   \n",
       "store_type                                                A   \n",
       "cluster                                                  11   \n",
       "family                                            GROCERY I   \n",
       "class                                                  1063   \n",
       "perishable                                            False   \n",
       "dcoilwtico                                               48   \n",
       "\n",
       "                                50120528             50120529  \\\n",
       "store_nbr                             52                   52   \n",
       "item_nbr                         2011451              2011451   \n",
       "date                 2017-08-12 00:00:00  2017-08-13 00:00:00   \n",
       "id                                   NaN                  NaN   \n",
       "unit_sales                          0.00                 0.00   \n",
       "onpromotion                        False                False   \n",
       "holiday_type                    Work Day             Work Day   \n",
       "holiday_locale                      None                 None   \n",
       "holiday_locale_name                 None                 None   \n",
       "holiday_description                 None                 None   \n",
       "holiday_transferred                 None                 None   \n",
       "city                               Manta                Manta   \n",
       "state                             Manabi               Manabi   \n",
       "store_type                             A                    A   \n",
       "cluster                               11                   11   \n",
       "family                         GROCERY I            GROCERY I   \n",
       "class                               1063                 1063   \n",
       "perishable                         False                False   \n",
       "dcoilwtico                            48                   48   \n",
       "\n",
       "                                50120530               50120531  \n",
       "store_nbr                             52                     52  \n",
       "item_nbr                         2011451                2011451  \n",
       "date                 2017-08-14 00:00:00    2017-08-15 00:00:00  \n",
       "id                                   NaN                    NaN  \n",
       "unit_sales                          0.00                   0.00  \n",
       "onpromotion                        False                  False  \n",
       "holiday_type                    Work Day                Holiday  \n",
       "holiday_locale                      None                  Local  \n",
       "holiday_locale_name                 None               Riobamba  \n",
       "holiday_description                 None  Fundacion de Riobamba  \n",
       "holiday_transferred                 None                  False  \n",
       "city                               Manta                  Manta  \n",
       "state                             Manabi                 Manabi  \n",
       "store_type                             A                      A  \n",
       "cluster                               11                     11  \n",
       "family                         GROCERY I              GROCERY I  \n",
       "class                               1063                   1063  \n",
       "perishable                         False                  False  \n",
       "dcoilwtico                            47                     47  "
      ]
     },
     "metadata": {},
     "output_type": "display_data"
    }
   ],
   "source": [
    "display_all(train.tail().T)"
   ]
  },
  {
   "cell_type": "code",
   "execution_count": 92,
   "metadata": {
    "scrolled": true
   },
   "outputs": [
    {
     "name": "stdout",
     "output_type": "stream",
     "text": [
      "CPU times: user 17.7 s, sys: 6.64 s, total: 24.4 s\n",
      "Wall time: 1min 3s\n"
     ]
    }
   ],
   "source": [
    "%%time\n",
    "train.to_feather(f'{PATH}data/grocery_train')\n",
    "test.to_feather(f'{PATH}data/grocery_test')"
   ]
  },
  {
   "cell_type": "code",
   "execution_count": 93,
   "metadata": {},
   "outputs": [
    {
     "name": "stderr",
     "output_type": "stream",
     "text": [
      "/home/ubuntu/anaconda3/envs/fastai/lib/python3.6/site-packages/pandas/io/feather_format.py:112: FutureWarning: `nthreads` argument is deprecated, pass `use_threads` instead\n",
      "  return feather.read_dataframe(path, nthreads=nthreads)\n"
     ]
    },
    {
     "name": "stdout",
     "output_type": "stream",
     "text": [
      "CPU times: user 19.2 s, sys: 8.12 s, total: 27.3 s\n",
      "Wall time: 27.3 s\n"
     ]
    }
   ],
   "source": [
    "%%time\n",
    "train = pd.read_feather(f'{PATH}data/grocery_train')\n",
    "test = pd.read_feather(f'{PATH}data/grocery_test')"
   ]
  },
  {
   "cell_type": "markdown",
   "metadata": {},
   "source": [
    "## 4. Feature Engineering"
   ]
  },
  {
   "cell_type": "markdown",
   "metadata": {},
   "source": [
    "### 4.1 Prepare for Elapsed"
   ]
  },
  {
   "cell_type": "code",
   "execution_count": 94,
   "metadata": {},
   "outputs": [],
   "source": [
    "def create_one_hot_columns(df, column_name):\n",
    "    pre = df[column_name].name\n",
    "    for aType in df[column_name].unique():\n",
    "        df[pre+'_'+aType] = df[column_name]==aType"
   ]
  },
  {
   "cell_type": "code",
   "execution_count": 95,
   "metadata": {},
   "outputs": [
    {
     "data": {
      "text/plain": [
       "array(['Holiday', 'Transfer', 'Work Day', 'Additional', 'Event'], dtype=object)"
      ]
     },
     "execution_count": 95,
     "metadata": {},
     "output_type": "execute_result"
    }
   ],
   "source": [
    "train.holiday_type.unique()"
   ]
  },
  {
   "cell_type": "code",
   "execution_count": 96,
   "metadata": {},
   "outputs": [
    {
     "name": "stdout",
     "output_type": "stream",
     "text": [
      "CPU times: user 19.2 s, sys: 188 ms, total: 19.4 s\n",
      "Wall time: 19.3 s\n"
     ]
    }
   ],
   "source": [
    "%time create_one_hot_columns(train, 'holiday_type')"
   ]
  },
  {
   "cell_type": "code",
   "execution_count": 97,
   "metadata": {},
   "outputs": [],
   "source": [
    "train.holiday_locale.fillna('Local', inplace=True)"
   ]
  },
  {
   "cell_type": "code",
   "execution_count": 98,
   "metadata": {},
   "outputs": [
    {
     "data": {
      "text/plain": [
       "array(['National', 'Local', 'Regional'], dtype=object)"
      ]
     },
     "execution_count": 98,
     "metadata": {},
     "output_type": "execute_result"
    }
   ],
   "source": [
    "train.holiday_locale.unique()"
   ]
  },
  {
   "cell_type": "code",
   "execution_count": 99,
   "metadata": {},
   "outputs": [
    {
     "name": "stdout",
     "output_type": "stream",
     "text": [
      "CPU times: user 11.4 s, sys: 144 ms, total: 11.5 s\n",
      "Wall time: 11.5 s\n"
     ]
    }
   ],
   "source": [
    "%time create_one_hot_columns(train, 'holiday_locale')"
   ]
  },
  {
   "cell_type": "code",
   "execution_count": 100,
   "metadata": {
    "scrolled": true
   },
   "outputs": [
    {
     "data": {
      "text/html": [
       "<div>\n",
       "<style scoped>\n",
       "    .dataframe tbody tr th:only-of-type {\n",
       "        vertical-align: middle;\n",
       "    }\n",
       "\n",
       "    .dataframe tbody tr th {\n",
       "        vertical-align: top;\n",
       "    }\n",
       "\n",
       "    .dataframe thead th {\n",
       "        text-align: right;\n",
       "    }\n",
       "</style>\n",
       "<table border=\"1\" class=\"dataframe\">\n",
       "  <thead>\n",
       "    <tr style=\"text-align: right;\">\n",
       "      <th></th>\n",
       "      <th>50120527</th>\n",
       "      <th>50120528</th>\n",
       "      <th>50120529</th>\n",
       "      <th>50120530</th>\n",
       "      <th>50120531</th>\n",
       "    </tr>\n",
       "  </thead>\n",
       "  <tbody>\n",
       "    <tr>\n",
       "      <th>store_nbr</th>\n",
       "      <td>52</td>\n",
       "      <td>52</td>\n",
       "      <td>52</td>\n",
       "      <td>52</td>\n",
       "      <td>52</td>\n",
       "    </tr>\n",
       "    <tr>\n",
       "      <th>item_nbr</th>\n",
       "      <td>2011451</td>\n",
       "      <td>2011451</td>\n",
       "      <td>2011451</td>\n",
       "      <td>2011451</td>\n",
       "      <td>2011451</td>\n",
       "    </tr>\n",
       "    <tr>\n",
       "      <th>date</th>\n",
       "      <td>2017-08-11 00:00:00</td>\n",
       "      <td>2017-08-12 00:00:00</td>\n",
       "      <td>2017-08-13 00:00:00</td>\n",
       "      <td>2017-08-14 00:00:00</td>\n",
       "      <td>2017-08-15 00:00:00</td>\n",
       "    </tr>\n",
       "    <tr>\n",
       "      <th>id</th>\n",
       "      <td>NaN</td>\n",
       "      <td>NaN</td>\n",
       "      <td>NaN</td>\n",
       "      <td>NaN</td>\n",
       "      <td>NaN</td>\n",
       "    </tr>\n",
       "    <tr>\n",
       "      <th>unit_sales</th>\n",
       "      <td>0.00</td>\n",
       "      <td>0.00</td>\n",
       "      <td>0.00</td>\n",
       "      <td>0.00</td>\n",
       "      <td>0.00</td>\n",
       "    </tr>\n",
       "    <tr>\n",
       "      <th>onpromotion</th>\n",
       "      <td>False</td>\n",
       "      <td>False</td>\n",
       "      <td>False</td>\n",
       "      <td>False</td>\n",
       "      <td>False</td>\n",
       "    </tr>\n",
       "    <tr>\n",
       "      <th>holiday_type</th>\n",
       "      <td>Transfer</td>\n",
       "      <td>Work Day</td>\n",
       "      <td>Work Day</td>\n",
       "      <td>Work Day</td>\n",
       "      <td>Holiday</td>\n",
       "    </tr>\n",
       "    <tr>\n",
       "      <th>holiday_locale</th>\n",
       "      <td>National</td>\n",
       "      <td>Local</td>\n",
       "      <td>Local</td>\n",
       "      <td>Local</td>\n",
       "      <td>Local</td>\n",
       "    </tr>\n",
       "    <tr>\n",
       "      <th>holiday_locale_name</th>\n",
       "      <td>Ecuador</td>\n",
       "      <td>None</td>\n",
       "      <td>None</td>\n",
       "      <td>None</td>\n",
       "      <td>Riobamba</td>\n",
       "    </tr>\n",
       "    <tr>\n",
       "      <th>holiday_description</th>\n",
       "      <td>Traslado Primer Grito de Independencia</td>\n",
       "      <td>None</td>\n",
       "      <td>None</td>\n",
       "      <td>None</td>\n",
       "      <td>Fundacion de Riobamba</td>\n",
       "    </tr>\n",
       "    <tr>\n",
       "      <th>holiday_transferred</th>\n",
       "      <td>False</td>\n",
       "      <td>None</td>\n",
       "      <td>None</td>\n",
       "      <td>None</td>\n",
       "      <td>False</td>\n",
       "    </tr>\n",
       "    <tr>\n",
       "      <th>city</th>\n",
       "      <td>Manta</td>\n",
       "      <td>Manta</td>\n",
       "      <td>Manta</td>\n",
       "      <td>Manta</td>\n",
       "      <td>Manta</td>\n",
       "    </tr>\n",
       "    <tr>\n",
       "      <th>state</th>\n",
       "      <td>Manabi</td>\n",
       "      <td>Manabi</td>\n",
       "      <td>Manabi</td>\n",
       "      <td>Manabi</td>\n",
       "      <td>Manabi</td>\n",
       "    </tr>\n",
       "    <tr>\n",
       "      <th>store_type</th>\n",
       "      <td>A</td>\n",
       "      <td>A</td>\n",
       "      <td>A</td>\n",
       "      <td>A</td>\n",
       "      <td>A</td>\n",
       "    </tr>\n",
       "    <tr>\n",
       "      <th>cluster</th>\n",
       "      <td>11</td>\n",
       "      <td>11</td>\n",
       "      <td>11</td>\n",
       "      <td>11</td>\n",
       "      <td>11</td>\n",
       "    </tr>\n",
       "    <tr>\n",
       "      <th>family</th>\n",
       "      <td>GROCERY I</td>\n",
       "      <td>GROCERY I</td>\n",
       "      <td>GROCERY I</td>\n",
       "      <td>GROCERY I</td>\n",
       "      <td>GROCERY I</td>\n",
       "    </tr>\n",
       "    <tr>\n",
       "      <th>class</th>\n",
       "      <td>1063</td>\n",
       "      <td>1063</td>\n",
       "      <td>1063</td>\n",
       "      <td>1063</td>\n",
       "      <td>1063</td>\n",
       "    </tr>\n",
       "    <tr>\n",
       "      <th>perishable</th>\n",
       "      <td>False</td>\n",
       "      <td>False</td>\n",
       "      <td>False</td>\n",
       "      <td>False</td>\n",
       "      <td>False</td>\n",
       "    </tr>\n",
       "    <tr>\n",
       "      <th>dcoilwtico</th>\n",
       "      <td>48</td>\n",
       "      <td>48</td>\n",
       "      <td>48</td>\n",
       "      <td>47</td>\n",
       "      <td>47</td>\n",
       "    </tr>\n",
       "    <tr>\n",
       "      <th>holiday_type_Holiday</th>\n",
       "      <td>False</td>\n",
       "      <td>False</td>\n",
       "      <td>False</td>\n",
       "      <td>False</td>\n",
       "      <td>True</td>\n",
       "    </tr>\n",
       "    <tr>\n",
       "      <th>holiday_type_Transfer</th>\n",
       "      <td>True</td>\n",
       "      <td>False</td>\n",
       "      <td>False</td>\n",
       "      <td>False</td>\n",
       "      <td>False</td>\n",
       "    </tr>\n",
       "    <tr>\n",
       "      <th>holiday_type_Work Day</th>\n",
       "      <td>False</td>\n",
       "      <td>True</td>\n",
       "      <td>True</td>\n",
       "      <td>True</td>\n",
       "      <td>False</td>\n",
       "    </tr>\n",
       "    <tr>\n",
       "      <th>holiday_type_Additional</th>\n",
       "      <td>False</td>\n",
       "      <td>False</td>\n",
       "      <td>False</td>\n",
       "      <td>False</td>\n",
       "      <td>False</td>\n",
       "    </tr>\n",
       "    <tr>\n",
       "      <th>holiday_type_Event</th>\n",
       "      <td>False</td>\n",
       "      <td>False</td>\n",
       "      <td>False</td>\n",
       "      <td>False</td>\n",
       "      <td>False</td>\n",
       "    </tr>\n",
       "    <tr>\n",
       "      <th>holiday_locale_National</th>\n",
       "      <td>True</td>\n",
       "      <td>False</td>\n",
       "      <td>False</td>\n",
       "      <td>False</td>\n",
       "      <td>False</td>\n",
       "    </tr>\n",
       "    <tr>\n",
       "      <th>holiday_locale_Local</th>\n",
       "      <td>False</td>\n",
       "      <td>True</td>\n",
       "      <td>True</td>\n",
       "      <td>True</td>\n",
       "      <td>True</td>\n",
       "    </tr>\n",
       "    <tr>\n",
       "      <th>holiday_locale_Regional</th>\n",
       "      <td>False</td>\n",
       "      <td>False</td>\n",
       "      <td>False</td>\n",
       "      <td>False</td>\n",
       "      <td>False</td>\n",
       "    </tr>\n",
       "  </tbody>\n",
       "</table>\n",
       "</div>"
      ],
      "text/plain": [
       "                                                       50120527  \\\n",
       "store_nbr                                                    52   \n",
       "item_nbr                                                2011451   \n",
       "date                                        2017-08-11 00:00:00   \n",
       "id                                                          NaN   \n",
       "unit_sales                                                 0.00   \n",
       "onpromotion                                               False   \n",
       "holiday_type                                           Transfer   \n",
       "holiday_locale                                         National   \n",
       "holiday_locale_name                                     Ecuador   \n",
       "holiday_description      Traslado Primer Grito de Independencia   \n",
       "holiday_transferred                                       False   \n",
       "city                                                      Manta   \n",
       "state                                                    Manabi   \n",
       "store_type                                                    A   \n",
       "cluster                                                      11   \n",
       "family                                                GROCERY I   \n",
       "class                                                      1063   \n",
       "perishable                                                False   \n",
       "dcoilwtico                                                   48   \n",
       "holiday_type_Holiday                                      False   \n",
       "holiday_type_Transfer                                      True   \n",
       "holiday_type_Work Day                                     False   \n",
       "holiday_type_Additional                                   False   \n",
       "holiday_type_Event                                        False   \n",
       "holiday_locale_National                                    True   \n",
       "holiday_locale_Local                                      False   \n",
       "holiday_locale_Regional                                   False   \n",
       "\n",
       "                                    50120528             50120529  \\\n",
       "store_nbr                                 52                   52   \n",
       "item_nbr                             2011451              2011451   \n",
       "date                     2017-08-12 00:00:00  2017-08-13 00:00:00   \n",
       "id                                       NaN                  NaN   \n",
       "unit_sales                              0.00                 0.00   \n",
       "onpromotion                            False                False   \n",
       "holiday_type                        Work Day             Work Day   \n",
       "holiday_locale                         Local                Local   \n",
       "holiday_locale_name                     None                 None   \n",
       "holiday_description                     None                 None   \n",
       "holiday_transferred                     None                 None   \n",
       "city                                   Manta                Manta   \n",
       "state                                 Manabi               Manabi   \n",
       "store_type                                 A                    A   \n",
       "cluster                                   11                   11   \n",
       "family                             GROCERY I            GROCERY I   \n",
       "class                                   1063                 1063   \n",
       "perishable                             False                False   \n",
       "dcoilwtico                                48                   48   \n",
       "holiday_type_Holiday                   False                False   \n",
       "holiday_type_Transfer                  False                False   \n",
       "holiday_type_Work Day                   True                 True   \n",
       "holiday_type_Additional                False                False   \n",
       "holiday_type_Event                     False                False   \n",
       "holiday_locale_National                False                False   \n",
       "holiday_locale_Local                    True                 True   \n",
       "holiday_locale_Regional                False                False   \n",
       "\n",
       "                                    50120530               50120531  \n",
       "store_nbr                                 52                     52  \n",
       "item_nbr                             2011451                2011451  \n",
       "date                     2017-08-14 00:00:00    2017-08-15 00:00:00  \n",
       "id                                       NaN                    NaN  \n",
       "unit_sales                              0.00                   0.00  \n",
       "onpromotion                            False                  False  \n",
       "holiday_type                        Work Day                Holiday  \n",
       "holiday_locale                         Local                  Local  \n",
       "holiday_locale_name                     None               Riobamba  \n",
       "holiday_description                     None  Fundacion de Riobamba  \n",
       "holiday_transferred                     None                  False  \n",
       "city                                   Manta                  Manta  \n",
       "state                                 Manabi                 Manabi  \n",
       "store_type                                 A                      A  \n",
       "cluster                                   11                     11  \n",
       "family                             GROCERY I              GROCERY I  \n",
       "class                                   1063                   1063  \n",
       "perishable                             False                  False  \n",
       "dcoilwtico                                47                     47  \n",
       "holiday_type_Holiday                   False                   True  \n",
       "holiday_type_Transfer                  False                  False  \n",
       "holiday_type_Work Day                   True                  False  \n",
       "holiday_type_Additional                False                  False  \n",
       "holiday_type_Event                     False                  False  \n",
       "holiday_locale_National                False                  False  \n",
       "holiday_locale_Local                    True                   True  \n",
       "holiday_locale_Regional                False                  False  "
      ]
     },
     "metadata": {},
     "output_type": "display_data"
    }
   ],
   "source": [
    "display_all(train.tail().T)"
   ]
  },
  {
   "cell_type": "code",
   "execution_count": 101,
   "metadata": {},
   "outputs": [
    {
     "data": {
      "text/plain": [
       "(4773384, 2603664, 1518804)"
      ]
     },
     "execution_count": 101,
     "metadata": {},
     "output_type": "execute_result"
    }
   ],
   "source": [
    "sum(train.holiday_type_Holiday), sum(train.holiday_locale_National), sum(train.holiday_type_Holiday&train.holiday_locale_National)"
   ]
  },
  {
   "cell_type": "code",
   "execution_count": 102,
   "metadata": {},
   "outputs": [],
   "source": [
    "train['national_holiday']=train.holiday_type_Holiday&train.holiday_locale_National"
   ]
  },
  {
   "cell_type": "code",
   "execution_count": 103,
   "metadata": {},
   "outputs": [
    {
     "data": {
      "text/plain": [
       "80360"
      ]
     },
     "execution_count": 103,
     "metadata": {},
     "output_type": "execute_result"
    }
   ],
   "source": [
    "sum((train.holiday_locale_name==train.city)&train.holiday_type_Holiday&train.holiday_locale_Local)"
   ]
  },
  {
   "cell_type": "code",
   "execution_count": 104,
   "metadata": {},
   "outputs": [],
   "source": [
    "train['local_holiday']=(train.holiday_locale_name==train.city)&train.holiday_type_Holiday&train.holiday_locale_Local"
   ]
  },
  {
   "cell_type": "code",
   "execution_count": 105,
   "metadata": {},
   "outputs": [
    {
     "data": {
      "text/plain": [
       "12054"
      ]
     },
     "execution_count": 105,
     "metadata": {},
     "output_type": "execute_result"
    }
   ],
   "source": [
    "sum((train.holiday_locale_name==train.state)&train.holiday_type_Holiday&train.holiday_locale_Regional)"
   ]
  },
  {
   "cell_type": "code",
   "execution_count": 106,
   "metadata": {},
   "outputs": [],
   "source": [
    "train['regional_holiday']=(train.holiday_locale_name==train.state)&train.holiday_type_Holiday&train.holiday_locale_Regional"
   ]
  },
  {
   "cell_type": "code",
   "execution_count": 107,
   "metadata": {},
   "outputs": [
    {
     "data": {
      "text/plain": [
       "12054"
      ]
     },
     "execution_count": 107,
     "metadata": {},
     "output_type": "execute_result"
    }
   ],
   "source": [
    "sum(train['regional_holiday'])"
   ]
  },
  {
   "cell_type": "code",
   "execution_count": 108,
   "metadata": {},
   "outputs": [],
   "source": [
    "train.drop(['holiday_type_Work Day', 'holiday_type_Holiday'], axis=1, inplace=True)"
   ]
  },
  {
   "cell_type": "code",
   "execution_count": 109,
   "metadata": {},
   "outputs": [],
   "source": [
    "train.drop(['holiday_locale_National', 'holiday_locale_Local', 'holiday_locale_Regional'], axis=1, inplace=True)"
   ]
  },
  {
   "cell_type": "code",
   "execution_count": 110,
   "metadata": {
    "scrolled": true
   },
   "outputs": [
    {
     "data": {
      "text/html": [
       "<div>\n",
       "<style scoped>\n",
       "    .dataframe tbody tr th:only-of-type {\n",
       "        vertical-align: middle;\n",
       "    }\n",
       "\n",
       "    .dataframe tbody tr th {\n",
       "        vertical-align: top;\n",
       "    }\n",
       "\n",
       "    .dataframe thead th {\n",
       "        text-align: right;\n",
       "    }\n",
       "</style>\n",
       "<table border=\"1\" class=\"dataframe\">\n",
       "  <thead>\n",
       "    <tr style=\"text-align: right;\">\n",
       "      <th></th>\n",
       "      <th>50120527</th>\n",
       "      <th>50120528</th>\n",
       "      <th>50120529</th>\n",
       "      <th>50120530</th>\n",
       "      <th>50120531</th>\n",
       "    </tr>\n",
       "  </thead>\n",
       "  <tbody>\n",
       "    <tr>\n",
       "      <th>store_nbr</th>\n",
       "      <td>52</td>\n",
       "      <td>52</td>\n",
       "      <td>52</td>\n",
       "      <td>52</td>\n",
       "      <td>52</td>\n",
       "    </tr>\n",
       "    <tr>\n",
       "      <th>item_nbr</th>\n",
       "      <td>2011451</td>\n",
       "      <td>2011451</td>\n",
       "      <td>2011451</td>\n",
       "      <td>2011451</td>\n",
       "      <td>2011451</td>\n",
       "    </tr>\n",
       "    <tr>\n",
       "      <th>date</th>\n",
       "      <td>2017-08-11 00:00:00</td>\n",
       "      <td>2017-08-12 00:00:00</td>\n",
       "      <td>2017-08-13 00:00:00</td>\n",
       "      <td>2017-08-14 00:00:00</td>\n",
       "      <td>2017-08-15 00:00:00</td>\n",
       "    </tr>\n",
       "    <tr>\n",
       "      <th>id</th>\n",
       "      <td>NaN</td>\n",
       "      <td>NaN</td>\n",
       "      <td>NaN</td>\n",
       "      <td>NaN</td>\n",
       "      <td>NaN</td>\n",
       "    </tr>\n",
       "    <tr>\n",
       "      <th>unit_sales</th>\n",
       "      <td>0.00</td>\n",
       "      <td>0.00</td>\n",
       "      <td>0.00</td>\n",
       "      <td>0.00</td>\n",
       "      <td>0.00</td>\n",
       "    </tr>\n",
       "    <tr>\n",
       "      <th>onpromotion</th>\n",
       "      <td>False</td>\n",
       "      <td>False</td>\n",
       "      <td>False</td>\n",
       "      <td>False</td>\n",
       "      <td>False</td>\n",
       "    </tr>\n",
       "    <tr>\n",
       "      <th>holiday_type</th>\n",
       "      <td>Transfer</td>\n",
       "      <td>Work Day</td>\n",
       "      <td>Work Day</td>\n",
       "      <td>Work Day</td>\n",
       "      <td>Holiday</td>\n",
       "    </tr>\n",
       "    <tr>\n",
       "      <th>holiday_locale</th>\n",
       "      <td>National</td>\n",
       "      <td>Local</td>\n",
       "      <td>Local</td>\n",
       "      <td>Local</td>\n",
       "      <td>Local</td>\n",
       "    </tr>\n",
       "    <tr>\n",
       "      <th>holiday_locale_name</th>\n",
       "      <td>Ecuador</td>\n",
       "      <td>None</td>\n",
       "      <td>None</td>\n",
       "      <td>None</td>\n",
       "      <td>Riobamba</td>\n",
       "    </tr>\n",
       "    <tr>\n",
       "      <th>holiday_description</th>\n",
       "      <td>Traslado Primer Grito de Independencia</td>\n",
       "      <td>None</td>\n",
       "      <td>None</td>\n",
       "      <td>None</td>\n",
       "      <td>Fundacion de Riobamba</td>\n",
       "    </tr>\n",
       "    <tr>\n",
       "      <th>holiday_transferred</th>\n",
       "      <td>False</td>\n",
       "      <td>None</td>\n",
       "      <td>None</td>\n",
       "      <td>None</td>\n",
       "      <td>False</td>\n",
       "    </tr>\n",
       "    <tr>\n",
       "      <th>city</th>\n",
       "      <td>Manta</td>\n",
       "      <td>Manta</td>\n",
       "      <td>Manta</td>\n",
       "      <td>Manta</td>\n",
       "      <td>Manta</td>\n",
       "    </tr>\n",
       "    <tr>\n",
       "      <th>state</th>\n",
       "      <td>Manabi</td>\n",
       "      <td>Manabi</td>\n",
       "      <td>Manabi</td>\n",
       "      <td>Manabi</td>\n",
       "      <td>Manabi</td>\n",
       "    </tr>\n",
       "    <tr>\n",
       "      <th>store_type</th>\n",
       "      <td>A</td>\n",
       "      <td>A</td>\n",
       "      <td>A</td>\n",
       "      <td>A</td>\n",
       "      <td>A</td>\n",
       "    </tr>\n",
       "    <tr>\n",
       "      <th>cluster</th>\n",
       "      <td>11</td>\n",
       "      <td>11</td>\n",
       "      <td>11</td>\n",
       "      <td>11</td>\n",
       "      <td>11</td>\n",
       "    </tr>\n",
       "    <tr>\n",
       "      <th>family</th>\n",
       "      <td>GROCERY I</td>\n",
       "      <td>GROCERY I</td>\n",
       "      <td>GROCERY I</td>\n",
       "      <td>GROCERY I</td>\n",
       "      <td>GROCERY I</td>\n",
       "    </tr>\n",
       "    <tr>\n",
       "      <th>class</th>\n",
       "      <td>1063</td>\n",
       "      <td>1063</td>\n",
       "      <td>1063</td>\n",
       "      <td>1063</td>\n",
       "      <td>1063</td>\n",
       "    </tr>\n",
       "    <tr>\n",
       "      <th>perishable</th>\n",
       "      <td>False</td>\n",
       "      <td>False</td>\n",
       "      <td>False</td>\n",
       "      <td>False</td>\n",
       "      <td>False</td>\n",
       "    </tr>\n",
       "    <tr>\n",
       "      <th>dcoilwtico</th>\n",
       "      <td>48</td>\n",
       "      <td>48</td>\n",
       "      <td>48</td>\n",
       "      <td>47</td>\n",
       "      <td>47</td>\n",
       "    </tr>\n",
       "    <tr>\n",
       "      <th>holiday_type_Transfer</th>\n",
       "      <td>True</td>\n",
       "      <td>False</td>\n",
       "      <td>False</td>\n",
       "      <td>False</td>\n",
       "      <td>False</td>\n",
       "    </tr>\n",
       "    <tr>\n",
       "      <th>holiday_type_Additional</th>\n",
       "      <td>False</td>\n",
       "      <td>False</td>\n",
       "      <td>False</td>\n",
       "      <td>False</td>\n",
       "      <td>False</td>\n",
       "    </tr>\n",
       "    <tr>\n",
       "      <th>holiday_type_Event</th>\n",
       "      <td>False</td>\n",
       "      <td>False</td>\n",
       "      <td>False</td>\n",
       "      <td>False</td>\n",
       "      <td>False</td>\n",
       "    </tr>\n",
       "    <tr>\n",
       "      <th>national_holiday</th>\n",
       "      <td>False</td>\n",
       "      <td>False</td>\n",
       "      <td>False</td>\n",
       "      <td>False</td>\n",
       "      <td>False</td>\n",
       "    </tr>\n",
       "    <tr>\n",
       "      <th>local_holiday</th>\n",
       "      <td>False</td>\n",
       "      <td>False</td>\n",
       "      <td>False</td>\n",
       "      <td>False</td>\n",
       "      <td>False</td>\n",
       "    </tr>\n",
       "    <tr>\n",
       "      <th>regional_holiday</th>\n",
       "      <td>False</td>\n",
       "      <td>False</td>\n",
       "      <td>False</td>\n",
       "      <td>False</td>\n",
       "      <td>False</td>\n",
       "    </tr>\n",
       "  </tbody>\n",
       "</table>\n",
       "</div>"
      ],
      "text/plain": [
       "                                                       50120527  \\\n",
       "store_nbr                                                    52   \n",
       "item_nbr                                                2011451   \n",
       "date                                        2017-08-11 00:00:00   \n",
       "id                                                          NaN   \n",
       "unit_sales                                                 0.00   \n",
       "onpromotion                                               False   \n",
       "holiday_type                                           Transfer   \n",
       "holiday_locale                                         National   \n",
       "holiday_locale_name                                     Ecuador   \n",
       "holiday_description      Traslado Primer Grito de Independencia   \n",
       "holiday_transferred                                       False   \n",
       "city                                                      Manta   \n",
       "state                                                    Manabi   \n",
       "store_type                                                    A   \n",
       "cluster                                                      11   \n",
       "family                                                GROCERY I   \n",
       "class                                                      1063   \n",
       "perishable                                                False   \n",
       "dcoilwtico                                                   48   \n",
       "holiday_type_Transfer                                      True   \n",
       "holiday_type_Additional                                   False   \n",
       "holiday_type_Event                                        False   \n",
       "national_holiday                                          False   \n",
       "local_holiday                                             False   \n",
       "regional_holiday                                          False   \n",
       "\n",
       "                                    50120528             50120529  \\\n",
       "store_nbr                                 52                   52   \n",
       "item_nbr                             2011451              2011451   \n",
       "date                     2017-08-12 00:00:00  2017-08-13 00:00:00   \n",
       "id                                       NaN                  NaN   \n",
       "unit_sales                              0.00                 0.00   \n",
       "onpromotion                            False                False   \n",
       "holiday_type                        Work Day             Work Day   \n",
       "holiday_locale                         Local                Local   \n",
       "holiday_locale_name                     None                 None   \n",
       "holiday_description                     None                 None   \n",
       "holiday_transferred                     None                 None   \n",
       "city                                   Manta                Manta   \n",
       "state                                 Manabi               Manabi   \n",
       "store_type                                 A                    A   \n",
       "cluster                                   11                   11   \n",
       "family                             GROCERY I            GROCERY I   \n",
       "class                                   1063                 1063   \n",
       "perishable                             False                False   \n",
       "dcoilwtico                                48                   48   \n",
       "holiday_type_Transfer                  False                False   \n",
       "holiday_type_Additional                False                False   \n",
       "holiday_type_Event                     False                False   \n",
       "national_holiday                       False                False   \n",
       "local_holiday                          False                False   \n",
       "regional_holiday                       False                False   \n",
       "\n",
       "                                    50120530               50120531  \n",
       "store_nbr                                 52                     52  \n",
       "item_nbr                             2011451                2011451  \n",
       "date                     2017-08-14 00:00:00    2017-08-15 00:00:00  \n",
       "id                                       NaN                    NaN  \n",
       "unit_sales                              0.00                   0.00  \n",
       "onpromotion                            False                  False  \n",
       "holiday_type                        Work Day                Holiday  \n",
       "holiday_locale                         Local                  Local  \n",
       "holiday_locale_name                     None               Riobamba  \n",
       "holiday_description                     None  Fundacion de Riobamba  \n",
       "holiday_transferred                     None                  False  \n",
       "city                                   Manta                  Manta  \n",
       "state                                 Manabi                 Manabi  \n",
       "store_type                                 A                      A  \n",
       "cluster                                   11                     11  \n",
       "family                             GROCERY I              GROCERY I  \n",
       "class                                   1063                   1063  \n",
       "perishable                             False                  False  \n",
       "dcoilwtico                                47                     47  \n",
       "holiday_type_Transfer                  False                  False  \n",
       "holiday_type_Additional                False                  False  \n",
       "holiday_type_Event                     False                  False  \n",
       "national_holiday                       False                  False  \n",
       "local_holiday                          False                  False  \n",
       "regional_holiday                       False                  False  "
      ]
     },
     "metadata": {},
     "output_type": "display_data"
    }
   ],
   "source": [
    "display_all(train.tail().T)"
   ]
  },
  {
   "cell_type": "code",
   "execution_count": 111,
   "metadata": {},
   "outputs": [
    {
     "name": "stdout",
     "output_type": "stream",
     "text": [
      "CPU times: user 596 ms, sys: 8 ms, total: 604 ms\n",
      "Wall time: 602 ms\n"
     ]
    }
   ],
   "source": [
    "%time create_one_hot_columns(test, 'holiday_type')"
   ]
  },
  {
   "cell_type": "code",
   "execution_count": 112,
   "metadata": {},
   "outputs": [],
   "source": [
    "test.holiday_locale.fillna('Local', inplace=True)"
   ]
  },
  {
   "cell_type": "code",
   "execution_count": 113,
   "metadata": {
    "scrolled": true
   },
   "outputs": [
    {
     "name": "stdout",
     "output_type": "stream",
     "text": [
      "CPU times: user 308 ms, sys: 0 ns, total: 308 ms\n",
      "Wall time: 306 ms\n"
     ]
    }
   ],
   "source": [
    "%time create_one_hot_columns(test, 'holiday_locale')"
   ]
  },
  {
   "cell_type": "code",
   "execution_count": 114,
   "metadata": {},
   "outputs": [],
   "source": [
    "test['national_holiday'] = False"
   ]
  },
  {
   "cell_type": "code",
   "execution_count": 115,
   "metadata": {},
   "outputs": [],
   "source": [
    "test['local_holiday']=(test.holiday_locale_name==test.city)&test.holiday_type_Holiday&test.holiday_locale_Local"
   ]
  },
  {
   "cell_type": "code",
   "execution_count": 116,
   "metadata": {},
   "outputs": [],
   "source": [
    "test.drop(['holiday_type_Work Day', 'holiday_type_Holiday'], axis=1, inplace=True)"
   ]
  },
  {
   "cell_type": "code",
   "execution_count": 117,
   "metadata": {},
   "outputs": [],
   "source": [
    "test.drop(['holiday_locale_Local'], axis=1, inplace=True)"
   ]
  },
  {
   "cell_type": "code",
   "execution_count": 118,
   "metadata": {},
   "outputs": [],
   "source": [
    "test['regional_holiday'] = False"
   ]
  },
  {
   "cell_type": "code",
   "execution_count": 119,
   "metadata": {
    "scrolled": true
   },
   "outputs": [
    {
     "data": {
      "text/html": [
       "<div>\n",
       "<style scoped>\n",
       "    .dataframe tbody tr th:only-of-type {\n",
       "        vertical-align: middle;\n",
       "    }\n",
       "\n",
       "    .dataframe tbody tr th {\n",
       "        vertical-align: top;\n",
       "    }\n",
       "\n",
       "    .dataframe thead th {\n",
       "        text-align: right;\n",
       "    }\n",
       "</style>\n",
       "<table border=\"1\" class=\"dataframe\">\n",
       "  <thead>\n",
       "    <tr style=\"text-align: right;\">\n",
       "      <th></th>\n",
       "      <th>3370459</th>\n",
       "      <th>3370460</th>\n",
       "      <th>3370461</th>\n",
       "      <th>3370462</th>\n",
       "      <th>3370463</th>\n",
       "    </tr>\n",
       "  </thead>\n",
       "  <tbody>\n",
       "    <tr>\n",
       "      <th>id</th>\n",
       "      <td>128867499</td>\n",
       "      <td>128867500</td>\n",
       "      <td>128867501</td>\n",
       "      <td>128867502</td>\n",
       "      <td>128867503</td>\n",
       "    </tr>\n",
       "    <tr>\n",
       "      <th>date</th>\n",
       "      <td>2017-08-31 00:00:00</td>\n",
       "      <td>2017-08-31 00:00:00</td>\n",
       "      <td>2017-08-31 00:00:00</td>\n",
       "      <td>2017-08-31 00:00:00</td>\n",
       "      <td>2017-08-31 00:00:00</td>\n",
       "    </tr>\n",
       "    <tr>\n",
       "      <th>store_nbr</th>\n",
       "      <td>54</td>\n",
       "      <td>54</td>\n",
       "      <td>54</td>\n",
       "      <td>54</td>\n",
       "      <td>54</td>\n",
       "    </tr>\n",
       "    <tr>\n",
       "      <th>item_nbr</th>\n",
       "      <td>2132163</td>\n",
       "      <td>2132318</td>\n",
       "      <td>2132945</td>\n",
       "      <td>2132957</td>\n",
       "      <td>2134244</td>\n",
       "    </tr>\n",
       "    <tr>\n",
       "      <th>onpromotion</th>\n",
       "      <td>False</td>\n",
       "      <td>False</td>\n",
       "      <td>False</td>\n",
       "      <td>False</td>\n",
       "      <td>False</td>\n",
       "    </tr>\n",
       "    <tr>\n",
       "      <th>holiday_type</th>\n",
       "      <td>Work Day</td>\n",
       "      <td>Work Day</td>\n",
       "      <td>Work Day</td>\n",
       "      <td>Work Day</td>\n",
       "      <td>Work Day</td>\n",
       "    </tr>\n",
       "    <tr>\n",
       "      <th>holiday_locale</th>\n",
       "      <td>Local</td>\n",
       "      <td>Local</td>\n",
       "      <td>Local</td>\n",
       "      <td>Local</td>\n",
       "      <td>Local</td>\n",
       "    </tr>\n",
       "    <tr>\n",
       "      <th>holiday_locale_name</th>\n",
       "      <td>None</td>\n",
       "      <td>None</td>\n",
       "      <td>None</td>\n",
       "      <td>None</td>\n",
       "      <td>None</td>\n",
       "    </tr>\n",
       "    <tr>\n",
       "      <th>holiday_description</th>\n",
       "      <td>None</td>\n",
       "      <td>None</td>\n",
       "      <td>None</td>\n",
       "      <td>None</td>\n",
       "      <td>None</td>\n",
       "    </tr>\n",
       "    <tr>\n",
       "      <th>holiday_transferred</th>\n",
       "      <td>None</td>\n",
       "      <td>None</td>\n",
       "      <td>None</td>\n",
       "      <td>None</td>\n",
       "      <td>None</td>\n",
       "    </tr>\n",
       "    <tr>\n",
       "      <th>city</th>\n",
       "      <td>El Carmen</td>\n",
       "      <td>El Carmen</td>\n",
       "      <td>El Carmen</td>\n",
       "      <td>El Carmen</td>\n",
       "      <td>El Carmen</td>\n",
       "    </tr>\n",
       "    <tr>\n",
       "      <th>state</th>\n",
       "      <td>Manabi</td>\n",
       "      <td>Manabi</td>\n",
       "      <td>Manabi</td>\n",
       "      <td>Manabi</td>\n",
       "      <td>Manabi</td>\n",
       "    </tr>\n",
       "    <tr>\n",
       "      <th>store_type</th>\n",
       "      <td>C</td>\n",
       "      <td>C</td>\n",
       "      <td>C</td>\n",
       "      <td>C</td>\n",
       "      <td>C</td>\n",
       "    </tr>\n",
       "    <tr>\n",
       "      <th>cluster</th>\n",
       "      <td>3</td>\n",
       "      <td>3</td>\n",
       "      <td>3</td>\n",
       "      <td>3</td>\n",
       "      <td>3</td>\n",
       "    </tr>\n",
       "    <tr>\n",
       "      <th>family</th>\n",
       "      <td>GROCERY I</td>\n",
       "      <td>GROCERY I</td>\n",
       "      <td>GROCERY I</td>\n",
       "      <td>GROCERY I</td>\n",
       "      <td>LIQUOR,WINE,BEER</td>\n",
       "    </tr>\n",
       "    <tr>\n",
       "      <th>class</th>\n",
       "      <td>1040</td>\n",
       "      <td>1002</td>\n",
       "      <td>1026</td>\n",
       "      <td>1068</td>\n",
       "      <td>1364</td>\n",
       "    </tr>\n",
       "    <tr>\n",
       "      <th>perishable</th>\n",
       "      <td>False</td>\n",
       "      <td>False</td>\n",
       "      <td>False</td>\n",
       "      <td>False</td>\n",
       "      <td>False</td>\n",
       "    </tr>\n",
       "    <tr>\n",
       "      <th>dcoilwtico</th>\n",
       "      <td>47</td>\n",
       "      <td>47</td>\n",
       "      <td>47</td>\n",
       "      <td>47</td>\n",
       "      <td>47</td>\n",
       "    </tr>\n",
       "    <tr>\n",
       "      <th>national_holiday</th>\n",
       "      <td>False</td>\n",
       "      <td>False</td>\n",
       "      <td>False</td>\n",
       "      <td>False</td>\n",
       "      <td>False</td>\n",
       "    </tr>\n",
       "    <tr>\n",
       "      <th>local_holiday</th>\n",
       "      <td>False</td>\n",
       "      <td>False</td>\n",
       "      <td>False</td>\n",
       "      <td>False</td>\n",
       "      <td>False</td>\n",
       "    </tr>\n",
       "    <tr>\n",
       "      <th>regional_holiday</th>\n",
       "      <td>False</td>\n",
       "      <td>False</td>\n",
       "      <td>False</td>\n",
       "      <td>False</td>\n",
       "      <td>False</td>\n",
       "    </tr>\n",
       "  </tbody>\n",
       "</table>\n",
       "</div>"
      ],
      "text/plain": [
       "                                 3370459              3370460  \\\n",
       "id                             128867499            128867500   \n",
       "date                 2017-08-31 00:00:00  2017-08-31 00:00:00   \n",
       "store_nbr                             54                   54   \n",
       "item_nbr                         2132163              2132318   \n",
       "onpromotion                        False                False   \n",
       "holiday_type                    Work Day             Work Day   \n",
       "holiday_locale                     Local                Local   \n",
       "holiday_locale_name                 None                 None   \n",
       "holiday_description                 None                 None   \n",
       "holiday_transferred                 None                 None   \n",
       "city                           El Carmen            El Carmen   \n",
       "state                             Manabi               Manabi   \n",
       "store_type                             C                    C   \n",
       "cluster                                3                    3   \n",
       "family                         GROCERY I            GROCERY I   \n",
       "class                               1040                 1002   \n",
       "perishable                         False                False   \n",
       "dcoilwtico                            47                   47   \n",
       "national_holiday                   False                False   \n",
       "local_holiday                      False                False   \n",
       "regional_holiday                   False                False   \n",
       "\n",
       "                                 3370461              3370462  \\\n",
       "id                             128867501            128867502   \n",
       "date                 2017-08-31 00:00:00  2017-08-31 00:00:00   \n",
       "store_nbr                             54                   54   \n",
       "item_nbr                         2132945              2132957   \n",
       "onpromotion                        False                False   \n",
       "holiday_type                    Work Day             Work Day   \n",
       "holiday_locale                     Local                Local   \n",
       "holiday_locale_name                 None                 None   \n",
       "holiday_description                 None                 None   \n",
       "holiday_transferred                 None                 None   \n",
       "city                           El Carmen            El Carmen   \n",
       "state                             Manabi               Manabi   \n",
       "store_type                             C                    C   \n",
       "cluster                                3                    3   \n",
       "family                         GROCERY I            GROCERY I   \n",
       "class                               1026                 1068   \n",
       "perishable                         False                False   \n",
       "dcoilwtico                            47                   47   \n",
       "national_holiday                   False                False   \n",
       "local_holiday                      False                False   \n",
       "regional_holiday                   False                False   \n",
       "\n",
       "                                 3370463  \n",
       "id                             128867503  \n",
       "date                 2017-08-31 00:00:00  \n",
       "store_nbr                             54  \n",
       "item_nbr                         2134244  \n",
       "onpromotion                        False  \n",
       "holiday_type                    Work Day  \n",
       "holiday_locale                     Local  \n",
       "holiday_locale_name                 None  \n",
       "holiday_description                 None  \n",
       "holiday_transferred                 None  \n",
       "city                           El Carmen  \n",
       "state                             Manabi  \n",
       "store_type                             C  \n",
       "cluster                                3  \n",
       "family                  LIQUOR,WINE,BEER  \n",
       "class                               1364  \n",
       "perishable                         False  \n",
       "dcoilwtico                            47  \n",
       "national_holiday                   False  \n",
       "local_holiday                      False  \n",
       "regional_holiday                   False  "
      ]
     },
     "metadata": {},
     "output_type": "display_data"
    }
   ],
   "source": [
    "display_all(test.tail().T)"
   ]
  },
  {
   "cell_type": "code",
   "execution_count": 120,
   "metadata": {},
   "outputs": [
    {
     "name": "stdout",
     "output_type": "stream",
     "text": [
      "CPU times: user 19.2 s, sys: 6.92 s, total: 26.1 s\n",
      "Wall time: 1min 7s\n"
     ]
    }
   ],
   "source": [
    "%%time\n",
    "train.to_feather(f'{PATH}data/grocery_train')\n",
    "test.to_feather(f'{PATH}data/grocery_test')"
   ]
  },
  {
   "cell_type": "code",
   "execution_count": 121,
   "metadata": {},
   "outputs": [
    {
     "name": "stderr",
     "output_type": "stream",
     "text": [
      "/home/ubuntu/anaconda3/envs/fastai/lib/python3.6/site-packages/pandas/io/feather_format.py:112: FutureWarning: `nthreads` argument is deprecated, pass `use_threads` instead\n",
      "  return feather.read_dataframe(path, nthreads=nthreads)\n"
     ]
    },
    {
     "name": "stdout",
     "output_type": "stream",
     "text": [
      "CPU times: user 22.8 s, sys: 8.91 s, total: 31.7 s\n",
      "Wall time: 31.7 s\n"
     ]
    }
   ],
   "source": [
    "%%time\n",
    "train = pd.read_feather(f'{PATH}data/grocery_train')\n",
    "test = pd.read_feather(f'{PATH}data/grocery_test')"
   ]
  },
  {
   "cell_type": "markdown",
   "metadata": {},
   "source": [
    "### 4.2 Create Elapsed"
   ]
  },
  {
   "cell_type": "code",
   "execution_count": 122,
   "metadata": {},
   "outputs": [],
   "source": [
    "def get_elapsed(df, grp_fld, monitor_fld='holiday_type', date_fld='date', after=True):\n",
    "    if after:\n",
    "        pre = 'After'\n",
    "    else:\n",
    "        pre = 'Before'\n",
    "    tmp_df = df[[grp_fld, monitor_fld, date_fld]].copy()\n",
    "    tmp_df.sort_values([grp_fld, date_fld], ascending=[True, after], inplace=True)\n",
    "    day1 = np.timedelta64(1, 'D')\n",
    "    last_monitor_date = np.datetime64()\n",
    "    last_group = 1\n",
    "    elapsed_days = 0\n",
    "    res = []\n",
    "    last_date = np.datetime64()\n",
    "    \n",
    "    for g, v, d in zip(tmp_df[grp_fld].values, tmp_df[monitor_fld].values, tmp_df[date_fld].values):\n",
    "        if g != last_group:\n",
    "            last_monitor_date = np.datetime64()\n",
    "            last_group = g\n",
    "            elapsed_days = (d-last_monitor_date).astype('timedelta64[D]') / day1\n",
    "        if v:\n",
    "            last_monitor_date = d\n",
    "            elapsed_days = (d-last_monitor_date).astype('timedelta64[D]') / day1\n",
    "        if d != last_date:\n",
    "            elapsed_days = (d-last_monitor_date).astype('timedelta64[D]') / day1\n",
    "        res.append(elapsed_days)\n",
    "        last_date = d\n",
    "    df[pre+'_'+monitor_fld] = res"
   ]
  },
  {
   "cell_type": "markdown",
   "metadata": {},
   "source": [
    "#### 4.2.1 Elapsed for National Holiday"
   ]
  },
  {
   "cell_type": "code",
   "execution_count": 123,
   "metadata": {},
   "outputs": [],
   "source": [
    "train['dummy'] = 0"
   ]
  },
  {
   "cell_type": "code",
   "execution_count": 124,
   "metadata": {
    "scrolled": true
   },
   "outputs": [
    {
     "name": "stdout",
     "output_type": "stream",
     "text": [
      "CPU times: user 2min 33s, sys: 2.48 s, total: 2min 35s\n",
      "Wall time: 2min 35s\n"
     ]
    }
   ],
   "source": [
    "%time get_elapsed(train, grp_fld='dummy', monitor_fld='national_holiday')"
   ]
  },
  {
   "cell_type": "code",
   "execution_count": 125,
   "metadata": {},
   "outputs": [
    {
     "data": {
      "text/plain": [
       "<matplotlib.axes._subplots.AxesSubplot at 0x7f0223b4ee80>"
      ]
     },
     "execution_count": 125,
     "metadata": {},
     "output_type": "execute_result"
    },
    {
     "data": {
      "image/png": "[encoded data removed]",
      "text/plain": [
       "<Figure size 432x288 with 1 Axes>"
      ]
     },
     "metadata": {
      "needs_background": "light"
     },
     "output_type": "display_data"
    }
   ],
   "source": [
    "train['After_national_holiday'].plot()"
   ]
  },
  {
   "cell_type": "code",
   "execution_count": 126,
   "metadata": {
    "scrolled": true
   },
   "outputs": [
    {
     "data": {
      "text/plain": [
       "50120527   5.00\n",
       "50120528   5.00\n",
       "50120529   5.00\n",
       "50120530   5.00\n",
       "50120531   5.00\n",
       "Name: After_national_holiday, dtype: float64"
      ]
     },
     "execution_count": 126,
     "metadata": {},
     "output_type": "execute_result"
    }
   ],
   "source": [
    "train['After_national_holiday'].tail()"
   ]
  },
  {
   "cell_type": "code",
   "execution_count": 127,
   "metadata": {
    "scrolled": true
   },
   "outputs": [
    {
     "name": "stdout",
     "output_type": "stream",
     "text": [
      "CPU times: user 2min 35s, sys: 2.93 s, total: 2min 38s\n",
      "Wall time: 2min 38s\n"
     ]
    }
   ],
   "source": [
    "%time get_elapsed(train, grp_fld='dummy', monitor_fld='national_holiday', after=False)"
   ]
  },
  {
   "cell_type": "code",
   "execution_count": 128,
   "metadata": {},
   "outputs": [
    {
     "data": {
      "text/plain": [
       "<matplotlib.axes._subplots.AxesSubplot at 0x7f04fc832eb8>"
      ]
     },
     "execution_count": 128,
     "metadata": {},
     "output_type": "execute_result"
    },
    {
     "data": {
      "image/png": "[encoded data removed]",
      "text/plain": [
       "<Figure size 432x288 with 1 Axes>"
      ]
     },
     "metadata": {
      "needs_background": "light"
     },
     "output_type": "display_data"
    }
   ],
   "source": [
    "train['Before_national_holiday'].plot()"
   ]
  },
  {
   "cell_type": "code",
   "execution_count": 129,
   "metadata": {},
   "outputs": [],
   "source": [
    "train.drop(['dummy'], axis=1, inplace=True)"
   ]
  },
  {
   "cell_type": "code",
   "execution_count": 130,
   "metadata": {
    "scrolled": true
   },
   "outputs": [
    {
     "data": {
      "text/html": [
       "<div>\n",
       "<style scoped>\n",
       "    .dataframe tbody tr th:only-of-type {\n",
       "        vertical-align: middle;\n",
       "    }\n",
       "\n",
       "    .dataframe tbody tr th {\n",
       "        vertical-align: top;\n",
       "    }\n",
       "\n",
       "    .dataframe thead th {\n",
       "        text-align: right;\n",
       "    }\n",
       "</style>\n",
       "<table border=\"1\" class=\"dataframe\">\n",
       "  <thead>\n",
       "    <tr style=\"text-align: right;\">\n",
       "      <th></th>\n",
       "      <th>50120527</th>\n",
       "      <th>50120528</th>\n",
       "      <th>50120529</th>\n",
       "      <th>50120530</th>\n",
       "      <th>50120531</th>\n",
       "    </tr>\n",
       "  </thead>\n",
       "  <tbody>\n",
       "    <tr>\n",
       "      <th>store_nbr</th>\n",
       "      <td>52</td>\n",
       "      <td>52</td>\n",
       "      <td>52</td>\n",
       "      <td>52</td>\n",
       "      <td>52</td>\n",
       "    </tr>\n",
       "    <tr>\n",
       "      <th>item_nbr</th>\n",
       "      <td>2011451</td>\n",
       "      <td>2011451</td>\n",
       "      <td>2011451</td>\n",
       "      <td>2011451</td>\n",
       "      <td>2011451</td>\n",
       "    </tr>\n",
       "    <tr>\n",
       "      <th>date</th>\n",
       "      <td>2017-08-11 00:00:00</td>\n",
       "      <td>2017-08-12 00:00:00</td>\n",
       "      <td>2017-08-13 00:00:00</td>\n",
       "      <td>2017-08-14 00:00:00</td>\n",
       "      <td>2017-08-15 00:00:00</td>\n",
       "    </tr>\n",
       "    <tr>\n",
       "      <th>id</th>\n",
       "      <td>NaN</td>\n",
       "      <td>NaN</td>\n",
       "      <td>NaN</td>\n",
       "      <td>NaN</td>\n",
       "      <td>NaN</td>\n",
       "    </tr>\n",
       "    <tr>\n",
       "      <th>unit_sales</th>\n",
       "      <td>0.00</td>\n",
       "      <td>0.00</td>\n",
       "      <td>0.00</td>\n",
       "      <td>0.00</td>\n",
       "      <td>0.00</td>\n",
       "    </tr>\n",
       "    <tr>\n",
       "      <th>onpromotion</th>\n",
       "      <td>False</td>\n",
       "      <td>False</td>\n",
       "      <td>False</td>\n",
       "      <td>False</td>\n",
       "      <td>False</td>\n",
       "    </tr>\n",
       "    <tr>\n",
       "      <th>holiday_type</th>\n",
       "      <td>Transfer</td>\n",
       "      <td>Work Day</td>\n",
       "      <td>Work Day</td>\n",
       "      <td>Work Day</td>\n",
       "      <td>Holiday</td>\n",
       "    </tr>\n",
       "    <tr>\n",
       "      <th>holiday_locale</th>\n",
       "      <td>National</td>\n",
       "      <td>Local</td>\n",
       "      <td>Local</td>\n",
       "      <td>Local</td>\n",
       "      <td>Local</td>\n",
       "    </tr>\n",
       "    <tr>\n",
       "      <th>holiday_locale_name</th>\n",
       "      <td>Ecuador</td>\n",
       "      <td>None</td>\n",
       "      <td>None</td>\n",
       "      <td>None</td>\n",
       "      <td>Riobamba</td>\n",
       "    </tr>\n",
       "    <tr>\n",
       "      <th>holiday_description</th>\n",
       "      <td>Traslado Primer Grito de Independencia</td>\n",
       "      <td>None</td>\n",
       "      <td>None</td>\n",
       "      <td>None</td>\n",
       "      <td>Fundacion de Riobamba</td>\n",
       "    </tr>\n",
       "    <tr>\n",
       "      <th>holiday_transferred</th>\n",
       "      <td>False</td>\n",
       "      <td>None</td>\n",
       "      <td>None</td>\n",
       "      <td>None</td>\n",
       "      <td>False</td>\n",
       "    </tr>\n",
       "    <tr>\n",
       "      <th>city</th>\n",
       "      <td>Manta</td>\n",
       "      <td>Manta</td>\n",
       "      <td>Manta</td>\n",
       "      <td>Manta</td>\n",
       "      <td>Manta</td>\n",
       "    </tr>\n",
       "    <tr>\n",
       "      <th>state</th>\n",
       "      <td>Manabi</td>\n",
       "      <td>Manabi</td>\n",
       "      <td>Manabi</td>\n",
       "      <td>Manabi</td>\n",
       "      <td>Manabi</td>\n",
       "    </tr>\n",
       "    <tr>\n",
       "      <th>store_type</th>\n",
       "      <td>A</td>\n",
       "      <td>A</td>\n",
       "      <td>A</td>\n",
       "      <td>A</td>\n",
       "      <td>A</td>\n",
       "    </tr>\n",
       "    <tr>\n",
       "      <th>cluster</th>\n",
       "      <td>11</td>\n",
       "      <td>11</td>\n",
       "      <td>11</td>\n",
       "      <td>11</td>\n",
       "      <td>11</td>\n",
       "    </tr>\n",
       "    <tr>\n",
       "      <th>family</th>\n",
       "      <td>GROCERY I</td>\n",
       "      <td>GROCERY I</td>\n",
       "      <td>GROCERY I</td>\n",
       "      <td>GROCERY I</td>\n",
       "      <td>GROCERY I</td>\n",
       "    </tr>\n",
       "    <tr>\n",
       "      <th>class</th>\n",
       "      <td>1063</td>\n",
       "      <td>1063</td>\n",
       "      <td>1063</td>\n",
       "      <td>1063</td>\n",
       "      <td>1063</td>\n",
       "    </tr>\n",
       "    <tr>\n",
       "      <th>perishable</th>\n",
       "      <td>False</td>\n",
       "      <td>False</td>\n",
       "      <td>False</td>\n",
       "      <td>False</td>\n",
       "      <td>False</td>\n",
       "    </tr>\n",
       "    <tr>\n",
       "      <th>dcoilwtico</th>\n",
       "      <td>48</td>\n",
       "      <td>48</td>\n",
       "      <td>48</td>\n",
       "      <td>47</td>\n",
       "      <td>47</td>\n",
       "    </tr>\n",
       "    <tr>\n",
       "      <th>holiday_type_Transfer</th>\n",
       "      <td>True</td>\n",
       "      <td>False</td>\n",
       "      <td>False</td>\n",
       "      <td>False</td>\n",
       "      <td>False</td>\n",
       "    </tr>\n",
       "    <tr>\n",
       "      <th>holiday_type_Additional</th>\n",
       "      <td>False</td>\n",
       "      <td>False</td>\n",
       "      <td>False</td>\n",
       "      <td>False</td>\n",
       "      <td>False</td>\n",
       "    </tr>\n",
       "    <tr>\n",
       "      <th>holiday_type_Event</th>\n",
       "      <td>False</td>\n",
       "      <td>False</td>\n",
       "      <td>False</td>\n",
       "      <td>False</td>\n",
       "      <td>False</td>\n",
       "    </tr>\n",
       "    <tr>\n",
       "      <th>national_holiday</th>\n",
       "      <td>False</td>\n",
       "      <td>False</td>\n",
       "      <td>False</td>\n",
       "      <td>False</td>\n",
       "      <td>False</td>\n",
       "    </tr>\n",
       "    <tr>\n",
       "      <th>local_holiday</th>\n",
       "      <td>False</td>\n",
       "      <td>False</td>\n",
       "      <td>False</td>\n",
       "      <td>False</td>\n",
       "      <td>False</td>\n",
       "    </tr>\n",
       "    <tr>\n",
       "      <th>regional_holiday</th>\n",
       "      <td>False</td>\n",
       "      <td>False</td>\n",
       "      <td>False</td>\n",
       "      <td>False</td>\n",
       "      <td>False</td>\n",
       "    </tr>\n",
       "    <tr>\n",
       "      <th>After_national_holiday</th>\n",
       "      <td>5.00</td>\n",
       "      <td>5.00</td>\n",
       "      <td>5.00</td>\n",
       "      <td>5.00</td>\n",
       "      <td>5.00</td>\n",
       "    </tr>\n",
       "    <tr>\n",
       "      <th>Before_national_holiday</th>\n",
       "      <td>0.00</td>\n",
       "      <td>0.00</td>\n",
       "      <td>0.00</td>\n",
       "      <td>0.00</td>\n",
       "      <td>0.00</td>\n",
       "    </tr>\n",
       "  </tbody>\n",
       "</table>\n",
       "</div>"
      ],
      "text/plain": [
       "                                                       50120527  \\\n",
       "store_nbr                                                    52   \n",
       "item_nbr                                                2011451   \n",
       "date                                        2017-08-11 00:00:00   \n",
       "id                                                          NaN   \n",
       "unit_sales                                                 0.00   \n",
       "onpromotion                                               False   \n",
       "holiday_type                                           Transfer   \n",
       "holiday_locale                                         National   \n",
       "holiday_locale_name                                     Ecuador   \n",
       "holiday_description      Traslado Primer Grito de Independencia   \n",
       "holiday_transferred                                       False   \n",
       "city                                                      Manta   \n",
       "state                                                    Manabi   \n",
       "store_type                                                    A   \n",
       "cluster                                                      11   \n",
       "family                                                GROCERY I   \n",
       "class                                                      1063   \n",
       "perishable                                                False   \n",
       "dcoilwtico                                                   48   \n",
       "holiday_type_Transfer                                      True   \n",
       "holiday_type_Additional                                   False   \n",
       "holiday_type_Event                                        False   \n",
       "national_holiday                                          False   \n",
       "local_holiday                                             False   \n",
       "regional_holiday                                          False   \n",
       "After_national_holiday                                     5.00   \n",
       "Before_national_holiday                                    0.00   \n",
       "\n",
       "                                    50120528             50120529  \\\n",
       "store_nbr                                 52                   52   \n",
       "item_nbr                             2011451              2011451   \n",
       "date                     2017-08-12 00:00:00  2017-08-13 00:00:00   \n",
       "id                                       NaN                  NaN   \n",
       "unit_sales                              0.00                 0.00   \n",
       "onpromotion                            False                False   \n",
       "holiday_type                        Work Day             Work Day   \n",
       "holiday_locale                         Local                Local   \n",
       "holiday_locale_name                     None                 None   \n",
       "holiday_description                     None                 None   \n",
       "holiday_transferred                     None                 None   \n",
       "city                                   Manta                Manta   \n",
       "state                                 Manabi               Manabi   \n",
       "store_type                                 A                    A   \n",
       "cluster                                   11                   11   \n",
       "family                             GROCERY I            GROCERY I   \n",
       "class                                   1063                 1063   \n",
       "perishable                             False                False   \n",
       "dcoilwtico                                48                   48   \n",
       "holiday_type_Transfer                  False                False   \n",
       "holiday_type_Additional                False                False   \n",
       "holiday_type_Event                     False                False   \n",
       "national_holiday                       False                False   \n",
       "local_holiday                          False                False   \n",
       "regional_holiday                       False                False   \n",
       "After_national_holiday                  5.00                 5.00   \n",
       "Before_national_holiday                 0.00                 0.00   \n",
       "\n",
       "                                    50120530               50120531  \n",
       "store_nbr                                 52                     52  \n",
       "item_nbr                             2011451                2011451  \n",
       "date                     2017-08-14 00:00:00    2017-08-15 00:00:00  \n",
       "id                                       NaN                    NaN  \n",
       "unit_sales                              0.00                   0.00  \n",
       "onpromotion                            False                  False  \n",
       "holiday_type                        Work Day                Holiday  \n",
       "holiday_locale                         Local                  Local  \n",
       "holiday_locale_name                     None               Riobamba  \n",
       "holiday_description                     None  Fundacion de Riobamba  \n",
       "holiday_transferred                     None                  False  \n",
       "city                                   Manta                  Manta  \n",
       "state                                 Manabi                 Manabi  \n",
       "store_type                                 A                      A  \n",
       "cluster                                   11                     11  \n",
       "family                             GROCERY I              GROCERY I  \n",
       "class                                   1063                   1063  \n",
       "perishable                             False                  False  \n",
       "dcoilwtico                                47                     47  \n",
       "holiday_type_Transfer                  False                  False  \n",
       "holiday_type_Additional                False                  False  \n",
       "holiday_type_Event                     False                  False  \n",
       "national_holiday                       False                  False  \n",
       "local_holiday                          False                  False  \n",
       "regional_holiday                       False                  False  \n",
       "After_national_holiday                  5.00                   5.00  \n",
       "Before_national_holiday                 0.00                   0.00  "
      ]
     },
     "metadata": {},
     "output_type": "display_data"
    }
   ],
   "source": [
    "display_all(train.tail().T)"
   ]
  },
  {
   "cell_type": "code",
   "execution_count": 131,
   "metadata": {},
   "outputs": [],
   "source": [
    "test['dummy'] = 0"
   ]
  },
  {
   "cell_type": "code",
   "execution_count": 132,
   "metadata": {
    "scrolled": true
   },
   "outputs": [
    {
     "name": "stdout",
     "output_type": "stream",
     "text": [
      "CPU times: user 9.47 s, sys: 20 ms, total: 9.49 s\n",
      "Wall time: 9.49 s\n"
     ]
    }
   ],
   "source": [
    "%time get_elapsed(test, grp_fld='dummy', monitor_fld='national_holiday')"
   ]
  },
  {
   "cell_type": "code",
   "execution_count": 133,
   "metadata": {
    "scrolled": true
   },
   "outputs": [
    {
     "name": "stdout",
     "output_type": "stream",
     "text": [
      "CPU times: user 9.48 s, sys: 20 ms, total: 9.5 s\n",
      "Wall time: 9.5 s\n"
     ]
    }
   ],
   "source": [
    "%time get_elapsed(test, grp_fld='dummy', monitor_fld='national_holiday', after=False)"
   ]
  },
  {
   "cell_type": "code",
   "execution_count": 134,
   "metadata": {},
   "outputs": [],
   "source": [
    "test.drop(['dummy'], axis=1, inplace=True)"
   ]
  },
  {
   "cell_type": "code",
   "execution_count": 135,
   "metadata": {
    "scrolled": true
   },
   "outputs": [
    {
     "data": {
      "text/html": [
       "<div>\n",
       "<style scoped>\n",
       "    .dataframe tbody tr th:only-of-type {\n",
       "        vertical-align: middle;\n",
       "    }\n",
       "\n",
       "    .dataframe tbody tr th {\n",
       "        vertical-align: top;\n",
       "    }\n",
       "\n",
       "    .dataframe thead th {\n",
       "        text-align: right;\n",
       "    }\n",
       "</style>\n",
       "<table border=\"1\" class=\"dataframe\">\n",
       "  <thead>\n",
       "    <tr style=\"text-align: right;\">\n",
       "      <th></th>\n",
       "      <th>3370459</th>\n",
       "      <th>3370460</th>\n",
       "      <th>3370461</th>\n",
       "      <th>3370462</th>\n",
       "      <th>3370463</th>\n",
       "    </tr>\n",
       "  </thead>\n",
       "  <tbody>\n",
       "    <tr>\n",
       "      <th>id</th>\n",
       "      <td>128867499</td>\n",
       "      <td>128867500</td>\n",
       "      <td>128867501</td>\n",
       "      <td>128867502</td>\n",
       "      <td>128867503</td>\n",
       "    </tr>\n",
       "    <tr>\n",
       "      <th>date</th>\n",
       "      <td>2017-08-31 00:00:00</td>\n",
       "      <td>2017-08-31 00:00:00</td>\n",
       "      <td>2017-08-31 00:00:00</td>\n",
       "      <td>2017-08-31 00:00:00</td>\n",
       "      <td>2017-08-31 00:00:00</td>\n",
       "    </tr>\n",
       "    <tr>\n",
       "      <th>store_nbr</th>\n",
       "      <td>54</td>\n",
       "      <td>54</td>\n",
       "      <td>54</td>\n",
       "      <td>54</td>\n",
       "      <td>54</td>\n",
       "    </tr>\n",
       "    <tr>\n",
       "      <th>item_nbr</th>\n",
       "      <td>2132163</td>\n",
       "      <td>2132318</td>\n",
       "      <td>2132945</td>\n",
       "      <td>2132957</td>\n",
       "      <td>2134244</td>\n",
       "    </tr>\n",
       "    <tr>\n",
       "      <th>onpromotion</th>\n",
       "      <td>False</td>\n",
       "      <td>False</td>\n",
       "      <td>False</td>\n",
       "      <td>False</td>\n",
       "      <td>False</td>\n",
       "    </tr>\n",
       "    <tr>\n",
       "      <th>holiday_type</th>\n",
       "      <td>Work Day</td>\n",
       "      <td>Work Day</td>\n",
       "      <td>Work Day</td>\n",
       "      <td>Work Day</td>\n",
       "      <td>Work Day</td>\n",
       "    </tr>\n",
       "    <tr>\n",
       "      <th>holiday_locale</th>\n",
       "      <td>Local</td>\n",
       "      <td>Local</td>\n",
       "      <td>Local</td>\n",
       "      <td>Local</td>\n",
       "      <td>Local</td>\n",
       "    </tr>\n",
       "    <tr>\n",
       "      <th>holiday_locale_name</th>\n",
       "      <td>None</td>\n",
       "      <td>None</td>\n",
       "      <td>None</td>\n",
       "      <td>None</td>\n",
       "      <td>None</td>\n",
       "    </tr>\n",
       "    <tr>\n",
       "      <th>holiday_description</th>\n",
       "      <td>None</td>\n",
       "      <td>None</td>\n",
       "      <td>None</td>\n",
       "      <td>None</td>\n",
       "      <td>None</td>\n",
       "    </tr>\n",
       "    <tr>\n",
       "      <th>holiday_transferred</th>\n",
       "      <td>None</td>\n",
       "      <td>None</td>\n",
       "      <td>None</td>\n",
       "      <td>None</td>\n",
       "      <td>None</td>\n",
       "    </tr>\n",
       "    <tr>\n",
       "      <th>city</th>\n",
       "      <td>El Carmen</td>\n",
       "      <td>El Carmen</td>\n",
       "      <td>El Carmen</td>\n",
       "      <td>El Carmen</td>\n",
       "      <td>El Carmen</td>\n",
       "    </tr>\n",
       "    <tr>\n",
       "      <th>state</th>\n",
       "      <td>Manabi</td>\n",
       "      <td>Manabi</td>\n",
       "      <td>Manabi</td>\n",
       "      <td>Manabi</td>\n",
       "      <td>Manabi</td>\n",
       "    </tr>\n",
       "    <tr>\n",
       "      <th>store_type</th>\n",
       "      <td>C</td>\n",
       "      <td>C</td>\n",
       "      <td>C</td>\n",
       "      <td>C</td>\n",
       "      <td>C</td>\n",
       "    </tr>\n",
       "    <tr>\n",
       "      <th>cluster</th>\n",
       "      <td>3</td>\n",
       "      <td>3</td>\n",
       "      <td>3</td>\n",
       "      <td>3</td>\n",
       "      <td>3</td>\n",
       "    </tr>\n",
       "    <tr>\n",
       "      <th>family</th>\n",
       "      <td>GROCERY I</td>\n",
       "      <td>GROCERY I</td>\n",
       "      <td>GROCERY I</td>\n",
       "      <td>GROCERY I</td>\n",
       "      <td>LIQUOR,WINE,BEER</td>\n",
       "    </tr>\n",
       "    <tr>\n",
       "      <th>class</th>\n",
       "      <td>1040</td>\n",
       "      <td>1002</td>\n",
       "      <td>1026</td>\n",
       "      <td>1068</td>\n",
       "      <td>1364</td>\n",
       "    </tr>\n",
       "    <tr>\n",
       "      <th>perishable</th>\n",
       "      <td>False</td>\n",
       "      <td>False</td>\n",
       "      <td>False</td>\n",
       "      <td>False</td>\n",
       "      <td>False</td>\n",
       "    </tr>\n",
       "    <tr>\n",
       "      <th>dcoilwtico</th>\n",
       "      <td>47</td>\n",
       "      <td>47</td>\n",
       "      <td>47</td>\n",
       "      <td>47</td>\n",
       "      <td>47</td>\n",
       "    </tr>\n",
       "    <tr>\n",
       "      <th>national_holiday</th>\n",
       "      <td>False</td>\n",
       "      <td>False</td>\n",
       "      <td>False</td>\n",
       "      <td>False</td>\n",
       "      <td>False</td>\n",
       "    </tr>\n",
       "    <tr>\n",
       "      <th>local_holiday</th>\n",
       "      <td>False</td>\n",
       "      <td>False</td>\n",
       "      <td>False</td>\n",
       "      <td>False</td>\n",
       "      <td>False</td>\n",
       "    </tr>\n",
       "    <tr>\n",
       "      <th>regional_holiday</th>\n",
       "      <td>False</td>\n",
       "      <td>False</td>\n",
       "      <td>False</td>\n",
       "      <td>False</td>\n",
       "      <td>False</td>\n",
       "    </tr>\n",
       "    <tr>\n",
       "      <th>After_national_holiday</th>\n",
       "      <td>NaN</td>\n",
       "      <td>NaN</td>\n",
       "      <td>NaN</td>\n",
       "      <td>NaN</td>\n",
       "      <td>NaN</td>\n",
       "    </tr>\n",
       "    <tr>\n",
       "      <th>Before_national_holiday</th>\n",
       "      <td>NaN</td>\n",
       "      <td>NaN</td>\n",
       "      <td>NaN</td>\n",
       "      <td>NaN</td>\n",
       "      <td>NaN</td>\n",
       "    </tr>\n",
       "  </tbody>\n",
       "</table>\n",
       "</div>"
      ],
      "text/plain": [
       "                                     3370459              3370460  \\\n",
       "id                                 128867499            128867500   \n",
       "date                     2017-08-31 00:00:00  2017-08-31 00:00:00   \n",
       "store_nbr                                 54                   54   \n",
       "item_nbr                             2132163              2132318   \n",
       "onpromotion                            False                False   \n",
       "holiday_type                        Work Day             Work Day   \n",
       "holiday_locale                         Local                Local   \n",
       "holiday_locale_name                     None                 None   \n",
       "holiday_description                     None                 None   \n",
       "holiday_transferred                     None                 None   \n",
       "city                               El Carmen            El Carmen   \n",
       "state                                 Manabi               Manabi   \n",
       "store_type                                 C                    C   \n",
       "cluster                                    3                    3   \n",
       "family                             GROCERY I            GROCERY I   \n",
       "class                                   1040                 1002   \n",
       "perishable                             False                False   \n",
       "dcoilwtico                                47                   47   \n",
       "national_holiday                       False                False   \n",
       "local_holiday                          False                False   \n",
       "regional_holiday                       False                False   \n",
       "After_national_holiday                   NaN                  NaN   \n",
       "Before_national_holiday                  NaN                  NaN   \n",
       "\n",
       "                                     3370461              3370462  \\\n",
       "id                                 128867501            128867502   \n",
       "date                     2017-08-31 00:00:00  2017-08-31 00:00:00   \n",
       "store_nbr                                 54                   54   \n",
       "item_nbr                             2132945              2132957   \n",
       "onpromotion                            False                False   \n",
       "holiday_type                        Work Day             Work Day   \n",
       "holiday_locale                         Local                Local   \n",
       "holiday_locale_name                     None                 None   \n",
       "holiday_description                     None                 None   \n",
       "holiday_transferred                     None                 None   \n",
       "city                               El Carmen            El Carmen   \n",
       "state                                 Manabi               Manabi   \n",
       "store_type                                 C                    C   \n",
       "cluster                                    3                    3   \n",
       "family                             GROCERY I            GROCERY I   \n",
       "class                                   1026                 1068   \n",
       "perishable                             False                False   \n",
       "dcoilwtico                                47                   47   \n",
       "national_holiday                       False                False   \n",
       "local_holiday                          False                False   \n",
       "regional_holiday                       False                False   \n",
       "After_national_holiday                   NaN                  NaN   \n",
       "Before_national_holiday                  NaN                  NaN   \n",
       "\n",
       "                                     3370463  \n",
       "id                                 128867503  \n",
       "date                     2017-08-31 00:00:00  \n",
       "store_nbr                                 54  \n",
       "item_nbr                             2134244  \n",
       "onpromotion                            False  \n",
       "holiday_type                        Work Day  \n",
       "holiday_locale                         Local  \n",
       "holiday_locale_name                     None  \n",
       "holiday_description                     None  \n",
       "holiday_transferred                     None  \n",
       "city                               El Carmen  \n",
       "state                                 Manabi  \n",
       "store_type                                 C  \n",
       "cluster                                    3  \n",
       "family                      LIQUOR,WINE,BEER  \n",
       "class                                   1364  \n",
       "perishable                             False  \n",
       "dcoilwtico                                47  \n",
       "national_holiday                       False  \n",
       "local_holiday                          False  \n",
       "regional_holiday                       False  \n",
       "After_national_holiday                   NaN  \n",
       "Before_national_holiday                  NaN  "
      ]
     },
     "metadata": {},
     "output_type": "display_data"
    }
   ],
   "source": [
    "display_all(test.tail().T)"
   ]
  },
  {
   "cell_type": "code",
   "execution_count": 136,
   "metadata": {},
   "outputs": [
    {
     "name": "stdout",
     "output_type": "stream",
     "text": [
      "CPU times: user 19.4 s, sys: 7.5 s, total: 26.9 s\n",
      "Wall time: 1min 13s\n"
     ]
    }
   ],
   "source": [
    "%%time\n",
    "train.to_feather(f'{PATH}data/grocery_train')\n",
    "test.to_feather(f'{PATH}data/grocery_test')"
   ]
  },
  {
   "cell_type": "code",
   "execution_count": 137,
   "metadata": {},
   "outputs": [
    {
     "name": "stderr",
     "output_type": "stream",
     "text": [
      "/home/ubuntu/anaconda3/envs/fastai/lib/python3.6/site-packages/pandas/io/feather_format.py:112: FutureWarning: `nthreads` argument is deprecated, pass `use_threads` instead\n",
      "  return feather.read_dataframe(path, nthreads=nthreads)\n"
     ]
    },
    {
     "name": "stdout",
     "output_type": "stream",
     "text": [
      "CPU times: user 23.2 s, sys: 9.5 s, total: 32.7 s\n",
      "Wall time: 32.7 s\n"
     ]
    }
   ],
   "source": [
    "%%time\n",
    "train = pd.read_feather(f'{PATH}data/grocery_train')\n",
    "test = pd.read_feather(f'{PATH}data/grocery_test')"
   ]
  },
  {
   "cell_type": "markdown",
   "metadata": {},
   "source": [
    "#### 4.2.2 Elapsed for Local Holiday"
   ]
  },
  {
   "cell_type": "code",
   "execution_count": 138,
   "metadata": {
    "scrolled": true
   },
   "outputs": [
    {
     "data": {
      "text/plain": [
       "array(['Salinas', 'Quito', 'Santo Domingo', 'Cayambe', 'Latacunga', 'Riobamba', 'Ibarra', 'Guaranda', 'Puyo',\n",
       "       'Ambato', 'Guayaquil', 'Daule', 'Babahoyo', 'Quevedo', 'Playas', 'Libertad', 'Cuenca', 'Loja',\n",
       "       'Machala', 'Esmeraldas', 'Manta', 'El Carmen'], dtype=object)"
      ]
     },
     "execution_count": 138,
     "metadata": {},
     "output_type": "execute_result"
    }
   ],
   "source": [
    "train.city.unique()"
   ]
  },
  {
   "cell_type": "code",
   "execution_count": 139,
   "metadata": {},
   "outputs": [],
   "source": [
    "dict = {}\n",
    "i = 0\n",
    "for c in np.sort(train.city.unique()):\n",
    "    i+=1\n",
    "    dict[c] = i"
   ]
  },
  {
   "cell_type": "code",
   "execution_count": 140,
   "metadata": {},
   "outputs": [],
   "source": [
    "city_int = [dict[c] for c in train.city]"
   ]
  },
  {
   "cell_type": "code",
   "execution_count": 141,
   "metadata": {},
   "outputs": [],
   "source": [
    "train['city_int'] = city_int"
   ]
  },
  {
   "cell_type": "code",
   "execution_count": 142,
   "metadata": {},
   "outputs": [
    {
     "name": "stdout",
     "output_type": "stream",
     "text": [
      "CPU times: user 2min 21s, sys: 2.37 s, total: 2min 24s\n",
      "Wall time: 2min 24s\n"
     ]
    }
   ],
   "source": [
    "%time get_elapsed(train, grp_fld='city_int', monitor_fld='local_holiday')"
   ]
  },
  {
   "cell_type": "code",
   "execution_count": 143,
   "metadata": {},
   "outputs": [
    {
     "data": {
      "text/plain": [
       "<matplotlib.axes._subplots.AxesSubplot at 0x7f08300b1978>"
      ]
     },
     "execution_count": 143,
     "metadata": {},
     "output_type": "execute_result"
    },
    {
     "data": {
      "image/png": "[encoded data removed]",
      "text/plain": [
       "<Figure size 432x288 with 1 Axes>"
      ]
     },
     "metadata": {
      "needs_background": "light"
     },
     "output_type": "display_data"
    }
   ],
   "source": [
    "pd.Series(train['After_local_holiday']).plot()"
   ]
  },
  {
   "cell_type": "code",
   "execution_count": 144,
   "metadata": {},
   "outputs": [
    {
     "data": {
      "text/plain": [
       "50120527   43.00\n",
       "50120528   43.00\n",
       "50120529   43.00\n",
       "50120530   43.00\n",
       "50120531   43.00\n",
       "Name: After_local_holiday, dtype: float64"
      ]
     },
     "execution_count": 144,
     "metadata": {},
     "output_type": "execute_result"
    }
   ],
   "source": [
    "pd.Series(train['After_local_holiday']).tail()"
   ]
  },
  {
   "cell_type": "code",
   "execution_count": 145,
   "metadata": {},
   "outputs": [
    {
     "name": "stdout",
     "output_type": "stream",
     "text": [
      "CPU times: user 2min 22s, sys: 3.24 s, total: 2min 26s\n",
      "Wall time: 2min 26s\n"
     ]
    }
   ],
   "source": [
    "%time get_elapsed(train, grp_fld='city_int', monitor_fld='local_holiday', after=False)"
   ]
  },
  {
   "cell_type": "code",
   "execution_count": 146,
   "metadata": {},
   "outputs": [],
   "source": [
    "train.drop(['city_int'], axis=1, inplace=True)"
   ]
  },
  {
   "cell_type": "code",
   "execution_count": 147,
   "metadata": {
    "scrolled": false
   },
   "outputs": [
    {
     "data": {
      "text/html": [
       "<div>\n",
       "<style scoped>\n",
       "    .dataframe tbody tr th:only-of-type {\n",
       "        vertical-align: middle;\n",
       "    }\n",
       "\n",
       "    .dataframe tbody tr th {\n",
       "        vertical-align: top;\n",
       "    }\n",
       "\n",
       "    .dataframe thead th {\n",
       "        text-align: right;\n",
       "    }\n",
       "</style>\n",
       "<table border=\"1\" class=\"dataframe\">\n",
       "  <thead>\n",
       "    <tr style=\"text-align: right;\">\n",
       "      <th></th>\n",
       "      <th>50120527</th>\n",
       "      <th>50120528</th>\n",
       "      <th>50120529</th>\n",
       "      <th>50120530</th>\n",
       "      <th>50120531</th>\n",
       "    </tr>\n",
       "  </thead>\n",
       "  <tbody>\n",
       "    <tr>\n",
       "      <th>store_nbr</th>\n",
       "      <td>52</td>\n",
       "      <td>52</td>\n",
       "      <td>52</td>\n",
       "      <td>52</td>\n",
       "      <td>52</td>\n",
       "    </tr>\n",
       "    <tr>\n",
       "      <th>item_nbr</th>\n",
       "      <td>2011451</td>\n",
       "      <td>2011451</td>\n",
       "      <td>2011451</td>\n",
       "      <td>2011451</td>\n",
       "      <td>2011451</td>\n",
       "    </tr>\n",
       "    <tr>\n",
       "      <th>date</th>\n",
       "      <td>2017-08-11 00:00:00</td>\n",
       "      <td>2017-08-12 00:00:00</td>\n",
       "      <td>2017-08-13 00:00:00</td>\n",
       "      <td>2017-08-14 00:00:00</td>\n",
       "      <td>2017-08-15 00:00:00</td>\n",
       "    </tr>\n",
       "    <tr>\n",
       "      <th>id</th>\n",
       "      <td>NaN</td>\n",
       "      <td>NaN</td>\n",
       "      <td>NaN</td>\n",
       "      <td>NaN</td>\n",
       "      <td>NaN</td>\n",
       "    </tr>\n",
       "    <tr>\n",
       "      <th>unit_sales</th>\n",
       "      <td>0.00</td>\n",
       "      <td>0.00</td>\n",
       "      <td>0.00</td>\n",
       "      <td>0.00</td>\n",
       "      <td>0.00</td>\n",
       "    </tr>\n",
       "    <tr>\n",
       "      <th>onpromotion</th>\n",
       "      <td>False</td>\n",
       "      <td>False</td>\n",
       "      <td>False</td>\n",
       "      <td>False</td>\n",
       "      <td>False</td>\n",
       "    </tr>\n",
       "    <tr>\n",
       "      <th>holiday_type</th>\n",
       "      <td>Transfer</td>\n",
       "      <td>Work Day</td>\n",
       "      <td>Work Day</td>\n",
       "      <td>Work Day</td>\n",
       "      <td>Holiday</td>\n",
       "    </tr>\n",
       "    <tr>\n",
       "      <th>holiday_locale</th>\n",
       "      <td>National</td>\n",
       "      <td>Local</td>\n",
       "      <td>Local</td>\n",
       "      <td>Local</td>\n",
       "      <td>Local</td>\n",
       "    </tr>\n",
       "    <tr>\n",
       "      <th>holiday_locale_name</th>\n",
       "      <td>Ecuador</td>\n",
       "      <td>None</td>\n",
       "      <td>None</td>\n",
       "      <td>None</td>\n",
       "      <td>Riobamba</td>\n",
       "    </tr>\n",
       "    <tr>\n",
       "      <th>holiday_description</th>\n",
       "      <td>Traslado Primer Grito de Independencia</td>\n",
       "      <td>None</td>\n",
       "      <td>None</td>\n",
       "      <td>None</td>\n",
       "      <td>Fundacion de Riobamba</td>\n",
       "    </tr>\n",
       "    <tr>\n",
       "      <th>holiday_transferred</th>\n",
       "      <td>False</td>\n",
       "      <td>None</td>\n",
       "      <td>None</td>\n",
       "      <td>None</td>\n",
       "      <td>False</td>\n",
       "    </tr>\n",
       "    <tr>\n",
       "      <th>city</th>\n",
       "      <td>Manta</td>\n",
       "      <td>Manta</td>\n",
       "      <td>Manta</td>\n",
       "      <td>Manta</td>\n",
       "      <td>Manta</td>\n",
       "    </tr>\n",
       "    <tr>\n",
       "      <th>state</th>\n",
       "      <td>Manabi</td>\n",
       "      <td>Manabi</td>\n",
       "      <td>Manabi</td>\n",
       "      <td>Manabi</td>\n",
       "      <td>Manabi</td>\n",
       "    </tr>\n",
       "    <tr>\n",
       "      <th>store_type</th>\n",
       "      <td>A</td>\n",
       "      <td>A</td>\n",
       "      <td>A</td>\n",
       "      <td>A</td>\n",
       "      <td>A</td>\n",
       "    </tr>\n",
       "    <tr>\n",
       "      <th>cluster</th>\n",
       "      <td>11</td>\n",
       "      <td>11</td>\n",
       "      <td>11</td>\n",
       "      <td>11</td>\n",
       "      <td>11</td>\n",
       "    </tr>\n",
       "    <tr>\n",
       "      <th>family</th>\n",
       "      <td>GROCERY I</td>\n",
       "      <td>GROCERY I</td>\n",
       "      <td>GROCERY I</td>\n",
       "      <td>GROCERY I</td>\n",
       "      <td>GROCERY I</td>\n",
       "    </tr>\n",
       "    <tr>\n",
       "      <th>class</th>\n",
       "      <td>1063</td>\n",
       "      <td>1063</td>\n",
       "      <td>1063</td>\n",
       "      <td>1063</td>\n",
       "      <td>1063</td>\n",
       "    </tr>\n",
       "    <tr>\n",
       "      <th>perishable</th>\n",
       "      <td>False</td>\n",
       "      <td>False</td>\n",
       "      <td>False</td>\n",
       "      <td>False</td>\n",
       "      <td>False</td>\n",
       "    </tr>\n",
       "    <tr>\n",
       "      <th>dcoilwtico</th>\n",
       "      <td>48</td>\n",
       "      <td>48</td>\n",
       "      <td>48</td>\n",
       "      <td>47</td>\n",
       "      <td>47</td>\n",
       "    </tr>\n",
       "    <tr>\n",
       "      <th>holiday_type_Transfer</th>\n",
       "      <td>True</td>\n",
       "      <td>False</td>\n",
       "      <td>False</td>\n",
       "      <td>False</td>\n",
       "      <td>False</td>\n",
       "    </tr>\n",
       "    <tr>\n",
       "      <th>holiday_type_Additional</th>\n",
       "      <td>False</td>\n",
       "      <td>False</td>\n",
       "      <td>False</td>\n",
       "      <td>False</td>\n",
       "      <td>False</td>\n",
       "    </tr>\n",
       "    <tr>\n",
       "      <th>holiday_type_Event</th>\n",
       "      <td>False</td>\n",
       "      <td>False</td>\n",
       "      <td>False</td>\n",
       "      <td>False</td>\n",
       "      <td>False</td>\n",
       "    </tr>\n",
       "    <tr>\n",
       "      <th>national_holiday</th>\n",
       "      <td>False</td>\n",
       "      <td>False</td>\n",
       "      <td>False</td>\n",
       "      <td>False</td>\n",
       "      <td>False</td>\n",
       "    </tr>\n",
       "    <tr>\n",
       "      <th>local_holiday</th>\n",
       "      <td>False</td>\n",
       "      <td>False</td>\n",
       "      <td>False</td>\n",
       "      <td>False</td>\n",
       "      <td>False</td>\n",
       "    </tr>\n",
       "    <tr>\n",
       "      <th>regional_holiday</th>\n",
       "      <td>False</td>\n",
       "      <td>False</td>\n",
       "      <td>False</td>\n",
       "      <td>False</td>\n",
       "      <td>False</td>\n",
       "    </tr>\n",
       "    <tr>\n",
       "      <th>After_national_holiday</th>\n",
       "      <td>5.00</td>\n",
       "      <td>5.00</td>\n",
       "      <td>5.00</td>\n",
       "      <td>5.00</td>\n",
       "      <td>5.00</td>\n",
       "    </tr>\n",
       "    <tr>\n",
       "      <th>Before_national_holiday</th>\n",
       "      <td>0.00</td>\n",
       "      <td>0.00</td>\n",
       "      <td>0.00</td>\n",
       "      <td>0.00</td>\n",
       "      <td>0.00</td>\n",
       "    </tr>\n",
       "    <tr>\n",
       "      <th>After_local_holiday</th>\n",
       "      <td>43.00</td>\n",
       "      <td>43.00</td>\n",
       "      <td>43.00</td>\n",
       "      <td>43.00</td>\n",
       "      <td>43.00</td>\n",
       "    </tr>\n",
       "    <tr>\n",
       "      <th>Before_local_holiday</th>\n",
       "      <td>-183.00</td>\n",
       "      <td>-183.00</td>\n",
       "      <td>-183.00</td>\n",
       "      <td>-183.00</td>\n",
       "      <td>-183.00</td>\n",
       "    </tr>\n",
       "  </tbody>\n",
       "</table>\n",
       "</div>"
      ],
      "text/plain": [
       "                                                       50120527  \\\n",
       "store_nbr                                                    52   \n",
       "item_nbr                                                2011451   \n",
       "date                                        2017-08-11 00:00:00   \n",
       "id                                                          NaN   \n",
       "unit_sales                                                 0.00   \n",
       "onpromotion                                               False   \n",
       "holiday_type                                           Transfer   \n",
       "holiday_locale                                         National   \n",
       "holiday_locale_name                                     Ecuador   \n",
       "holiday_description      Traslado Primer Grito de Independencia   \n",
       "holiday_transferred                                       False   \n",
       "city                                                      Manta   \n",
       "state                                                    Manabi   \n",
       "store_type                                                    A   \n",
       "cluster                                                      11   \n",
       "family                                                GROCERY I   \n",
       "class                                                      1063   \n",
       "perishable                                                False   \n",
       "dcoilwtico                                                   48   \n",
       "holiday_type_Transfer                                      True   \n",
       "holiday_type_Additional                                   False   \n",
       "holiday_type_Event                                        False   \n",
       "national_holiday                                          False   \n",
       "local_holiday                                             False   \n",
       "regional_holiday                                          False   \n",
       "After_national_holiday                                     5.00   \n",
       "Before_national_holiday                                    0.00   \n",
       "After_local_holiday                                       43.00   \n",
       "Before_local_holiday                                    -183.00   \n",
       "\n",
       "                                    50120528             50120529  \\\n",
       "store_nbr                                 52                   52   \n",
       "item_nbr                             2011451              2011451   \n",
       "date                     2017-08-12 00:00:00  2017-08-13 00:00:00   \n",
       "id                                       NaN                  NaN   \n",
       "unit_sales                              0.00                 0.00   \n",
       "onpromotion                            False                False   \n",
       "holiday_type                        Work Day             Work Day   \n",
       "holiday_locale                         Local                Local   \n",
       "holiday_locale_name                     None                 None   \n",
       "holiday_description                     None                 None   \n",
       "holiday_transferred                     None                 None   \n",
       "city                                   Manta                Manta   \n",
       "state                                 Manabi               Manabi   \n",
       "store_type                                 A                    A   \n",
       "cluster                                   11                   11   \n",
       "family                             GROCERY I            GROCERY I   \n",
       "class                                   1063                 1063   \n",
       "perishable                             False                False   \n",
       "dcoilwtico                                48                   48   \n",
       "holiday_type_Transfer                  False                False   \n",
       "holiday_type_Additional                False                False   \n",
       "holiday_type_Event                     False                False   \n",
       "national_holiday                       False                False   \n",
       "local_holiday                          False                False   \n",
       "regional_holiday                       False                False   \n",
       "After_national_holiday                  5.00                 5.00   \n",
       "Before_national_holiday                 0.00                 0.00   \n",
       "After_local_holiday                    43.00                43.00   \n",
       "Before_local_holiday                 -183.00              -183.00   \n",
       "\n",
       "                                    50120530               50120531  \n",
       "store_nbr                                 52                     52  \n",
       "item_nbr                             2011451                2011451  \n",
       "date                     2017-08-14 00:00:00    2017-08-15 00:00:00  \n",
       "id                                       NaN                    NaN  \n",
       "unit_sales                              0.00                   0.00  \n",
       "onpromotion                            False                  False  \n",
       "holiday_type                        Work Day                Holiday  \n",
       "holiday_locale                         Local                  Local  \n",
       "holiday_locale_name                     None               Riobamba  \n",
       "holiday_description                     None  Fundacion de Riobamba  \n",
       "holiday_transferred                     None                  False  \n",
       "city                                   Manta                  Manta  \n",
       "state                                 Manabi                 Manabi  \n",
       "store_type                                 A                      A  \n",
       "cluster                                   11                     11  \n",
       "family                             GROCERY I              GROCERY I  \n",
       "class                                   1063                   1063  \n",
       "perishable                             False                  False  \n",
       "dcoilwtico                                47                     47  \n",
       "holiday_type_Transfer                  False                  False  \n",
       "holiday_type_Additional                False                  False  \n",
       "holiday_type_Event                     False                  False  \n",
       "national_holiday                       False                  False  \n",
       "local_holiday                          False                  False  \n",
       "regional_holiday                       False                  False  \n",
       "After_national_holiday                  5.00                   5.00  \n",
       "Before_national_holiday                 0.00                   0.00  \n",
       "After_local_holiday                    43.00                  43.00  \n",
       "Before_local_holiday                 -183.00                -183.00  "
      ]
     },
     "metadata": {},
     "output_type": "display_data"
    }
   ],
   "source": [
    "display_all(train.tail().T)"
   ]
  },
  {
   "cell_type": "code",
   "execution_count": 148,
   "metadata": {},
   "outputs": [],
   "source": [
    "city_int = [dict[c] for c in test.city]"
   ]
  },
  {
   "cell_type": "code",
   "execution_count": 149,
   "metadata": {},
   "outputs": [],
   "source": [
    "test['city_int'] = city_int"
   ]
  },
  {
   "cell_type": "code",
   "execution_count": 150,
   "metadata": {},
   "outputs": [
    {
     "name": "stdout",
     "output_type": "stream",
     "text": [
      "CPU times: user 9.39 s, sys: 40 ms, total: 9.43 s\n",
      "Wall time: 9.43 s\n"
     ]
    }
   ],
   "source": [
    "%time get_elapsed(test, grp_fld='city_int', monitor_fld='local_holiday')"
   ]
  },
  {
   "cell_type": "code",
   "execution_count": 151,
   "metadata": {},
   "outputs": [
    {
     "name": "stdout",
     "output_type": "stream",
     "text": [
      "CPU times: user 9.54 s, sys: 124 ms, total: 9.67 s\n",
      "Wall time: 9.67 s\n"
     ]
    }
   ],
   "source": [
    "%time get_elapsed(test, grp_fld='city_int', monitor_fld='local_holiday', after=False)"
   ]
  },
  {
   "cell_type": "code",
   "execution_count": 152,
   "metadata": {},
   "outputs": [],
   "source": [
    "test.drop(['city_int'], axis=1, inplace=True)"
   ]
  },
  {
   "cell_type": "code",
   "execution_count": 153,
   "metadata": {},
   "outputs": [
    {
     "data": {
      "text/plain": [
       "<matplotlib.axes._subplots.AxesSubplot at 0x7f049b7a5048>"
      ]
     },
     "execution_count": 153,
     "metadata": {},
     "output_type": "execute_result"
    },
    {
     "data": {
      "image/png": "[encoded data removed]",
      "text/plain": [
       "<Figure size 432x288 with 1 Axes>"
      ]
     },
     "metadata": {
      "needs_background": "light"
     },
     "output_type": "display_data"
    }
   ],
   "source": [
    "pd.Series(test['Before_local_holiday']).plot()"
   ]
  },
  {
   "cell_type": "code",
   "execution_count": 154,
   "metadata": {
    "scrolled": false
   },
   "outputs": [
    {
     "data": {
      "text/html": [
       "<div>\n",
       "<style scoped>\n",
       "    .dataframe tbody tr th:only-of-type {\n",
       "        vertical-align: middle;\n",
       "    }\n",
       "\n",
       "    .dataframe tbody tr th {\n",
       "        vertical-align: top;\n",
       "    }\n",
       "\n",
       "    .dataframe thead th {\n",
       "        text-align: right;\n",
       "    }\n",
       "</style>\n",
       "<table border=\"1\" class=\"dataframe\">\n",
       "  <thead>\n",
       "    <tr style=\"text-align: right;\">\n",
       "      <th></th>\n",
       "      <th>3370459</th>\n",
       "      <th>3370460</th>\n",
       "      <th>3370461</th>\n",
       "      <th>3370462</th>\n",
       "      <th>3370463</th>\n",
       "    </tr>\n",
       "  </thead>\n",
       "  <tbody>\n",
       "    <tr>\n",
       "      <th>id</th>\n",
       "      <td>128867499</td>\n",
       "      <td>128867500</td>\n",
       "      <td>128867501</td>\n",
       "      <td>128867502</td>\n",
       "      <td>128867503</td>\n",
       "    </tr>\n",
       "    <tr>\n",
       "      <th>date</th>\n",
       "      <td>2017-08-31 00:00:00</td>\n",
       "      <td>2017-08-31 00:00:00</td>\n",
       "      <td>2017-08-31 00:00:00</td>\n",
       "      <td>2017-08-31 00:00:00</td>\n",
       "      <td>2017-08-31 00:00:00</td>\n",
       "    </tr>\n",
       "    <tr>\n",
       "      <th>store_nbr</th>\n",
       "      <td>54</td>\n",
       "      <td>54</td>\n",
       "      <td>54</td>\n",
       "      <td>54</td>\n",
       "      <td>54</td>\n",
       "    </tr>\n",
       "    <tr>\n",
       "      <th>item_nbr</th>\n",
       "      <td>2132163</td>\n",
       "      <td>2132318</td>\n",
       "      <td>2132945</td>\n",
       "      <td>2132957</td>\n",
       "      <td>2134244</td>\n",
       "    </tr>\n",
       "    <tr>\n",
       "      <th>onpromotion</th>\n",
       "      <td>False</td>\n",
       "      <td>False</td>\n",
       "      <td>False</td>\n",
       "      <td>False</td>\n",
       "      <td>False</td>\n",
       "    </tr>\n",
       "    <tr>\n",
       "      <th>holiday_type</th>\n",
       "      <td>Work Day</td>\n",
       "      <td>Work Day</td>\n",
       "      <td>Work Day</td>\n",
       "      <td>Work Day</td>\n",
       "      <td>Work Day</td>\n",
       "    </tr>\n",
       "    <tr>\n",
       "      <th>holiday_locale</th>\n",
       "      <td>Local</td>\n",
       "      <td>Local</td>\n",
       "      <td>Local</td>\n",
       "      <td>Local</td>\n",
       "      <td>Local</td>\n",
       "    </tr>\n",
       "    <tr>\n",
       "      <th>holiday_locale_name</th>\n",
       "      <td>None</td>\n",
       "      <td>None</td>\n",
       "      <td>None</td>\n",
       "      <td>None</td>\n",
       "      <td>None</td>\n",
       "    </tr>\n",
       "    <tr>\n",
       "      <th>holiday_description</th>\n",
       "      <td>None</td>\n",
       "      <td>None</td>\n",
       "      <td>None</td>\n",
       "      <td>None</td>\n",
       "      <td>None</td>\n",
       "    </tr>\n",
       "    <tr>\n",
       "      <th>holiday_transferred</th>\n",
       "      <td>None</td>\n",
       "      <td>None</td>\n",
       "      <td>None</td>\n",
       "      <td>None</td>\n",
       "      <td>None</td>\n",
       "    </tr>\n",
       "    <tr>\n",
       "      <th>city</th>\n",
       "      <td>El Carmen</td>\n",
       "      <td>El Carmen</td>\n",
       "      <td>El Carmen</td>\n",
       "      <td>El Carmen</td>\n",
       "      <td>El Carmen</td>\n",
       "    </tr>\n",
       "    <tr>\n",
       "      <th>state</th>\n",
       "      <td>Manabi</td>\n",
       "      <td>Manabi</td>\n",
       "      <td>Manabi</td>\n",
       "      <td>Manabi</td>\n",
       "      <td>Manabi</td>\n",
       "    </tr>\n",
       "    <tr>\n",
       "      <th>store_type</th>\n",
       "      <td>C</td>\n",
       "      <td>C</td>\n",
       "      <td>C</td>\n",
       "      <td>C</td>\n",
       "      <td>C</td>\n",
       "    </tr>\n",
       "    <tr>\n",
       "      <th>cluster</th>\n",
       "      <td>3</td>\n",
       "      <td>3</td>\n",
       "      <td>3</td>\n",
       "      <td>3</td>\n",
       "      <td>3</td>\n",
       "    </tr>\n",
       "    <tr>\n",
       "      <th>family</th>\n",
       "      <td>GROCERY I</td>\n",
       "      <td>GROCERY I</td>\n",
       "      <td>GROCERY I</td>\n",
       "      <td>GROCERY I</td>\n",
       "      <td>LIQUOR,WINE,BEER</td>\n",
       "    </tr>\n",
       "    <tr>\n",
       "      <th>class</th>\n",
       "      <td>1040</td>\n",
       "      <td>1002</td>\n",
       "      <td>1026</td>\n",
       "      <td>1068</td>\n",
       "      <td>1364</td>\n",
       "    </tr>\n",
       "    <tr>\n",
       "      <th>perishable</th>\n",
       "      <td>False</td>\n",
       "      <td>False</td>\n",
       "      <td>False</td>\n",
       "      <td>False</td>\n",
       "      <td>False</td>\n",
       "    </tr>\n",
       "    <tr>\n",
       "      <th>dcoilwtico</th>\n",
       "      <td>47</td>\n",
       "      <td>47</td>\n",
       "      <td>47</td>\n",
       "      <td>47</td>\n",
       "      <td>47</td>\n",
       "    </tr>\n",
       "    <tr>\n",
       "      <th>national_holiday</th>\n",
       "      <td>False</td>\n",
       "      <td>False</td>\n",
       "      <td>False</td>\n",
       "      <td>False</td>\n",
       "      <td>False</td>\n",
       "    </tr>\n",
       "    <tr>\n",
       "      <th>local_holiday</th>\n",
       "      <td>False</td>\n",
       "      <td>False</td>\n",
       "      <td>False</td>\n",
       "      <td>False</td>\n",
       "      <td>False</td>\n",
       "    </tr>\n",
       "    <tr>\n",
       "      <th>regional_holiday</th>\n",
       "      <td>False</td>\n",
       "      <td>False</td>\n",
       "      <td>False</td>\n",
       "      <td>False</td>\n",
       "      <td>False</td>\n",
       "    </tr>\n",
       "    <tr>\n",
       "      <th>After_national_holiday</th>\n",
       "      <td>NaN</td>\n",
       "      <td>NaN</td>\n",
       "      <td>NaN</td>\n",
       "      <td>NaN</td>\n",
       "      <td>NaN</td>\n",
       "    </tr>\n",
       "    <tr>\n",
       "      <th>Before_national_holiday</th>\n",
       "      <td>NaN</td>\n",
       "      <td>NaN</td>\n",
       "      <td>NaN</td>\n",
       "      <td>NaN</td>\n",
       "      <td>NaN</td>\n",
       "    </tr>\n",
       "    <tr>\n",
       "      <th>After_local_holiday</th>\n",
       "      <td>NaN</td>\n",
       "      <td>NaN</td>\n",
       "      <td>NaN</td>\n",
       "      <td>NaN</td>\n",
       "      <td>NaN</td>\n",
       "    </tr>\n",
       "    <tr>\n",
       "      <th>Before_local_holiday</th>\n",
       "      <td>NaN</td>\n",
       "      <td>NaN</td>\n",
       "      <td>NaN</td>\n",
       "      <td>NaN</td>\n",
       "      <td>NaN</td>\n",
       "    </tr>\n",
       "  </tbody>\n",
       "</table>\n",
       "</div>"
      ],
      "text/plain": [
       "                                     3370459              3370460  \\\n",
       "id                                 128867499            128867500   \n",
       "date                     2017-08-31 00:00:00  2017-08-31 00:00:00   \n",
       "store_nbr                                 54                   54   \n",
       "item_nbr                             2132163              2132318   \n",
       "onpromotion                            False                False   \n",
       "holiday_type                        Work Day             Work Day   \n",
       "holiday_locale                         Local                Local   \n",
       "holiday_locale_name                     None                 None   \n",
       "holiday_description                     None                 None   \n",
       "holiday_transferred                     None                 None   \n",
       "city                               El Carmen            El Carmen   \n",
       "state                                 Manabi               Manabi   \n",
       "store_type                                 C                    C   \n",
       "cluster                                    3                    3   \n",
       "family                             GROCERY I            GROCERY I   \n",
       "class                                   1040                 1002   \n",
       "perishable                             False                False   \n",
       "dcoilwtico                                47                   47   \n",
       "national_holiday                       False                False   \n",
       "local_holiday                          False                False   \n",
       "regional_holiday                       False                False   \n",
       "After_national_holiday                   NaN                  NaN   \n",
       "Before_national_holiday                  NaN                  NaN   \n",
       "After_local_holiday                      NaN                  NaN   \n",
       "Before_local_holiday                     NaN                  NaN   \n",
       "\n",
       "                                     3370461              3370462  \\\n",
       "id                                 128867501            128867502   \n",
       "date                     2017-08-31 00:00:00  2017-08-31 00:00:00   \n",
       "store_nbr                                 54                   54   \n",
       "item_nbr                             2132945              2132957   \n",
       "onpromotion                            False                False   \n",
       "holiday_type                        Work Day             Work Day   \n",
       "holiday_locale                         Local                Local   \n",
       "holiday_locale_name                     None                 None   \n",
       "holiday_description                     None                 None   \n",
       "holiday_transferred                     None                 None   \n",
       "city                               El Carmen            El Carmen   \n",
       "state                                 Manabi               Manabi   \n",
       "store_type                                 C                    C   \n",
       "cluster                                    3                    3   \n",
       "family                             GROCERY I            GROCERY I   \n",
       "class                                   1026                 1068   \n",
       "perishable                             False                False   \n",
       "dcoilwtico                                47                   47   \n",
       "national_holiday                       False                False   \n",
       "local_holiday                          False                False   \n",
       "regional_holiday                       False                False   \n",
       "After_national_holiday                   NaN                  NaN   \n",
       "Before_national_holiday                  NaN                  NaN   \n",
       "After_local_holiday                      NaN                  NaN   \n",
       "Before_local_holiday                     NaN                  NaN   \n",
       "\n",
       "                                     3370463  \n",
       "id                                 128867503  \n",
       "date                     2017-08-31 00:00:00  \n",
       "store_nbr                                 54  \n",
       "item_nbr                             2134244  \n",
       "onpromotion                            False  \n",
       "holiday_type                        Work Day  \n",
       "holiday_locale                         Local  \n",
       "holiday_locale_name                     None  \n",
       "holiday_description                     None  \n",
       "holiday_transferred                     None  \n",
       "city                               El Carmen  \n",
       "state                                 Manabi  \n",
       "store_type                                 C  \n",
       "cluster                                    3  \n",
       "family                      LIQUOR,WINE,BEER  \n",
       "class                                   1364  \n",
       "perishable                             False  \n",
       "dcoilwtico                                47  \n",
       "national_holiday                       False  \n",
       "local_holiday                          False  \n",
       "regional_holiday                       False  \n",
       "After_national_holiday                   NaN  \n",
       "Before_national_holiday                  NaN  \n",
       "After_local_holiday                      NaN  \n",
       "Before_local_holiday                     NaN  "
      ]
     },
     "metadata": {},
     "output_type": "display_data"
    }
   ],
   "source": [
    "display_all(test.tail().T)"
   ]
  },
  {
   "cell_type": "code",
   "execution_count": 155,
   "metadata": {
    "scrolled": true
   },
   "outputs": [
    {
     "data": {
      "text/plain": [
       "(0, 1084860, 43808258, 38191094)"
      ]
     },
     "execution_count": 155,
     "metadata": {},
     "output_type": "execute_result"
    }
   ],
   "source": [
    "sum(train.After_national_holiday.isnull()), sum(train.Before_national_holiday.isnull()), sum(train.After_local_holiday.isnull()), sum(train.Before_local_holiday.isnull())"
   ]
  },
  {
   "cell_type": "code",
   "execution_count": 156,
   "metadata": {},
   "outputs": [],
   "source": [
    "train.After_national_holiday.fillna(0, inplace=True)\n",
    "train.Before_national_holiday.fillna(0, inplace=True)\n",
    "train.After_local_holiday.fillna(0, inplace=True)\n",
    "train.Before_local_holiday.fillna(0, inplace=True)"
   ]
  },
  {
   "cell_type": "code",
   "execution_count": 157,
   "metadata": {
    "scrolled": true
   },
   "outputs": [
    {
     "data": {
      "text/plain": [
       "(3370464, 3370464, 3308048, 3300246)"
      ]
     },
     "execution_count": 157,
     "metadata": {},
     "output_type": "execute_result"
    }
   ],
   "source": [
    "sum(test.After_national_holiday.isnull()), sum(test.Before_national_holiday.isnull()), sum(test.After_local_holiday.isnull()), sum(test.Before_local_holiday.isnull())"
   ]
  },
  {
   "cell_type": "code",
   "execution_count": 158,
   "metadata": {},
   "outputs": [],
   "source": [
    "test.After_national_holiday.fillna(0, inplace=True)\n",
    "test.Before_national_holiday.fillna(0, inplace=True)\n",
    "test.After_local_holiday.fillna(0, inplace=True)\n",
    "test.Before_local_holiday.fillna(0, inplace=True)"
   ]
  },
  {
   "cell_type": "code",
   "execution_count": 159,
   "metadata": {
    "scrolled": true
   },
   "outputs": [
    {
     "name": "stdout",
     "output_type": "stream",
     "text": [
      "CPU times: user 20.9 s, sys: 8.15 s, total: 29.1 s\n",
      "Wall time: 1min 21s\n"
     ]
    }
   ],
   "source": [
    "%%time\n",
    "train.to_feather(f'{PATH}data/grocery_train')\n",
    "test.to_feather(f'{PATH}data/grocery_test')"
   ]
  },
  {
   "cell_type": "code",
   "execution_count": 160,
   "metadata": {},
   "outputs": [
    {
     "name": "stderr",
     "output_type": "stream",
     "text": [
      "/home/ubuntu/anaconda3/envs/fastai/lib/python3.6/site-packages/pandas/io/feather_format.py:112: FutureWarning: `nthreads` argument is deprecated, pass `use_threads` instead\n",
      "  return feather.read_dataframe(path, nthreads=nthreads)\n"
     ]
    },
    {
     "name": "stdout",
     "output_type": "stream",
     "text": [
      "CPU times: user 23.6 s, sys: 9.53 s, total: 33.1 s\n",
      "Wall time: 33.1 s\n"
     ]
    }
   ],
   "source": [
    "%%time\n",
    "train = pd.read_feather(f'{PATH}data/grocery_train')\n",
    "test = pd.read_feather(f'{PATH}data/grocery_test')"
   ]
  },
  {
   "cell_type": "markdown",
   "metadata": {},
   "source": [
    "### 4.3 Add Date Part"
   ]
  },
  {
   "cell_type": "markdown",
   "metadata": {},
   "source": [
    "The following extracts particular date fields from a complete datetime for the purpose of constructing categoricals.\n",
    "This makes it possible to capture any trend/cyclical behavior as a function of time at any of these granularities."
   ]
  },
  {
   "cell_type": "code",
   "execution_count": 161,
   "metadata": {},
   "outputs": [
    {
     "name": "stdout",
     "output_type": "stream",
     "text": [
      "CPU times: user 21.8 s, sys: 1.8 s, total: 23.6 s\n",
      "Wall time: 23.6 s\n"
     ]
    }
   ],
   "source": [
    "%time add_datepart(train, \"date\", drop=False)"
   ]
  },
  {
   "cell_type": "code",
   "execution_count": 162,
   "metadata": {},
   "outputs": [
    {
     "name": "stdout",
     "output_type": "stream",
     "text": [
      "CPU times: user 1.52 s, sys: 32 ms, total: 1.55 s\n",
      "Wall time: 1.55 s\n"
     ]
    }
   ],
   "source": [
    "%time add_datepart(test, \"date\", drop=False)"
   ]
  },
  {
   "cell_type": "code",
   "execution_count": 163,
   "metadata": {
    "scrolled": false
   },
   "outputs": [
    {
     "data": {
      "text/html": [
       "<div>\n",
       "<style scoped>\n",
       "    .dataframe tbody tr th:only-of-type {\n",
       "        vertical-align: middle;\n",
       "    }\n",
       "\n",
       "    .dataframe tbody tr th {\n",
       "        vertical-align: top;\n",
       "    }\n",
       "\n",
       "    .dataframe thead th {\n",
       "        text-align: right;\n",
       "    }\n",
       "</style>\n",
       "<table border=\"1\" class=\"dataframe\">\n",
       "  <thead>\n",
       "    <tr style=\"text-align: right;\">\n",
       "      <th></th>\n",
       "      <th>50120527</th>\n",
       "      <th>50120528</th>\n",
       "      <th>50120529</th>\n",
       "      <th>50120530</th>\n",
       "      <th>50120531</th>\n",
       "    </tr>\n",
       "  </thead>\n",
       "  <tbody>\n",
       "    <tr>\n",
       "      <th>store_nbr</th>\n",
       "      <td>52</td>\n",
       "      <td>52</td>\n",
       "      <td>52</td>\n",
       "      <td>52</td>\n",
       "      <td>52</td>\n",
       "    </tr>\n",
       "    <tr>\n",
       "      <th>item_nbr</th>\n",
       "      <td>2011451</td>\n",
       "      <td>2011451</td>\n",
       "      <td>2011451</td>\n",
       "      <td>2011451</td>\n",
       "      <td>2011451</td>\n",
       "    </tr>\n",
       "    <tr>\n",
       "      <th>date</th>\n",
       "      <td>2017-08-11 00:00:00</td>\n",
       "      <td>2017-08-12 00:00:00</td>\n",
       "      <td>2017-08-13 00:00:00</td>\n",
       "      <td>2017-08-14 00:00:00</td>\n",
       "      <td>2017-08-15 00:00:00</td>\n",
       "    </tr>\n",
       "    <tr>\n",
       "      <th>id</th>\n",
       "      <td>NaN</td>\n",
       "      <td>NaN</td>\n",
       "      <td>NaN</td>\n",
       "      <td>NaN</td>\n",
       "      <td>NaN</td>\n",
       "    </tr>\n",
       "    <tr>\n",
       "      <th>unit_sales</th>\n",
       "      <td>0.00</td>\n",
       "      <td>0.00</td>\n",
       "      <td>0.00</td>\n",
       "      <td>0.00</td>\n",
       "      <td>0.00</td>\n",
       "    </tr>\n",
       "    <tr>\n",
       "      <th>onpromotion</th>\n",
       "      <td>False</td>\n",
       "      <td>False</td>\n",
       "      <td>False</td>\n",
       "      <td>False</td>\n",
       "      <td>False</td>\n",
       "    </tr>\n",
       "    <tr>\n",
       "      <th>holiday_type</th>\n",
       "      <td>Transfer</td>\n",
       "      <td>Work Day</td>\n",
       "      <td>Work Day</td>\n",
       "      <td>Work Day</td>\n",
       "      <td>Holiday</td>\n",
       "    </tr>\n",
       "    <tr>\n",
       "      <th>holiday_locale</th>\n",
       "      <td>National</td>\n",
       "      <td>Local</td>\n",
       "      <td>Local</td>\n",
       "      <td>Local</td>\n",
       "      <td>Local</td>\n",
       "    </tr>\n",
       "    <tr>\n",
       "      <th>holiday_locale_name</th>\n",
       "      <td>Ecuador</td>\n",
       "      <td>None</td>\n",
       "      <td>None</td>\n",
       "      <td>None</td>\n",
       "      <td>Riobamba</td>\n",
       "    </tr>\n",
       "    <tr>\n",
       "      <th>holiday_description</th>\n",
       "      <td>Traslado Primer Grito de Independencia</td>\n",
       "      <td>None</td>\n",
       "      <td>None</td>\n",
       "      <td>None</td>\n",
       "      <td>Fundacion de Riobamba</td>\n",
       "    </tr>\n",
       "    <tr>\n",
       "      <th>holiday_transferred</th>\n",
       "      <td>False</td>\n",
       "      <td>None</td>\n",
       "      <td>None</td>\n",
       "      <td>None</td>\n",
       "      <td>False</td>\n",
       "    </tr>\n",
       "    <tr>\n",
       "      <th>city</th>\n",
       "      <td>Manta</td>\n",
       "      <td>Manta</td>\n",
       "      <td>Manta</td>\n",
       "      <td>Manta</td>\n",
       "      <td>Manta</td>\n",
       "    </tr>\n",
       "    <tr>\n",
       "      <th>state</th>\n",
       "      <td>Manabi</td>\n",
       "      <td>Manabi</td>\n",
       "      <td>Manabi</td>\n",
       "      <td>Manabi</td>\n",
       "      <td>Manabi</td>\n",
       "    </tr>\n",
       "    <tr>\n",
       "      <th>store_type</th>\n",
       "      <td>A</td>\n",
       "      <td>A</td>\n",
       "      <td>A</td>\n",
       "      <td>A</td>\n",
       "      <td>A</td>\n",
       "    </tr>\n",
       "    <tr>\n",
       "      <th>cluster</th>\n",
       "      <td>11</td>\n",
       "      <td>11</td>\n",
       "      <td>11</td>\n",
       "      <td>11</td>\n",
       "      <td>11</td>\n",
       "    </tr>\n",
       "    <tr>\n",
       "      <th>family</th>\n",
       "      <td>GROCERY I</td>\n",
       "      <td>GROCERY I</td>\n",
       "      <td>GROCERY I</td>\n",
       "      <td>GROCERY I</td>\n",
       "      <td>GROCERY I</td>\n",
       "    </tr>\n",
       "    <tr>\n",
       "      <th>class</th>\n",
       "      <td>1063</td>\n",
       "      <td>1063</td>\n",
       "      <td>1063</td>\n",
       "      <td>1063</td>\n",
       "      <td>1063</td>\n",
       "    </tr>\n",
       "    <tr>\n",
       "      <th>perishable</th>\n",
       "      <td>False</td>\n",
       "      <td>False</td>\n",
       "      <td>False</td>\n",
       "      <td>False</td>\n",
       "      <td>False</td>\n",
       "    </tr>\n",
       "    <tr>\n",
       "      <th>dcoilwtico</th>\n",
       "      <td>48</td>\n",
       "      <td>48</td>\n",
       "      <td>48</td>\n",
       "      <td>47</td>\n",
       "      <td>47</td>\n",
       "    </tr>\n",
       "    <tr>\n",
       "      <th>holiday_type_Transfer</th>\n",
       "      <td>True</td>\n",
       "      <td>False</td>\n",
       "      <td>False</td>\n",
       "      <td>False</td>\n",
       "      <td>False</td>\n",
       "    </tr>\n",
       "    <tr>\n",
       "      <th>holiday_type_Additional</th>\n",
       "      <td>False</td>\n",
       "      <td>False</td>\n",
       "      <td>False</td>\n",
       "      <td>False</td>\n",
       "      <td>False</td>\n",
       "    </tr>\n",
       "    <tr>\n",
       "      <th>holiday_type_Event</th>\n",
       "      <td>False</td>\n",
       "      <td>False</td>\n",
       "      <td>False</td>\n",
       "      <td>False</td>\n",
       "      <td>False</td>\n",
       "    </tr>\n",
       "    <tr>\n",
       "      <th>national_holiday</th>\n",
       "      <td>False</td>\n",
       "      <td>False</td>\n",
       "      <td>False</td>\n",
       "      <td>False</td>\n",
       "      <td>False</td>\n",
       "    </tr>\n",
       "    <tr>\n",
       "      <th>local_holiday</th>\n",
       "      <td>False</td>\n",
       "      <td>False</td>\n",
       "      <td>False</td>\n",
       "      <td>False</td>\n",
       "      <td>False</td>\n",
       "    </tr>\n",
       "    <tr>\n",
       "      <th>regional_holiday</th>\n",
       "      <td>False</td>\n",
       "      <td>False</td>\n",
       "      <td>False</td>\n",
       "      <td>False</td>\n",
       "      <td>False</td>\n",
       "    </tr>\n",
       "    <tr>\n",
       "      <th>After_national_holiday</th>\n",
       "      <td>5.00</td>\n",
       "      <td>5.00</td>\n",
       "      <td>5.00</td>\n",
       "      <td>5.00</td>\n",
       "      <td>5.00</td>\n",
       "    </tr>\n",
       "    <tr>\n",
       "      <th>Before_national_holiday</th>\n",
       "      <td>0.00</td>\n",
       "      <td>0.00</td>\n",
       "      <td>0.00</td>\n",
       "      <td>0.00</td>\n",
       "      <td>0.00</td>\n",
       "    </tr>\n",
       "    <tr>\n",
       "      <th>After_local_holiday</th>\n",
       "      <td>43.00</td>\n",
       "      <td>43.00</td>\n",
       "      <td>43.00</td>\n",
       "      <td>43.00</td>\n",
       "      <td>43.00</td>\n",
       "    </tr>\n",
       "    <tr>\n",
       "      <th>Before_local_holiday</th>\n",
       "      <td>-183.00</td>\n",
       "      <td>-183.00</td>\n",
       "      <td>-183.00</td>\n",
       "      <td>-183.00</td>\n",
       "      <td>-183.00</td>\n",
       "    </tr>\n",
       "    <tr>\n",
       "      <th>Year</th>\n",
       "      <td>2017</td>\n",
       "      <td>2017</td>\n",
       "      <td>2017</td>\n",
       "      <td>2017</td>\n",
       "      <td>2017</td>\n",
       "    </tr>\n",
       "    <tr>\n",
       "      <th>Month</th>\n",
       "      <td>8</td>\n",
       "      <td>8</td>\n",
       "      <td>8</td>\n",
       "      <td>8</td>\n",
       "      <td>8</td>\n",
       "    </tr>\n",
       "    <tr>\n",
       "      <th>Week</th>\n",
       "      <td>32</td>\n",
       "      <td>32</td>\n",
       "      <td>32</td>\n",
       "      <td>33</td>\n",
       "      <td>33</td>\n",
       "    </tr>\n",
       "    <tr>\n",
       "      <th>Day</th>\n",
       "      <td>11</td>\n",
       "      <td>12</td>\n",
       "      <td>13</td>\n",
       "      <td>14</td>\n",
       "      <td>15</td>\n",
       "    </tr>\n",
       "    <tr>\n",
       "      <th>Dayofweek</th>\n",
       "      <td>4</td>\n",
       "      <td>5</td>\n",
       "      <td>6</td>\n",
       "      <td>0</td>\n",
       "      <td>1</td>\n",
       "    </tr>\n",
       "    <tr>\n",
       "      <th>Dayofyear</th>\n",
       "      <td>223</td>\n",
       "      <td>224</td>\n",
       "      <td>225</td>\n",
       "      <td>226</td>\n",
       "      <td>227</td>\n",
       "    </tr>\n",
       "    <tr>\n",
       "      <th>Is_month_end</th>\n",
       "      <td>False</td>\n",
       "      <td>False</td>\n",
       "      <td>False</td>\n",
       "      <td>False</td>\n",
       "      <td>False</td>\n",
       "    </tr>\n",
       "    <tr>\n",
       "      <th>Is_month_start</th>\n",
       "      <td>False</td>\n",
       "      <td>False</td>\n",
       "      <td>False</td>\n",
       "      <td>False</td>\n",
       "      <td>False</td>\n",
       "    </tr>\n",
       "    <tr>\n",
       "      <th>Is_quarter_end</th>\n",
       "      <td>False</td>\n",
       "      <td>False</td>\n",
       "      <td>False</td>\n",
       "      <td>False</td>\n",
       "      <td>False</td>\n",
       "    </tr>\n",
       "    <tr>\n",
       "      <th>Is_quarter_start</th>\n",
       "      <td>False</td>\n",
       "      <td>False</td>\n",
       "      <td>False</td>\n",
       "      <td>False</td>\n",
       "      <td>False</td>\n",
       "    </tr>\n",
       "    <tr>\n",
       "      <th>Is_year_end</th>\n",
       "      <td>False</td>\n",
       "      <td>False</td>\n",
       "      <td>False</td>\n",
       "      <td>False</td>\n",
       "      <td>False</td>\n",
       "    </tr>\n",
       "    <tr>\n",
       "      <th>Is_year_start</th>\n",
       "      <td>False</td>\n",
       "      <td>False</td>\n",
       "      <td>False</td>\n",
       "      <td>False</td>\n",
       "      <td>False</td>\n",
       "    </tr>\n",
       "    <tr>\n",
       "      <th>Elapsed</th>\n",
       "      <td>1502409600</td>\n",
       "      <td>1502496000</td>\n",
       "      <td>1502582400</td>\n",
       "      <td>1502668800</td>\n",
       "      <td>1502755200</td>\n",
       "    </tr>\n",
       "  </tbody>\n",
       "</table>\n",
       "</div>"
      ],
      "text/plain": [
       "                                                       50120527  \\\n",
       "store_nbr                                                    52   \n",
       "item_nbr                                                2011451   \n",
       "date                                        2017-08-11 00:00:00   \n",
       "id                                                          NaN   \n",
       "unit_sales                                                 0.00   \n",
       "onpromotion                                               False   \n",
       "holiday_type                                           Transfer   \n",
       "holiday_locale                                         National   \n",
       "holiday_locale_name                                     Ecuador   \n",
       "holiday_description      Traslado Primer Grito de Independencia   \n",
       "holiday_transferred                                       False   \n",
       "city                                                      Manta   \n",
       "state                                                    Manabi   \n",
       "store_type                                                    A   \n",
       "cluster                                                      11   \n",
       "family                                                GROCERY I   \n",
       "class                                                      1063   \n",
       "perishable                                                False   \n",
       "dcoilwtico                                                   48   \n",
       "holiday_type_Transfer                                      True   \n",
       "holiday_type_Additional                                   False   \n",
       "holiday_type_Event                                        False   \n",
       "national_holiday                                          False   \n",
       "local_holiday                                             False   \n",
       "regional_holiday                                          False   \n",
       "After_national_holiday                                     5.00   \n",
       "Before_national_holiday                                    0.00   \n",
       "After_local_holiday                                       43.00   \n",
       "Before_local_holiday                                    -183.00   \n",
       "Year                                                       2017   \n",
       "Month                                                         8   \n",
       "Week                                                         32   \n",
       "Day                                                          11   \n",
       "Dayofweek                                                     4   \n",
       "Dayofyear                                                   223   \n",
       "Is_month_end                                              False   \n",
       "Is_month_start                                            False   \n",
       "Is_quarter_end                                            False   \n",
       "Is_quarter_start                                          False   \n",
       "Is_year_end                                               False   \n",
       "Is_year_start                                             False   \n",
       "Elapsed                                              1502409600   \n",
       "\n",
       "                                    50120528             50120529  \\\n",
       "store_nbr                                 52                   52   \n",
       "item_nbr                             2011451              2011451   \n",
       "date                     2017-08-12 00:00:00  2017-08-13 00:00:00   \n",
       "id                                       NaN                  NaN   \n",
       "unit_sales                              0.00                 0.00   \n",
       "onpromotion                            False                False   \n",
       "holiday_type                        Work Day             Work Day   \n",
       "holiday_locale                         Local                Local   \n",
       "holiday_locale_name                     None                 None   \n",
       "holiday_description                     None                 None   \n",
       "holiday_transferred                     None                 None   \n",
       "city                                   Manta                Manta   \n",
       "state                                 Manabi               Manabi   \n",
       "store_type                                 A                    A   \n",
       "cluster                                   11                   11   \n",
       "family                             GROCERY I            GROCERY I   \n",
       "class                                   1063                 1063   \n",
       "perishable                             False                False   \n",
       "dcoilwtico                                48                   48   \n",
       "holiday_type_Transfer                  False                False   \n",
       "holiday_type_Additional                False                False   \n",
       "holiday_type_Event                     False                False   \n",
       "national_holiday                       False                False   \n",
       "local_holiday                          False                False   \n",
       "regional_holiday                       False                False   \n",
       "After_national_holiday                  5.00                 5.00   \n",
       "Before_national_holiday                 0.00                 0.00   \n",
       "After_local_holiday                    43.00                43.00   \n",
       "Before_local_holiday                 -183.00              -183.00   \n",
       "Year                                    2017                 2017   \n",
       "Month                                      8                    8   \n",
       "Week                                      32                   32   \n",
       "Day                                       12                   13   \n",
       "Dayofweek                                  5                    6   \n",
       "Dayofyear                                224                  225   \n",
       "Is_month_end                           False                False   \n",
       "Is_month_start                         False                False   \n",
       "Is_quarter_end                         False                False   \n",
       "Is_quarter_start                       False                False   \n",
       "Is_year_end                            False                False   \n",
       "Is_year_start                          False                False   \n",
       "Elapsed                           1502496000           1502582400   \n",
       "\n",
       "                                    50120530               50120531  \n",
       "store_nbr                                 52                     52  \n",
       "item_nbr                             2011451                2011451  \n",
       "date                     2017-08-14 00:00:00    2017-08-15 00:00:00  \n",
       "id                                       NaN                    NaN  \n",
       "unit_sales                              0.00                   0.00  \n",
       "onpromotion                            False                  False  \n",
       "holiday_type                        Work Day                Holiday  \n",
       "holiday_locale                         Local                  Local  \n",
       "holiday_locale_name                     None               Riobamba  \n",
       "holiday_description                     None  Fundacion de Riobamba  \n",
       "holiday_transferred                     None                  False  \n",
       "city                                   Manta                  Manta  \n",
       "state                                 Manabi                 Manabi  \n",
       "store_type                                 A                      A  \n",
       "cluster                                   11                     11  \n",
       "family                             GROCERY I              GROCERY I  \n",
       "class                                   1063                   1063  \n",
       "perishable                             False                  False  \n",
       "dcoilwtico                                47                     47  \n",
       "holiday_type_Transfer                  False                  False  \n",
       "holiday_type_Additional                False                  False  \n",
       "holiday_type_Event                     False                  False  \n",
       "national_holiday                       False                  False  \n",
       "local_holiday                          False                  False  \n",
       "regional_holiday                       False                  False  \n",
       "After_national_holiday                  5.00                   5.00  \n",
       "Before_national_holiday                 0.00                   0.00  \n",
       "After_local_holiday                    43.00                  43.00  \n",
       "Before_local_holiday                 -183.00                -183.00  \n",
       "Year                                    2017                   2017  \n",
       "Month                                      8                      8  \n",
       "Week                                      33                     33  \n",
       "Day                                       14                     15  \n",
       "Dayofweek                                  0                      1  \n",
       "Dayofyear                                226                    227  \n",
       "Is_month_end                           False                  False  \n",
       "Is_month_start                         False                  False  \n",
       "Is_quarter_end                         False                  False  \n",
       "Is_quarter_start                       False                  False  \n",
       "Is_year_end                            False                  False  \n",
       "Is_year_start                          False                  False  \n",
       "Elapsed                           1502668800             1502755200  "
      ]
     },
     "metadata": {},
     "output_type": "display_data"
    }
   ],
   "source": [
    "display_all(train.tail().T)"
   ]
  },
  {
   "cell_type": "code",
   "execution_count": 164,
   "metadata": {
    "scrolled": true
   },
   "outputs": [
    {
     "data": {
      "text/html": [
       "<div>\n",
       "<style scoped>\n",
       "    .dataframe tbody tr th:only-of-type {\n",
       "        vertical-align: middle;\n",
       "    }\n",
       "\n",
       "    .dataframe tbody tr th {\n",
       "        vertical-align: top;\n",
       "    }\n",
       "\n",
       "    .dataframe thead th {\n",
       "        text-align: right;\n",
       "    }\n",
       "</style>\n",
       "<table border=\"1\" class=\"dataframe\">\n",
       "  <thead>\n",
       "    <tr style=\"text-align: right;\">\n",
       "      <th></th>\n",
       "      <th>3370459</th>\n",
       "      <th>3370460</th>\n",
       "      <th>3370461</th>\n",
       "      <th>3370462</th>\n",
       "      <th>3370463</th>\n",
       "    </tr>\n",
       "  </thead>\n",
       "  <tbody>\n",
       "    <tr>\n",
       "      <th>id</th>\n",
       "      <td>128867499</td>\n",
       "      <td>128867500</td>\n",
       "      <td>128867501</td>\n",
       "      <td>128867502</td>\n",
       "      <td>128867503</td>\n",
       "    </tr>\n",
       "    <tr>\n",
       "      <th>date</th>\n",
       "      <td>2017-08-31 00:00:00</td>\n",
       "      <td>2017-08-31 00:00:00</td>\n",
       "      <td>2017-08-31 00:00:00</td>\n",
       "      <td>2017-08-31 00:00:00</td>\n",
       "      <td>2017-08-31 00:00:00</td>\n",
       "    </tr>\n",
       "    <tr>\n",
       "      <th>store_nbr</th>\n",
       "      <td>54</td>\n",
       "      <td>54</td>\n",
       "      <td>54</td>\n",
       "      <td>54</td>\n",
       "      <td>54</td>\n",
       "    </tr>\n",
       "    <tr>\n",
       "      <th>item_nbr</th>\n",
       "      <td>2132163</td>\n",
       "      <td>2132318</td>\n",
       "      <td>2132945</td>\n",
       "      <td>2132957</td>\n",
       "      <td>2134244</td>\n",
       "    </tr>\n",
       "    <tr>\n",
       "      <th>onpromotion</th>\n",
       "      <td>False</td>\n",
       "      <td>False</td>\n",
       "      <td>False</td>\n",
       "      <td>False</td>\n",
       "      <td>False</td>\n",
       "    </tr>\n",
       "    <tr>\n",
       "      <th>holiday_type</th>\n",
       "      <td>Work Day</td>\n",
       "      <td>Work Day</td>\n",
       "      <td>Work Day</td>\n",
       "      <td>Work Day</td>\n",
       "      <td>Work Day</td>\n",
       "    </tr>\n",
       "    <tr>\n",
       "      <th>holiday_locale</th>\n",
       "      <td>Local</td>\n",
       "      <td>Local</td>\n",
       "      <td>Local</td>\n",
       "      <td>Local</td>\n",
       "      <td>Local</td>\n",
       "    </tr>\n",
       "    <tr>\n",
       "      <th>holiday_locale_name</th>\n",
       "      <td>None</td>\n",
       "      <td>None</td>\n",
       "      <td>None</td>\n",
       "      <td>None</td>\n",
       "      <td>None</td>\n",
       "    </tr>\n",
       "    <tr>\n",
       "      <th>holiday_description</th>\n",
       "      <td>None</td>\n",
       "      <td>None</td>\n",
       "      <td>None</td>\n",
       "      <td>None</td>\n",
       "      <td>None</td>\n",
       "    </tr>\n",
       "    <tr>\n",
       "      <th>holiday_transferred</th>\n",
       "      <td>None</td>\n",
       "      <td>None</td>\n",
       "      <td>None</td>\n",
       "      <td>None</td>\n",
       "      <td>None</td>\n",
       "    </tr>\n",
       "    <tr>\n",
       "      <th>city</th>\n",
       "      <td>El Carmen</td>\n",
       "      <td>El Carmen</td>\n",
       "      <td>El Carmen</td>\n",
       "      <td>El Carmen</td>\n",
       "      <td>El Carmen</td>\n",
       "    </tr>\n",
       "    <tr>\n",
       "      <th>state</th>\n",
       "      <td>Manabi</td>\n",
       "      <td>Manabi</td>\n",
       "      <td>Manabi</td>\n",
       "      <td>Manabi</td>\n",
       "      <td>Manabi</td>\n",
       "    </tr>\n",
       "    <tr>\n",
       "      <th>store_type</th>\n",
       "      <td>C</td>\n",
       "      <td>C</td>\n",
       "      <td>C</td>\n",
       "      <td>C</td>\n",
       "      <td>C</td>\n",
       "    </tr>\n",
       "    <tr>\n",
       "      <th>cluster</th>\n",
       "      <td>3</td>\n",
       "      <td>3</td>\n",
       "      <td>3</td>\n",
       "      <td>3</td>\n",
       "      <td>3</td>\n",
       "    </tr>\n",
       "    <tr>\n",
       "      <th>family</th>\n",
       "      <td>GROCERY I</td>\n",
       "      <td>GROCERY I</td>\n",
       "      <td>GROCERY I</td>\n",
       "      <td>GROCERY I</td>\n",
       "      <td>LIQUOR,WINE,BEER</td>\n",
       "    </tr>\n",
       "    <tr>\n",
       "      <th>class</th>\n",
       "      <td>1040</td>\n",
       "      <td>1002</td>\n",
       "      <td>1026</td>\n",
       "      <td>1068</td>\n",
       "      <td>1364</td>\n",
       "    </tr>\n",
       "    <tr>\n",
       "      <th>perishable</th>\n",
       "      <td>False</td>\n",
       "      <td>False</td>\n",
       "      <td>False</td>\n",
       "      <td>False</td>\n",
       "      <td>False</td>\n",
       "    </tr>\n",
       "    <tr>\n",
       "      <th>dcoilwtico</th>\n",
       "      <td>47</td>\n",
       "      <td>47</td>\n",
       "      <td>47</td>\n",
       "      <td>47</td>\n",
       "      <td>47</td>\n",
       "    </tr>\n",
       "    <tr>\n",
       "      <th>national_holiday</th>\n",
       "      <td>False</td>\n",
       "      <td>False</td>\n",
       "      <td>False</td>\n",
       "      <td>False</td>\n",
       "      <td>False</td>\n",
       "    </tr>\n",
       "    <tr>\n",
       "      <th>local_holiday</th>\n",
       "      <td>False</td>\n",
       "      <td>False</td>\n",
       "      <td>False</td>\n",
       "      <td>False</td>\n",
       "      <td>False</td>\n",
       "    </tr>\n",
       "    <tr>\n",
       "      <th>regional_holiday</th>\n",
       "      <td>False</td>\n",
       "      <td>False</td>\n",
       "      <td>False</td>\n",
       "      <td>False</td>\n",
       "      <td>False</td>\n",
       "    </tr>\n",
       "    <tr>\n",
       "      <th>After_national_holiday</th>\n",
       "      <td>0.00</td>\n",
       "      <td>0.00</td>\n",
       "      <td>0.00</td>\n",
       "      <td>0.00</td>\n",
       "      <td>0.00</td>\n",
       "    </tr>\n",
       "    <tr>\n",
       "      <th>Before_national_holiday</th>\n",
       "      <td>0.00</td>\n",
       "      <td>0.00</td>\n",
       "      <td>0.00</td>\n",
       "      <td>0.00</td>\n",
       "      <td>0.00</td>\n",
       "    </tr>\n",
       "    <tr>\n",
       "      <th>After_local_holiday</th>\n",
       "      <td>0.00</td>\n",
       "      <td>0.00</td>\n",
       "      <td>0.00</td>\n",
       "      <td>0.00</td>\n",
       "      <td>0.00</td>\n",
       "    </tr>\n",
       "    <tr>\n",
       "      <th>Before_local_holiday</th>\n",
       "      <td>0.00</td>\n",
       "      <td>0.00</td>\n",
       "      <td>0.00</td>\n",
       "      <td>0.00</td>\n",
       "      <td>0.00</td>\n",
       "    </tr>\n",
       "    <tr>\n",
       "      <th>Year</th>\n",
       "      <td>2017</td>\n",
       "      <td>2017</td>\n",
       "      <td>2017</td>\n",
       "      <td>2017</td>\n",
       "      <td>2017</td>\n",
       "    </tr>\n",
       "    <tr>\n",
       "      <th>Month</th>\n",
       "      <td>8</td>\n",
       "      <td>8</td>\n",
       "      <td>8</td>\n",
       "      <td>8</td>\n",
       "      <td>8</td>\n",
       "    </tr>\n",
       "    <tr>\n",
       "      <th>Week</th>\n",
       "      <td>35</td>\n",
       "      <td>35</td>\n",
       "      <td>35</td>\n",
       "      <td>35</td>\n",
       "      <td>35</td>\n",
       "    </tr>\n",
       "    <tr>\n",
       "      <th>Day</th>\n",
       "      <td>31</td>\n",
       "      <td>31</td>\n",
       "      <td>31</td>\n",
       "      <td>31</td>\n",
       "      <td>31</td>\n",
       "    </tr>\n",
       "    <tr>\n",
       "      <th>Dayofweek</th>\n",
       "      <td>3</td>\n",
       "      <td>3</td>\n",
       "      <td>3</td>\n",
       "      <td>3</td>\n",
       "      <td>3</td>\n",
       "    </tr>\n",
       "    <tr>\n",
       "      <th>Dayofyear</th>\n",
       "      <td>243</td>\n",
       "      <td>243</td>\n",
       "      <td>243</td>\n",
       "      <td>243</td>\n",
       "      <td>243</td>\n",
       "    </tr>\n",
       "    <tr>\n",
       "      <th>Is_month_end</th>\n",
       "      <td>True</td>\n",
       "      <td>True</td>\n",
       "      <td>True</td>\n",
       "      <td>True</td>\n",
       "      <td>True</td>\n",
       "    </tr>\n",
       "    <tr>\n",
       "      <th>Is_month_start</th>\n",
       "      <td>False</td>\n",
       "      <td>False</td>\n",
       "      <td>False</td>\n",
       "      <td>False</td>\n",
       "      <td>False</td>\n",
       "    </tr>\n",
       "    <tr>\n",
       "      <th>Is_quarter_end</th>\n",
       "      <td>False</td>\n",
       "      <td>False</td>\n",
       "      <td>False</td>\n",
       "      <td>False</td>\n",
       "      <td>False</td>\n",
       "    </tr>\n",
       "    <tr>\n",
       "      <th>Is_quarter_start</th>\n",
       "      <td>False</td>\n",
       "      <td>False</td>\n",
       "      <td>False</td>\n",
       "      <td>False</td>\n",
       "      <td>False</td>\n",
       "    </tr>\n",
       "    <tr>\n",
       "      <th>Is_year_end</th>\n",
       "      <td>False</td>\n",
       "      <td>False</td>\n",
       "      <td>False</td>\n",
       "      <td>False</td>\n",
       "      <td>False</td>\n",
       "    </tr>\n",
       "    <tr>\n",
       "      <th>Is_year_start</th>\n",
       "      <td>False</td>\n",
       "      <td>False</td>\n",
       "      <td>False</td>\n",
       "      <td>False</td>\n",
       "      <td>False</td>\n",
       "    </tr>\n",
       "    <tr>\n",
       "      <th>Elapsed</th>\n",
       "      <td>1504137600</td>\n",
       "      <td>1504137600</td>\n",
       "      <td>1504137600</td>\n",
       "      <td>1504137600</td>\n",
       "      <td>1504137600</td>\n",
       "    </tr>\n",
       "  </tbody>\n",
       "</table>\n",
       "</div>"
      ],
      "text/plain": [
       "                                     3370459              3370460  \\\n",
       "id                                 128867499            128867500   \n",
       "date                     2017-08-31 00:00:00  2017-08-31 00:00:00   \n",
       "store_nbr                                 54                   54   \n",
       "item_nbr                             2132163              2132318   \n",
       "onpromotion                            False                False   \n",
       "holiday_type                        Work Day             Work Day   \n",
       "holiday_locale                         Local                Local   \n",
       "holiday_locale_name                     None                 None   \n",
       "holiday_description                     None                 None   \n",
       "holiday_transferred                     None                 None   \n",
       "city                               El Carmen            El Carmen   \n",
       "state                                 Manabi               Manabi   \n",
       "store_type                                 C                    C   \n",
       "cluster                                    3                    3   \n",
       "family                             GROCERY I            GROCERY I   \n",
       "class                                   1040                 1002   \n",
       "perishable                             False                False   \n",
       "dcoilwtico                                47                   47   \n",
       "national_holiday                       False                False   \n",
       "local_holiday                          False                False   \n",
       "regional_holiday                       False                False   \n",
       "After_national_holiday                  0.00                 0.00   \n",
       "Before_national_holiday                 0.00                 0.00   \n",
       "After_local_holiday                     0.00                 0.00   \n",
       "Before_local_holiday                    0.00                 0.00   \n",
       "Year                                    2017                 2017   \n",
       "Month                                      8                    8   \n",
       "Week                                      35                   35   \n",
       "Day                                       31                   31   \n",
       "Dayofweek                                  3                    3   \n",
       "Dayofyear                                243                  243   \n",
       "Is_month_end                            True                 True   \n",
       "Is_month_start                         False                False   \n",
       "Is_quarter_end                         False                False   \n",
       "Is_quarter_start                       False                False   \n",
       "Is_year_end                            False                False   \n",
       "Is_year_start                          False                False   \n",
       "Elapsed                           1504137600           1504137600   \n",
       "\n",
       "                                     3370461              3370462  \\\n",
       "id                                 128867501            128867502   \n",
       "date                     2017-08-31 00:00:00  2017-08-31 00:00:00   \n",
       "store_nbr                                 54                   54   \n",
       "item_nbr                             2132945              2132957   \n",
       "onpromotion                            False                False   \n",
       "holiday_type                        Work Day             Work Day   \n",
       "holiday_locale                         Local                Local   \n",
       "holiday_locale_name                     None                 None   \n",
       "holiday_description                     None                 None   \n",
       "holiday_transferred                     None                 None   \n",
       "city                               El Carmen            El Carmen   \n",
       "state                                 Manabi               Manabi   \n",
       "store_type                                 C                    C   \n",
       "cluster                                    3                    3   \n",
       "family                             GROCERY I            GROCERY I   \n",
       "class                                   1026                 1068   \n",
       "perishable                             False                False   \n",
       "dcoilwtico                                47                   47   \n",
       "national_holiday                       False                False   \n",
       "local_holiday                          False                False   \n",
       "regional_holiday                       False                False   \n",
       "After_national_holiday                  0.00                 0.00   \n",
       "Before_national_holiday                 0.00                 0.00   \n",
       "After_local_holiday                     0.00                 0.00   \n",
       "Before_local_holiday                    0.00                 0.00   \n",
       "Year                                    2017                 2017   \n",
       "Month                                      8                    8   \n",
       "Week                                      35                   35   \n",
       "Day                                       31                   31   \n",
       "Dayofweek                                  3                    3   \n",
       "Dayofyear                                243                  243   \n",
       "Is_month_end                            True                 True   \n",
       "Is_month_start                         False                False   \n",
       "Is_quarter_end                         False                False   \n",
       "Is_quarter_start                       False                False   \n",
       "Is_year_end                            False                False   \n",
       "Is_year_start                          False                False   \n",
       "Elapsed                           1504137600           1504137600   \n",
       "\n",
       "                                     3370463  \n",
       "id                                 128867503  \n",
       "date                     2017-08-31 00:00:00  \n",
       "store_nbr                                 54  \n",
       "item_nbr                             2134244  \n",
       "onpromotion                            False  \n",
       "holiday_type                        Work Day  \n",
       "holiday_locale                         Local  \n",
       "holiday_locale_name                     None  \n",
       "holiday_description                     None  \n",
       "holiday_transferred                     None  \n",
       "city                               El Carmen  \n",
       "state                                 Manabi  \n",
       "store_type                                 C  \n",
       "cluster                                    3  \n",
       "family                      LIQUOR,WINE,BEER  \n",
       "class                                   1364  \n",
       "perishable                             False  \n",
       "dcoilwtico                                47  \n",
       "national_holiday                       False  \n",
       "local_holiday                          False  \n",
       "regional_holiday                       False  \n",
       "After_national_holiday                  0.00  \n",
       "Before_national_holiday                 0.00  \n",
       "After_local_holiday                     0.00  \n",
       "Before_local_holiday                    0.00  \n",
       "Year                                    2017  \n",
       "Month                                      8  \n",
       "Week                                      35  \n",
       "Day                                       31  \n",
       "Dayofweek                                  3  \n",
       "Dayofyear                                243  \n",
       "Is_month_end                            True  \n",
       "Is_month_start                         False  \n",
       "Is_quarter_end                         False  \n",
       "Is_quarter_start                       False  \n",
       "Is_year_end                            False  \n",
       "Is_year_start                          False  \n",
       "Elapsed                           1504137600  "
      ]
     },
     "metadata": {},
     "output_type": "display_data"
    }
   ],
   "source": [
    "display_all(test.tail().T)"
   ]
  },
  {
   "cell_type": "code",
   "execution_count": 165,
   "metadata": {
    "scrolled": true
   },
   "outputs": [
    {
     "name": "stdout",
     "output_type": "stream",
     "text": [
      "CPU times: user 20.3 s, sys: 8.16 s, total: 28.4 s\n",
      "Wall time: 25.2 s\n"
     ]
    }
   ],
   "source": [
    "%%time\n",
    "train.to_feather(f'{PATH}data/grocery_train_bak')\n",
    "test.to_feather(f'{PATH}data/grocery_test_bak')"
   ]
  },
  {
   "cell_type": "code",
   "execution_count": null,
   "metadata": {
    "scrolled": true
   },
   "outputs": [],
   "source": [
    "%%time\n",
    "train = pd.read_feather(f'{PATH}data/grocery_train_bak')\n",
    "test = pd.read_feather(f'{PATH}data/grocery_test_bak')"
   ]
  },
  {
   "cell_type": "code",
   "execution_count": 166,
   "metadata": {},
   "outputs": [],
   "source": [
    "train.drop(['local_holiday', 'national_holiday', 'regional_holiday'], axis=1, inplace=True)"
   ]
  },
  {
   "cell_type": "code",
   "execution_count": 167,
   "metadata": {},
   "outputs": [],
   "source": [
    "test.drop(['local_holiday', 'national_holiday', 'regional_holiday'], axis=1, inplace=True)"
   ]
  },
  {
   "cell_type": "code",
   "execution_count": 168,
   "metadata": {},
   "outputs": [
    {
     "data": {
      "text/plain": [
       "Index(['store_nbr', 'item_nbr', 'date', 'id', 'unit_sales', 'onpromotion',\n",
       "       'holiday_type', 'holiday_locale', 'holiday_locale_name',\n",
       "       'holiday_description', 'holiday_transferred', 'city', 'state',\n",
       "       'store_type', 'cluster', 'family', 'class', 'perishable', 'dcoilwtico',\n",
       "       'holiday_type_Transfer', 'holiday_type_Additional',\n",
       "       'holiday_type_Event', 'After_national_holiday',\n",
       "       'Before_national_holiday', 'After_local_holiday',\n",
       "       'Before_local_holiday', 'Year', 'Month', 'Week', 'Day', 'Dayofweek',\n",
       "       'Dayofyear', 'Is_month_end', 'Is_month_start', 'Is_quarter_end',\n",
       "       'Is_quarter_start', 'Is_year_end', 'Is_year_start', 'Elapsed'],\n",
       "      dtype='object')"
      ]
     },
     "execution_count": 168,
     "metadata": {},
     "output_type": "execute_result"
    }
   ],
   "source": [
    "train.columns"
   ]
  },
  {
   "cell_type": "code",
   "execution_count": 169,
   "metadata": {},
   "outputs": [],
   "source": [
    "train_cats(train)"
   ]
  },
  {
   "cell_type": "code",
   "execution_count": 170,
   "metadata": {},
   "outputs": [],
   "source": [
    "train_cats(test)"
   ]
  },
  {
   "cell_type": "code",
   "execution_count": 171,
   "metadata": {},
   "outputs": [
    {
     "data": {
      "text/plain": [
       "[('store_nbr', 'uint64'),\n",
       " ('item_nbr', 'uint64'),\n",
       " ('date', 'datetime64[ns]'),\n",
       " ('id', 'float64'),\n",
       " ('unit_sales', 'float32'),\n",
       " ('onpromotion', 'bool'),\n",
       " ('cluster', 'uint32'),\n",
       " ('class', 'uint16'),\n",
       " ('perishable', 'bool'),\n",
       " ('dcoilwtico', 'int8'),\n",
       " ('holiday_type_Transfer', 'bool'),\n",
       " ('holiday_type_Additional', 'bool'),\n",
       " ('holiday_type_Event', 'bool'),\n",
       " ('After_national_holiday', 'float64'),\n",
       " ('Before_national_holiday', 'float64'),\n",
       " ('After_local_holiday', 'float64'),\n",
       " ('Before_local_holiday', 'float64'),\n",
       " ('Year', 'int64'),\n",
       " ('Month', 'int64'),\n",
       " ('Week', 'int64'),\n",
       " ('Day', 'int64'),\n",
       " ('Dayofweek', 'int64'),\n",
       " ('Dayofyear', 'int64'),\n",
       " ('Is_month_end', 'bool'),\n",
       " ('Is_month_start', 'bool'),\n",
       " ('Is_quarter_end', 'bool'),\n",
       " ('Is_quarter_start', 'bool'),\n",
       " ('Is_year_end', 'bool'),\n",
       " ('Is_year_start', 'bool'),\n",
       " ('Elapsed', 'int64')]"
      ]
     },
     "execution_count": 171,
     "metadata": {},
     "output_type": "execute_result"
    }
   ],
   "source": [
    "[(n, c.dtype.name) for n, c in train.items() if c.dtype.name != 'category']"
   ]
  },
  {
   "cell_type": "code",
   "execution_count": 172,
   "metadata": {
    "scrolled": true
   },
   "outputs": [
    {
     "data": {
      "text/html": [
       "<div>\n",
       "<style scoped>\n",
       "    .dataframe tbody tr th:only-of-type {\n",
       "        vertical-align: middle;\n",
       "    }\n",
       "\n",
       "    .dataframe tbody tr th {\n",
       "        vertical-align: top;\n",
       "    }\n",
       "\n",
       "    .dataframe thead th {\n",
       "        text-align: right;\n",
       "    }\n",
       "</style>\n",
       "<table border=\"1\" class=\"dataframe\">\n",
       "  <thead>\n",
       "    <tr style=\"text-align: right;\">\n",
       "      <th></th>\n",
       "      <th>50120527</th>\n",
       "      <th>50120528</th>\n",
       "      <th>50120529</th>\n",
       "      <th>50120530</th>\n",
       "      <th>50120531</th>\n",
       "    </tr>\n",
       "  </thead>\n",
       "  <tbody>\n",
       "    <tr>\n",
       "      <th>store_nbr</th>\n",
       "      <td>52</td>\n",
       "      <td>52</td>\n",
       "      <td>52</td>\n",
       "      <td>52</td>\n",
       "      <td>52</td>\n",
       "    </tr>\n",
       "    <tr>\n",
       "      <th>item_nbr</th>\n",
       "      <td>2011451</td>\n",
       "      <td>2011451</td>\n",
       "      <td>2011451</td>\n",
       "      <td>2011451</td>\n",
       "      <td>2011451</td>\n",
       "    </tr>\n",
       "    <tr>\n",
       "      <th>date</th>\n",
       "      <td>2017-08-11 00:00:00</td>\n",
       "      <td>2017-08-12 00:00:00</td>\n",
       "      <td>2017-08-13 00:00:00</td>\n",
       "      <td>2017-08-14 00:00:00</td>\n",
       "      <td>2017-08-15 00:00:00</td>\n",
       "    </tr>\n",
       "    <tr>\n",
       "      <th>id</th>\n",
       "      <td>NaN</td>\n",
       "      <td>NaN</td>\n",
       "      <td>NaN</td>\n",
       "      <td>NaN</td>\n",
       "      <td>NaN</td>\n",
       "    </tr>\n",
       "    <tr>\n",
       "      <th>unit_sales</th>\n",
       "      <td>0.00</td>\n",
       "      <td>0.00</td>\n",
       "      <td>0.00</td>\n",
       "      <td>0.00</td>\n",
       "      <td>0.00</td>\n",
       "    </tr>\n",
       "    <tr>\n",
       "      <th>onpromotion</th>\n",
       "      <td>False</td>\n",
       "      <td>False</td>\n",
       "      <td>False</td>\n",
       "      <td>False</td>\n",
       "      <td>False</td>\n",
       "    </tr>\n",
       "    <tr>\n",
       "      <th>holiday_type</th>\n",
       "      <td>Transfer</td>\n",
       "      <td>Work Day</td>\n",
       "      <td>Work Day</td>\n",
       "      <td>Work Day</td>\n",
       "      <td>Holiday</td>\n",
       "    </tr>\n",
       "    <tr>\n",
       "      <th>holiday_locale</th>\n",
       "      <td>National</td>\n",
       "      <td>Local</td>\n",
       "      <td>Local</td>\n",
       "      <td>Local</td>\n",
       "      <td>Local</td>\n",
       "    </tr>\n",
       "    <tr>\n",
       "      <th>holiday_locale_name</th>\n",
       "      <td>Ecuador</td>\n",
       "      <td>NaN</td>\n",
       "      <td>NaN</td>\n",
       "      <td>NaN</td>\n",
       "      <td>Riobamba</td>\n",
       "    </tr>\n",
       "    <tr>\n",
       "      <th>holiday_description</th>\n",
       "      <td>Traslado Primer Grito de Independencia</td>\n",
       "      <td>NaN</td>\n",
       "      <td>NaN</td>\n",
       "      <td>NaN</td>\n",
       "      <td>Fundacion de Riobamba</td>\n",
       "    </tr>\n",
       "    <tr>\n",
       "      <th>holiday_transferred</th>\n",
       "      <td>False</td>\n",
       "      <td>NaN</td>\n",
       "      <td>NaN</td>\n",
       "      <td>NaN</td>\n",
       "      <td>False</td>\n",
       "    </tr>\n",
       "    <tr>\n",
       "      <th>city</th>\n",
       "      <td>Manta</td>\n",
       "      <td>Manta</td>\n",
       "      <td>Manta</td>\n",
       "      <td>Manta</td>\n",
       "      <td>Manta</td>\n",
       "    </tr>\n",
       "    <tr>\n",
       "      <th>state</th>\n",
       "      <td>Manabi</td>\n",
       "      <td>Manabi</td>\n",
       "      <td>Manabi</td>\n",
       "      <td>Manabi</td>\n",
       "      <td>Manabi</td>\n",
       "    </tr>\n",
       "    <tr>\n",
       "      <th>store_type</th>\n",
       "      <td>A</td>\n",
       "      <td>A</td>\n",
       "      <td>A</td>\n",
       "      <td>A</td>\n",
       "      <td>A</td>\n",
       "    </tr>\n",
       "    <tr>\n",
       "      <th>cluster</th>\n",
       "      <td>11</td>\n",
       "      <td>11</td>\n",
       "      <td>11</td>\n",
       "      <td>11</td>\n",
       "      <td>11</td>\n",
       "    </tr>\n",
       "    <tr>\n",
       "      <th>family</th>\n",
       "      <td>GROCERY I</td>\n",
       "      <td>GROCERY I</td>\n",
       "      <td>GROCERY I</td>\n",
       "      <td>GROCERY I</td>\n",
       "      <td>GROCERY I</td>\n",
       "    </tr>\n",
       "    <tr>\n",
       "      <th>class</th>\n",
       "      <td>1063</td>\n",
       "      <td>1063</td>\n",
       "      <td>1063</td>\n",
       "      <td>1063</td>\n",
       "      <td>1063</td>\n",
       "    </tr>\n",
       "    <tr>\n",
       "      <th>perishable</th>\n",
       "      <td>False</td>\n",
       "      <td>False</td>\n",
       "      <td>False</td>\n",
       "      <td>False</td>\n",
       "      <td>False</td>\n",
       "    </tr>\n",
       "    <tr>\n",
       "      <th>dcoilwtico</th>\n",
       "      <td>48</td>\n",
       "      <td>48</td>\n",
       "      <td>48</td>\n",
       "      <td>47</td>\n",
       "      <td>47</td>\n",
       "    </tr>\n",
       "    <tr>\n",
       "      <th>holiday_type_Transfer</th>\n",
       "      <td>True</td>\n",
       "      <td>False</td>\n",
       "      <td>False</td>\n",
       "      <td>False</td>\n",
       "      <td>False</td>\n",
       "    </tr>\n",
       "    <tr>\n",
       "      <th>holiday_type_Additional</th>\n",
       "      <td>False</td>\n",
       "      <td>False</td>\n",
       "      <td>False</td>\n",
       "      <td>False</td>\n",
       "      <td>False</td>\n",
       "    </tr>\n",
       "    <tr>\n",
       "      <th>holiday_type_Event</th>\n",
       "      <td>False</td>\n",
       "      <td>False</td>\n",
       "      <td>False</td>\n",
       "      <td>False</td>\n",
       "      <td>False</td>\n",
       "    </tr>\n",
       "    <tr>\n",
       "      <th>After_national_holiday</th>\n",
       "      <td>5.00</td>\n",
       "      <td>5.00</td>\n",
       "      <td>5.00</td>\n",
       "      <td>5.00</td>\n",
       "      <td>5.00</td>\n",
       "    </tr>\n",
       "    <tr>\n",
       "      <th>Before_national_holiday</th>\n",
       "      <td>0.00</td>\n",
       "      <td>0.00</td>\n",
       "      <td>0.00</td>\n",
       "      <td>0.00</td>\n",
       "      <td>0.00</td>\n",
       "    </tr>\n",
       "    <tr>\n",
       "      <th>After_local_holiday</th>\n",
       "      <td>43.00</td>\n",
       "      <td>43.00</td>\n",
       "      <td>43.00</td>\n",
       "      <td>43.00</td>\n",
       "      <td>43.00</td>\n",
       "    </tr>\n",
       "    <tr>\n",
       "      <th>Before_local_holiday</th>\n",
       "      <td>-183.00</td>\n",
       "      <td>-183.00</td>\n",
       "      <td>-183.00</td>\n",
       "      <td>-183.00</td>\n",
       "      <td>-183.00</td>\n",
       "    </tr>\n",
       "    <tr>\n",
       "      <th>Year</th>\n",
       "      <td>2017</td>\n",
       "      <td>2017</td>\n",
       "      <td>2017</td>\n",
       "      <td>2017</td>\n",
       "      <td>2017</td>\n",
       "    </tr>\n",
       "    <tr>\n",
       "      <th>Month</th>\n",
       "      <td>8</td>\n",
       "      <td>8</td>\n",
       "      <td>8</td>\n",
       "      <td>8</td>\n",
       "      <td>8</td>\n",
       "    </tr>\n",
       "    <tr>\n",
       "      <th>Week</th>\n",
       "      <td>32</td>\n",
       "      <td>32</td>\n",
       "      <td>32</td>\n",
       "      <td>33</td>\n",
       "      <td>33</td>\n",
       "    </tr>\n",
       "    <tr>\n",
       "      <th>Day</th>\n",
       "      <td>11</td>\n",
       "      <td>12</td>\n",
       "      <td>13</td>\n",
       "      <td>14</td>\n",
       "      <td>15</td>\n",
       "    </tr>\n",
       "    <tr>\n",
       "      <th>Dayofweek</th>\n",
       "      <td>4</td>\n",
       "      <td>5</td>\n",
       "      <td>6</td>\n",
       "      <td>0</td>\n",
       "      <td>1</td>\n",
       "    </tr>\n",
       "    <tr>\n",
       "      <th>Dayofyear</th>\n",
       "      <td>223</td>\n",
       "      <td>224</td>\n",
       "      <td>225</td>\n",
       "      <td>226</td>\n",
       "      <td>227</td>\n",
       "    </tr>\n",
       "    <tr>\n",
       "      <th>Is_month_end</th>\n",
       "      <td>False</td>\n",
       "      <td>False</td>\n",
       "      <td>False</td>\n",
       "      <td>False</td>\n",
       "      <td>False</td>\n",
       "    </tr>\n",
       "    <tr>\n",
       "      <th>Is_month_start</th>\n",
       "      <td>False</td>\n",
       "      <td>False</td>\n",
       "      <td>False</td>\n",
       "      <td>False</td>\n",
       "      <td>False</td>\n",
       "    </tr>\n",
       "    <tr>\n",
       "      <th>Is_quarter_end</th>\n",
       "      <td>False</td>\n",
       "      <td>False</td>\n",
       "      <td>False</td>\n",
       "      <td>False</td>\n",
       "      <td>False</td>\n",
       "    </tr>\n",
       "    <tr>\n",
       "      <th>Is_quarter_start</th>\n",
       "      <td>False</td>\n",
       "      <td>False</td>\n",
       "      <td>False</td>\n",
       "      <td>False</td>\n",
       "      <td>False</td>\n",
       "    </tr>\n",
       "    <tr>\n",
       "      <th>Is_year_end</th>\n",
       "      <td>False</td>\n",
       "      <td>False</td>\n",
       "      <td>False</td>\n",
       "      <td>False</td>\n",
       "      <td>False</td>\n",
       "    </tr>\n",
       "    <tr>\n",
       "      <th>Is_year_start</th>\n",
       "      <td>False</td>\n",
       "      <td>False</td>\n",
       "      <td>False</td>\n",
       "      <td>False</td>\n",
       "      <td>False</td>\n",
       "    </tr>\n",
       "    <tr>\n",
       "      <th>Elapsed</th>\n",
       "      <td>1502409600</td>\n",
       "      <td>1502496000</td>\n",
       "      <td>1502582400</td>\n",
       "      <td>1502668800</td>\n",
       "      <td>1502755200</td>\n",
       "    </tr>\n",
       "  </tbody>\n",
       "</table>\n",
       "</div>"
      ],
      "text/plain": [
       "                                                       50120527  \\\n",
       "store_nbr                                                    52   \n",
       "item_nbr                                                2011451   \n",
       "date                                        2017-08-11 00:00:00   \n",
       "id                                                          NaN   \n",
       "unit_sales                                                 0.00   \n",
       "onpromotion                                               False   \n",
       "holiday_type                                           Transfer   \n",
       "holiday_locale                                         National   \n",
       "holiday_locale_name                                     Ecuador   \n",
       "holiday_description      Traslado Primer Grito de Independencia   \n",
       "holiday_transferred                                       False   \n",
       "city                                                      Manta   \n",
       "state                                                    Manabi   \n",
       "store_type                                                    A   \n",
       "cluster                                                      11   \n",
       "family                                                GROCERY I   \n",
       "class                                                      1063   \n",
       "perishable                                                False   \n",
       "dcoilwtico                                                   48   \n",
       "holiday_type_Transfer                                      True   \n",
       "holiday_type_Additional                                   False   \n",
       "holiday_type_Event                                        False   \n",
       "After_national_holiday                                     5.00   \n",
       "Before_national_holiday                                    0.00   \n",
       "After_local_holiday                                       43.00   \n",
       "Before_local_holiday                                    -183.00   \n",
       "Year                                                       2017   \n",
       "Month                                                         8   \n",
       "Week                                                         32   \n",
       "Day                                                          11   \n",
       "Dayofweek                                                     4   \n",
       "Dayofyear                                                   223   \n",
       "Is_month_end                                              False   \n",
       "Is_month_start                                            False   \n",
       "Is_quarter_end                                            False   \n",
       "Is_quarter_start                                          False   \n",
       "Is_year_end                                               False   \n",
       "Is_year_start                                             False   \n",
       "Elapsed                                              1502409600   \n",
       "\n",
       "                                    50120528             50120529  \\\n",
       "store_nbr                                 52                   52   \n",
       "item_nbr                             2011451              2011451   \n",
       "date                     2017-08-12 00:00:00  2017-08-13 00:00:00   \n",
       "id                                       NaN                  NaN   \n",
       "unit_sales                              0.00                 0.00   \n",
       "onpromotion                            False                False   \n",
       "holiday_type                        Work Day             Work Day   \n",
       "holiday_locale                         Local                Local   \n",
       "holiday_locale_name                      NaN                  NaN   \n",
       "holiday_description                      NaN                  NaN   \n",
       "holiday_transferred                      NaN                  NaN   \n",
       "city                                   Manta                Manta   \n",
       "state                                 Manabi               Manabi   \n",
       "store_type                                 A                    A   \n",
       "cluster                                   11                   11   \n",
       "family                             GROCERY I            GROCERY I   \n",
       "class                                   1063                 1063   \n",
       "perishable                             False                False   \n",
       "dcoilwtico                                48                   48   \n",
       "holiday_type_Transfer                  False                False   \n",
       "holiday_type_Additional                False                False   \n",
       "holiday_type_Event                     False                False   \n",
       "After_national_holiday                  5.00                 5.00   \n",
       "Before_national_holiday                 0.00                 0.00   \n",
       "After_local_holiday                    43.00                43.00   \n",
       "Before_local_holiday                 -183.00              -183.00   \n",
       "Year                                    2017                 2017   \n",
       "Month                                      8                    8   \n",
       "Week                                      32                   32   \n",
       "Day                                       12                   13   \n",
       "Dayofweek                                  5                    6   \n",
       "Dayofyear                                224                  225   \n",
       "Is_month_end                           False                False   \n",
       "Is_month_start                         False                False   \n",
       "Is_quarter_end                         False                False   \n",
       "Is_quarter_start                       False                False   \n",
       "Is_year_end                            False                False   \n",
       "Is_year_start                          False                False   \n",
       "Elapsed                           1502496000           1502582400   \n",
       "\n",
       "                                    50120530               50120531  \n",
       "store_nbr                                 52                     52  \n",
       "item_nbr                             2011451                2011451  \n",
       "date                     2017-08-14 00:00:00    2017-08-15 00:00:00  \n",
       "id                                       NaN                    NaN  \n",
       "unit_sales                              0.00                   0.00  \n",
       "onpromotion                            False                  False  \n",
       "holiday_type                        Work Day                Holiday  \n",
       "holiday_locale                         Local                  Local  \n",
       "holiday_locale_name                      NaN               Riobamba  \n",
       "holiday_description                      NaN  Fundacion de Riobamba  \n",
       "holiday_transferred                      NaN                  False  \n",
       "city                                   Manta                  Manta  \n",
       "state                                 Manabi                 Manabi  \n",
       "store_type                                 A                      A  \n",
       "cluster                                   11                     11  \n",
       "family                             GROCERY I              GROCERY I  \n",
       "class                                   1063                   1063  \n",
       "perishable                             False                  False  \n",
       "dcoilwtico                                47                     47  \n",
       "holiday_type_Transfer                  False                  False  \n",
       "holiday_type_Additional                False                  False  \n",
       "holiday_type_Event                     False                  False  \n",
       "After_national_holiday                  5.00                   5.00  \n",
       "Before_national_holiday                 0.00                   0.00  \n",
       "After_local_holiday                    43.00                  43.00  \n",
       "Before_local_holiday                 -183.00                -183.00  \n",
       "Year                                    2017                   2017  \n",
       "Month                                      8                      8  \n",
       "Week                                      33                     33  \n",
       "Day                                       14                     15  \n",
       "Dayofweek                                  0                      1  \n",
       "Dayofyear                                226                    227  \n",
       "Is_month_end                           False                  False  \n",
       "Is_month_start                         False                  False  \n",
       "Is_quarter_end                         False                  False  \n",
       "Is_quarter_start                       False                  False  \n",
       "Is_year_end                            False                  False  \n",
       "Is_year_start                          False                  False  \n",
       "Elapsed                           1502668800             1502755200  "
      ]
     },
     "metadata": {},
     "output_type": "display_data"
    }
   ],
   "source": [
    "display_all(train.tail().T)"
   ]
  },
  {
   "cell_type": "code",
   "execution_count": 173,
   "metadata": {},
   "outputs": [],
   "source": [
    "cat_vars = ['store_nbr', 'item_nbr', 'onpromotion',\n",
    "            'holiday_type', 'holiday_locale', 'holiday_locale_name', 'holiday_description', 'holiday_transferred',\n",
    "            'city', 'state', 'store_type', 'cluster',\n",
    "            'family', 'class', 'perishable',\n",
    "            'Year', 'Month', 'Day', 'Dayofweek', 'Dayofyear', 'Is_month_end', 'Is_month_start',\n",
    "            'Is_quarter_end', 'Is_quarter_start', 'Is_year_end', 'Is_year_start']\n",
    "\n",
    "contin_vars = ['After_national_holiday', 'Before_national_holiday', 'After_local_holiday', 'Before_local_holiday',\n",
    "               'dcoilwtico', 'Elapsed', 'date']"
   ]
  },
  {
   "cell_type": "code",
   "execution_count": 174,
   "metadata": {
    "scrolled": true
   },
   "outputs": [
    {
     "name": "stdout",
     "output_type": "stream",
     "text": [
      "CPU times: user 3.04 s, sys: 3.04 s, total: 6.09 s\n",
      "Wall time: 6.09 s\n"
     ]
    }
   ],
   "source": [
    "%%time\n",
    "dep = 'unit_sales'\n",
    "train = train[cat_vars+contin_vars+[dep]].copy()"
   ]
  },
  {
   "cell_type": "code",
   "execution_count": 175,
   "metadata": {},
   "outputs": [],
   "source": [
    "test[dep] = 0\n",
    "test = test[cat_vars+contin_vars+[dep, 'id']].copy()"
   ]
  },
  {
   "cell_type": "code",
   "execution_count": 176,
   "metadata": {
    "scrolled": false
   },
   "outputs": [
    {
     "name": "stdout",
     "output_type": "stream",
     "text": [
      "CPU times: user 6.52 s, sys: 6.31 s, total: 12.8 s\n",
      "Wall time: 53.7 s\n"
     ]
    }
   ],
   "source": [
    "%%time\n",
    "train.to_feather(f'{PATH}data/grocery_train_bak')\n",
    "test.to_feather(f'{PATH}data/grocery_test_bak')"
   ]
  },
  {
   "cell_type": "code",
   "execution_count": null,
   "metadata": {
    "scrolled": false
   },
   "outputs": [],
   "source": [
    "%%time\n",
    "train = pd.read_feather(f'{PATH}data/grocery_train_bak')\n",
    "test = pd.read_feather(f'{PATH}data/grocery_test_bak')"
   ]
  },
  {
   "cell_type": "code",
   "execution_count": 177,
   "metadata": {},
   "outputs": [],
   "source": [
    "del train\n",
    "del test"
   ]
  },
  {
   "cell_type": "markdown",
   "metadata": {},
   "source": [
    "## 5. Exploratory Analysis with Random Forest"
   ]
  },
  {
   "cell_type": "code",
   "execution_count": 178,
   "metadata": {
    "scrolled": false
   },
   "outputs": [
    {
     "name": "stderr",
     "output_type": "stream",
     "text": [
      "/home/ubuntu/anaconda3/envs/fastai/lib/python3.6/site-packages/pandas/io/feather_format.py:112: FutureWarning: `nthreads` argument is deprecated, pass `use_threads` instead\n",
      "  return feather.read_dataframe(path, nthreads=nthreads)\n"
     ]
    },
    {
     "name": "stdout",
     "output_type": "stream",
     "text": [
      "CPU times: user 3.54 s, sys: 1.67 s, total: 5.22 s\n",
      "Wall time: 5.22 s\n"
     ]
    }
   ],
   "source": [
    "%%time\n",
    "train_forest = pd.read_feather(f'{PATH}data/grocery_train_bak')\n",
    "test_forest = pd.read_feather(f'{PATH}data/grocery_test_bak')"
   ]
  },
  {
   "cell_type": "markdown",
   "metadata": {},
   "source": [
    "**N.B.: Not possible to save to feather after the next operation !!** (```.astype('category'```)"
   ]
  },
  {
   "cell_type": "markdown",
   "metadata": {},
   "source": [
    "The problem is that when you load the saved file again from feather the category columns are corrupted. Seems to be a problem in feather"
   ]
  },
  {
   "cell_type": "code",
   "execution_count": 179,
   "metadata": {},
   "outputs": [
    {
     "name": "stderr",
     "output_type": "stream",
     "text": [
      "/home/ubuntu/anaconda3/envs/fastai/lib/python3.6/site-packages/ipykernel_launcher.py:1: FutureWarning: specifying 'categories' or 'ordered' in .astype() is deprecated; pass a CategoricalDtype instead\n",
      "  \"\"\"Entry point for launching an IPython kernel.\n"
     ]
    }
   ],
   "source": [
    "for v in cat_vars: train_forest[v] = train_forest[v].astype('category', ordered=True)"
   ]
  },
  {
   "cell_type": "code",
   "execution_count": 181,
   "metadata": {
    "scrolled": true
   },
   "outputs": [
    {
     "data": {
      "text/plain": [
       "After_local_holiday       0.00\n",
       "After_national_holiday    0.00\n",
       "Before_local_holiday      0.00\n",
       "Before_national_holiday   0.00\n",
       "Day                       0.00\n",
       "Dayofweek                 0.00\n",
       "Dayofyear                 0.00\n",
       "Elapsed                   0.00\n",
       "Is_month_end              0.00\n",
       "Is_month_start            0.00\n",
       "Is_quarter_end            0.00\n",
       "Is_quarter_start          0.00\n",
       "Is_year_end               0.00\n",
       "Is_year_start             0.00\n",
       "Month                     0.00\n",
       "Year                      0.00\n",
       "city                      0.00\n",
       "class                     0.00\n",
       "cluster                   0.00\n",
       "date                      0.00\n",
       "dcoilwtico                0.00\n",
       "family                    0.00\n",
       "holiday_description       0.87\n",
       "holiday_locale            0.00\n",
       "holiday_locale_name       0.87\n",
       "holiday_transferred       0.87\n",
       "holiday_type              0.00\n",
       "item_nbr                  0.00\n",
       "onpromotion               0.00\n",
       "perishable                0.00\n",
       "state                     0.00\n",
       "store_nbr                 0.00\n",
       "store_type                0.00\n",
       "unit_sales                0.00\n",
       "dtype: float64"
      ]
     },
     "metadata": {},
     "output_type": "display_data"
    }
   ],
   "source": [
    "display_all(train_forest.isnull().sum().sort_index()/len(train_forest))"
   ]
  },
  {
   "cell_type": "code",
   "execution_count": 182,
   "metadata": {
    "scrolled": false
   },
   "outputs": [
    {
     "name": "stderr",
     "output_type": "stream",
     "text": [
      "/home/ubuntu/anaconda3/envs/fastai/lib/python3.6/site-packages/ipykernel_launcher.py:1: FutureWarning: specifying 'categories' or 'ordered' in .astype() is deprecated; pass a CategoricalDtype instead\n",
      "  \"\"\"Entry point for launching an IPython kernel.\n"
     ]
    }
   ],
   "source": [
    "for v in cat_vars: test_forest[v] = test_forest[v].astype('category', ordered=True)"
   ]
  },
  {
   "cell_type": "code",
   "execution_count": 188,
   "metadata": {
    "scrolled": true
   },
   "outputs": [
    {
     "data": {
      "text/plain": [
       "Index(['store_nbr', 'item_nbr', 'onpromotion', 'holiday_type',\n",
       "       'holiday_locale', 'holiday_locale_name', 'holiday_description',\n",
       "       'holiday_transferred', 'city', 'state', 'store_type', 'cluster',\n",
       "       'family', 'class', 'perishable', 'Year', 'Month', 'Day', 'Dayofweek',\n",
       "       'Dayofyear', 'Is_month_end', 'Is_month_start', 'Is_quarter_end',\n",
       "       'Is_quarter_start', 'Is_year_end', 'Is_year_start',\n",
       "       'After_national_holiday', 'Before_national_holiday',\n",
       "       'After_local_holiday', 'Before_local_holiday', 'dcoilwtico', 'Elapsed',\n",
       "       'date', 'unit_sales'],\n",
       "      dtype='object')"
      ]
     },
     "execution_count": 188,
     "metadata": {},
     "output_type": "execute_result"
    }
   ],
   "source": [
    "train_forest.columns"
   ]
  },
  {
   "cell_type": "code",
   "execution_count": 189,
   "metadata": {},
   "outputs": [],
   "source": [
    "train_forest.drop('date', 1, inplace=True)\n",
    "test_forest.drop('date', 1, inplace=True)"
   ]
  },
  {
   "cell_type": "markdown",
   "metadata": {},
   "source": [
    "### 5.1 Prepare Sample"
   ]
  },
  {
   "cell_type": "markdown",
   "metadata": {},
   "source": [
    "Run on a sample"
   ]
  },
  {
   "cell_type": "code",
   "execution_count": 183,
   "metadata": {},
   "outputs": [
    {
     "data": {
      "text/plain": [
       "50120532"
      ]
     },
     "execution_count": 183,
     "metadata": {},
     "output_type": "execute_result"
    }
   ],
   "source": [
    "n = len(train_forest); n"
   ]
  },
  {
   "cell_type": "code",
   "execution_count": 190,
   "metadata": {},
   "outputs": [
    {
     "data": {
      "text/plain": [
       "5000000"
      ]
     },
     "execution_count": 190,
     "metadata": {},
     "output_type": "execute_result"
    }
   ],
   "source": [
    "idxs = get_cv_idxs(n, val_pct=5_000_000/n)\n",
    "train_samp = train_forest.iloc[idxs].copy()\n",
    "samp_size = len(train_samp); samp_size"
   ]
  },
  {
   "cell_type": "markdown",
   "metadata": {},
   "source": [
    "Whole set"
   ]
  },
  {
   "cell_type": "code",
   "execution_count": null,
   "metadata": {
    "scrolled": true
   },
   "outputs": [],
   "source": [
    "train_samp = train_forest\n",
    "samp_size = len(train_samp); samp_size"
   ]
  },
  {
   "cell_type": "markdown",
   "metadata": {},
   "source": [
    "Replace categories with their numeric codes, handle missing continuous values, and split the dependent variable into a separate variable:"
   ]
  },
  {
   "cell_type": "code",
   "execution_count": 191,
   "metadata": {
    "scrolled": true
   },
   "outputs": [
    {
     "name": "stdout",
     "output_type": "stream",
     "text": [
      "CPU times: user 1.15 s, sys: 304 ms, total: 1.45 s\n",
      "Wall time: 1.45 s\n"
     ]
    }
   ],
   "source": [
    "%time df, y, nas = proc_df(train_samp, 'unit_sales')"
   ]
  },
  {
   "cell_type": "code",
   "execution_count": 192,
   "metadata": {},
   "outputs": [],
   "source": [
    "def split_vals(a,n): return a[:n], a[n:]\n",
    "n_valid = int(samp_size / 10)\n",
    "n_trn = len(df)-n_valid\n",
    "X_train, X_valid = split_vals(df, n_trn)\n",
    "y_train, y_valid = split_vals(y, n_trn)"
   ]
  },
  {
   "cell_type": "code",
   "execution_count": 193,
   "metadata": {},
   "outputs": [],
   "source": [
    "def rmse(x,y): return math.sqrt(((x-y)**2).mean())\n",
    "\n",
    "def print_score(m):\n",
    "    res = [rmse(m.predict(X_train), y_train), rmse(m.predict(X_valid), y_valid),\n",
    "                m.score(X_train, y_train), m.score(X_valid, y_valid)]\n",
    "    if hasattr(m, 'oob_score_'): res.append(m.oob_score_)\n",
    "    print(res)"
   ]
  },
  {
   "cell_type": "markdown",
   "metadata": {},
   "source": [
    "### 5.2 Random Forest Regressor"
   ]
  },
  {
   "cell_type": "code",
   "execution_count": 194,
   "metadata": {},
   "outputs": [],
   "source": [
    "from sklearn.ensemble import RandomForestRegressor, RandomForestClassifier"
   ]
  },
  {
   "cell_type": "code",
   "execution_count": 195,
   "metadata": {},
   "outputs": [
    {
     "name": "stdout",
     "output_type": "stream",
     "text": [
      "[0.9686901889990035, 0.9689407471908739, 0.1388695606092326, 0.1392131405289313]\n",
      "CPU times: user 13.3 s, sys: 1.23 s, total: 14.5 s\n",
      "Wall time: 14.5 s\n"
     ]
    }
   ],
   "source": [
    "%%time\n",
    "m = RandomForestRegressor(n_estimators=1, max_depth=3, bootstrap=False, n_jobs=-1)\n",
    "m.fit(X_train, y_train)\n",
    "print_score(m)"
   ]
  },
  {
   "cell_type": "code",
   "execution_count": 196,
   "metadata": {},
   "outputs": [],
   "source": [
    "from IPython.display import display"
   ]
  },
  {
   "cell_type": "code",
   "execution_count": 197,
   "metadata": {
    "scrolled": false
   },
   "outputs": [
    {
     "data": {
      "image/svg+xml": [
       "<?xml version=\"1.0\" encoding=\"UTF-8\" standalone=\"no\"?>\n",
       "<!DOCTYPE svg PUBLIC \"-//W3C//DTD SVG 1.1//EN\"\n",
       " \"http://www.w3.org/Graphics/SVG/1.1/DTD/svg11.dtd\">\n",
       "<!-- Generated by graphviz version 2.38.0 (20140413.2041)\n",
       " -->\n",
       "<!-- Title: Tree Pages: 1 -->\n",
       "<svg width=\"720pt\" height=\"434pt\"\n",
       " viewBox=\"0.00 0.00 720.00 433.91\" xmlns=\"http://www.w3.org/2000/svg\" xmlns:xlink=\"http://www.w3.org/1999/xlink\">\n",
       "<g id=\"graph0\" class=\"graph\" transform=\"scale(0.777621 0.777621) rotate(0) translate(4 554)\">\n",
       "<title>Tree</title>\n",
       "<polygon fill=\"white\" stroke=\"none\" points=\"-4,4 -4,-554 921.9,-554 921.9,4 -4,4\"/>\n",
       "<!-- 0 -->\n",
       "<g id=\"node1\" class=\"node\"><title>0</title>\n",
       "<polygon fill=\"#e58139\" fill-opacity=\"0.274510\" stroke=\"black\" points=\"177.4,-308.5 18.4004,-308.5 18.4004,-240.5 177.4,-240.5 177.4,-308.5\"/>\n",
       "<text text-anchor=\"start\" x=\"30.4004\" y=\"-293.3\" font-family=\"Times,serif\" font-size=\"14.00\">onpromotion ≤ 1.5</text>\n",
       "<text text-anchor=\"start\" x=\"56.9004\" y=\"-278.3\" font-family=\"Times,serif\" font-size=\"14.00\">mse = 1.09</text>\n",
       "<text text-anchor=\"start\" x=\"26.4004\" y=\"-263.3\" font-family=\"Times,serif\" font-size=\"14.00\">samples = 4500000</text>\n",
       "<text text-anchor=\"start\" x=\"47.9004\" y=\"-248.3\" font-family=\"Times,serif\" font-size=\"14.00\">value = 0.823</text>\n",
       "</g>\n",
       "<!-- 1 -->\n",
       "<g id=\"node2\" class=\"node\"><title>1</title>\n",
       "<polygon fill=\"#e58139\" fill-opacity=\"0.243137\" stroke=\"black\" points=\"418.4,-361.5 259.4,-361.5 259.4,-293.5 418.4,-293.5 418.4,-361.5\"/>\n",
       "<text text-anchor=\"start\" x=\"278.9\" y=\"-346.3\" font-family=\"Times,serif\" font-size=\"14.00\">store_type ≤ 1.5</text>\n",
       "<text text-anchor=\"start\" x=\"293.4\" y=\"-331.3\" font-family=\"Times,serif\" font-size=\"14.00\">mse = 1.008</text>\n",
       "<text text-anchor=\"start\" x=\"267.4\" y=\"-316.3\" font-family=\"Times,serif\" font-size=\"14.00\">samples = 4247760</text>\n",
       "<text text-anchor=\"start\" x=\"288.9\" y=\"-301.3\" font-family=\"Times,serif\" font-size=\"14.00\">value = 0.753</text>\n",
       "</g>\n",
       "<!-- 0&#45;&gt;1 -->\n",
       "<g id=\"edge1\" class=\"edge\"><title>0&#45;&gt;1</title>\n",
       "<path fill=\"none\" stroke=\"black\" d=\"M177.489,-291.928C200.465,-297.023 225.736,-302.627 249.288,-307.85\"/>\n",
       "<polygon fill=\"black\" stroke=\"black\" points=\"248.744,-311.314 259.265,-310.062 250.26,-304.48 248.744,-311.314\"/>\n",
       "<text text-anchor=\"middle\" x=\"238.179\" y=\"-319.793\" font-family=\"Times,serif\" font-size=\"14.00\">True</text>\n",
       "</g>\n",
       "<!-- 8 -->\n",
       "<g id=\"node9\" class=\"node\"><title>8</title>\n",
       "<polygon fill=\"#e58139\" fill-opacity=\"0.780392\" stroke=\"black\" points=\"413.9,-255.5 263.9,-255.5 263.9,-187.5 413.9,-187.5 413.9,-255.5\"/>\n",
       "<text text-anchor=\"start\" x=\"278.9\" y=\"-240.3\" font-family=\"Times,serif\" font-size=\"14.00\">store_type ≤ 1.5</text>\n",
       "<text text-anchor=\"start\" x=\"293.4\" y=\"-225.3\" font-family=\"Times,serif\" font-size=\"14.00\">mse = 1.006</text>\n",
       "<text text-anchor=\"start\" x=\"271.9\" y=\"-210.3\" font-family=\"Times,serif\" font-size=\"14.00\">samples = 252240</text>\n",
       "<text text-anchor=\"start\" x=\"288.9\" y=\"-195.3\" font-family=\"Times,serif\" font-size=\"14.00\">value = 1.999</text>\n",
       "</g>\n",
       "<!-- 0&#45;&gt;8 -->\n",
       "<g id=\"edge8\" class=\"edge\"><title>0&#45;&gt;8</title>\n",
       "<path fill=\"none\" stroke=\"black\" d=\"M177.489,-257.072C201.991,-251.639 229.103,-245.627 253.958,-240.115\"/>\n",
       "<polygon fill=\"black\" stroke=\"black\" points=\"254.72,-243.531 263.725,-237.949 253.204,-236.697 254.72,-243.531\"/>\n",
       "<text text-anchor=\"middle\" x=\"242.639\" y=\"-220.818\" font-family=\"Times,serif\" font-size=\"14.00\">False</text>\n",
       "</g>\n",
       "<!-- 2 -->\n",
       "<g id=\"node3\" class=\"node\"><title>2</title>\n",
       "<polygon fill=\"#e58139\" fill-opacity=\"0.427451\" stroke=\"black\" points=\"653.9,-486.5 503.9,-486.5 503.9,-418.5 653.9,-418.5 653.9,-486.5\"/>\n",
       "<text text-anchor=\"start\" x=\"529.9\" y=\"-471.3\" font-family=\"Times,serif\" font-size=\"14.00\">class ≤ 249.5</text>\n",
       "<text text-anchor=\"start\" x=\"533.4\" y=\"-456.3\" font-family=\"Times,serif\" font-size=\"14.00\">mse = 1.471</text>\n",
       "<text text-anchor=\"start\" x=\"511.9\" y=\"-441.3\" font-family=\"Times,serif\" font-size=\"14.00\">samples = 703339</text>\n",
       "<text text-anchor=\"start\" x=\"528.9\" y=\"-426.3\" font-family=\"Times,serif\" font-size=\"14.00\">value = 1.181</text>\n",
       "</g>\n",
       "<!-- 1&#45;&gt;2 -->\n",
       "<g id=\"edge2\" class=\"edge\"><title>1&#45;&gt;2</title>\n",
       "<path fill=\"none\" stroke=\"black\" d=\"M404.935,-361.657C435.5,-377.71 472.091,-396.928 503.73,-413.545\"/>\n",
       "<polygon fill=\"black\" stroke=\"black\" points=\"502.464,-416.833 512.944,-418.384 505.719,-410.636 502.464,-416.833\"/>\n",
       "</g>\n",
       "<!-- 5 -->\n",
       "<g id=\"node6\" class=\"node\"><title>5</title>\n",
       "<polygon fill=\"#e58139\" fill-opacity=\"0.207843\" stroke=\"black\" points=\"658.4,-361.5 499.4,-361.5 499.4,-293.5 658.4,-293.5 658.4,-361.5\"/>\n",
       "<text text-anchor=\"start\" x=\"529.9\" y=\"-346.3\" font-family=\"Times,serif\" font-size=\"14.00\">class ≤ 249.5</text>\n",
       "<text text-anchor=\"start\" x=\"533.4\" y=\"-331.3\" font-family=\"Times,serif\" font-size=\"14.00\">mse = 0.872</text>\n",
       "<text text-anchor=\"start\" x=\"507.4\" y=\"-316.3\" font-family=\"Times,serif\" font-size=\"14.00\">samples = 3544421</text>\n",
       "<text text-anchor=\"start\" x=\"528.9\" y=\"-301.3\" font-family=\"Times,serif\" font-size=\"14.00\">value = 0.668</text>\n",
       "</g>\n",
       "<!-- 1&#45;&gt;5 -->\n",
       "<g id=\"edge5\" class=\"edge\"><title>1&#45;&gt;5</title>\n",
       "<path fill=\"none\" stroke=\"black\" d=\"M418.49,-327.5C441.136,-327.5 465.996,-327.5 489.209,-327.5\"/>\n",
       "<polygon fill=\"black\" stroke=\"black\" points=\"489.393,-331 499.393,-327.5 489.393,-324 489.393,-331\"/>\n",
       "</g>\n",
       "<!-- 3 -->\n",
       "<g id=\"node4\" class=\"node\"><title>3</title>\n",
       "<polygon fill=\"#e58139\" fill-opacity=\"0.462745\" stroke=\"black\" points=\"894.9,-550 744.9,-550 744.9,-497 894.9,-497 894.9,-550\"/>\n",
       "<text text-anchor=\"start\" x=\"774.4\" y=\"-534.8\" font-family=\"Times,serif\" font-size=\"14.00\">mse = 1.506</text>\n",
       "<text text-anchor=\"start\" x=\"752.9\" y=\"-519.8\" font-family=\"Times,serif\" font-size=\"14.00\">samples = 637638</text>\n",
       "<text text-anchor=\"start\" x=\"769.9\" y=\"-504.8\" font-family=\"Times,serif\" font-size=\"14.00\">value = 1.264</text>\n",
       "</g>\n",
       "<!-- 2&#45;&gt;3 -->\n",
       "<g id=\"edge3\" class=\"edge\"><title>2&#45;&gt;3</title>\n",
       "<path fill=\"none\" stroke=\"black\" d=\"M654.211,-474.576C679.728,-482.156 708.468,-490.694 734.711,-498.49\"/>\n",
       "<polygon fill=\"black\" stroke=\"black\" points=\"734.053,-501.945 744.635,-501.438 736.046,-495.235 734.053,-501.945\"/>\n",
       "</g>\n",
       "<!-- 4 -->\n",
       "<g id=\"node5\" class=\"node\"><title>4</title>\n",
       "<polygon fill=\"#e58139\" fill-opacity=\"0.086275\" stroke=\"black\" points=\"890.4,-479 749.4,-479 749.4,-426 890.4,-426 890.4,-479\"/>\n",
       "<text text-anchor=\"start\" x=\"774.4\" y=\"-463.8\" font-family=\"Times,serif\" font-size=\"14.00\">mse = 0.413</text>\n",
       "<text text-anchor=\"start\" x=\"757.4\" y=\"-448.8\" font-family=\"Times,serif\" font-size=\"14.00\">samples = 65701</text>\n",
       "<text text-anchor=\"start\" x=\"769.9\" y=\"-433.8\" font-family=\"Times,serif\" font-size=\"14.00\">value = 0.379</text>\n",
       "</g>\n",
       "<!-- 2&#45;&gt;4 -->\n",
       "<g id=\"edge4\" class=\"edge\"><title>2&#45;&gt;4</title>\n",
       "<path fill=\"none\" stroke=\"black\" d=\"M654.211,-452.5C681.064,-452.5 711.487,-452.5 738.814,-452.5\"/>\n",
       "<polygon fill=\"black\" stroke=\"black\" points=\"739.122,-456 749.122,-452.5 739.122,-449 739.122,-456\"/>\n",
       "</g>\n",
       "<!-- 6 -->\n",
       "<g id=\"node7\" class=\"node\"><title>6</title>\n",
       "<polygon fill=\"#e58139\" fill-opacity=\"0.231373\" stroke=\"black\" points=\"899.4,-408 740.4,-408 740.4,-355 899.4,-355 899.4,-408\"/>\n",
       "<text text-anchor=\"start\" x=\"774.4\" y=\"-392.8\" font-family=\"Times,serif\" font-size=\"14.00\">mse = 0.916</text>\n",
       "<text text-anchor=\"start\" x=\"748.4\" y=\"-377.8\" font-family=\"Times,serif\" font-size=\"14.00\">samples = 3212806</text>\n",
       "<text text-anchor=\"start\" x=\"769.9\" y=\"-362.8\" font-family=\"Times,serif\" font-size=\"14.00\">value = 0.718</text>\n",
       "</g>\n",
       "<!-- 5&#45;&gt;6 -->\n",
       "<g id=\"edge6\" class=\"edge\"><title>5&#45;&gt;6</title>\n",
       "<path fill=\"none\" stroke=\"black\" d=\"M658.489,-345.256C681.465,-350.448 706.736,-356.157 730.288,-361.479\"/>\n",
       "<polygon fill=\"black\" stroke=\"black\" points=\"729.739,-364.943 740.265,-363.733 731.282,-358.115 729.739,-364.943\"/>\n",
       "</g>\n",
       "<!-- 7 -->\n",
       "<g id=\"node8\" class=\"node\"><title>7</title>\n",
       "<polygon fill=\"none\" stroke=\"black\" points=\"894.9,-337 744.9,-337 744.9,-284 894.9,-284 894.9,-337\"/>\n",
       "<text text-anchor=\"start\" x=\"774.4\" y=\"-321.8\" font-family=\"Times,serif\" font-size=\"14.00\">mse = 0.187</text>\n",
       "<text text-anchor=\"start\" x=\"752.9\" y=\"-306.8\" font-family=\"Times,serif\" font-size=\"14.00\">samples = 331615</text>\n",
       "<text text-anchor=\"start\" x=\"769.9\" y=\"-291.8\" font-family=\"Times,serif\" font-size=\"14.00\">value = 0.182</text>\n",
       "</g>\n",
       "<!-- 5&#45;&gt;7 -->\n",
       "<g id=\"edge7\" class=\"edge\"><title>5&#45;&gt;7</title>\n",
       "<path fill=\"none\" stroke=\"black\" d=\"M658.489,-321.91C682.883,-320.175 709.864,-318.256 734.628,-316.494\"/>\n",
       "<polygon fill=\"black\" stroke=\"black\" points=\"734.998,-319.977 744.725,-315.776 734.502,-312.995 734.998,-319.977\"/>\n",
       "</g>\n",
       "<!-- 9 -->\n",
       "<g id=\"node10\" class=\"node\"><title>9</title>\n",
       "<polygon fill=\"#e58139\" fill-opacity=\"0.980392\" stroke=\"black\" points=\"649.4,-255.5 508.4,-255.5 508.4,-187.5 649.4,-187.5 649.4,-255.5\"/>\n",
       "<text text-anchor=\"start\" x=\"529.9\" y=\"-240.3\" font-family=\"Times,serif\" font-size=\"14.00\">class ≤ 249.0</text>\n",
       "<text text-anchor=\"start\" x=\"533.4\" y=\"-225.3\" font-family=\"Times,serif\" font-size=\"14.00\">mse = 1.162</text>\n",
       "<text text-anchor=\"start\" x=\"516.4\" y=\"-210.3\" font-family=\"Times,serif\" font-size=\"14.00\">samples = 46713</text>\n",
       "<text text-anchor=\"start\" x=\"528.9\" y=\"-195.3\" font-family=\"Times,serif\" font-size=\"14.00\">value = 2.462</text>\n",
       "</g>\n",
       "<!-- 8&#45;&gt;9 -->\n",
       "<g id=\"edge9\" class=\"edge\"><title>8&#45;&gt;9</title>\n",
       "<path fill=\"none\" stroke=\"black\" d=\"M413.9,-221.5C440.52,-221.5 470.663,-221.5 497.78,-221.5\"/>\n",
       "<polygon fill=\"black\" stroke=\"black\" points=\"498.011,-225 508.01,-221.5 498.01,-218 498.011,-225\"/>\n",
       "</g>\n",
       "<!-- 12 -->\n",
       "<g id=\"node13\" class=\"node\"><title>12</title>\n",
       "<polygon fill=\"#e58139\" fill-opacity=\"0.733333\" stroke=\"black\" points=\"653.9,-131.5 503.9,-131.5 503.9,-63.5 653.9,-63.5 653.9,-131.5\"/>\n",
       "<text text-anchor=\"start\" x=\"529.9\" y=\"-116.3\" font-family=\"Times,serif\" font-size=\"14.00\">class ≤ 125.5</text>\n",
       "<text text-anchor=\"start\" x=\"533.4\" y=\"-101.3\" font-family=\"Times,serif\" font-size=\"14.00\">mse = 0.911</text>\n",
       "<text text-anchor=\"start\" x=\"511.9\" y=\"-86.3\" font-family=\"Times,serif\" font-size=\"14.00\">samples = 205527</text>\n",
       "<text text-anchor=\"start\" x=\"528.9\" y=\"-71.3\" font-family=\"Times,serif\" font-size=\"14.00\">value = 1.893</text>\n",
       "</g>\n",
       "<!-- 8&#45;&gt;12 -->\n",
       "<g id=\"edge12\" class=\"edge\"><title>8&#45;&gt;12</title>\n",
       "<path fill=\"none\" stroke=\"black\" d=\"M405.25,-187.452C435.56,-171.661 471.743,-152.809 503.137,-136.452\"/>\n",
       "<polygon fill=\"black\" stroke=\"black\" points=\"505.033,-139.411 512.284,-131.687 501.798,-133.203 505.033,-139.411\"/>\n",
       "</g>\n",
       "<!-- 10 -->\n",
       "<g id=\"node11\" class=\"node\"><title>10</title>\n",
       "<polygon fill=\"#e58139\" stroke=\"black\" points=\"890.4,-266 749.4,-266 749.4,-213 890.4,-213 890.4,-266\"/>\n",
       "<text text-anchor=\"start\" x=\"774.4\" y=\"-250.8\" font-family=\"Times,serif\" font-size=\"14.00\">mse = 1.138</text>\n",
       "<text text-anchor=\"start\" x=\"757.4\" y=\"-235.8\" font-family=\"Times,serif\" font-size=\"14.00\">samples = 44268</text>\n",
       "<text text-anchor=\"start\" x=\"769.9\" y=\"-220.8\" font-family=\"Times,serif\" font-size=\"14.00\">value = 2.511</text>\n",
       "</g>\n",
       "<!-- 9&#45;&gt;10 -->\n",
       "<g id=\"edge10\" class=\"edge\"><title>9&#45;&gt;10</title>\n",
       "<path fill=\"none\" stroke=\"black\" d=\"M649.672,-226.755C677.649,-228.862 710.053,-231.302 738.972,-233.48\"/>\n",
       "<polygon fill=\"black\" stroke=\"black\" points=\"738.808,-236.978 749.043,-234.239 739.334,-229.998 738.808,-236.978\"/>\n",
       "</g>\n",
       "<!-- 11 -->\n",
       "<g id=\"node12\" class=\"node\"><title>11</title>\n",
       "<polygon fill=\"#e58139\" fill-opacity=\"0.596078\" stroke=\"black\" points=\"885.9,-195 753.9,-195 753.9,-142 885.9,-142 885.9,-195\"/>\n",
       "<text text-anchor=\"start\" x=\"774.4\" y=\"-179.8\" font-family=\"Times,serif\" font-size=\"14.00\">mse = 0.761</text>\n",
       "<text text-anchor=\"start\" x=\"761.9\" y=\"-164.8\" font-family=\"Times,serif\" font-size=\"14.00\">samples = 2445</text>\n",
       "<text text-anchor=\"start\" x=\"769.9\" y=\"-149.8\" font-family=\"Times,serif\" font-size=\"14.00\">value = 1.571</text>\n",
       "</g>\n",
       "<!-- 9&#45;&gt;11 -->\n",
       "<g id=\"edge11\" class=\"edge\"><title>9&#45;&gt;11</title>\n",
       "<path fill=\"none\" stroke=\"black\" d=\"M649.672,-206.028C679.133,-199.494 713.503,-191.873 743.543,-185.211\"/>\n",
       "<polygon fill=\"black\" stroke=\"black\" points=\"744.546,-188.574 753.551,-182.992 743.03,-181.74 744.546,-188.574\"/>\n",
       "</g>\n",
       "<!-- 13 -->\n",
       "<g id=\"node14\" class=\"node\"><title>13</title>\n",
       "<polygon fill=\"#e58139\" fill-opacity=\"0.827451\" stroke=\"black\" points=\"890.4,-124 749.4,-124 749.4,-71 890.4,-71 890.4,-124\"/>\n",
       "<text text-anchor=\"start\" x=\"778.9\" y=\"-108.8\" font-family=\"Times,serif\" font-size=\"14.00\">mse = 1.06</text>\n",
       "<text text-anchor=\"start\" x=\"757.4\" y=\"-93.8\" font-family=\"Times,serif\" font-size=\"14.00\">samples = 99414</text>\n",
       "<text text-anchor=\"start\" x=\"769.9\" y=\"-78.8\" font-family=\"Times,serif\" font-size=\"14.00\">value = 2.108</text>\n",
       "</g>\n",
       "<!-- 12&#45;&gt;13 -->\n",
       "<g id=\"edge13\" class=\"edge\"><title>12&#45;&gt;13</title>\n",
       "<path fill=\"none\" stroke=\"black\" d=\"M654.211,-97.5C681.064,-97.5 711.487,-97.5 738.814,-97.5\"/>\n",
       "<polygon fill=\"black\" stroke=\"black\" points=\"739.122,-101 749.122,-97.5 739.122,-94.0001 739.122,-101\"/>\n",
       "</g>\n",
       "<!-- 14 -->\n",
       "<g id=\"node15\" class=\"node\"><title>14</title>\n",
       "<polygon fill=\"#e58139\" fill-opacity=\"0.647059\" stroke=\"black\" points=\"894.9,-53 744.9,-53 744.9,-0 894.9,-0 894.9,-53\"/>\n",
       "<text text-anchor=\"start\" x=\"774.4\" y=\"-37.8\" font-family=\"Times,serif\" font-size=\"14.00\">mse = 0.687</text>\n",
       "<text text-anchor=\"start\" x=\"752.9\" y=\"-22.8\" font-family=\"Times,serif\" font-size=\"14.00\">samples = 106113</text>\n",
       "<text text-anchor=\"start\" x=\"769.9\" y=\"-7.8\" font-family=\"Times,serif\" font-size=\"14.00\">value = 1.692</text>\n",
       "</g>\n",
       "<!-- 12&#45;&gt;14 -->\n",
       "<g id=\"edge14\" class=\"edge\"><title>12&#45;&gt;14</title>\n",
       "<path fill=\"none\" stroke=\"black\" d=\"M654.211,-75.4243C679.728,-67.8442 708.468,-59.3064 734.711,-51.5101\"/>\n",
       "<polygon fill=\"black\" stroke=\"black\" points=\"736.046,-54.7649 744.635,-48.562 734.053,-48.0547 736.046,-54.7649\"/>\n",
       "</g>\n",
       "</g>\n",
       "</svg>\n"
      ],
      "text/plain": [
       "<graphviz.files.Source at 0x7f04a1cc0668>"
      ]
     },
     "metadata": {},
     "output_type": "display_data"
    }
   ],
   "source": [
    "draw_tree(m.estimators_[0], df, precision=3)"
   ]
  },
  {
   "cell_type": "code",
   "execution_count": 198,
   "metadata": {
    "scrolled": false
   },
   "outputs": [
    {
     "name": "stdout",
     "output_type": "stream",
     "text": [
      "[0.4144239048147629, 0.6208294583674467, 0.8423881975838305, 0.6466168635914957, 0.633321173390315]\n",
      "CPU times: user 43min 2s, sys: 6.34 s, total: 43min 8s\n",
      "Wall time: 3min 57s\n"
     ]
    }
   ],
   "source": [
    "%%time\n",
    "m = RandomForestRegressor(n_estimators=40, min_samples_leaf=3, max_features=0.5, n_jobs=-1, oob_score=True)\n",
    "m.fit(X_train, y_train)\n",
    "print_score(m)"
   ]
  },
  {
   "cell_type": "code",
   "execution_count": 199,
   "metadata": {
    "scrolled": true
   },
   "outputs": [
    {
     "data": {
      "text/plain": [
       "0.8227949225341809"
      ]
     },
     "execution_count": 199,
     "metadata": {},
     "output_type": "execute_result"
    }
   ],
   "source": [
    "m.score(df, y)"
   ]
  },
  {
   "cell_type": "markdown",
   "metadata": {},
   "source": [
    "### 5.3 Feature Importance"
   ]
  },
  {
   "cell_type": "code",
   "execution_count": 200,
   "metadata": {},
   "outputs": [
    {
     "data": {
      "text/html": [
       "<div>\n",
       "<style scoped>\n",
       "    .dataframe tbody tr th:only-of-type {\n",
       "        vertical-align: middle;\n",
       "    }\n",
       "\n",
       "    .dataframe tbody tr th {\n",
       "        vertical-align: top;\n",
       "    }\n",
       "\n",
       "    .dataframe thead th {\n",
       "        text-align: right;\n",
       "    }\n",
       "</style>\n",
       "<table border=\"1\" class=\"dataframe\">\n",
       "  <thead>\n",
       "    <tr style=\"text-align: right;\">\n",
       "      <th></th>\n",
       "      <th>cols</th>\n",
       "      <th>imp</th>\n",
       "    </tr>\n",
       "  </thead>\n",
       "  <tbody>\n",
       "    <tr>\n",
       "      <th>1</th>\n",
       "      <td>item_nbr</td>\n",
       "      <td>0.25</td>\n",
       "    </tr>\n",
       "    <tr>\n",
       "      <th>13</th>\n",
       "      <td>class</td>\n",
       "      <td>0.16</td>\n",
       "    </tr>\n",
       "    <tr>\n",
       "      <th>2</th>\n",
       "      <td>onpromotion</td>\n",
       "      <td>0.09</td>\n",
       "    </tr>\n",
       "    <tr>\n",
       "      <th>27</th>\n",
       "      <td>Before_national_holiday</td>\n",
       "      <td>0.05</td>\n",
       "    </tr>\n",
       "    <tr>\n",
       "      <th>26</th>\n",
       "      <td>After_national_holiday</td>\n",
       "      <td>0.05</td>\n",
       "    </tr>\n",
       "    <tr>\n",
       "      <th>19</th>\n",
       "      <td>Dayofyear</td>\n",
       "      <td>0.04</td>\n",
       "    </tr>\n",
       "    <tr>\n",
       "      <th>31</th>\n",
       "      <td>Elapsed</td>\n",
       "      <td>0.04</td>\n",
       "    </tr>\n",
       "    <tr>\n",
       "      <th>10</th>\n",
       "      <td>store_type</td>\n",
       "      <td>0.04</td>\n",
       "    </tr>\n",
       "    <tr>\n",
       "      <th>17</th>\n",
       "      <td>Day</td>\n",
       "      <td>0.04</td>\n",
       "    </tr>\n",
       "    <tr>\n",
       "      <th>0</th>\n",
       "      <td>store_nbr</td>\n",
       "      <td>0.04</td>\n",
       "    </tr>\n",
       "    <tr>\n",
       "      <th>29</th>\n",
       "      <td>Before_local_holiday</td>\n",
       "      <td>0.03</td>\n",
       "    </tr>\n",
       "    <tr>\n",
       "      <th>18</th>\n",
       "      <td>Dayofweek</td>\n",
       "      <td>0.03</td>\n",
       "    </tr>\n",
       "    <tr>\n",
       "      <th>12</th>\n",
       "      <td>family</td>\n",
       "      <td>0.03</td>\n",
       "    </tr>\n",
       "    <tr>\n",
       "      <th>30</th>\n",
       "      <td>dcoilwtico</td>\n",
       "      <td>0.02</td>\n",
       "    </tr>\n",
       "    <tr>\n",
       "      <th>28</th>\n",
       "      <td>After_local_holiday</td>\n",
       "      <td>0.02</td>\n",
       "    </tr>\n",
       "    <tr>\n",
       "      <th>11</th>\n",
       "      <td>cluster</td>\n",
       "      <td>0.01</td>\n",
       "    </tr>\n",
       "    <tr>\n",
       "      <th>16</th>\n",
       "      <td>Month</td>\n",
       "      <td>0.01</td>\n",
       "    </tr>\n",
       "    <tr>\n",
       "      <th>9</th>\n",
       "      <td>state</td>\n",
       "      <td>0.01</td>\n",
       "    </tr>\n",
       "    <tr>\n",
       "      <th>8</th>\n",
       "      <td>city</td>\n",
       "      <td>0.01</td>\n",
       "    </tr>\n",
       "    <tr>\n",
       "      <th>14</th>\n",
       "      <td>perishable</td>\n",
       "      <td>0.01</td>\n",
       "    </tr>\n",
       "  </tbody>\n",
       "</table>\n",
       "</div>"
      ],
      "text/plain": [
       "                       cols  imp\n",
       "1                  item_nbr 0.25\n",
       "13                    class 0.16\n",
       "2               onpromotion 0.09\n",
       "27  Before_national_holiday 0.05\n",
       "26   After_national_holiday 0.05\n",
       "19                Dayofyear 0.04\n",
       "31                  Elapsed 0.04\n",
       "10               store_type 0.04\n",
       "17                      Day 0.04\n",
       "0                 store_nbr 0.04\n",
       "29     Before_local_holiday 0.03\n",
       "18                Dayofweek 0.03\n",
       "12                   family 0.03\n",
       "30               dcoilwtico 0.02\n",
       "28      After_local_holiday 0.02\n",
       "11                  cluster 0.01\n",
       "16                    Month 0.01\n",
       "9                     state 0.01\n",
       "8                      city 0.01\n",
       "14               perishable 0.01"
      ]
     },
     "execution_count": 200,
     "metadata": {},
     "output_type": "execute_result"
    }
   ],
   "source": [
    "fi = rf_feat_importance(m, df); fi[:20]"
   ]
  },
  {
   "cell_type": "code",
   "execution_count": 201,
   "metadata": {},
   "outputs": [
    {
     "data": {
      "image/png": "[encoded data removed]",
      "text/plain": [
       "<Figure size 720x432 with 1 Axes>"
      ]
     },
     "metadata": {
      "needs_background": "light"
     },
     "output_type": "display_data"
    }
   ],
   "source": [
    "fi.plot('cols', 'imp', figsize=(10,6), legend=False);"
   ]
  },
  {
   "cell_type": "code",
   "execution_count": 202,
   "metadata": {},
   "outputs": [],
   "source": [
    "def plot_fi(fi): return fi.plot('cols', 'imp', 'barh', figsize=(12,7), legend=False)"
   ]
  },
  {
   "cell_type": "code",
   "execution_count": 203,
   "metadata": {},
   "outputs": [
    {
     "data": {
      "image/png": "[encoded data removed]",
      "text/plain": [
       "<Figure size 864x504 with 1 Axes>"
      ]
     },
     "metadata": {
      "needs_background": "light"
     },
     "output_type": "display_data"
    }
   ],
   "source": [
    "plot_fi(fi[:30]);"
   ]
  },
  {
   "cell_type": "code",
   "execution_count": 204,
   "metadata": {},
   "outputs": [
    {
     "data": {
      "text/plain": [
       "20"
      ]
     },
     "execution_count": 204,
     "metadata": {},
     "output_type": "execute_result"
    }
   ],
   "source": [
    "to_keep = fi[fi.imp>0.005].cols; len(to_keep)"
   ]
  },
  {
   "cell_type": "code",
   "execution_count": 205,
   "metadata": {
    "scrolled": true
   },
   "outputs": [
    {
     "data": {
      "text/plain": [
       "1                    item_nbr\n",
       "13                      class\n",
       "2                 onpromotion\n",
       "27    Before_national_holiday\n",
       "26     After_national_holiday\n",
       "19                  Dayofyear\n",
       "31                    Elapsed\n",
       "10                 store_type\n",
       "17                        Day\n",
       "0                   store_nbr\n",
       "29       Before_local_holiday\n",
       "18                  Dayofweek\n",
       "12                     family\n",
       "30                 dcoilwtico\n",
       "28        After_local_holiday\n",
       "11                    cluster\n",
       "16                      Month\n",
       "9                       state\n",
       "8                        city\n",
       "14                 perishable\n",
       "Name: cols, dtype: object"
      ]
     },
     "execution_count": 205,
     "metadata": {},
     "output_type": "execute_result"
    }
   ],
   "source": [
    "to_keep"
   ]
  },
  {
   "cell_type": "code",
   "execution_count": 206,
   "metadata": {},
   "outputs": [],
   "source": [
    "df_keep = df[to_keep].copy()\n",
    "X_train, X_valid = split_vals(df_keep, n_trn)"
   ]
  },
  {
   "cell_type": "code",
   "execution_count": 207,
   "metadata": {},
   "outputs": [],
   "source": [
    "del df"
   ]
  },
  {
   "cell_type": "markdown",
   "metadata": {},
   "source": [
    "### 5.4 Redundant Features"
   ]
  },
  {
   "cell_type": "code",
   "execution_count": 208,
   "metadata": {
    "scrolled": true
   },
   "outputs": [
    {
     "name": "stderr",
     "output_type": "stream",
     "text": [
      "/home/ubuntu/anaconda3/envs/fastai/lib/python3.6/site-packages/sklearn/ensemble/forest.py:724: UserWarning: Some inputs do not have OOB scores. This probably means too few trees were used to compute any reliable oob estimates.\n",
      "  warn(\"Some inputs do not have OOB scores. \"\n"
     ]
    },
    {
     "name": "stdout",
     "output_type": "stream",
     "text": [
      "[0.41441831920966155, 0.6195588188088628, 0.8423924461387264, 0.6480619080671242, 0.6346553684946473]\n",
      "CPU times: user 36min 37s, sys: 5.83 s, total: 36min 43s\n",
      "Wall time: 3min 23s\n"
     ]
    }
   ],
   "source": [
    "%%time\n",
    "m = RandomForestRegressor(n_estimators=40, min_samples_leaf=3, max_features=0.5,\n",
    "                          n_jobs=-1, oob_score=True)\n",
    "m.fit(X_train, y_train)\n",
    "print_score(m)"
   ]
  },
  {
   "cell_type": "code",
   "execution_count": 209,
   "metadata": {},
   "outputs": [
    {
     "data": {
      "image/png": "[encoded data removed]",
      "text/plain": [
       "<Figure size 864x504 with 1 Axes>"
      ]
     },
     "metadata": {
      "needs_background": "light"
     },
     "output_type": "display_data"
    }
   ],
   "source": [
    "fi = rf_feat_importance(m, df_keep)\n",
    "plot_fi(fi);"
   ]
  },
  {
   "cell_type": "code",
   "execution_count": 210,
   "metadata": {},
   "outputs": [],
   "source": [
    "from scipy.cluster import hierarchy as hc"
   ]
  },
  {
   "cell_type": "code",
   "execution_count": 211,
   "metadata": {},
   "outputs": [
    {
     "data": {
      "image/png": "[encoded data removed]",
      "text/plain": [
       "<Figure size 1152x720 with 1 Axes>"
      ]
     },
     "metadata": {
      "needs_background": "light"
     },
     "output_type": "display_data"
    }
   ],
   "source": [
    "corr = np.round(scipy.stats.spearmanr(df_keep).correlation, 4)\n",
    "corr_condensed = hc.distance.squareform(1-corr)\n",
    "z = hc.linkage(corr_condensed, method='average')\n",
    "fig = plt.figure(figsize=(16,10))\n",
    "dendrogram = hc.dendrogram(z, labels=df_keep.columns, orientation='left', leaf_font_size=16)\n",
    "plt.show()"
   ]
  },
  {
   "cell_type": "code",
   "execution_count": 214,
   "metadata": {},
   "outputs": [],
   "source": [
    "def get_oob(df):\n",
    "    m = RandomForestRegressor(n_estimators=30, min_samples_leaf=5, max_features=0.6, n_jobs=-1, oob_score=True)\n",
    "    x, _ = split_vals(df, n_trn)\n",
    "    %time m.fit(x, y_train)\n",
    "    return m.oob_score_"
   ]
  },
  {
   "cell_type": "code",
   "execution_count": 215,
   "metadata": {},
   "outputs": [
    {
     "name": "stdout",
     "output_type": "stream",
     "text": [
      "CPU times: user 27min 12s, sys: 2.77 s, total: 27min 15s\n",
      "Wall time: 2min 20s\n"
     ]
    },
    {
     "name": "stderr",
     "output_type": "stream",
     "text": [
      "/home/ubuntu/anaconda3/envs/fastai/lib/python3.6/site-packages/sklearn/ensemble/forest.py:724: UserWarning: Some inputs do not have OOB scores. This probably means too few trees were used to compute any reliable oob estimates.\n",
      "  warn(\"Some inputs do not have OOB scores. \"\n"
     ]
    },
    {
     "data": {
      "text/plain": [
       "0.6458077986542143"
      ]
     },
     "execution_count": 215,
     "metadata": {},
     "output_type": "execute_result"
    }
   ],
   "source": [
    "get_oob(df_keep)"
   ]
  },
  {
   "cell_type": "code",
   "execution_count": 38,
   "metadata": {
    "scrolled": false
   },
   "outputs": [
    {
     "name": "stderr",
     "output_type": "stream",
     "text": [
      "/home/ubuntu/anaconda3/envs/fastai/lib/python3.6/site-packages/sklearn/ensemble/forest.py:724: UserWarning: Some inputs do not have OOB scores. This probably means too few trees were used to compute any reliable oob estimates.\n",
      "  warn(\"Some inputs do not have OOB scores. \"\n"
     ]
    },
    {
     "name": "stdout",
     "output_type": "stream",
     "text": [
      "CPU times: user 25min 9s, sys: 3.04 s, total: 25min 13s\n",
      "Wall time: 2min 12s\n",
      "Month 0.6421212857786847\n"
     ]
    },
    {
     "name": "stderr",
     "output_type": "stream",
     "text": [
      "/home/ubuntu/anaconda3/envs/fastai/lib/python3.6/site-packages/sklearn/ensemble/forest.py:724: UserWarning: Some inputs do not have OOB scores. This probably means too few trees were used to compute any reliable oob estimates.\n",
      "  warn(\"Some inputs do not have OOB scores. \"\n"
     ]
    },
    {
     "name": "stdout",
     "output_type": "stream",
     "text": [
      "CPU times: user 24min 15s, sys: 2.6 s, total: 24min 17s\n",
      "Wall time: 2min 11s\n",
      "Dayofyear 0.6424247998900292\n"
     ]
    },
    {
     "name": "stderr",
     "output_type": "stream",
     "text": [
      "/home/ubuntu/anaconda3/envs/fastai/lib/python3.6/site-packages/sklearn/ensemble/forest.py:724: UserWarning: Some inputs do not have OOB scores. This probably means too few trees were used to compute any reliable oob estimates.\n",
      "  warn(\"Some inputs do not have OOB scores. \"\n"
     ]
    },
    {
     "name": "stdout",
     "output_type": "stream",
     "text": [
      "CPU times: user 24min 20s, sys: 2.98 s, total: 24min 23s\n",
      "Wall time: 2min 9s\n",
      "Elapsed 0.6425079329529224\n"
     ]
    },
    {
     "name": "stderr",
     "output_type": "stream",
     "text": [
      "/home/ubuntu/anaconda3/envs/fastai/lib/python3.6/site-packages/sklearn/ensemble/forest.py:724: UserWarning: Some inputs do not have OOB scores. This probably means too few trees were used to compute any reliable oob estimates.\n",
      "  warn(\"Some inputs do not have OOB scores. \"\n"
     ]
    },
    {
     "name": "stdout",
     "output_type": "stream",
     "text": [
      "CPU times: user 25min 51s, sys: 2.7 s, total: 25min 53s\n",
      "Wall time: 2min 16s\n",
      "state 0.6400091072674562\n",
      "CPU times: user 25min 30s, sys: 2.89 s, total: 25min 33s\n",
      "Wall time: 2min 12s\n",
      "city 0.6442188919088422\n",
      "CPU times: user 2h 5min 7s, sys: 14.5 s, total: 2h 5min 21s\n",
      "Wall time: 11min 4s\n"
     ]
    },
    {
     "name": "stderr",
     "output_type": "stream",
     "text": [
      "/home/ubuntu/anaconda3/envs/fastai/lib/python3.6/site-packages/sklearn/ensemble/forest.py:724: UserWarning: Some inputs do not have OOB scores. This probably means too few trees were used to compute any reliable oob estimates.\n",
      "  warn(\"Some inputs do not have OOB scores. \"\n"
     ]
    }
   ],
   "source": [
    "%%time\n",
    "for c in ('Month', 'Dayofyear', 'Elapsed', 'state', 'city'):\n",
    "    print(c, get_oob(df_keep.drop(c, axis=1)))"
   ]
  },
  {
   "cell_type": "markdown",
   "metadata": {},
   "source": [
    "### 5.5 Remove Redundant Features"
   ]
  },
  {
   "cell_type": "markdown",
   "metadata": {},
   "source": [
    "Remove ```Elapsed```"
   ]
  },
  {
   "cell_type": "code",
   "execution_count": 216,
   "metadata": {
    "scrolled": true
   },
   "outputs": [
    {
     "name": "stdout",
     "output_type": "stream",
     "text": [
      "CPU times: user 23min 34s, sys: 2.38 s, total: 23min 36s\n",
      "Wall time: 2min 5s\n"
     ]
    },
    {
     "name": "stderr",
     "output_type": "stream",
     "text": [
      "/home/ubuntu/anaconda3/envs/fastai/lib/python3.6/site-packages/sklearn/ensemble/forest.py:724: UserWarning: Some inputs do not have OOB scores. This probably means too few trees were used to compute any reliable oob estimates.\n",
      "  warn(\"Some inputs do not have OOB scores. \"\n"
     ]
    },
    {
     "data": {
      "text/plain": [
       "0.6428299557478159"
      ]
     },
     "execution_count": 216,
     "metadata": {},
     "output_type": "execute_result"
    }
   ],
   "source": [
    "to_drop = ['Elapsed']\n",
    "get_oob(df_keep.drop(to_drop, axis=1))"
   ]
  },
  {
   "cell_type": "code",
   "execution_count": 217,
   "metadata": {},
   "outputs": [],
   "source": [
    "df_keep.drop(to_drop, axis=1, inplace=True)\n",
    "X_train, X_valid = split_vals(df_keep, n_trn)"
   ]
  },
  {
   "cell_type": "code",
   "execution_count": 218,
   "metadata": {},
   "outputs": [
    {
     "data": {
      "text/plain": [
       "Index(['item_nbr', 'class', 'onpromotion', 'Before_national_holiday',\n",
       "       'After_national_holiday', 'Dayofyear', 'store_type', 'Day', 'store_nbr',\n",
       "       'Before_local_holiday', 'Dayofweek', 'family', 'dcoilwtico',\n",
       "       'After_local_holiday', 'cluster', 'Month', 'state', 'city',\n",
       "       'perishable'],\n",
       "      dtype='object')"
      ]
     },
     "execution_count": 218,
     "metadata": {},
     "output_type": "execute_result"
    }
   ],
   "source": [
    "df_keep.columns"
   ]
  },
  {
   "cell_type": "code",
   "execution_count": 219,
   "metadata": {},
   "outputs": [],
   "source": [
    "np.save(f'{PATH}data/keep_cols.npy', np.array(df_keep.columns))"
   ]
  },
  {
   "cell_type": "code",
   "execution_count": 220,
   "metadata": {},
   "outputs": [],
   "source": [
    "keep_cols = np.load(f'{PATH}data/keep_cols.npy').tolist()"
   ]
  },
  {
   "cell_type": "code",
   "execution_count": 221,
   "metadata": {},
   "outputs": [
    {
     "data": {
      "text/plain": [
       "['item_nbr',\n",
       " 'class',\n",
       " 'onpromotion',\n",
       " 'Before_national_holiday',\n",
       " 'After_national_holiday',\n",
       " 'Dayofyear',\n",
       " 'store_type',\n",
       " 'Day',\n",
       " 'store_nbr',\n",
       " 'Before_local_holiday',\n",
       " 'Dayofweek',\n",
       " 'family',\n",
       " 'dcoilwtico',\n",
       " 'After_local_holiday',\n",
       " 'cluster',\n",
       " 'Month',\n",
       " 'state',\n",
       " 'city',\n",
       " 'perishable',\n",
       " 'unit_sales']"
      ]
     },
     "execution_count": 221,
     "metadata": {},
     "output_type": "execute_result"
    }
   ],
   "source": [
    "keep_cols+['unit_sales']"
   ]
  },
  {
   "cell_type": "markdown",
   "metadata": {},
   "source": [
    "### 5.6 Split and Save"
   ]
  },
  {
   "cell_type": "code",
   "execution_count": 222,
   "metadata": {
    "scrolled": false
   },
   "outputs": [
    {
     "name": "stderr",
     "output_type": "stream",
     "text": [
      "/home/ubuntu/anaconda3/envs/fastai/lib/python3.6/site-packages/pandas/io/feather_format.py:112: FutureWarning: `nthreads` argument is deprecated, pass `use_threads` instead\n",
      "  return feather.read_dataframe(path, nthreads=nthreads)\n"
     ]
    },
    {
     "name": "stdout",
     "output_type": "stream",
     "text": [
      "CPU times: user 3.62 s, sys: 1.59 s, total: 5.21 s\n",
      "Wall time: 5.21 s\n"
     ]
    }
   ],
   "source": [
    "%%time\n",
    "train = pd.read_feather(f'{PATH}data/grocery_train_bak')\n",
    "test = pd.read_feather(f'{PATH}data/grocery_test_bak')"
   ]
  },
  {
   "cell_type": "code",
   "execution_count": 223,
   "metadata": {},
   "outputs": [],
   "source": [
    "del train_forest\n",
    "del test_forest"
   ]
  },
  {
   "cell_type": "code",
   "execution_count": 224,
   "metadata": {},
   "outputs": [],
   "source": [
    "keep_cols = np.load(f'{PATH}data/keep_cols.npy').tolist()"
   ]
  },
  {
   "cell_type": "code",
   "execution_count": 227,
   "metadata": {},
   "outputs": [],
   "source": [
    "train_keep = train[keep_cols+['unit_sales', 'date']].copy()"
   ]
  },
  {
   "cell_type": "code",
   "execution_count": 228,
   "metadata": {},
   "outputs": [],
   "source": [
    "test_keep = test[keep_cols+['unit_sales', 'id', 'date']].copy()"
   ]
  },
  {
   "cell_type": "code",
   "execution_count": 229,
   "metadata": {},
   "outputs": [],
   "source": [
    "del train\n",
    "del test"
   ]
  },
  {
   "cell_type": "code",
   "execution_count": 230,
   "metadata": {},
   "outputs": [],
   "source": [
    "pd.options.display.float_format = '{:20,.2f}'.format"
   ]
  },
  {
   "cell_type": "code",
   "execution_count": 231,
   "metadata": {
    "scrolled": true
   },
   "outputs": [
    {
     "data": {
      "text/html": [
       "<div>\n",
       "<style scoped>\n",
       "    .dataframe tbody tr th:only-of-type {\n",
       "        vertical-align: middle;\n",
       "    }\n",
       "\n",
       "    .dataframe tbody tr th {\n",
       "        vertical-align: top;\n",
       "    }\n",
       "\n",
       "    .dataframe thead th {\n",
       "        text-align: right;\n",
       "    }\n",
       "</style>\n",
       "<table border=\"1\" class=\"dataframe\">\n",
       "  <thead>\n",
       "    <tr style=\"text-align: right;\">\n",
       "      <th></th>\n",
       "      <th>50120527</th>\n",
       "      <th>50120528</th>\n",
       "      <th>50120529</th>\n",
       "      <th>50120530</th>\n",
       "      <th>50120531</th>\n",
       "    </tr>\n",
       "  </thead>\n",
       "  <tbody>\n",
       "    <tr>\n",
       "      <th>item_nbr</th>\n",
       "      <td>2011451</td>\n",
       "      <td>2011451</td>\n",
       "      <td>2011451</td>\n",
       "      <td>2011451</td>\n",
       "      <td>2011451</td>\n",
       "    </tr>\n",
       "    <tr>\n",
       "      <th>class</th>\n",
       "      <td>1063</td>\n",
       "      <td>1063</td>\n",
       "      <td>1063</td>\n",
       "      <td>1063</td>\n",
       "      <td>1063</td>\n",
       "    </tr>\n",
       "    <tr>\n",
       "      <th>onpromotion</th>\n",
       "      <td>False</td>\n",
       "      <td>False</td>\n",
       "      <td>False</td>\n",
       "      <td>False</td>\n",
       "      <td>False</td>\n",
       "    </tr>\n",
       "    <tr>\n",
       "      <th>Before_national_holiday</th>\n",
       "      <td>0.00</td>\n",
       "      <td>0.00</td>\n",
       "      <td>0.00</td>\n",
       "      <td>0.00</td>\n",
       "      <td>0.00</td>\n",
       "    </tr>\n",
       "    <tr>\n",
       "      <th>After_national_holiday</th>\n",
       "      <td>5.00</td>\n",
       "      <td>5.00</td>\n",
       "      <td>5.00</td>\n",
       "      <td>5.00</td>\n",
       "      <td>5.00</td>\n",
       "    </tr>\n",
       "    <tr>\n",
       "      <th>Dayofyear</th>\n",
       "      <td>223</td>\n",
       "      <td>224</td>\n",
       "      <td>225</td>\n",
       "      <td>226</td>\n",
       "      <td>227</td>\n",
       "    </tr>\n",
       "    <tr>\n",
       "      <th>store_type</th>\n",
       "      <td>A</td>\n",
       "      <td>A</td>\n",
       "      <td>A</td>\n",
       "      <td>A</td>\n",
       "      <td>A</td>\n",
       "    </tr>\n",
       "    <tr>\n",
       "      <th>Day</th>\n",
       "      <td>11</td>\n",
       "      <td>12</td>\n",
       "      <td>13</td>\n",
       "      <td>14</td>\n",
       "      <td>15</td>\n",
       "    </tr>\n",
       "    <tr>\n",
       "      <th>store_nbr</th>\n",
       "      <td>52</td>\n",
       "      <td>52</td>\n",
       "      <td>52</td>\n",
       "      <td>52</td>\n",
       "      <td>52</td>\n",
       "    </tr>\n",
       "    <tr>\n",
       "      <th>Before_local_holiday</th>\n",
       "      <td>-183.00</td>\n",
       "      <td>-183.00</td>\n",
       "      <td>-183.00</td>\n",
       "      <td>-183.00</td>\n",
       "      <td>-183.00</td>\n",
       "    </tr>\n",
       "    <tr>\n",
       "      <th>Dayofweek</th>\n",
       "      <td>4</td>\n",
       "      <td>5</td>\n",
       "      <td>6</td>\n",
       "      <td>0</td>\n",
       "      <td>1</td>\n",
       "    </tr>\n",
       "    <tr>\n",
       "      <th>family</th>\n",
       "      <td>GROCERY I</td>\n",
       "      <td>GROCERY I</td>\n",
       "      <td>GROCERY I</td>\n",
       "      <td>GROCERY I</td>\n",
       "      <td>GROCERY I</td>\n",
       "    </tr>\n",
       "    <tr>\n",
       "      <th>dcoilwtico</th>\n",
       "      <td>48</td>\n",
       "      <td>48</td>\n",
       "      <td>48</td>\n",
       "      <td>47</td>\n",
       "      <td>47</td>\n",
       "    </tr>\n",
       "    <tr>\n",
       "      <th>After_local_holiday</th>\n",
       "      <td>43.00</td>\n",
       "      <td>43.00</td>\n",
       "      <td>43.00</td>\n",
       "      <td>43.00</td>\n",
       "      <td>43.00</td>\n",
       "    </tr>\n",
       "    <tr>\n",
       "      <th>cluster</th>\n",
       "      <td>11</td>\n",
       "      <td>11</td>\n",
       "      <td>11</td>\n",
       "      <td>11</td>\n",
       "      <td>11</td>\n",
       "    </tr>\n",
       "    <tr>\n",
       "      <th>Month</th>\n",
       "      <td>8</td>\n",
       "      <td>8</td>\n",
       "      <td>8</td>\n",
       "      <td>8</td>\n",
       "      <td>8</td>\n",
       "    </tr>\n",
       "    <tr>\n",
       "      <th>state</th>\n",
       "      <td>Manabi</td>\n",
       "      <td>Manabi</td>\n",
       "      <td>Manabi</td>\n",
       "      <td>Manabi</td>\n",
       "      <td>Manabi</td>\n",
       "    </tr>\n",
       "    <tr>\n",
       "      <th>city</th>\n",
       "      <td>Manta</td>\n",
       "      <td>Manta</td>\n",
       "      <td>Manta</td>\n",
       "      <td>Manta</td>\n",
       "      <td>Manta</td>\n",
       "    </tr>\n",
       "    <tr>\n",
       "      <th>perishable</th>\n",
       "      <td>False</td>\n",
       "      <td>False</td>\n",
       "      <td>False</td>\n",
       "      <td>False</td>\n",
       "      <td>False</td>\n",
       "    </tr>\n",
       "    <tr>\n",
       "      <th>unit_sales</th>\n",
       "      <td>0.00</td>\n",
       "      <td>0.00</td>\n",
       "      <td>0.00</td>\n",
       "      <td>0.00</td>\n",
       "      <td>0.00</td>\n",
       "    </tr>\n",
       "    <tr>\n",
       "      <th>date</th>\n",
       "      <td>2017-08-11 00:00:00</td>\n",
       "      <td>2017-08-12 00:00:00</td>\n",
       "      <td>2017-08-13 00:00:00</td>\n",
       "      <td>2017-08-14 00:00:00</td>\n",
       "      <td>2017-08-15 00:00:00</td>\n",
       "    </tr>\n",
       "  </tbody>\n",
       "</table>\n",
       "</div>"
      ],
      "text/plain": [
       "                                    50120527             50120528  \\\n",
       "item_nbr                             2011451              2011451   \n",
       "class                                   1063                 1063   \n",
       "onpromotion                            False                False   \n",
       "Before_national_holiday                 0.00                 0.00   \n",
       "After_national_holiday                  5.00                 5.00   \n",
       "Dayofyear                                223                  224   \n",
       "store_type                                 A                    A   \n",
       "Day                                       11                   12   \n",
       "store_nbr                                 52                   52   \n",
       "Before_local_holiday                 -183.00              -183.00   \n",
       "Dayofweek                                  4                    5   \n",
       "family                             GROCERY I            GROCERY I   \n",
       "dcoilwtico                                48                   48   \n",
       "After_local_holiday                    43.00                43.00   \n",
       "cluster                                   11                   11   \n",
       "Month                                      8                    8   \n",
       "state                                 Manabi               Manabi   \n",
       "city                                   Manta                Manta   \n",
       "perishable                             False                False   \n",
       "unit_sales                              0.00                 0.00   \n",
       "date                     2017-08-11 00:00:00  2017-08-12 00:00:00   \n",
       "\n",
       "                                    50120529             50120530  \\\n",
       "item_nbr                             2011451              2011451   \n",
       "class                                   1063                 1063   \n",
       "onpromotion                            False                False   \n",
       "Before_national_holiday                 0.00                 0.00   \n",
       "After_national_holiday                  5.00                 5.00   \n",
       "Dayofyear                                225                  226   \n",
       "store_type                                 A                    A   \n",
       "Day                                       13                   14   \n",
       "store_nbr                                 52                   52   \n",
       "Before_local_holiday                 -183.00              -183.00   \n",
       "Dayofweek                                  6                    0   \n",
       "family                             GROCERY I            GROCERY I   \n",
       "dcoilwtico                                48                   47   \n",
       "After_local_holiday                    43.00                43.00   \n",
       "cluster                                   11                   11   \n",
       "Month                                      8                    8   \n",
       "state                                 Manabi               Manabi   \n",
       "city                                   Manta                Manta   \n",
       "perishable                             False                False   \n",
       "unit_sales                              0.00                 0.00   \n",
       "date                     2017-08-13 00:00:00  2017-08-14 00:00:00   \n",
       "\n",
       "                                    50120531  \n",
       "item_nbr                             2011451  \n",
       "class                                   1063  \n",
       "onpromotion                            False  \n",
       "Before_national_holiday                 0.00  \n",
       "After_national_holiday                  5.00  \n",
       "Dayofyear                                227  \n",
       "store_type                                 A  \n",
       "Day                                       15  \n",
       "store_nbr                                 52  \n",
       "Before_local_holiday                 -183.00  \n",
       "Dayofweek                                  1  \n",
       "family                             GROCERY I  \n",
       "dcoilwtico                                47  \n",
       "After_local_holiday                    43.00  \n",
       "cluster                                   11  \n",
       "Month                                      8  \n",
       "state                                 Manabi  \n",
       "city                                   Manta  \n",
       "perishable                             False  \n",
       "unit_sales                              0.00  \n",
       "date                     2017-08-15 00:00:00  "
      ]
     },
     "metadata": {},
     "output_type": "display_data"
    }
   ],
   "source": [
    "display_all(train_keep.tail().T)"
   ]
  },
  {
   "cell_type": "code",
   "execution_count": 232,
   "metadata": {
    "scrolled": true
   },
   "outputs": [
    {
     "name": "stdout",
     "output_type": "stream",
     "text": [
      "CPU times: user 3.61 s, sys: 3.43 s, total: 7.04 s\n",
      "Wall time: 3.98 s\n"
     ]
    }
   ],
   "source": [
    "%%time\n",
    "train_keep.to_feather(f'{PATH}data/grocery_train_keep')\n",
    "test_keep.to_feather(f'{PATH}data/grocery_test_keep')"
   ]
  },
  {
   "cell_type": "markdown",
   "metadata": {},
   "source": [
    "### 5.7 Check Reduced Dataset"
   ]
  },
  {
   "cell_type": "code",
   "execution_count": 233,
   "metadata": {
    "scrolled": true
   },
   "outputs": [
    {
     "name": "stderr",
     "output_type": "stream",
     "text": [
      "/home/ubuntu/anaconda3/envs/fastai/lib/python3.6/site-packages/pandas/io/feather_format.py:112: FutureWarning: `nthreads` argument is deprecated, pass `use_threads` instead\n",
      "  return feather.read_dataframe(path, nthreads=nthreads)\n"
     ]
    },
    {
     "name": "stdout",
     "output_type": "stream",
     "text": [
      "CPU times: user 1.48 s, sys: 1.4 s, total: 2.88 s\n",
      "Wall time: 2.88 s\n"
     ]
    }
   ],
   "source": [
    "%%time\n",
    "train_keep = pd.read_feather(f'{PATH}data/grocery_train_keep')\n",
    "test_keep = pd.read_feather(f'{PATH}data/grocery_test_keep')"
   ]
  },
  {
   "cell_type": "code",
   "execution_count": 238,
   "metadata": {},
   "outputs": [],
   "source": [
    "train_keep.drop('date', 1, inplace=True)\n",
    "test_keep.drop('date', 1, inplace=True)"
   ]
  },
  {
   "cell_type": "code",
   "execution_count": 239,
   "metadata": {},
   "outputs": [
    {
     "data": {
      "text/plain": [
       "50120532"
      ]
     },
     "execution_count": 239,
     "metadata": {},
     "output_type": "execute_result"
    }
   ],
   "source": [
    "n = len(train_keep); n"
   ]
  },
  {
   "cell_type": "code",
   "execution_count": 240,
   "metadata": {},
   "outputs": [
    {
     "data": {
      "text/plain": [
       "5000000"
      ]
     },
     "execution_count": 240,
     "metadata": {},
     "output_type": "execute_result"
    }
   ],
   "source": [
    "idxs = get_cv_idxs(n, val_pct=5_000_000/n)\n",
    "train_samp = train_keep.iloc[idxs].copy()\n",
    "samp_size = len(train_samp); samp_size"
   ]
  },
  {
   "cell_type": "code",
   "execution_count": 241,
   "metadata": {},
   "outputs": [
    {
     "name": "stdout",
     "output_type": "stream",
     "text": [
      "CPU times: user 2.02 s, sys: 696 ms, total: 2.72 s\n",
      "Wall time: 2.71 s\n"
     ]
    }
   ],
   "source": [
    "%time df, y, nas = proc_df(train_samp, 'unit_sales')"
   ]
  },
  {
   "cell_type": "code",
   "execution_count": 242,
   "metadata": {},
   "outputs": [],
   "source": [
    "def split_vals(a,n): return a[:n], a[n:]\n",
    "n_valid = int(samp_size / 10)\n",
    "n_trn = len(df)-n_valid\n",
    "X_train, X_valid = split_vals(df, n_trn)\n",
    "y_train, y_valid = split_vals(y, n_trn)"
   ]
  },
  {
   "cell_type": "code",
   "execution_count": 243,
   "metadata": {
    "scrolled": true
   },
   "outputs": [
    {
     "name": "stdout",
     "output_type": "stream",
     "text": [
      "CPU times: user 26min 40s, sys: 4.01 s, total: 26min 44s\n",
      "Wall time: 2min 40s\n"
     ]
    }
   ],
   "source": [
    "%%time\n",
    "m = RandomForestRegressor(n_estimators=40, min_samples_leaf=3, max_features=0.5, n_jobs=-1, oob_score=True)\n",
    "m.fit(X_train, y_train)"
   ]
  },
  {
   "cell_type": "code",
   "execution_count": 244,
   "metadata": {},
   "outputs": [
    {
     "name": "stdout",
     "output_type": "stream",
     "text": [
      "[0.42264736415051196, 0.622014853673675, 0.8360711212669691, 0.645266094479001, 0.6320563660954142]\n"
     ]
    }
   ],
   "source": [
    "print_score(m)"
   ]
  },
  {
   "cell_type": "code",
   "execution_count": 245,
   "metadata": {},
   "outputs": [],
   "source": [
    "from treeinterpreter import treeinterpreter as ti"
   ]
  },
  {
   "cell_type": "code",
   "execution_count": 246,
   "metadata": {},
   "outputs": [
    {
     "data": {
      "text/plain": [
       "array([[1009946, 1036, False, -5.0, 32.0, 210, 4, 29, 42, 0.0, 5, 13, 49, 0.0, 2, 7, 1, 4, False]],\n",
       "      dtype=object)"
      ]
     },
     "execution_count": 246,
     "metadata": {},
     "output_type": "execute_result"
    }
   ],
   "source": [
    "row = X_valid.values[None,0]; row"
   ]
  },
  {
   "cell_type": "code",
   "execution_count": 247,
   "metadata": {},
   "outputs": [
    {
     "name": "stdout",
     "output_type": "stream",
     "text": [
      "CPU times: user 3min 41s, sys: 5.06 s, total: 3min 46s\n",
      "Wall time: 3min 46s\n"
     ]
    }
   ],
   "source": [
    "%time prediction, bias, contributions = ti.predict(m, row)"
   ]
  },
  {
   "cell_type": "code",
   "execution_count": 248,
   "metadata": {},
   "outputs": [
    {
     "data": {
      "text/plain": [
       "(0.6883119496750454, 0.8226092476207677)"
      ]
     },
     "execution_count": 248,
     "metadata": {},
     "output_type": "execute_result"
    }
   ],
   "source": [
    "prediction[0], bias[0]"
   ]
  },
  {
   "cell_type": "code",
   "execution_count": 249,
   "metadata": {},
   "outputs": [],
   "source": [
    "idxs = np.argsort(contributions[0])"
   ]
  },
  {
   "cell_type": "code",
   "execution_count": 250,
   "metadata": {},
   "outputs": [
    {
     "data": {
      "text/plain": [
       "[('Before_national_holiday', -5.0, -0.225159380514736),\n",
       " ('item_nbr', 1009946, -0.11020895643130009),\n",
       " ('store_nbr', 42, -0.09207627660515444),\n",
       " ('onpromotion', False, -0.06951482054481808),\n",
       " ('state', 1, -0.019669363857482546),\n",
       " ('cluster', 2, -0.01492813988667847),\n",
       " ('city', 4, -0.011077203633611034),\n",
       " ('perishable', False, -0.01101274788470355),\n",
       " ('family', 13, -0.009037145470259866),\n",
       " ('dcoilwtico', 49, -0.009015833732656006),\n",
       " ('store_type', 4, -0.0032193226130898993),\n",
       " ('Month', 7, 0.00907910813681013),\n",
       " ('Before_local_holiday', 0.0, 0.023574604598265055),\n",
       " ('class', 1036, 0.024781275621450254),\n",
       " ('After_national_holiday', 32.0, 0.03487715211680643),\n",
       " ('After_local_holiday', 0.0, 0.044523784107125694),\n",
       " ('Day', 29, 0.07947083182562106),\n",
       " ('Dayofyear', 210, 0.0883819695443095),\n",
       " ('Dayofweek', 5, 0.1359331672783794)]"
      ]
     },
     "execution_count": 250,
     "metadata": {},
     "output_type": "execute_result"
    }
   ],
   "source": [
    "[o for o in zip(X_train.columns[idxs], X_valid.iloc[0][idxs], contributions[0][idxs])]"
   ]
  },
  {
   "cell_type": "code",
   "execution_count": 251,
   "metadata": {},
   "outputs": [
    {
     "data": {
      "text/plain": [
       "-0.13429729794572237"
      ]
     },
     "execution_count": 251,
     "metadata": {},
     "output_type": "execute_result"
    }
   ],
   "source": [
    "contributions[0].sum()"
   ]
  },
  {
   "cell_type": "markdown",
   "metadata": {},
   "source": [
    "### 5.8 Test"
   ]
  },
  {
   "cell_type": "code",
   "execution_count": 252,
   "metadata": {
    "scrolled": true
   },
   "outputs": [
    {
     "name": "stderr",
     "output_type": "stream",
     "text": [
      "/home/ubuntu/anaconda3/envs/fastai/lib/python3.6/site-packages/pandas/io/feather_format.py:112: FutureWarning: `nthreads` argument is deprecated, pass `use_threads` instead\n",
      "  return feather.read_dataframe(path, nthreads=nthreads)\n"
     ]
    },
    {
     "name": "stdout",
     "output_type": "stream",
     "text": [
      "CPU times: user 1.58 s, sys: 1.3 s, total: 2.87 s\n",
      "Wall time: 2.87 s\n"
     ]
    }
   ],
   "source": [
    "%%time\n",
    "train_forest = pd.read_feather(f'{PATH}data/grocery_train_keep')\n",
    "test_forest = pd.read_feather(f'{PATH}data/grocery_test_keep')"
   ]
  },
  {
   "cell_type": "code",
   "execution_count": 253,
   "metadata": {},
   "outputs": [],
   "source": [
    "train_forest.drop('date', 1, inplace=True)\n",
    "test_forest.drop('date', 1, inplace=True)"
   ]
  },
  {
   "cell_type": "code",
   "execution_count": 254,
   "metadata": {},
   "outputs": [],
   "source": [
    "cat_vars = ['store_nbr', 'item_nbr', 'onpromotion',\n",
    "            'city', 'state', 'store_type', 'cluster',\n",
    "            'family', 'class', 'perishable',\n",
    "            'Month', 'Day', 'Dayofweek', 'Dayofyear']"
   ]
  },
  {
   "cell_type": "markdown",
   "metadata": {},
   "source": [
    "**N.B.: Not possible to save to feather after the next operation !!** (```.astype('category'```)"
   ]
  },
  {
   "cell_type": "code",
   "execution_count": 255,
   "metadata": {},
   "outputs": [
    {
     "name": "stderr",
     "output_type": "stream",
     "text": [
      "/home/ubuntu/anaconda3/envs/fastai/lib/python3.6/site-packages/ipykernel_launcher.py:1: FutureWarning: specifying 'categories' or 'ordered' in .astype() is deprecated; pass a CategoricalDtype instead\n",
      "  \"\"\"Entry point for launching an IPython kernel.\n"
     ]
    }
   ],
   "source": [
    "for v in cat_vars: train_forest[v] = train_forest[v].astype('category', ordered=True)"
   ]
  },
  {
   "cell_type": "code",
   "execution_count": 256,
   "metadata": {},
   "outputs": [
    {
     "name": "stderr",
     "output_type": "stream",
     "text": [
      "/home/ubuntu/anaconda3/envs/fastai/lib/python3.6/site-packages/ipykernel_launcher.py:1: FutureWarning: specifying 'categories' or 'ordered' in .astype() is deprecated; pass a CategoricalDtype instead\n",
      "  \"\"\"Entry point for launching an IPython kernel.\n"
     ]
    }
   ],
   "source": [
    "for v in cat_vars: test_forest[v] = test_forest[v].astype('category', ordered=True)"
   ]
  },
  {
   "cell_type": "code",
   "execution_count": 257,
   "metadata": {
    "scrolled": true
   },
   "outputs": [
    {
     "data": {
      "text/plain": [
       "50120532"
      ]
     },
     "execution_count": 257,
     "metadata": {},
     "output_type": "execute_result"
    }
   ],
   "source": [
    "train_samp = train_forest\n",
    "samp_size = len(train_samp); samp_size"
   ]
  },
  {
   "cell_type": "code",
   "execution_count": 258,
   "metadata": {
    "scrolled": true
   },
   "outputs": [
    {
     "name": "stdout",
     "output_type": "stream",
     "text": [
      "CPU times: user 55 s, sys: 15.5 s, total: 1min 10s\n",
      "Wall time: 1min 10s\n"
     ]
    }
   ],
   "source": [
    "%time df, y, nas, mapper = proc_df(train_samp, 'unit_sales', do_scale=True)"
   ]
  },
  {
   "cell_type": "code",
   "execution_count": 259,
   "metadata": {},
   "outputs": [],
   "source": [
    "df_test, _, nas, mapper = proc_df(test_forest, 'unit_sales', do_scale=True, skip_flds=['id'],\n",
    "                                  mapper=mapper, na_dict=nas)"
   ]
  },
  {
   "cell_type": "code",
   "execution_count": 260,
   "metadata": {},
   "outputs": [],
   "source": [
    "def split_vals(a,n): return a[:n], a[n:]\n",
    "n_valid = int(samp_size / 10)\n",
    "n_trn = len(df)-n_valid\n",
    "X_train, X_valid = split_vals(df, n_trn)\n",
    "y_train, y_valid = split_vals(y, n_trn)"
   ]
  },
  {
   "cell_type": "code",
   "execution_count": 261,
   "metadata": {},
   "outputs": [],
   "source": [
    "from sklearn.ensemble import RandomForestRegressor, RandomForestClassifier"
   ]
  },
  {
   "cell_type": "code",
   "execution_count": 14,
   "metadata": {
    "scrolled": true
   },
   "outputs": [
    {
     "name": "stdout",
     "output_type": "stream",
     "text": [
      "CPU times: user 4h 51min 43s, sys: 1min 42s, total: 4h 53min 26s\n",
      "Wall time: 26min 10s\n"
     ]
    },
    {
     "data": {
      "text/plain": [
       "RandomForestRegressor(bootstrap=True, criterion='mse', max_depth=None,\n",
       "           max_features=0.5, max_leaf_nodes=None,\n",
       "           min_impurity_decrease=0.0, min_impurity_split=None,\n",
       "           min_samples_leaf=1, min_samples_split=2,\n",
       "           min_weight_fraction_leaf=0.0, n_estimators=50, n_jobs=-1,\n",
       "           oob_score=True, random_state=None, verbose=0, warm_start=False)"
      ]
     },
     "execution_count": 14,
     "metadata": {},
     "output_type": "execute_result"
    }
   ],
   "source": [
    "m = RandomForestRegressor(n_estimators=50, max_features=0.5, n_jobs=-1, oob_score=True)\n",
    "%time m.fit(X_train, y_train)"
   ]
  },
  {
   "cell_type": "code",
   "execution_count": 15,
   "metadata": {},
   "outputs": [],
   "source": [
    "def rmse(x,y): return math.sqrt(((x-y)**2).mean())\n",
    "\n",
    "def print_score(m):\n",
    "    res = [rmse(m.predict(X_train), y_train), rmse(m.predict(X_valid), y_valid),\n",
    "                m.score(X_train, y_train), m.score(X_valid, y_valid)]\n",
    "    if hasattr(m, 'oob_score_'): res.append(m.oob_score_)\n",
    "    print(res)"
   ]
  },
  {
   "cell_type": "code",
   "execution_count": 16,
   "metadata": {},
   "outputs": [
    {
     "name": "stdout",
     "output_type": "stream",
     "text": [
      "[0.19425449410937848, 1.1837456686185706, 0.9653611964402751, -0.27824362642925604, 0.7515611787665316]\n"
     ]
    }
   ],
   "source": [
    "print_score(m)"
   ]
  },
  {
   "cell_type": "code",
   "execution_count": 17,
   "metadata": {},
   "outputs": [],
   "source": [
    "pred_test = m.predict(df_test)"
   ]
  },
  {
   "cell_type": "code",
   "execution_count": 18,
   "metadata": {},
   "outputs": [],
   "source": [
    "df_test[\"pred_unit_sales\"] = pred_test"
   ]
  },
  {
   "cell_type": "code",
   "execution_count": 20,
   "metadata": {},
   "outputs": [],
   "source": [
    "def inv_y(a): return np.expm1(a)"
   ]
  },
  {
   "cell_type": "code",
   "execution_count": 21,
   "metadata": {},
   "outputs": [],
   "source": [
    "df_test[\"unit_sales\"] = inv_y(df_test[\"pred_unit_sales\"])"
   ]
  },
  {
   "cell_type": "code",
   "execution_count": 22,
   "metadata": {},
   "outputs": [],
   "source": [
    "df_test[\"id\"] = test_forest.id"
   ]
  },
  {
   "cell_type": "code",
   "execution_count": 28,
   "metadata": {},
   "outputs": [],
   "source": [
    "pd.options.display.float_format = '{:20,.2f}'.format"
   ]
  },
  {
   "cell_type": "code",
   "execution_count": 29,
   "metadata": {},
   "outputs": [
    {
     "data": {
      "text/html": [
       "<div>\n",
       "<style scoped>\n",
       "    .dataframe tbody tr th:only-of-type {\n",
       "        vertical-align: middle;\n",
       "    }\n",
       "\n",
       "    .dataframe tbody tr th {\n",
       "        vertical-align: top;\n",
       "    }\n",
       "\n",
       "    .dataframe thead th {\n",
       "        text-align: right;\n",
       "    }\n",
       "</style>\n",
       "<table border=\"1\" class=\"dataframe\">\n",
       "  <thead>\n",
       "    <tr style=\"text-align: right;\">\n",
       "      <th></th>\n",
       "      <th>3370459</th>\n",
       "      <th>3370460</th>\n",
       "      <th>3370461</th>\n",
       "      <th>3370462</th>\n",
       "      <th>3370463</th>\n",
       "    </tr>\n",
       "  </thead>\n",
       "  <tbody>\n",
       "    <tr>\n",
       "      <th>item_nbr</th>\n",
       "      <td>3,897.00</td>\n",
       "      <td>3,898.00</td>\n",
       "      <td>3,899.00</td>\n",
       "      <td>3,900.00</td>\n",
       "      <td>3,901.00</td>\n",
       "    </tr>\n",
       "    <tr>\n",
       "      <th>class</th>\n",
       "      <td>27.00</td>\n",
       "      <td>1.00</td>\n",
       "      <td>15.00</td>\n",
       "      <td>44.00</td>\n",
       "      <td>101.00</td>\n",
       "    </tr>\n",
       "    <tr>\n",
       "      <th>onpromotion</th>\n",
       "      <td>1.00</td>\n",
       "      <td>1.00</td>\n",
       "      <td>1.00</td>\n",
       "      <td>1.00</td>\n",
       "      <td>1.00</td>\n",
       "    </tr>\n",
       "    <tr>\n",
       "      <th>Before_national_holiday</th>\n",
       "      <td>1.31</td>\n",
       "      <td>1.31</td>\n",
       "      <td>1.31</td>\n",
       "      <td>1.31</td>\n",
       "      <td>1.31</td>\n",
       "    </tr>\n",
       "    <tr>\n",
       "      <th>After_national_holiday</th>\n",
       "      <td>-1.32</td>\n",
       "      <td>-1.32</td>\n",
       "      <td>-1.32</td>\n",
       "      <td>-1.32</td>\n",
       "      <td>-1.32</td>\n",
       "    </tr>\n",
       "    <tr>\n",
       "      <th>Dayofyear</th>\n",
       "      <td>16.00</td>\n",
       "      <td>16.00</td>\n",
       "      <td>16.00</td>\n",
       "      <td>16.00</td>\n",
       "      <td>16.00</td>\n",
       "    </tr>\n",
       "    <tr>\n",
       "      <th>store_type</th>\n",
       "      <td>3.00</td>\n",
       "      <td>3.00</td>\n",
       "      <td>3.00</td>\n",
       "      <td>3.00</td>\n",
       "      <td>3.00</td>\n",
       "    </tr>\n",
       "    <tr>\n",
       "      <th>Day</th>\n",
       "      <td>16.00</td>\n",
       "      <td>16.00</td>\n",
       "      <td>16.00</td>\n",
       "      <td>16.00</td>\n",
       "      <td>16.00</td>\n",
       "    </tr>\n",
       "    <tr>\n",
       "      <th>store_nbr</th>\n",
       "      <td>54.00</td>\n",
       "      <td>54.00</td>\n",
       "      <td>54.00</td>\n",
       "      <td>54.00</td>\n",
       "      <td>54.00</td>\n",
       "    </tr>\n",
       "    <tr>\n",
       "      <th>Before_local_holiday</th>\n",
       "      <td>0.45</td>\n",
       "      <td>0.45</td>\n",
       "      <td>0.45</td>\n",
       "      <td>0.45</td>\n",
       "      <td>0.45</td>\n",
       "    </tr>\n",
       "    <tr>\n",
       "      <th>Dayofweek</th>\n",
       "      <td>4.00</td>\n",
       "      <td>4.00</td>\n",
       "      <td>4.00</td>\n",
       "      <td>4.00</td>\n",
       "      <td>4.00</td>\n",
       "    </tr>\n",
       "    <tr>\n",
       "      <th>family</th>\n",
       "      <td>13.00</td>\n",
       "      <td>13.00</td>\n",
       "      <td>13.00</td>\n",
       "      <td>13.00</td>\n",
       "      <td>23.00</td>\n",
       "    </tr>\n",
       "    <tr>\n",
       "      <th>dcoilwtico</th>\n",
       "      <td>-0.61</td>\n",
       "      <td>-0.61</td>\n",
       "      <td>-0.61</td>\n",
       "      <td>-0.61</td>\n",
       "      <td>-0.61</td>\n",
       "    </tr>\n",
       "    <tr>\n",
       "      <th>After_local_holiday</th>\n",
       "      <td>-0.29</td>\n",
       "      <td>-0.29</td>\n",
       "      <td>-0.29</td>\n",
       "      <td>-0.29</td>\n",
       "      <td>-0.29</td>\n",
       "    </tr>\n",
       "    <tr>\n",
       "      <th>cluster</th>\n",
       "      <td>3.00</td>\n",
       "      <td>3.00</td>\n",
       "      <td>3.00</td>\n",
       "      <td>3.00</td>\n",
       "      <td>3.00</td>\n",
       "    </tr>\n",
       "    <tr>\n",
       "      <th>Month</th>\n",
       "      <td>1.00</td>\n",
       "      <td>1.00</td>\n",
       "      <td>1.00</td>\n",
       "      <td>1.00</td>\n",
       "      <td>1.00</td>\n",
       "    </tr>\n",
       "    <tr>\n",
       "      <th>state</th>\n",
       "      <td>11.00</td>\n",
       "      <td>11.00</td>\n",
       "      <td>11.00</td>\n",
       "      <td>11.00</td>\n",
       "      <td>11.00</td>\n",
       "    </tr>\n",
       "    <tr>\n",
       "      <th>city</th>\n",
       "      <td>6.00</td>\n",
       "      <td>6.00</td>\n",
       "      <td>6.00</td>\n",
       "      <td>6.00</td>\n",
       "      <td>6.00</td>\n",
       "    </tr>\n",
       "    <tr>\n",
       "      <th>perishable</th>\n",
       "      <td>1.00</td>\n",
       "      <td>1.00</td>\n",
       "      <td>1.00</td>\n",
       "      <td>1.00</td>\n",
       "      <td>1.00</td>\n",
       "    </tr>\n",
       "    <tr>\n",
       "      <th>pred_unit_sales</th>\n",
       "      <td>1.02</td>\n",
       "      <td>0.75</td>\n",
       "      <td>0.76</td>\n",
       "      <td>1.17</td>\n",
       "      <td>0.82</td>\n",
       "    </tr>\n",
       "    <tr>\n",
       "      <th>unit_sales</th>\n",
       "      <td>1.77</td>\n",
       "      <td>1.13</td>\n",
       "      <td>1.15</td>\n",
       "      <td>2.21</td>\n",
       "      <td>1.26</td>\n",
       "    </tr>\n",
       "    <tr>\n",
       "      <th>id</th>\n",
       "      <td>128,867,499.00</td>\n",
       "      <td>128,867,500.00</td>\n",
       "      <td>128,867,501.00</td>\n",
       "      <td>128,867,502.00</td>\n",
       "      <td>128,867,503.00</td>\n",
       "    </tr>\n",
       "  </tbody>\n",
       "</table>\n",
       "</div>"
      ],
      "text/plain": [
       "                                     3370459              3370460  \\\n",
       "item_nbr                            3,897.00             3,898.00   \n",
       "class                                  27.00                 1.00   \n",
       "onpromotion                             1.00                 1.00   \n",
       "Before_national_holiday                 1.31                 1.31   \n",
       "After_national_holiday                 -1.32                -1.32   \n",
       "Dayofyear                              16.00                16.00   \n",
       "store_type                              3.00                 3.00   \n",
       "Day                                    16.00                16.00   \n",
       "store_nbr                              54.00                54.00   \n",
       "Before_local_holiday                    0.45                 0.45   \n",
       "Dayofweek                               4.00                 4.00   \n",
       "family                                 13.00                13.00   \n",
       "dcoilwtico                             -0.61                -0.61   \n",
       "After_local_holiday                    -0.29                -0.29   \n",
       "cluster                                 3.00                 3.00   \n",
       "Month                                   1.00                 1.00   \n",
       "state                                  11.00                11.00   \n",
       "city                                    6.00                 6.00   \n",
       "perishable                              1.00                 1.00   \n",
       "pred_unit_sales                         1.02                 0.75   \n",
       "unit_sales                              1.77                 1.13   \n",
       "id                            128,867,499.00       128,867,500.00   \n",
       "\n",
       "                                     3370461              3370462  \\\n",
       "item_nbr                            3,899.00             3,900.00   \n",
       "class                                  15.00                44.00   \n",
       "onpromotion                             1.00                 1.00   \n",
       "Before_national_holiday                 1.31                 1.31   \n",
       "After_national_holiday                 -1.32                -1.32   \n",
       "Dayofyear                              16.00                16.00   \n",
       "store_type                              3.00                 3.00   \n",
       "Day                                    16.00                16.00   \n",
       "store_nbr                              54.00                54.00   \n",
       "Before_local_holiday                    0.45                 0.45   \n",
       "Dayofweek                               4.00                 4.00   \n",
       "family                                 13.00                13.00   \n",
       "dcoilwtico                             -0.61                -0.61   \n",
       "After_local_holiday                    -0.29                -0.29   \n",
       "cluster                                 3.00                 3.00   \n",
       "Month                                   1.00                 1.00   \n",
       "state                                  11.00                11.00   \n",
       "city                                    6.00                 6.00   \n",
       "perishable                              1.00                 1.00   \n",
       "pred_unit_sales                         0.76                 1.17   \n",
       "unit_sales                              1.15                 2.21   \n",
       "id                            128,867,501.00       128,867,502.00   \n",
       "\n",
       "                                     3370463  \n",
       "item_nbr                            3,901.00  \n",
       "class                                 101.00  \n",
       "onpromotion                             1.00  \n",
       "Before_national_holiday                 1.31  \n",
       "After_national_holiday                 -1.32  \n",
       "Dayofyear                              16.00  \n",
       "store_type                              3.00  \n",
       "Day                                    16.00  \n",
       "store_nbr                              54.00  \n",
       "Before_local_holiday                    0.45  \n",
       "Dayofweek                               4.00  \n",
       "family                                 23.00  \n",
       "dcoilwtico                             -0.61  \n",
       "After_local_holiday                    -0.29  \n",
       "cluster                                 3.00  \n",
       "Month                                   1.00  \n",
       "state                                  11.00  \n",
       "city                                    6.00  \n",
       "perishable                              1.00  \n",
       "pred_unit_sales                         0.82  \n",
       "unit_sales                              1.26  \n",
       "id                            128,867,503.00  "
      ]
     },
     "metadata": {},
     "output_type": "display_data"
    }
   ],
   "source": [
    "display_all(df_test.tail().T)"
   ]
  },
  {
   "cell_type": "code",
   "execution_count": 24,
   "metadata": {},
   "outputs": [],
   "source": [
    "csv_fn = f'{PATH}submission.csv'"
   ]
  },
  {
   "cell_type": "code",
   "execution_count": 25,
   "metadata": {},
   "outputs": [],
   "source": [
    "df_test[['id','unit_sales']].to_csv(csv_fn, index=False, float_format='%.5f')"
   ]
  },
  {
   "cell_type": "code",
   "execution_count": 26,
   "metadata": {},
   "outputs": [
    {
     "data": {
      "text/html": [
       "<a href='data/grocery/submission.csv' target='_blank'>data/grocery/submission.csv</a><br>"
      ],
      "text/plain": [
       "/home/ubuntu/fastai/courses/dl1/data/grocery/submission.csv"
      ]
     },
     "execution_count": 26,
     "metadata": {},
     "output_type": "execute_result"
    }
   ],
   "source": [
    "FileLink(csv_fn)"
   ]
  },
  {
   "cell_type": "code",
   "execution_count": 30,
   "metadata": {},
   "outputs": [
    {
     "data": {
      "text/plain": [
       "count           3,370,464.00\n",
       "mean                    1.09\n",
       "std                     0.76\n",
       "min                     0.00\n",
       "25%                     0.51\n",
       "50%                     0.92\n",
       "75%                     1.51\n",
       "max                     5.30\n",
       "Name: pred_unit_sales, dtype: float64"
      ]
     },
     "execution_count": 30,
     "metadata": {},
     "output_type": "execute_result"
    }
   ],
   "source": [
    "df_test.pred_unit_sales.describe()"
   ]
  },
  {
   "cell_type": "code",
   "execution_count": 32,
   "metadata": {},
   "outputs": [
    {
     "data": {
      "text/plain": [
       "count          50,120,532.00\n",
       "mean                    0.82\n",
       "std                     1.04\n",
       "min                     0.00\n",
       "25%                     0.00\n",
       "50%                     0.00\n",
       "75%                     1.61\n",
       "max                     9.75\n",
       "Name: unit_sales, dtype: float64"
      ]
     },
     "execution_count": 32,
     "metadata": {},
     "output_type": "execute_result"
    }
   ],
   "source": [
    "train_samp.unit_sales.describe()"
   ]
  },
  {
   "cell_type": "markdown",
   "metadata": {},
   "source": [
    "## 6. Additional Feature Engineering"
   ]
  },
  {
   "cell_type": "markdown",
   "metadata": {},
   "source": [
    "I realized that the features we have so far are not sufficient, so after checking forum I adopted this idea from **kevindewalt**"
   ]
  },
  {
   "cell_type": "markdown",
   "metadata": {},
   "source": [
    "### 6.1 Derive Day-of-the-week Dataframes"
   ]
  },
  {
   "cell_type": "markdown",
   "metadata": {},
   "source": [
    "see https://github.com/kevindewalt/ai-notebooks/blob/master/Corporaci%C3%B3n+Favorita+Grocery+Sales+Forecasting.ipynb\n",
    "\n",
    "Dayofweek = dow\n",
    "\n",
    "'moving average' technique presented by Paulo Pinto and others\n",
    "https://www.kaggle.com/paulorzp/log-ma-and-days-of-week-means-lb-0-529/code\n",
    "\n",
    "this isn't a 'moving' average. It is a daily average by store and item."
   ]
  },
  {
   "cell_type": "code",
   "execution_count": 262,
   "metadata": {
    "scrolled": true
   },
   "outputs": [
    {
     "name": "stderr",
     "output_type": "stream",
     "text": [
      "/home/ubuntu/anaconda3/envs/fastai/lib/python3.6/site-packages/pandas/io/feather_format.py:112: FutureWarning: `nthreads` argument is deprecated, pass `use_threads` instead\n",
      "  return feather.read_dataframe(path, nthreads=nthreads)\n"
     ]
    },
    {
     "name": "stdout",
     "output_type": "stream",
     "text": [
      "CPU times: user 1.55 s, sys: 1.34 s, total: 2.9 s\n",
      "Wall time: 2.89 s\n"
     ]
    }
   ],
   "source": [
    "%%time\n",
    "train_keep = pd.read_feather(f'{PATH}data/grocery_train_keep')\n",
    "test_keep = pd.read_feather(f'{PATH}data/grocery_test_keep')"
   ]
  },
  {
   "cell_type": "code",
   "execution_count": 263,
   "metadata": {
    "scrolled": true
   },
   "outputs": [
    {
     "data": {
      "text/html": [
       "<div>\n",
       "<style scoped>\n",
       "    .dataframe tbody tr th:only-of-type {\n",
       "        vertical-align: middle;\n",
       "    }\n",
       "\n",
       "    .dataframe tbody tr th {\n",
       "        vertical-align: top;\n",
       "    }\n",
       "\n",
       "    .dataframe thead th {\n",
       "        text-align: right;\n",
       "    }\n",
       "</style>\n",
       "<table border=\"1\" class=\"dataframe\">\n",
       "  <thead>\n",
       "    <tr style=\"text-align: right;\">\n",
       "      <th></th>\n",
       "      <th>50120527</th>\n",
       "      <th>50120528</th>\n",
       "      <th>50120529</th>\n",
       "      <th>50120530</th>\n",
       "      <th>50120531</th>\n",
       "    </tr>\n",
       "  </thead>\n",
       "  <tbody>\n",
       "    <tr>\n",
       "      <th>item_nbr</th>\n",
       "      <td>2011451</td>\n",
       "      <td>2011451</td>\n",
       "      <td>2011451</td>\n",
       "      <td>2011451</td>\n",
       "      <td>2011451</td>\n",
       "    </tr>\n",
       "    <tr>\n",
       "      <th>class</th>\n",
       "      <td>1063</td>\n",
       "      <td>1063</td>\n",
       "      <td>1063</td>\n",
       "      <td>1063</td>\n",
       "      <td>1063</td>\n",
       "    </tr>\n",
       "    <tr>\n",
       "      <th>onpromotion</th>\n",
       "      <td>False</td>\n",
       "      <td>False</td>\n",
       "      <td>False</td>\n",
       "      <td>False</td>\n",
       "      <td>False</td>\n",
       "    </tr>\n",
       "    <tr>\n",
       "      <th>Before_national_holiday</th>\n",
       "      <td>0.00</td>\n",
       "      <td>0.00</td>\n",
       "      <td>0.00</td>\n",
       "      <td>0.00</td>\n",
       "      <td>0.00</td>\n",
       "    </tr>\n",
       "    <tr>\n",
       "      <th>After_national_holiday</th>\n",
       "      <td>5.00</td>\n",
       "      <td>5.00</td>\n",
       "      <td>5.00</td>\n",
       "      <td>5.00</td>\n",
       "      <td>5.00</td>\n",
       "    </tr>\n",
       "    <tr>\n",
       "      <th>Dayofyear</th>\n",
       "      <td>223</td>\n",
       "      <td>224</td>\n",
       "      <td>225</td>\n",
       "      <td>226</td>\n",
       "      <td>227</td>\n",
       "    </tr>\n",
       "    <tr>\n",
       "      <th>store_type</th>\n",
       "      <td>A</td>\n",
       "      <td>A</td>\n",
       "      <td>A</td>\n",
       "      <td>A</td>\n",
       "      <td>A</td>\n",
       "    </tr>\n",
       "    <tr>\n",
       "      <th>Day</th>\n",
       "      <td>11</td>\n",
       "      <td>12</td>\n",
       "      <td>13</td>\n",
       "      <td>14</td>\n",
       "      <td>15</td>\n",
       "    </tr>\n",
       "    <tr>\n",
       "      <th>store_nbr</th>\n",
       "      <td>52</td>\n",
       "      <td>52</td>\n",
       "      <td>52</td>\n",
       "      <td>52</td>\n",
       "      <td>52</td>\n",
       "    </tr>\n",
       "    <tr>\n",
       "      <th>Before_local_holiday</th>\n",
       "      <td>-183.00</td>\n",
       "      <td>-183.00</td>\n",
       "      <td>-183.00</td>\n",
       "      <td>-183.00</td>\n",
       "      <td>-183.00</td>\n",
       "    </tr>\n",
       "    <tr>\n",
       "      <th>Dayofweek</th>\n",
       "      <td>4</td>\n",
       "      <td>5</td>\n",
       "      <td>6</td>\n",
       "      <td>0</td>\n",
       "      <td>1</td>\n",
       "    </tr>\n",
       "    <tr>\n",
       "      <th>family</th>\n",
       "      <td>GROCERY I</td>\n",
       "      <td>GROCERY I</td>\n",
       "      <td>GROCERY I</td>\n",
       "      <td>GROCERY I</td>\n",
       "      <td>GROCERY I</td>\n",
       "    </tr>\n",
       "    <tr>\n",
       "      <th>dcoilwtico</th>\n",
       "      <td>48</td>\n",
       "      <td>48</td>\n",
       "      <td>48</td>\n",
       "      <td>47</td>\n",
       "      <td>47</td>\n",
       "    </tr>\n",
       "    <tr>\n",
       "      <th>After_local_holiday</th>\n",
       "      <td>43.00</td>\n",
       "      <td>43.00</td>\n",
       "      <td>43.00</td>\n",
       "      <td>43.00</td>\n",
       "      <td>43.00</td>\n",
       "    </tr>\n",
       "    <tr>\n",
       "      <th>cluster</th>\n",
       "      <td>11</td>\n",
       "      <td>11</td>\n",
       "      <td>11</td>\n",
       "      <td>11</td>\n",
       "      <td>11</td>\n",
       "    </tr>\n",
       "    <tr>\n",
       "      <th>Month</th>\n",
       "      <td>8</td>\n",
       "      <td>8</td>\n",
       "      <td>8</td>\n",
       "      <td>8</td>\n",
       "      <td>8</td>\n",
       "    </tr>\n",
       "    <tr>\n",
       "      <th>state</th>\n",
       "      <td>Manabi</td>\n",
       "      <td>Manabi</td>\n",
       "      <td>Manabi</td>\n",
       "      <td>Manabi</td>\n",
       "      <td>Manabi</td>\n",
       "    </tr>\n",
       "    <tr>\n",
       "      <th>city</th>\n",
       "      <td>Manta</td>\n",
       "      <td>Manta</td>\n",
       "      <td>Manta</td>\n",
       "      <td>Manta</td>\n",
       "      <td>Manta</td>\n",
       "    </tr>\n",
       "    <tr>\n",
       "      <th>perishable</th>\n",
       "      <td>False</td>\n",
       "      <td>False</td>\n",
       "      <td>False</td>\n",
       "      <td>False</td>\n",
       "      <td>False</td>\n",
       "    </tr>\n",
       "    <tr>\n",
       "      <th>unit_sales</th>\n",
       "      <td>0.00</td>\n",
       "      <td>0.00</td>\n",
       "      <td>0.00</td>\n",
       "      <td>0.00</td>\n",
       "      <td>0.00</td>\n",
       "    </tr>\n",
       "    <tr>\n",
       "      <th>date</th>\n",
       "      <td>2017-08-11 00:00:00</td>\n",
       "      <td>2017-08-12 00:00:00</td>\n",
       "      <td>2017-08-13 00:00:00</td>\n",
       "      <td>2017-08-14 00:00:00</td>\n",
       "      <td>2017-08-15 00:00:00</td>\n",
       "    </tr>\n",
       "  </tbody>\n",
       "</table>\n",
       "</div>"
      ],
      "text/plain": [
       "                                    50120527             50120528  \\\n",
       "item_nbr                             2011451              2011451   \n",
       "class                                   1063                 1063   \n",
       "onpromotion                            False                False   \n",
       "Before_national_holiday                 0.00                 0.00   \n",
       "After_national_holiday                  5.00                 5.00   \n",
       "Dayofyear                                223                  224   \n",
       "store_type                                 A                    A   \n",
       "Day                                       11                   12   \n",
       "store_nbr                                 52                   52   \n",
       "Before_local_holiday                 -183.00              -183.00   \n",
       "Dayofweek                                  4                    5   \n",
       "family                             GROCERY I            GROCERY I   \n",
       "dcoilwtico                                48                   48   \n",
       "After_local_holiday                    43.00                43.00   \n",
       "cluster                                   11                   11   \n",
       "Month                                      8                    8   \n",
       "state                                 Manabi               Manabi   \n",
       "city                                   Manta                Manta   \n",
       "perishable                             False                False   \n",
       "unit_sales                              0.00                 0.00   \n",
       "date                     2017-08-11 00:00:00  2017-08-12 00:00:00   \n",
       "\n",
       "                                    50120529             50120530  \\\n",
       "item_nbr                             2011451              2011451   \n",
       "class                                   1063                 1063   \n",
       "onpromotion                            False                False   \n",
       "Before_national_holiday                 0.00                 0.00   \n",
       "After_national_holiday                  5.00                 5.00   \n",
       "Dayofyear                                225                  226   \n",
       "store_type                                 A                    A   \n",
       "Day                                       13                   14   \n",
       "store_nbr                                 52                   52   \n",
       "Before_local_holiday                 -183.00              -183.00   \n",
       "Dayofweek                                  6                    0   \n",
       "family                             GROCERY I            GROCERY I   \n",
       "dcoilwtico                                48                   47   \n",
       "After_local_holiday                    43.00                43.00   \n",
       "cluster                                   11                   11   \n",
       "Month                                      8                    8   \n",
       "state                                 Manabi               Manabi   \n",
       "city                                   Manta                Manta   \n",
       "perishable                             False                False   \n",
       "unit_sales                              0.00                 0.00   \n",
       "date                     2017-08-13 00:00:00  2017-08-14 00:00:00   \n",
       "\n",
       "                                    50120531  \n",
       "item_nbr                             2011451  \n",
       "class                                   1063  \n",
       "onpromotion                            False  \n",
       "Before_national_holiday                 0.00  \n",
       "After_national_holiday                  5.00  \n",
       "Dayofyear                                227  \n",
       "store_type                                 A  \n",
       "Day                                       15  \n",
       "store_nbr                                 52  \n",
       "Before_local_holiday                 -183.00  \n",
       "Dayofweek                                  1  \n",
       "family                             GROCERY I  \n",
       "dcoilwtico                                47  \n",
       "After_local_holiday                    43.00  \n",
       "cluster                                   11  \n",
       "Month                                      8  \n",
       "state                                 Manabi  \n",
       "city                                   Manta  \n",
       "perishable                             False  \n",
       "unit_sales                              0.00  \n",
       "date                     2017-08-15 00:00:00  "
      ]
     },
     "metadata": {},
     "output_type": "display_data"
    }
   ],
   "source": [
    "display_all(train_keep.tail().T)"
   ]
  },
  {
   "cell_type": "code",
   "execution_count": 264,
   "metadata": {},
   "outputs": [],
   "source": [
    "#Days of Week Means\n",
    "#By tarobxl: https://www.kaggle.com/c/favorita-grocery-sales-forecasting/discussion/42948\n",
    "ma_dw = train_keep[['item_nbr','store_nbr','Dayofweek','unit_sales']].groupby(\n",
    "        ['item_nbr','store_nbr','Dayofweek'])['unit_sales'].mean().to_frame('madw').reset_index()\n",
    "ma_wk = ma_dw[['item_nbr','store_nbr','madw']].groupby(\n",
    "        ['item_nbr', 'store_nbr'])['madw'].mean().to_frame('mawk').reset_index()"
   ]
  },
  {
   "cell_type": "code",
   "execution_count": 265,
   "metadata": {},
   "outputs": [],
   "source": [
    "pd.options.display.float_format = '{:20,.5f}'.format"
   ]
  },
  {
   "cell_type": "code",
   "execution_count": 266,
   "metadata": {},
   "outputs": [
    {
     "data": {
      "text/html": [
       "<div>\n",
       "<style scoped>\n",
       "    .dataframe tbody tr th:only-of-type {\n",
       "        vertical-align: middle;\n",
       "    }\n",
       "\n",
       "    .dataframe tbody tr th {\n",
       "        vertical-align: top;\n",
       "    }\n",
       "\n",
       "    .dataframe thead th {\n",
       "        text-align: right;\n",
       "    }\n",
       "</style>\n",
       "<table border=\"1\" class=\"dataframe\">\n",
       "  <thead>\n",
       "    <tr style=\"text-align: right;\">\n",
       "      <th></th>\n",
       "      <th>item_nbr</th>\n",
       "      <th>store_nbr</th>\n",
       "      <th>Dayofweek</th>\n",
       "      <th>madw</th>\n",
       "    </tr>\n",
       "  </thead>\n",
       "  <tbody>\n",
       "    <tr>\n",
       "      <th>0</th>\n",
       "      <td>96995</td>\n",
       "      <td>1</td>\n",
       "      <td>0</td>\n",
       "      <td>0.10540</td>\n",
       "    </tr>\n",
       "    <tr>\n",
       "      <th>1</th>\n",
       "      <td>96995</td>\n",
       "      <td>1</td>\n",
       "      <td>1</td>\n",
       "      <td>0.02100</td>\n",
       "    </tr>\n",
       "    <tr>\n",
       "      <th>2</th>\n",
       "      <td>96995</td>\n",
       "      <td>1</td>\n",
       "      <td>2</td>\n",
       "      <td>0.08664</td>\n",
       "    </tr>\n",
       "    <tr>\n",
       "      <th>3</th>\n",
       "      <td>96995</td>\n",
       "      <td>1</td>\n",
       "      <td>3</td>\n",
       "      <td>0.09931</td>\n",
       "    </tr>\n",
       "    <tr>\n",
       "      <th>4</th>\n",
       "      <td>96995</td>\n",
       "      <td>1</td>\n",
       "      <td>4</td>\n",
       "      <td>0.17160</td>\n",
       "    </tr>\n",
       "  </tbody>\n",
       "</table>\n",
       "</div>"
      ],
      "text/plain": [
       "   item_nbr  store_nbr  Dayofweek                 madw\n",
       "0     96995          1          0              0.10540\n",
       "1     96995          1          1              0.02100\n",
       "2     96995          1          2              0.08664\n",
       "3     96995          1          3              0.09931\n",
       "4     96995          1          4              0.17160"
      ]
     },
     "execution_count": 266,
     "metadata": {},
     "output_type": "execute_result"
    }
   ],
   "source": [
    "ma_dw.head()"
   ]
  },
  {
   "cell_type": "code",
   "execution_count": 267,
   "metadata": {},
   "outputs": [
    {
     "data": {
      "text/html": [
       "<div>\n",
       "<style scoped>\n",
       "    .dataframe tbody tr th:only-of-type {\n",
       "        vertical-align: middle;\n",
       "    }\n",
       "\n",
       "    .dataframe tbody tr th {\n",
       "        vertical-align: top;\n",
       "    }\n",
       "\n",
       "    .dataframe thead th {\n",
       "        text-align: right;\n",
       "    }\n",
       "</style>\n",
       "<table border=\"1\" class=\"dataframe\">\n",
       "  <thead>\n",
       "    <tr style=\"text-align: right;\">\n",
       "      <th></th>\n",
       "      <th>item_nbr</th>\n",
       "      <th>store_nbr</th>\n",
       "      <th>mawk</th>\n",
       "    </tr>\n",
       "  </thead>\n",
       "  <tbody>\n",
       "    <tr>\n",
       "      <th>0</th>\n",
       "      <td>96995</td>\n",
       "      <td>1</td>\n",
       "      <td>0.09913</td>\n",
       "    </tr>\n",
       "    <tr>\n",
       "      <th>1</th>\n",
       "      <td>96995</td>\n",
       "      <td>2</td>\n",
       "      <td>0.11815</td>\n",
       "    </tr>\n",
       "    <tr>\n",
       "      <th>2</th>\n",
       "      <td>96995</td>\n",
       "      <td>3</td>\n",
       "      <td>0.16567</td>\n",
       "    </tr>\n",
       "    <tr>\n",
       "      <th>3</th>\n",
       "      <td>96995</td>\n",
       "      <td>4</td>\n",
       "      <td>0.05421</td>\n",
       "    </tr>\n",
       "    <tr>\n",
       "      <th>4</th>\n",
       "      <td>96995</td>\n",
       "      <td>5</td>\n",
       "      <td>0.06770</td>\n",
       "    </tr>\n",
       "  </tbody>\n",
       "</table>\n",
       "</div>"
      ],
      "text/plain": [
       "   item_nbr  store_nbr                 mawk\n",
       "0     96995          1              0.09913\n",
       "1     96995          2              0.11815\n",
       "2     96995          3              0.16567\n",
       "3     96995          4              0.05421\n",
       "4     96995          5              0.06770"
      ]
     },
     "execution_count": 267,
     "metadata": {},
     "output_type": "execute_result"
    }
   ],
   "source": [
    "ma_wk.head()"
   ]
  },
  {
   "cell_type": "markdown",
   "metadata": {},
   "source": [
    "### 6.2 'Moving' Averages"
   ]
  },
  {
   "cell_type": "markdown",
   "metadata": {},
   "source": [
    "More correctly stated as static revent averages over a time window."
   ]
  },
  {
   "cell_type": "code",
   "execution_count": 268,
   "metadata": {
    "scrolled": true
   },
   "outputs": [
    {
     "data": {
      "text/plain": [
       "Timestamp('2017-08-15 00:00:00')"
      ]
     },
     "execution_count": 268,
     "metadata": {},
     "output_type": "execute_result"
    }
   ],
   "source": [
    "# Only necessary to create dataframe for the loop below. We copy over 'mais' with median later.\n",
    "lastdate = train_keep.iloc[train_keep.shape[0]-1].date; lastdate"
   ]
  },
  {
   "cell_type": "code",
   "execution_count": 269,
   "metadata": {},
   "outputs": [],
   "source": [
    "ma_is = train_keep[['item_nbr','store_nbr','unit_sales']].groupby(\n",
    "    ['item_nbr','store_nbr'])['unit_sales'].mean().to_frame('mais')"
   ]
  },
  {
   "cell_type": "code",
   "execution_count": 270,
   "metadata": {
    "scrolled": true
   },
   "outputs": [
    {
     "data": {
      "text/html": [
       "<div>\n",
       "<style scoped>\n",
       "    .dataframe tbody tr th:only-of-type {\n",
       "        vertical-align: middle;\n",
       "    }\n",
       "\n",
       "    .dataframe tbody tr th {\n",
       "        vertical-align: top;\n",
       "    }\n",
       "\n",
       "    .dataframe thead th {\n",
       "        text-align: right;\n",
       "    }\n",
       "</style>\n",
       "<table border=\"1\" class=\"dataframe\">\n",
       "  <thead>\n",
       "    <tr style=\"text-align: right;\">\n",
       "      <th></th>\n",
       "      <th></th>\n",
       "      <th>mais</th>\n",
       "    </tr>\n",
       "    <tr>\n",
       "      <th>item_nbr</th>\n",
       "      <th>store_nbr</th>\n",
       "      <th></th>\n",
       "    </tr>\n",
       "  </thead>\n",
       "  <tbody>\n",
       "    <tr>\n",
       "      <th rowspan=\"5\" valign=\"top\">96995</th>\n",
       "      <th>1</th>\n",
       "      <td>0.09931</td>\n",
       "    </tr>\n",
       "    <tr>\n",
       "      <th>2</th>\n",
       "      <td>0.11855</td>\n",
       "    </tr>\n",
       "    <tr>\n",
       "      <th>3</th>\n",
       "      <td>0.16656</td>\n",
       "    </tr>\n",
       "    <tr>\n",
       "      <th>4</th>\n",
       "      <td>0.05503</td>\n",
       "    </tr>\n",
       "    <tr>\n",
       "      <th>5</th>\n",
       "      <td>0.06703</td>\n",
       "    </tr>\n",
       "  </tbody>\n",
       "</table>\n",
       "</div>"
      ],
      "text/plain": [
       "                                   mais\n",
       "item_nbr store_nbr                     \n",
       "96995    1                      0.09931\n",
       "         2                      0.11855\n",
       "         3                      0.16656\n",
       "         4                      0.05503\n",
       "         5                      0.06703"
      ]
     },
     "execution_count": 270,
     "metadata": {},
     "output_type": "execute_result"
    }
   ],
   "source": [
    "ma_is.head()"
   ]
  },
  {
   "cell_type": "code",
   "execution_count": 271,
   "metadata": {},
   "outputs": [],
   "source": [
    "from datetime import timedelta"
   ]
  },
  {
   "cell_type": "code",
   "execution_count": 272,
   "metadata": {},
   "outputs": [],
   "source": [
    "# Now calculate average sales of store/item combinations over recent time windows \n",
    "# based on days before the last available training data date.\n",
    "# e.g. 112 days before the last date, 56 before the last date ...\n",
    "for i in [112, 56, 28, 14, 7, 3, 1]:\n",
    "    tmp = train_keep[train_keep.date>lastdate-timedelta(int(i))]\n",
    "    tmpg = tmp.groupby(['item_nbr', 'store_nbr'])['unit_sales'].mean().to_frame('mais'+str(i))\n",
    "    ma_is =  ma_is.join(tmpg, how='left')"
   ]
  },
  {
   "cell_type": "code",
   "execution_count": 273,
   "metadata": {},
   "outputs": [],
   "source": [
    "del tmp; del tmpg"
   ]
  },
  {
   "cell_type": "code",
   "execution_count": 274,
   "metadata": {
    "scrolled": true
   },
   "outputs": [
    {
     "data": {
      "text/html": [
       "<div>\n",
       "<style scoped>\n",
       "    .dataframe tbody tr th:only-of-type {\n",
       "        vertical-align: middle;\n",
       "    }\n",
       "\n",
       "    .dataframe tbody tr th {\n",
       "        vertical-align: top;\n",
       "    }\n",
       "\n",
       "    .dataframe thead th {\n",
       "        text-align: right;\n",
       "    }\n",
       "</style>\n",
       "<table border=\"1\" class=\"dataframe\">\n",
       "  <thead>\n",
       "    <tr style=\"text-align: right;\">\n",
       "      <th></th>\n",
       "      <th></th>\n",
       "      <th>mais</th>\n",
       "      <th>mais112</th>\n",
       "      <th>mais56</th>\n",
       "      <th>mais28</th>\n",
       "      <th>mais14</th>\n",
       "      <th>mais7</th>\n",
       "      <th>mais3</th>\n",
       "      <th>mais1</th>\n",
       "    </tr>\n",
       "    <tr>\n",
       "      <th>item_nbr</th>\n",
       "      <th>store_nbr</th>\n",
       "      <th></th>\n",
       "      <th></th>\n",
       "      <th></th>\n",
       "      <th></th>\n",
       "      <th></th>\n",
       "      <th></th>\n",
       "      <th></th>\n",
       "      <th></th>\n",
       "    </tr>\n",
       "  </thead>\n",
       "  <tbody>\n",
       "    <tr>\n",
       "      <th rowspan=\"5\" valign=\"top\">96995</th>\n",
       "      <th>1</th>\n",
       "      <td>0.09931</td>\n",
       "      <td>0.16229</td>\n",
       "      <td>0.18709</td>\n",
       "      <td>0.29520</td>\n",
       "      <td>0.33444</td>\n",
       "      <td>0.09902</td>\n",
       "      <td>0.00000</td>\n",
       "      <td>0.00000</td>\n",
       "    </tr>\n",
       "    <tr>\n",
       "      <th>2</th>\n",
       "      <td>0.11855</td>\n",
       "      <td>0.15774</td>\n",
       "      <td>0.11748</td>\n",
       "      <td>0.04951</td>\n",
       "      <td>0.00000</td>\n",
       "      <td>0.00000</td>\n",
       "      <td>0.00000</td>\n",
       "      <td>0.00000</td>\n",
       "    </tr>\n",
       "    <tr>\n",
       "      <th>3</th>\n",
       "      <td>0.16656</td>\n",
       "      <td>0.22154</td>\n",
       "      <td>0.30745</td>\n",
       "      <td>0.33630</td>\n",
       "      <td>0.37554</td>\n",
       "      <td>0.45401</td>\n",
       "      <td>0.46210</td>\n",
       "      <td>0.69315</td>\n",
       "    </tr>\n",
       "    <tr>\n",
       "      <th>4</th>\n",
       "      <td>0.05503</td>\n",
       "      <td>0.11054</td>\n",
       "      <td>0.18022</td>\n",
       "      <td>0.09902</td>\n",
       "      <td>0.09902</td>\n",
       "      <td>0.19804</td>\n",
       "      <td>0.23105</td>\n",
       "      <td>0.69315</td>\n",
       "    </tr>\n",
       "    <tr>\n",
       "      <th>5</th>\n",
       "      <td>0.06703</td>\n",
       "      <td>0.13465</td>\n",
       "      <td>0.19196</td>\n",
       "      <td>0.23728</td>\n",
       "      <td>0.09902</td>\n",
       "      <td>0.19804</td>\n",
       "      <td>0.00000</td>\n",
       "      <td>0.00000</td>\n",
       "    </tr>\n",
       "  </tbody>\n",
       "</table>\n",
       "</div>"
      ],
      "text/plain": [
       "                                   mais              mais112  \\\n",
       "item_nbr store_nbr                                             \n",
       "96995    1                      0.09931              0.16229   \n",
       "         2                      0.11855              0.15774   \n",
       "         3                      0.16656              0.22154   \n",
       "         4                      0.05503              0.11054   \n",
       "         5                      0.06703              0.13465   \n",
       "\n",
       "                                 mais56               mais28  \\\n",
       "item_nbr store_nbr                                             \n",
       "96995    1                      0.18709              0.29520   \n",
       "         2                      0.11748              0.04951   \n",
       "         3                      0.30745              0.33630   \n",
       "         4                      0.18022              0.09902   \n",
       "         5                      0.19196              0.23728   \n",
       "\n",
       "                                 mais14                mais7  \\\n",
       "item_nbr store_nbr                                             \n",
       "96995    1                      0.33444              0.09902   \n",
       "         2                      0.00000              0.00000   \n",
       "         3                      0.37554              0.45401   \n",
       "         4                      0.09902              0.19804   \n",
       "         5                      0.09902              0.19804   \n",
       "\n",
       "                                  mais3                mais1  \n",
       "item_nbr store_nbr                                            \n",
       "96995    1                      0.00000              0.00000  \n",
       "         2                      0.00000              0.00000  \n",
       "         3                      0.46210              0.69315  \n",
       "         4                      0.23105              0.69315  \n",
       "         5                      0.00000              0.00000  "
      ]
     },
     "execution_count": 274,
     "metadata": {},
     "output_type": "execute_result"
    }
   ],
   "source": [
    "ma_is.head()"
   ]
  },
  {
   "cell_type": "code",
   "execution_count": 275,
   "metadata": {},
   "outputs": [],
   "source": [
    "# Now take the median of of the day windows we calculated.\n",
    "# I tried just keeping all of the windows but got worse results.\n",
    "# Perhaps mean would work as well as median - I didn't test it.\n",
    "# In any case, this is a pretty simplistic feature which may not generalize.\n",
    "ma_is['mais']=ma_is.median(axis=1)"
   ]
  },
  {
   "cell_type": "code",
   "execution_count": 276,
   "metadata": {},
   "outputs": [],
   "source": [
    "# Now remove the mais112 ... mais1 and merge the mais feature with training dataframe\n",
    "ma_is.reset_index(inplace=True)\n",
    "ma_is.drop(list(ma_is.columns.values)[3:],1,inplace=True)"
   ]
  },
  {
   "cell_type": "code",
   "execution_count": 277,
   "metadata": {},
   "outputs": [],
   "source": [
    "train_keep=join_df(train_keep,ma_is,['item_nbr', 'store_nbr'])"
   ]
  },
  {
   "cell_type": "code",
   "execution_count": 278,
   "metadata": {
    "scrolled": true
   },
   "outputs": [
    {
     "data": {
      "text/plain": [
       "Index(['item_nbr', 'class', 'onpromotion', 'Before_national_holiday',\n",
       "       'After_national_holiday', 'Dayofyear', 'store_type', 'Day', 'store_nbr',\n",
       "       'Before_local_holiday', 'Dayofweek', 'family', 'dcoilwtico',\n",
       "       'After_local_holiday', 'cluster', 'Month', 'state', 'city',\n",
       "       'perishable', 'unit_sales', 'date', 'mais'],\n",
       "      dtype='object')"
      ]
     },
     "execution_count": 278,
     "metadata": {},
     "output_type": "execute_result"
    }
   ],
   "source": [
    "train_keep.columns"
   ]
  },
  {
   "cell_type": "code",
   "execution_count": 279,
   "metadata": {},
   "outputs": [],
   "source": [
    "# now you see the purpose of 'madw' and 'mawk'. To scale each sales average by\n",
    "# how well it historically sells for that day of the week\n",
    "train_keep = pd.merge(train_keep, ma_wk, how='left', on=['item_nbr','store_nbr'])\n",
    "train_keep = pd.merge(train_keep, ma_dw, how='left', on=['item_nbr','store_nbr','Dayofweek'])"
   ]
  },
  {
   "cell_type": "code",
   "execution_count": 280,
   "metadata": {
    "scrolled": true
   },
   "outputs": [
    {
     "data": {
      "text/plain": [
       "Index(['item_nbr', 'class', 'onpromotion', 'Before_national_holiday',\n",
       "       'After_national_holiday', 'Dayofyear', 'store_type', 'Day', 'store_nbr',\n",
       "       'Before_local_holiday', 'Dayofweek', 'family', 'dcoilwtico',\n",
       "       'After_local_holiday', 'cluster', 'Month', 'state', 'city',\n",
       "       'perishable', 'unit_sales', 'date', 'mais', 'mawk', 'madw'],\n",
       "      dtype='object')"
      ]
     },
     "execution_count": 280,
     "metadata": {},
     "output_type": "execute_result"
    }
   ],
   "source": [
    "train_keep.columns"
   ]
  },
  {
   "cell_type": "code",
   "execution_count": 281,
   "metadata": {},
   "outputs": [],
   "source": [
    "train_keep['m_ratio'] = train_keep['mais']*train_keep['madw']/train_keep['mawk']"
   ]
  },
  {
   "cell_type": "code",
   "execution_count": 282,
   "metadata": {},
   "outputs": [
    {
     "name": "stdout",
     "output_type": "stream",
     "text": [
      "<class 'pandas.core.frame.DataFrame'>\n",
      "Int64Index: 50120532 entries, 0 to 50120531\n",
      "Data columns (total 25 columns):\n",
      "item_nbr                   uint64\n",
      "class                      uint16\n",
      "onpromotion                bool\n",
      "Before_national_holiday    float64\n",
      "After_national_holiday     float64\n",
      "Dayofyear                  int64\n",
      "store_type                 category\n",
      "Day                        int64\n",
      "store_nbr                  uint64\n",
      "Before_local_holiday       float64\n",
      "Dayofweek                  int64\n",
      "family                     category\n",
      "dcoilwtico                 int8\n",
      "After_local_holiday        float64\n",
      "cluster                    uint32\n",
      "Month                      int64\n",
      "state                      category\n",
      "city                       category\n",
      "perishable                 bool\n",
      "unit_sales                 float32\n",
      "date                       datetime64[ns]\n",
      "mais                       float32\n",
      "mawk                       float32\n",
      "madw                       float32\n",
      "m_ratio                    float32\n",
      "dtypes: bool(2), category(4), datetime64[ns](1), float32(5), float64(4), int64(4), int8(1), uint16(1), uint32(1), uint64(2)\n",
      "memory usage: 6.0 GB\n"
     ]
    }
   ],
   "source": [
    "train_keep.info()"
   ]
  },
  {
   "cell_type": "markdown",
   "metadata": {},
   "source": [
    "Shrink size"
   ]
  },
  {
   "cell_type": "code",
   "execution_count": 283,
   "metadata": {},
   "outputs": [],
   "source": [
    "train_keep['store_nbr'] = train_keep['store_nbr'].astype(np.uint8)\n",
    "train_keep['item_nbr'] = train_keep['item_nbr'].astype(np.uint32)\n",
    "train_keep['Before_national_holiday'] = train_keep['Before_national_holiday'].astype(np.uint8)\n",
    "train_keep['After_national_holiday'] = train_keep['After_national_holiday'].astype(np.uint8)\n",
    "train_keep['Dayofyear'] = train_keep['Dayofyear'].astype(np.uint8)\n",
    "train_keep['Day'] = train_keep['Day'].astype(np.uint8)\n",
    "train_keep['Before_local_holiday'] = train_keep['Before_local_holiday'].astype(np.uint8)\n",
    "train_keep['Dayofweek'] = train_keep['Dayofweek'].astype(np.uint8)\n",
    "train_keep['After_local_holiday'] = train_keep['After_local_holiday'].astype(np.uint8)\n",
    "train_keep['cluster'] = train_keep['cluster'].astype(np.uint8)\n",
    "train_keep['Month'] = train_keep['Month'].astype(np.uint8)\n",
    "\n",
    "train_keep.drop('mawk', 1, inplace=True)\n",
    "train_keep.drop('madw', 1, inplace=True)\n",
    "train_keep.drop('mais', 1, inplace=True)"
   ]
  },
  {
   "cell_type": "code",
   "execution_count": 284,
   "metadata": {},
   "outputs": [
    {
     "name": "stdout",
     "output_type": "stream",
     "text": [
      "<class 'pandas.core.frame.DataFrame'>\n",
      "Int64Index: 50120532 entries, 0 to 50120531\n",
      "Data columns (total 22 columns):\n",
      "item_nbr                   uint32\n",
      "class                      uint16\n",
      "onpromotion                bool\n",
      "Before_national_holiday    uint8\n",
      "After_national_holiday     uint8\n",
      "Dayofyear                  uint8\n",
      "store_type                 category\n",
      "Day                        uint8\n",
      "store_nbr                  uint8\n",
      "Before_local_holiday       uint8\n",
      "Dayofweek                  uint8\n",
      "family                     category\n",
      "dcoilwtico                 int8\n",
      "After_local_holiday        uint8\n",
      "cluster                    uint8\n",
      "Month                      uint8\n",
      "state                      category\n",
      "city                       category\n",
      "perishable                 bool\n",
      "unit_sales                 float32\n",
      "date                       datetime64[ns]\n",
      "m_ratio                    float32\n",
      "dtypes: bool(2), category(4), datetime64[ns](1), float32(2), int8(1), uint16(1), uint32(1), uint8(10)\n",
      "memory usage: 2.2 GB\n"
     ]
    }
   ],
   "source": [
    "train_keep.info()"
   ]
  },
  {
   "cell_type": "markdown",
   "metadata": {},
   "source": [
    "Same for test data"
   ]
  },
  {
   "cell_type": "code",
   "execution_count": 285,
   "metadata": {},
   "outputs": [],
   "source": [
    "test_keep = pd.merge(test_keep, ma_is, how='left', on=['item_nbr','store_nbr'])\n",
    "test_keep = pd.merge(test_keep, ma_wk, how='left', on=['item_nbr','store_nbr'])\n",
    "test_keep = pd.merge(test_keep, ma_dw, how='left', on=['item_nbr','store_nbr','Dayofweek'])"
   ]
  },
  {
   "cell_type": "code",
   "execution_count": 286,
   "metadata": {},
   "outputs": [],
   "source": [
    "test_keep['m_ratio'] = test_keep['mais']*test_keep['madw']/test_keep['mawk']"
   ]
  },
  {
   "cell_type": "code",
   "execution_count": 287,
   "metadata": {},
   "outputs": [],
   "source": [
    "test_keep['store_nbr'] = test_keep['store_nbr'].astype(np.uint8)\n",
    "test_keep['item_nbr'] = test_keep['item_nbr'].astype(np.uint32)\n",
    "test_keep['Before_national_holiday'] = test_keep['Before_national_holiday'].astype(np.uint8)\n",
    "test_keep['After_national_holiday'] = test_keep['After_national_holiday'].astype(np.uint8)\n",
    "test_keep['Dayofyear'] = test_keep['Dayofyear'].astype(np.uint8)\n",
    "test_keep['Day'] = test_keep['Day'].astype(np.uint8)\n",
    "test_keep['Before_local_holiday'] = test_keep['Before_local_holiday'].astype(np.uint8)\n",
    "test_keep['Dayofweek'] = test_keep['Dayofweek'].astype(np.uint8)\n",
    "test_keep['After_local_holiday'] = test_keep['After_local_holiday'].astype(np.uint8)\n",
    "test_keep['cluster'] = test_keep['cluster'].astype(np.uint8)\n",
    "test_keep['Month'] = test_keep['Month'].astype(np.uint8)\n",
    "\n",
    "test_keep.drop('mawk', 1, inplace=True)\n",
    "test_keep.drop('madw', 1, inplace=True)\n",
    "test_keep.drop('mais', 1, inplace=True)"
   ]
  },
  {
   "cell_type": "code",
   "execution_count": 288,
   "metadata": {},
   "outputs": [],
   "source": [
    "del ma_is; del ma_wk; del ma_dw"
   ]
  },
  {
   "cell_type": "code",
   "execution_count": 289,
   "metadata": {},
   "outputs": [
    {
     "data": {
      "text/plain": [
       "(50120532, 3370464)"
      ]
     },
     "execution_count": 289,
     "metadata": {},
     "output_type": "execute_result"
    }
   ],
   "source": [
    "len(train_keep['m_ratio'].isna()), len(test_keep['m_ratio'].isna())"
   ]
  },
  {
   "cell_type": "code",
   "execution_count": 290,
   "metadata": {},
   "outputs": [],
   "source": [
    "train_keep['m_ratio'].fillna(0, inplace=True)\n",
    "test_keep['m_ratio'].fillna(0, inplace=True)"
   ]
  },
  {
   "cell_type": "code",
   "execution_count": 291,
   "metadata": {
    "scrolled": true
   },
   "outputs": [
    {
     "name": "stdout",
     "output_type": "stream",
     "text": [
      "CPU times: user 1.69 s, sys: 1.43 s, total: 3.12 s\n",
      "Wall time: 1.83 s\n"
     ]
    }
   ],
   "source": [
    "%%time\n",
    "train_keep.to_feather(f'{PATH}data/grocery_train_ma')\n",
    "test_keep.to_feather(f'{PATH}data/grocery_test_ma')"
   ]
  },
  {
   "cell_type": "markdown",
   "metadata": {},
   "source": [
    "## 7. Another Look at the Data"
   ]
  },
  {
   "cell_type": "code",
   "execution_count": 292,
   "metadata": {
    "scrolled": true
   },
   "outputs": [
    {
     "name": "stderr",
     "output_type": "stream",
     "text": [
      "/home/ubuntu/anaconda3/envs/fastai/lib/python3.6/site-packages/pandas/io/feather_format.py:112: FutureWarning: `nthreads` argument is deprecated, pass `use_threads` instead\n",
      "  return feather.read_dataframe(path, nthreads=nthreads)\n"
     ]
    },
    {
     "name": "stdout",
     "output_type": "stream",
     "text": [
      "CPU times: user 1.04 s, sys: 392 ms, total: 1.43 s\n",
      "Wall time: 1.43 s\n"
     ]
    }
   ],
   "source": [
    "%%time\n",
    "train_keep = pd.read_feather(f'{PATH}data/grocery_train_ma')\n",
    "test_keep = pd.read_feather(f'{PATH}data/grocery_test_ma')"
   ]
  },
  {
   "cell_type": "code",
   "execution_count": 293,
   "metadata": {},
   "outputs": [],
   "source": [
    "train_keep.drop('date', 1, inplace=True)\n",
    "test_keep.drop('date', 1, inplace=True)"
   ]
  },
  {
   "cell_type": "code",
   "execution_count": 294,
   "metadata": {
    "scrolled": true
   },
   "outputs": [
    {
     "data": {
      "text/html": [
       "<div>\n",
       "<style scoped>\n",
       "    .dataframe tbody tr th:only-of-type {\n",
       "        vertical-align: middle;\n",
       "    }\n",
       "\n",
       "    .dataframe tbody tr th {\n",
       "        vertical-align: top;\n",
       "    }\n",
       "\n",
       "    .dataframe thead th {\n",
       "        text-align: right;\n",
       "    }\n",
       "</style>\n",
       "<table border=\"1\" class=\"dataframe\">\n",
       "  <thead>\n",
       "    <tr style=\"text-align: right;\">\n",
       "      <th></th>\n",
       "      <th>50120527</th>\n",
       "      <th>50120528</th>\n",
       "      <th>50120529</th>\n",
       "      <th>50120530</th>\n",
       "      <th>50120531</th>\n",
       "    </tr>\n",
       "  </thead>\n",
       "  <tbody>\n",
       "    <tr>\n",
       "      <th>item_nbr</th>\n",
       "      <td>2011451</td>\n",
       "      <td>2011451</td>\n",
       "      <td>2011451</td>\n",
       "      <td>2011451</td>\n",
       "      <td>2011451</td>\n",
       "    </tr>\n",
       "    <tr>\n",
       "      <th>class</th>\n",
       "      <td>1063</td>\n",
       "      <td>1063</td>\n",
       "      <td>1063</td>\n",
       "      <td>1063</td>\n",
       "      <td>1063</td>\n",
       "    </tr>\n",
       "    <tr>\n",
       "      <th>onpromotion</th>\n",
       "      <td>False</td>\n",
       "      <td>False</td>\n",
       "      <td>False</td>\n",
       "      <td>False</td>\n",
       "      <td>False</td>\n",
       "    </tr>\n",
       "    <tr>\n",
       "      <th>Before_national_holiday</th>\n",
       "      <td>0</td>\n",
       "      <td>0</td>\n",
       "      <td>0</td>\n",
       "      <td>0</td>\n",
       "      <td>0</td>\n",
       "    </tr>\n",
       "    <tr>\n",
       "      <th>After_national_holiday</th>\n",
       "      <td>5</td>\n",
       "      <td>5</td>\n",
       "      <td>5</td>\n",
       "      <td>5</td>\n",
       "      <td>5</td>\n",
       "    </tr>\n",
       "    <tr>\n",
       "      <th>Dayofyear</th>\n",
       "      <td>223</td>\n",
       "      <td>224</td>\n",
       "      <td>225</td>\n",
       "      <td>226</td>\n",
       "      <td>227</td>\n",
       "    </tr>\n",
       "    <tr>\n",
       "      <th>store_type</th>\n",
       "      <td>A</td>\n",
       "      <td>A</td>\n",
       "      <td>A</td>\n",
       "      <td>A</td>\n",
       "      <td>A</td>\n",
       "    </tr>\n",
       "    <tr>\n",
       "      <th>Day</th>\n",
       "      <td>11</td>\n",
       "      <td>12</td>\n",
       "      <td>13</td>\n",
       "      <td>14</td>\n",
       "      <td>15</td>\n",
       "    </tr>\n",
       "    <tr>\n",
       "      <th>store_nbr</th>\n",
       "      <td>52</td>\n",
       "      <td>52</td>\n",
       "      <td>52</td>\n",
       "      <td>52</td>\n",
       "      <td>52</td>\n",
       "    </tr>\n",
       "    <tr>\n",
       "      <th>Before_local_holiday</th>\n",
       "      <td>73</td>\n",
       "      <td>73</td>\n",
       "      <td>73</td>\n",
       "      <td>73</td>\n",
       "      <td>73</td>\n",
       "    </tr>\n",
       "    <tr>\n",
       "      <th>Dayofweek</th>\n",
       "      <td>4</td>\n",
       "      <td>5</td>\n",
       "      <td>6</td>\n",
       "      <td>0</td>\n",
       "      <td>1</td>\n",
       "    </tr>\n",
       "    <tr>\n",
       "      <th>family</th>\n",
       "      <td>GROCERY I</td>\n",
       "      <td>GROCERY I</td>\n",
       "      <td>GROCERY I</td>\n",
       "      <td>GROCERY I</td>\n",
       "      <td>GROCERY I</td>\n",
       "    </tr>\n",
       "    <tr>\n",
       "      <th>dcoilwtico</th>\n",
       "      <td>48</td>\n",
       "      <td>48</td>\n",
       "      <td>48</td>\n",
       "      <td>47</td>\n",
       "      <td>47</td>\n",
       "    </tr>\n",
       "    <tr>\n",
       "      <th>After_local_holiday</th>\n",
       "      <td>43</td>\n",
       "      <td>43</td>\n",
       "      <td>43</td>\n",
       "      <td>43</td>\n",
       "      <td>43</td>\n",
       "    </tr>\n",
       "    <tr>\n",
       "      <th>cluster</th>\n",
       "      <td>11</td>\n",
       "      <td>11</td>\n",
       "      <td>11</td>\n",
       "      <td>11</td>\n",
       "      <td>11</td>\n",
       "    </tr>\n",
       "    <tr>\n",
       "      <th>Month</th>\n",
       "      <td>8</td>\n",
       "      <td>8</td>\n",
       "      <td>8</td>\n",
       "      <td>8</td>\n",
       "      <td>8</td>\n",
       "    </tr>\n",
       "    <tr>\n",
       "      <th>state</th>\n",
       "      <td>Manabi</td>\n",
       "      <td>Manabi</td>\n",
       "      <td>Manabi</td>\n",
       "      <td>Manabi</td>\n",
       "      <td>Manabi</td>\n",
       "    </tr>\n",
       "    <tr>\n",
       "      <th>city</th>\n",
       "      <td>Manta</td>\n",
       "      <td>Manta</td>\n",
       "      <td>Manta</td>\n",
       "      <td>Manta</td>\n",
       "      <td>Manta</td>\n",
       "    </tr>\n",
       "    <tr>\n",
       "      <th>perishable</th>\n",
       "      <td>False</td>\n",
       "      <td>False</td>\n",
       "      <td>False</td>\n",
       "      <td>False</td>\n",
       "      <td>False</td>\n",
       "    </tr>\n",
       "    <tr>\n",
       "      <th>unit_sales</th>\n",
       "      <td>0.00000</td>\n",
       "      <td>0.00000</td>\n",
       "      <td>0.00000</td>\n",
       "      <td>0.00000</td>\n",
       "      <td>0.00000</td>\n",
       "    </tr>\n",
       "    <tr>\n",
       "      <th>m_ratio</th>\n",
       "      <td>0.00000</td>\n",
       "      <td>0.00000</td>\n",
       "      <td>0.00000</td>\n",
       "      <td>0.00000</td>\n",
       "      <td>0.00000</td>\n",
       "    </tr>\n",
       "  </tbody>\n",
       "</table>\n",
       "</div>"
      ],
      "text/plain": [
       "                                    50120527             50120528  \\\n",
       "item_nbr                             2011451              2011451   \n",
       "class                                   1063                 1063   \n",
       "onpromotion                            False                False   \n",
       "Before_national_holiday                    0                    0   \n",
       "After_national_holiday                     5                    5   \n",
       "Dayofyear                                223                  224   \n",
       "store_type                                 A                    A   \n",
       "Day                                       11                   12   \n",
       "store_nbr                                 52                   52   \n",
       "Before_local_holiday                      73                   73   \n",
       "Dayofweek                                  4                    5   \n",
       "family                             GROCERY I            GROCERY I   \n",
       "dcoilwtico                                48                   48   \n",
       "After_local_holiday                       43                   43   \n",
       "cluster                                   11                   11   \n",
       "Month                                      8                    8   \n",
       "state                                 Manabi               Manabi   \n",
       "city                                   Manta                Manta   \n",
       "perishable                             False                False   \n",
       "unit_sales                           0.00000              0.00000   \n",
       "m_ratio                              0.00000              0.00000   \n",
       "\n",
       "                                    50120529             50120530  \\\n",
       "item_nbr                             2011451              2011451   \n",
       "class                                   1063                 1063   \n",
       "onpromotion                            False                False   \n",
       "Before_national_holiday                    0                    0   \n",
       "After_national_holiday                     5                    5   \n",
       "Dayofyear                                225                  226   \n",
       "store_type                                 A                    A   \n",
       "Day                                       13                   14   \n",
       "store_nbr                                 52                   52   \n",
       "Before_local_holiday                      73                   73   \n",
       "Dayofweek                                  6                    0   \n",
       "family                             GROCERY I            GROCERY I   \n",
       "dcoilwtico                                48                   47   \n",
       "After_local_holiday                       43                   43   \n",
       "cluster                                   11                   11   \n",
       "Month                                      8                    8   \n",
       "state                                 Manabi               Manabi   \n",
       "city                                   Manta                Manta   \n",
       "perishable                             False                False   \n",
       "unit_sales                           0.00000              0.00000   \n",
       "m_ratio                              0.00000              0.00000   \n",
       "\n",
       "                                    50120531  \n",
       "item_nbr                             2011451  \n",
       "class                                   1063  \n",
       "onpromotion                            False  \n",
       "Before_national_holiday                    0  \n",
       "After_national_holiday                     5  \n",
       "Dayofyear                                227  \n",
       "store_type                                 A  \n",
       "Day                                       15  \n",
       "store_nbr                                 52  \n",
       "Before_local_holiday                      73  \n",
       "Dayofweek                                  1  \n",
       "family                             GROCERY I  \n",
       "dcoilwtico                                47  \n",
       "After_local_holiday                       43  \n",
       "cluster                                   11  \n",
       "Month                                      8  \n",
       "state                                 Manabi  \n",
       "city                                   Manta  \n",
       "perishable                             False  \n",
       "unit_sales                           0.00000  \n",
       "m_ratio                              0.00000  "
      ]
     },
     "metadata": {},
     "output_type": "display_data"
    }
   ],
   "source": [
    "display_all(train_keep.tail().T)"
   ]
  },
  {
   "cell_type": "markdown",
   "metadata": {},
   "source": [
    "How many observations?"
   ]
  },
  {
   "cell_type": "code",
   "execution_count": 295,
   "metadata": {},
   "outputs": [
    {
     "data": {
      "text/plain": [
       "50120532"
      ]
     },
     "execution_count": 295,
     "metadata": {},
     "output_type": "execute_result"
    }
   ],
   "source": [
    "n = len(train_keep); n"
   ]
  },
  {
   "cell_type": "markdown",
   "metadata": {},
   "source": [
    "How many features? (```unit_sales``` is target, and has been transformed by $log(x) + 1$)"
   ]
  },
  {
   "cell_type": "code",
   "execution_count": 296,
   "metadata": {},
   "outputs": [
    {
     "data": {
      "text/plain": [
       "(21, Index(['item_nbr', 'class', 'onpromotion', 'Before_national_holiday',\n",
       "        'After_national_holiday', 'Dayofyear', 'store_type', 'Day', 'store_nbr',\n",
       "        'Before_local_holiday', 'Dayofweek', 'family', 'dcoilwtico',\n",
       "        'After_local_holiday', 'cluster', 'Month', 'state', 'city',\n",
       "        'perishable', 'unit_sales', 'm_ratio'],\n",
       "       dtype='object'))"
      ]
     },
     "execution_count": 296,
     "metadata": {},
     "output_type": "execute_result"
    }
   ],
   "source": [
    "len(train_keep.columns), train_keep.columns"
   ]
  },
  {
   "cell_type": "markdown",
   "metadata": {},
   "source": [
    "What are the data types?"
   ]
  },
  {
   "cell_type": "code",
   "execution_count": 297,
   "metadata": {},
   "outputs": [
    {
     "data": {
      "text/plain": [
       "[('bool', 'onpromotion'),\n",
       " ('bool', 'perishable'),\n",
       " ('category', 'city'),\n",
       " ('category', 'family'),\n",
       " ('category', 'state'),\n",
       " ('category', 'store_type'),\n",
       " ('float32', 'm_ratio'),\n",
       " ('float32', 'unit_sales'),\n",
       " ('int8', 'dcoilwtico'),\n",
       " ('uint16', 'class'),\n",
       " ('uint32', 'item_nbr'),\n",
       " ('uint8', 'After_local_holiday'),\n",
       " ('uint8', 'After_national_holiday'),\n",
       " ('uint8', 'Before_local_holiday'),\n",
       " ('uint8', 'Before_national_holiday'),\n",
       " ('uint8', 'cluster'),\n",
       " ('uint8', 'Day'),\n",
       " ('uint8', 'Dayofweek'),\n",
       " ('uint8', 'Dayofyear'),\n",
       " ('uint8', 'Month'),\n",
       " ('uint8', 'store_nbr')]"
      ]
     },
     "execution_count": 297,
     "metadata": {},
     "output_type": "execute_result"
    }
   ],
   "source": [
    "sorted([(c.dtype.name, n) for n, c in train_keep.items()], key=lambda tup: (tup[0], tup[1].lower()))"
   ]
  },
  {
   "cell_type": "markdown",
   "metadata": {},
   "source": [
    "Some samples"
   ]
  },
  {
   "cell_type": "code",
   "execution_count": 298,
   "metadata": {},
   "outputs": [
    {
     "data": {
      "text/html": [
       "<div>\n",
       "<style scoped>\n",
       "    .dataframe tbody tr th:only-of-type {\n",
       "        vertical-align: middle;\n",
       "    }\n",
       "\n",
       "    .dataframe tbody tr th {\n",
       "        vertical-align: top;\n",
       "    }\n",
       "\n",
       "    .dataframe thead th {\n",
       "        text-align: right;\n",
       "    }\n",
       "</style>\n",
       "<table border=\"1\" class=\"dataframe\">\n",
       "  <thead>\n",
       "    <tr style=\"text-align: right;\">\n",
       "      <th></th>\n",
       "      <th>item_nbr</th>\n",
       "      <th>class</th>\n",
       "      <th>onpromotion</th>\n",
       "      <th>Before_national_holiday</th>\n",
       "      <th>After_national_holiday</th>\n",
       "      <th>Dayofyear</th>\n",
       "      <th>store_type</th>\n",
       "      <th>Day</th>\n",
       "      <th>store_nbr</th>\n",
       "      <th>Before_local_holiday</th>\n",
       "      <th>Dayofweek</th>\n",
       "      <th>family</th>\n",
       "      <th>dcoilwtico</th>\n",
       "      <th>After_local_holiday</th>\n",
       "      <th>cluster</th>\n",
       "      <th>Month</th>\n",
       "      <th>state</th>\n",
       "      <th>city</th>\n",
       "      <th>perishable</th>\n",
       "      <th>unit_sales</th>\n",
       "      <th>m_ratio</th>\n",
       "    </tr>\n",
       "  </thead>\n",
       "  <tbody>\n",
       "    <tr>\n",
       "      <th>0</th>\n",
       "      <td>99197</td>\n",
       "      <td>1067</td>\n",
       "      <td>False</td>\n",
       "      <td>0</td>\n",
       "      <td>0</td>\n",
       "      <td>1</td>\n",
       "      <td>D</td>\n",
       "      <td>1</td>\n",
       "      <td>25</td>\n",
       "      <td>0</td>\n",
       "      <td>6</td>\n",
       "      <td>GROCERY I</td>\n",
       "      <td>52</td>\n",
       "      <td>0</td>\n",
       "      <td>1</td>\n",
       "      <td>1</td>\n",
       "      <td>Santa Elena</td>\n",
       "      <td>Salinas</td>\n",
       "      <td>False</td>\n",
       "      <td>0.69315</td>\n",
       "      <td>0.22705</td>\n",
       "    </tr>\n",
       "    <tr>\n",
       "      <th>1</th>\n",
       "      <td>99197</td>\n",
       "      <td>1067</td>\n",
       "      <td>False</td>\n",
       "      <td>0</td>\n",
       "      <td>0</td>\n",
       "      <td>2</td>\n",
       "      <td>D</td>\n",
       "      <td>2</td>\n",
       "      <td>25</td>\n",
       "      <td>0</td>\n",
       "      <td>0</td>\n",
       "      <td>GROCERY I</td>\n",
       "      <td>52</td>\n",
       "      <td>0</td>\n",
       "      <td>1</td>\n",
       "      <td>1</td>\n",
       "      <td>Santa Elena</td>\n",
       "      <td>Salinas</td>\n",
       "      <td>False</td>\n",
       "      <td>0.00000</td>\n",
       "      <td>0.26226</td>\n",
       "    </tr>\n",
       "    <tr>\n",
       "      <th>2</th>\n",
       "      <td>99197</td>\n",
       "      <td>1067</td>\n",
       "      <td>False</td>\n",
       "      <td>0</td>\n",
       "      <td>0</td>\n",
       "      <td>3</td>\n",
       "      <td>D</td>\n",
       "      <td>3</td>\n",
       "      <td>25</td>\n",
       "      <td>0</td>\n",
       "      <td>1</td>\n",
       "      <td>GROCERY I</td>\n",
       "      <td>52</td>\n",
       "      <td>0</td>\n",
       "      <td>1</td>\n",
       "      <td>1</td>\n",
       "      <td>Santa Elena</td>\n",
       "      <td>Salinas</td>\n",
       "      <td>False</td>\n",
       "      <td>1.09861</td>\n",
       "      <td>0.33897</td>\n",
       "    </tr>\n",
       "    <tr>\n",
       "      <th>3</th>\n",
       "      <td>99197</td>\n",
       "      <td>1067</td>\n",
       "      <td>False</td>\n",
       "      <td>0</td>\n",
       "      <td>0</td>\n",
       "      <td>4</td>\n",
       "      <td>D</td>\n",
       "      <td>4</td>\n",
       "      <td>25</td>\n",
       "      <td>0</td>\n",
       "      <td>2</td>\n",
       "      <td>GROCERY I</td>\n",
       "      <td>53</td>\n",
       "      <td>0</td>\n",
       "      <td>1</td>\n",
       "      <td>1</td>\n",
       "      <td>Santa Elena</td>\n",
       "      <td>Salinas</td>\n",
       "      <td>False</td>\n",
       "      <td>1.60944</td>\n",
       "      <td>0.41654</td>\n",
       "    </tr>\n",
       "    <tr>\n",
       "      <th>4</th>\n",
       "      <td>99197</td>\n",
       "      <td>1067</td>\n",
       "      <td>False</td>\n",
       "      <td>0</td>\n",
       "      <td>0</td>\n",
       "      <td>5</td>\n",
       "      <td>D</td>\n",
       "      <td>5</td>\n",
       "      <td>25</td>\n",
       "      <td>0</td>\n",
       "      <td>3</td>\n",
       "      <td>GROCERY I</td>\n",
       "      <td>53</td>\n",
       "      <td>0</td>\n",
       "      <td>1</td>\n",
       "      <td>1</td>\n",
       "      <td>Santa Elena</td>\n",
       "      <td>Salinas</td>\n",
       "      <td>False</td>\n",
       "      <td>1.09861</td>\n",
       "      <td>0.27865</td>\n",
       "    </tr>\n",
       "  </tbody>\n",
       "</table>\n",
       "</div>"
      ],
      "text/plain": [
       "   item_nbr  class  onpromotion  Before_national_holiday  \\\n",
       "0     99197   1067        False                        0   \n",
       "1     99197   1067        False                        0   \n",
       "2     99197   1067        False                        0   \n",
       "3     99197   1067        False                        0   \n",
       "4     99197   1067        False                        0   \n",
       "\n",
       "   After_national_holiday  Dayofyear store_type  Day  store_nbr  \\\n",
       "0                       0          1          D    1         25   \n",
       "1                       0          2          D    2         25   \n",
       "2                       0          3          D    3         25   \n",
       "3                       0          4          D    4         25   \n",
       "4                       0          5          D    5         25   \n",
       "\n",
       "   Before_local_holiday  Dayofweek     family  dcoilwtico  \\\n",
       "0                     0          6  GROCERY I          52   \n",
       "1                     0          0  GROCERY I          52   \n",
       "2                     0          1  GROCERY I          52   \n",
       "3                     0          2  GROCERY I          53   \n",
       "4                     0          3  GROCERY I          53   \n",
       "\n",
       "   After_local_holiday  cluster  Month        state     city  perishable  \\\n",
       "0                    0        1      1  Santa Elena  Salinas       False   \n",
       "1                    0        1      1  Santa Elena  Salinas       False   \n",
       "2                    0        1      1  Santa Elena  Salinas       False   \n",
       "3                    0        1      1  Santa Elena  Salinas       False   \n",
       "4                    0        1      1  Santa Elena  Salinas       False   \n",
       "\n",
       "            unit_sales              m_ratio  \n",
       "0              0.69315              0.22705  \n",
       "1              0.00000              0.26226  \n",
       "2              1.09861              0.33897  \n",
       "3              1.60944              0.41654  \n",
       "4              1.09861              0.27865  "
      ]
     },
     "metadata": {},
     "output_type": "display_data"
    }
   ],
   "source": [
    "display_all(train_keep.head())"
   ]
  },
  {
   "cell_type": "markdown",
   "metadata": {},
   "source": [
    "Are there any NAs?"
   ]
  },
  {
   "cell_type": "code",
   "execution_count": 299,
   "metadata": {
    "scrolled": true
   },
   "outputs": [
    {
     "data": {
      "text/plain": [
       "After_local_holiday        0\n",
       "After_national_holiday     0\n",
       "Before_local_holiday       0\n",
       "Before_national_holiday    0\n",
       "Day                        0\n",
       "Dayofweek                  0\n",
       "Dayofyear                  0\n",
       "Month                      0\n",
       "city                       0\n",
       "class                      0\n",
       "cluster                    0\n",
       "dcoilwtico                 0\n",
       "family                     0\n",
       "item_nbr                   0\n",
       "m_ratio                    0\n",
       "onpromotion                0\n",
       "perishable                 0\n",
       "state                      0\n",
       "store_nbr                  0\n",
       "store_type                 0\n",
       "unit_sales                 0\n",
       "dtype: int64"
      ]
     },
     "metadata": {},
     "output_type": "display_data"
    }
   ],
   "source": [
    "display_all(train_keep.isnull().sum().sort_index())"
   ]
  },
  {
   "cell_type": "markdown",
   "metadata": {},
   "source": [
    "Plot Numerical Distributions"
   ]
  },
  {
   "cell_type": "code",
   "execution_count": 300,
   "metadata": {},
   "outputs": [
    {
     "data": {
      "text/plain": [
       "array([[<matplotlib.axes._subplots.AxesSubplot object at 0x7f04ed543320>,\n",
       "        <matplotlib.axes._subplots.AxesSubplot object at 0x7f02b2a13240>]], dtype=object)"
      ]
     },
     "execution_count": 300,
     "metadata": {},
     "output_type": "execute_result"
    },
    {
     "data": {
      "image/png": "[encoded data removed]",
      "text/plain": [
       "<Figure size 720x288 with 2 Axes>"
      ]
     },
     "metadata": {
      "needs_background": "light"
     },
     "output_type": "display_data"
    }
   ],
   "source": [
    "train_keep[['unit_sales', 'dcoilwtico']].hist(figsize=(10, 4))"
   ]
  },
  {
   "cell_type": "code",
   "execution_count": 301,
   "metadata": {},
   "outputs": [
    {
     "data": {
      "text/plain": [
       "array([[<matplotlib.axes._subplots.AxesSubplot object at 0x7f0830027dd8>,\n",
       "        <matplotlib.axes._subplots.AxesSubplot object at 0x7ef92a1bd780>],\n",
       "       [<matplotlib.axes._subplots.AxesSubplot object at 0x7ef456b323c8>,\n",
       "        <matplotlib.axes._subplots.AxesSubplot object at 0x7f04ed561c50>]], dtype=object)"
      ]
     },
     "execution_count": 301,
     "metadata": {},
     "output_type": "execute_result"
    },
    {
     "data": {
      "image/png": "[encoded data removed]",
      "text/plain": [
       "<Figure size 720x576 with 4 Axes>"
      ]
     },
     "metadata": {
      "needs_background": "light"
     },
     "output_type": "display_data"
    }
   ],
   "source": [
    "train_keep[['Before_national_holiday', 'After_local_holiday', \n",
    "            'Before_local_holiday', 'After_national_holiday']].hist(figsize=(10, 8))"
   ]
  },
  {
   "cell_type": "code",
   "execution_count": 304,
   "metadata": {},
   "outputs": [
    {
     "data": {
      "text/plain": [
       "['city', 'family', 'state', 'store_type']"
      ]
     },
     "execution_count": 304,
     "metadata": {},
     "output_type": "execute_result"
    }
   ],
   "source": [
    "sorted(train_keep.select_dtypes(include=['category']).columns)"
   ]
  },
  {
   "cell_type": "code",
   "execution_count": 306,
   "metadata": {},
   "outputs": [
    {
     "data": {
      "text/plain": [
       "<matplotlib.axes._subplots.AxesSubplot at 0x7f04a1cc0710>"
      ]
     },
     "execution_count": 306,
     "metadata": {},
     "output_type": "execute_result"
    },
    {
     "data": {
      "image/png": "[encoded data removed]",
      "text/plain": [
       "<Figure size 720x288 with 1 Axes>"
      ]
     },
     "metadata": {
      "needs_background": "light"
     },
     "output_type": "display_data"
    }
   ],
   "source": [
    "train_keep['item_nbr'].hist(figsize=(10, 4))"
   ]
  },
  {
   "cell_type": "code",
   "execution_count": 307,
   "metadata": {},
   "outputs": [
    {
     "data": {
      "text/plain": [
       "<matplotlib.axes._subplots.AxesSubplot at 0x7f0746c61470>"
      ]
     },
     "execution_count": 307,
     "metadata": {},
     "output_type": "execute_result"
    },
    {
     "data": {
      "image/png": "[encoded data removed]",
      "text/plain": [
       "<Figure size 720x288 with 1 Axes>"
      ]
     },
     "metadata": {
      "needs_background": "light"
     },
     "output_type": "display_data"
    }
   ],
   "source": [
    "test_keep['item_nbr'].hist(figsize=(10, 4))"
   ]
  },
  {
   "cell_type": "markdown",
   "metadata": {},
   "source": [
    "## 8 Training"
   ]
  },
  {
   "cell_type": "code",
   "execution_count": 309,
   "metadata": {
    "scrolled": true
   },
   "outputs": [
    {
     "name": "stderr",
     "output_type": "stream",
     "text": [
      "/home/ubuntu/anaconda3/envs/fastai/lib/python3.6/site-packages/pandas/io/feather_format.py:112: FutureWarning: `nthreads` argument is deprecated, pass `use_threads` instead\n",
      "  return feather.read_dataframe(path, nthreads=nthreads)\n"
     ]
    },
    {
     "name": "stdout",
     "output_type": "stream",
     "text": [
      "CPU times: user 1.02 s, sys: 412 ms, total: 1.43 s\n",
      "Wall time: 1.43 s\n"
     ]
    }
   ],
   "source": [
    "%%time\n",
    "train_keep = pd.read_feather(f'{PATH}data/grocery_train_ma')\n",
    "test_keep = pd.read_feather(f'{PATH}data/grocery_test_ma')"
   ]
  },
  {
   "cell_type": "code",
   "execution_count": 310,
   "metadata": {},
   "outputs": [],
   "source": [
    "train_keep.drop('date', 1, inplace=True)\n",
    "test_keep.drop('date', 1, inplace=True)"
   ]
  },
  {
   "cell_type": "code",
   "execution_count": 311,
   "metadata": {},
   "outputs": [],
   "source": [
    "cat_vars = ['store_nbr', 'item_nbr', 'onpromotion',\n",
    "            'city', 'state', 'store_type', 'cluster',\n",
    "            'family', 'class', 'perishable',\n",
    "            'Month', 'Day', 'Dayofweek', 'Dayofyear']"
   ]
  },
  {
   "cell_type": "markdown",
   "metadata": {},
   "source": [
    "**N.B.: Not possible to save to feather after the next operation !!** (```.astype('category'```)"
   ]
  },
  {
   "cell_type": "code",
   "execution_count": 312,
   "metadata": {
    "scrolled": true
   },
   "outputs": [
    {
     "name": "stderr",
     "output_type": "stream",
     "text": [
      "/home/ubuntu/anaconda3/envs/fastai/lib/python3.6/site-packages/ipykernel_launcher.py:1: FutureWarning: specifying 'categories' or 'ordered' in .astype() is deprecated; pass a CategoricalDtype instead\n",
      "  \"\"\"Entry point for launching an IPython kernel.\n"
     ]
    }
   ],
   "source": [
    "for v in cat_vars: train_keep[v] = train_keep[v].astype('category', ordered=True)"
   ]
  },
  {
   "cell_type": "code",
   "execution_count": 313,
   "metadata": {},
   "outputs": [
    {
     "name": "stderr",
     "output_type": "stream",
     "text": [
      "/home/ubuntu/anaconda3/envs/fastai/lib/python3.6/site-packages/ipykernel_launcher.py:1: FutureWarning: specifying 'categories' or 'ordered' in .astype() is deprecated; pass a CategoricalDtype instead\n",
      "  \"\"\"Entry point for launching an IPython kernel.\n"
     ]
    }
   ],
   "source": [
    "for v in cat_vars: test_keep[v] = test_keep[v].astype('category', ordered=True)"
   ]
  },
  {
   "cell_type": "code",
   "execution_count": 314,
   "metadata": {},
   "outputs": [
    {
     "data": {
      "text/plain": [
       "50120532"
      ]
     },
     "execution_count": 314,
     "metadata": {},
     "output_type": "execute_result"
    }
   ],
   "source": [
    "n = len(train_keep); n"
   ]
  },
  {
   "cell_type": "markdown",
   "metadata": {},
   "source": [
    "Sample"
   ]
  },
  {
   "cell_type": "code",
   "execution_count": 315,
   "metadata": {},
   "outputs": [
    {
     "data": {
      "text/plain": [
       "5000000"
      ]
     },
     "execution_count": 315,
     "metadata": {},
     "output_type": "execute_result"
    }
   ],
   "source": [
    "idxs = get_cv_idxs(n, val_pct=5_000_000/n)\n",
    "train_samp = train_keep.iloc[idxs].copy()\n",
    "samp_size = len(train_samp); samp_size"
   ]
  },
  {
   "cell_type": "markdown",
   "metadata": {},
   "source": [
    "Complete set:"
   ]
  },
  {
   "cell_type": "code",
   "execution_count": 11,
   "metadata": {},
   "outputs": [],
   "source": [
    "samp_size = n\n",
    "train_samp = train_keep.copy()"
   ]
  },
  {
   "cell_type": "code",
   "execution_count": 316,
   "metadata": {
    "scrolled": true
   },
   "outputs": [
    {
     "name": "stdout",
     "output_type": "stream",
     "text": [
      "CPU times: user 7.06 s, sys: 1.24 s, total: 8.3 s\n",
      "Wall time: 8.3 s\n"
     ]
    }
   ],
   "source": [
    "%time df, y, nas, mapper = proc_df(train_samp, 'unit_sales', do_scale=True)"
   ]
  },
  {
   "cell_type": "code",
   "execution_count": 317,
   "metadata": {},
   "outputs": [],
   "source": [
    "pd.options.display.float_format = '{:20,.2f}'.format"
   ]
  },
  {
   "cell_type": "code",
   "execution_count": 318,
   "metadata": {
    "scrolled": true
   },
   "outputs": [
    {
     "data": {
      "text/html": [
       "<div>\n",
       "<style scoped>\n",
       "    .dataframe tbody tr th:only-of-type {\n",
       "        vertical-align: middle;\n",
       "    }\n",
       "\n",
       "    .dataframe tbody tr th {\n",
       "        vertical-align: top;\n",
       "    }\n",
       "\n",
       "    .dataframe thead th {\n",
       "        text-align: right;\n",
       "    }\n",
       "</style>\n",
       "<table border=\"1\" class=\"dataframe\">\n",
       "  <thead>\n",
       "    <tr style=\"text-align: right;\">\n",
       "      <th></th>\n",
       "      <th>41939834</th>\n",
       "      <th>48705124</th>\n",
       "      <th>46803342</th>\n",
       "      <th>25948542</th>\n",
       "      <th>21808618</th>\n",
       "    </tr>\n",
       "  </thead>\n",
       "  <tbody>\n",
       "    <tr>\n",
       "      <th>item_nbr</th>\n",
       "      <td>1,584.00</td>\n",
       "      <td>1,323.00</td>\n",
       "      <td>90.00</td>\n",
       "      <td>3,811.00</td>\n",
       "      <td>2,042.00</td>\n",
       "    </tr>\n",
       "    <tr>\n",
       "      <th>class</th>\n",
       "      <td>160.00</td>\n",
       "      <td>135.00</td>\n",
       "      <td>232.00</td>\n",
       "      <td>53.00</td>\n",
       "      <td>222.00</td>\n",
       "    </tr>\n",
       "    <tr>\n",
       "      <th>onpromotion</th>\n",
       "      <td>2.00</td>\n",
       "      <td>1.00</td>\n",
       "      <td>1.00</td>\n",
       "      <td>1.00</td>\n",
       "      <td>1.00</td>\n",
       "    </tr>\n",
       "    <tr>\n",
       "      <th>Before_national_holiday</th>\n",
       "      <td>0.37</td>\n",
       "      <td>-0.18</td>\n",
       "      <td>-0.02</td>\n",
       "      <td>0.55</td>\n",
       "      <td>0.48</td>\n",
       "    </tr>\n",
       "    <tr>\n",
       "      <th>After_national_holiday</th>\n",
       "      <td>0.98</td>\n",
       "      <td>2.53</td>\n",
       "      <td>2.08</td>\n",
       "      <td>-0.57</td>\n",
       "      <td>0.78</td>\n",
       "    </tr>\n",
       "    <tr>\n",
       "      <th>Dayofyear</th>\n",
       "      <td>167.00</td>\n",
       "      <td>160.00</td>\n",
       "      <td>198.00</td>\n",
       "      <td>82.00</td>\n",
       "      <td>139.00</td>\n",
       "    </tr>\n",
       "    <tr>\n",
       "      <th>store_type</th>\n",
       "      <td>1.00</td>\n",
       "      <td>3.00</td>\n",
       "      <td>1.00</td>\n",
       "      <td>5.00</td>\n",
       "      <td>4.00</td>\n",
       "    </tr>\n",
       "    <tr>\n",
       "      <th>Day</th>\n",
       "      <td>16.00</td>\n",
       "      <td>9.00</td>\n",
       "      <td>17.00</td>\n",
       "      <td>23.00</td>\n",
       "      <td>19.00</td>\n",
       "    </tr>\n",
       "    <tr>\n",
       "      <th>store_nbr</th>\n",
       "      <td>46.00</td>\n",
       "      <td>54.00</td>\n",
       "      <td>51.00</td>\n",
       "      <td>28.00</td>\n",
       "      <td>23.00</td>\n",
       "    </tr>\n",
       "    <tr>\n",
       "      <th>Before_local_holiday</th>\n",
       "      <td>-0.53</td>\n",
       "      <td>1.88</td>\n",
       "      <td>-0.53</td>\n",
       "      <td>2.02</td>\n",
       "      <td>-0.53</td>\n",
       "    </tr>\n",
       "    <tr>\n",
       "      <th>Dayofweek</th>\n",
       "      <td>5.00</td>\n",
       "      <td>5.00</td>\n",
       "      <td>1.00</td>\n",
       "      <td>4.00</td>\n",
       "      <td>5.00</td>\n",
       "    </tr>\n",
       "    <tr>\n",
       "      <th>family</th>\n",
       "      <td>25.00</td>\n",
       "      <td>9.00</td>\n",
       "      <td>8.00</td>\n",
       "      <td>13.00</td>\n",
       "      <td>8.00</td>\n",
       "    </tr>\n",
       "    <tr>\n",
       "      <th>dcoilwtico</th>\n",
       "      <td>-1.56</td>\n",
       "      <td>-1.24</td>\n",
       "      <td>-0.93</td>\n",
       "      <td>-0.61</td>\n",
       "      <td>0.33</td>\n",
       "    </tr>\n",
       "    <tr>\n",
       "      <th>After_local_holiday</th>\n",
       "      <td>-0.29</td>\n",
       "      <td>-0.29</td>\n",
       "      <td>-0.29</td>\n",
       "      <td>6.84</td>\n",
       "      <td>-0.29</td>\n",
       "    </tr>\n",
       "    <tr>\n",
       "      <th>cluster</th>\n",
       "      <td>14.00</td>\n",
       "      <td>3.00</td>\n",
       "      <td>17.00</td>\n",
       "      <td>10.00</td>\n",
       "      <td>9.00</td>\n",
       "    </tr>\n",
       "    <tr>\n",
       "      <th>Month</th>\n",
       "      <td>6.00</td>\n",
       "      <td>6.00</td>\n",
       "      <td>7.00</td>\n",
       "      <td>3.00</td>\n",
       "      <td>5.00</td>\n",
       "    </tr>\n",
       "    <tr>\n",
       "      <th>state</th>\n",
       "      <td>13.00</td>\n",
       "      <td>11.00</td>\n",
       "      <td>7.00</td>\n",
       "      <td>7.00</td>\n",
       "      <td>16.00</td>\n",
       "    </tr>\n",
       "    <tr>\n",
       "      <th>city</th>\n",
       "      <td>19.00</td>\n",
       "      <td>6.00</td>\n",
       "      <td>9.00</td>\n",
       "      <td>9.00</td>\n",
       "      <td>1.00</td>\n",
       "    </tr>\n",
       "    <tr>\n",
       "      <th>perishable</th>\n",
       "      <td>2.00</td>\n",
       "      <td>2.00</td>\n",
       "      <td>1.00</td>\n",
       "      <td>1.00</td>\n",
       "      <td>1.00</td>\n",
       "    </tr>\n",
       "    <tr>\n",
       "      <th>m_ratio</th>\n",
       "      <td>2.73</td>\n",
       "      <td>-0.89</td>\n",
       "      <td>1.35</td>\n",
       "      <td>-0.89</td>\n",
       "      <td>-0.09</td>\n",
       "    </tr>\n",
       "  </tbody>\n",
       "</table>\n",
       "</div>"
      ],
      "text/plain": [
       "                                    41939834             48705124  \\\n",
       "item_nbr                            1,584.00             1,323.00   \n",
       "class                                 160.00               135.00   \n",
       "onpromotion                             2.00                 1.00   \n",
       "Before_national_holiday                 0.37                -0.18   \n",
       "After_national_holiday                  0.98                 2.53   \n",
       "Dayofyear                             167.00               160.00   \n",
       "store_type                              1.00                 3.00   \n",
       "Day                                    16.00                 9.00   \n",
       "store_nbr                              46.00                54.00   \n",
       "Before_local_holiday                   -0.53                 1.88   \n",
       "Dayofweek                               5.00                 5.00   \n",
       "family                                 25.00                 9.00   \n",
       "dcoilwtico                             -1.56                -1.24   \n",
       "After_local_holiday                    -0.29                -0.29   \n",
       "cluster                                14.00                 3.00   \n",
       "Month                                   6.00                 6.00   \n",
       "state                                  13.00                11.00   \n",
       "city                                   19.00                 6.00   \n",
       "perishable                              2.00                 2.00   \n",
       "m_ratio                                 2.73                -0.89   \n",
       "\n",
       "                                    46803342             25948542  \\\n",
       "item_nbr                               90.00             3,811.00   \n",
       "class                                 232.00                53.00   \n",
       "onpromotion                             1.00                 1.00   \n",
       "Before_national_holiday                -0.02                 0.55   \n",
       "After_national_holiday                  2.08                -0.57   \n",
       "Dayofyear                             198.00                82.00   \n",
       "store_type                              1.00                 5.00   \n",
       "Day                                    17.00                23.00   \n",
       "store_nbr                              51.00                28.00   \n",
       "Before_local_holiday                   -0.53                 2.02   \n",
       "Dayofweek                               1.00                 4.00   \n",
       "family                                  8.00                13.00   \n",
       "dcoilwtico                             -0.93                -0.61   \n",
       "After_local_holiday                    -0.29                 6.84   \n",
       "cluster                                17.00                10.00   \n",
       "Month                                   7.00                 3.00   \n",
       "state                                   7.00                 7.00   \n",
       "city                                    9.00                 9.00   \n",
       "perishable                              1.00                 1.00   \n",
       "m_ratio                                 1.35                -0.89   \n",
       "\n",
       "                                    21808618  \n",
       "item_nbr                            2,042.00  \n",
       "class                                 222.00  \n",
       "onpromotion                             1.00  \n",
       "Before_national_holiday                 0.48  \n",
       "After_national_holiday                  0.78  \n",
       "Dayofyear                             139.00  \n",
       "store_type                              4.00  \n",
       "Day                                    19.00  \n",
       "store_nbr                              23.00  \n",
       "Before_local_holiday                   -0.53  \n",
       "Dayofweek                               5.00  \n",
       "family                                  8.00  \n",
       "dcoilwtico                              0.33  \n",
       "After_local_holiday                    -0.29  \n",
       "cluster                                 9.00  \n",
       "Month                                   5.00  \n",
       "state                                  16.00  \n",
       "city                                    1.00  \n",
       "perishable                              1.00  \n",
       "m_ratio                                -0.09  "
      ]
     },
     "metadata": {},
     "output_type": "display_data"
    }
   ],
   "source": [
    "display_all(df.tail().T)"
   ]
  },
  {
   "cell_type": "code",
   "execution_count": 319,
   "metadata": {},
   "outputs": [],
   "source": [
    "df_test, _, nas, mapper = proc_df(test_keep.copy(), 'unit_sales', do_scale=True, skip_flds=['id'],\n",
    "                                  mapper=mapper, na_dict=nas)"
   ]
  },
  {
   "cell_type": "code",
   "execution_count": 320,
   "metadata": {},
   "outputs": [],
   "source": [
    "# train_ratio = 0.75\n",
    "train_ratio = 0.9\n",
    "train_size = int(samp_size * train_ratio); train_size\n",
    "val_idx = list(range(train_size, len(df)))"
   ]
  },
  {
   "cell_type": "code",
   "execution_count": 321,
   "metadata": {},
   "outputs": [],
   "source": [
    "keep_cols = np.load(f'{PATH}data/keep_cols.npy').tolist()"
   ]
  },
  {
   "cell_type": "code",
   "execution_count": 322,
   "metadata": {
    "scrolled": true
   },
   "outputs": [
    {
     "data": {
      "text/plain": [
       "['Day',\n",
       " 'Month',\n",
       " 'cluster',\n",
       " 'Dayofyear',\n",
       " 'city',\n",
       " 'class',\n",
       " 'store_nbr',\n",
       " 'family',\n",
       " 'store_type',\n",
       " 'perishable',\n",
       " 'state',\n",
       " 'item_nbr',\n",
       " 'onpromotion',\n",
       " 'Dayofweek']"
      ]
     },
     "execution_count": 322,
     "metadata": {},
     "output_type": "execute_result"
    }
   ],
   "source": [
    "keep_cat_vars = list(set(keep_cols).intersection(set(cat_vars)))\n",
    "keep_cat_vars"
   ]
  },
  {
   "cell_type": "code",
   "execution_count": 323,
   "metadata": {},
   "outputs": [],
   "source": [
    "md = ColumnarModelData.from_data_frame(PATH, val_idx, df, y.astype(np.float32), cat_flds=keep_cat_vars, bs=128,\n",
    "                                       test_df=df_test)"
   ]
  },
  {
   "cell_type": "markdown",
   "metadata": {},
   "source": [
    "### 8.1 Create Embeddings"
   ]
  },
  {
   "cell_type": "code",
   "execution_count": 324,
   "metadata": {},
   "outputs": [
    {
     "data": {
      "text/plain": [
       "[('Day', 32),\n",
       " ('Month', 9),\n",
       " ('cluster', 18),\n",
       " ('Dayofyear', 228),\n",
       " ('city', 23),\n",
       " ('class', 335),\n",
       " ('store_nbr', 55),\n",
       " ('family', 34),\n",
       " ('store_type', 6),\n",
       " ('perishable', 3),\n",
       " ('state', 17),\n",
       " ('item_nbr', 4019),\n",
       " ('onpromotion', 3),\n",
       " ('Dayofweek', 8)]"
      ]
     },
     "execution_count": 324,
     "metadata": {},
     "output_type": "execute_result"
    }
   ],
   "source": [
    "cat_sz = [(c, len(train_samp[c].cat.categories)+1) for c in keep_cat_vars]\n",
    "cat_sz"
   ]
  },
  {
   "cell_type": "code",
   "execution_count": 325,
   "metadata": {},
   "outputs": [
    {
     "data": {
      "text/plain": [
       "[(32, 16),\n",
       " (9, 5),\n",
       " (18, 9),\n",
       " (228, 50),\n",
       " (23, 12),\n",
       " (335, 50),\n",
       " (55, 28),\n",
       " (34, 17),\n",
       " (6, 3),\n",
       " (3, 2),\n",
       " (17, 9),\n",
       " (4019, 50),\n",
       " (3, 2),\n",
       " (8, 4)]"
      ]
     },
     "execution_count": 325,
     "metadata": {},
     "output_type": "execute_result"
    }
   ],
   "source": [
    "emb_szs = [(c, min(50, (c+1)//2)) for _,c in cat_sz]\n",
    "emb_szs"
   ]
  },
  {
   "cell_type": "code",
   "execution_count": 326,
   "metadata": {},
   "outputs": [],
   "source": [
    "max_log_y = np.max(y)\n",
    "y_range = (0, max_log_y*1.2)"
   ]
  },
  {
   "cell_type": "code",
   "execution_count": 327,
   "metadata": {},
   "outputs": [],
   "source": [
    "m = md.get_learner(emb_szs, len(df.columns)-len(keep_cat_vars),\n",
    "                   0.04, 1, [1000,500], [0.001,0.01], y_range=y_range)"
   ]
  },
  {
   "cell_type": "code",
   "execution_count": 328,
   "metadata": {},
   "outputs": [
    {
     "data": {
      "application/vnd.jupyter.widget-view+json": {
       "model_id": "633ac4772ea54e05b3dee0db2c775800",
       "version_major": 2,
       "version_minor": 0
      },
      "text/plain": [
       "HBox(children=(IntProgress(value=0, description='Epoch', max=1), HTML(value='')))"
      ]
     },
     "metadata": {},
     "output_type": "display_data"
    },
    {
     "name": "stdout",
     "output_type": "stream",
     "text": [
      " 58%|█████▊    | 20252/35157 [02:03<01:31, 163.57it/s, loss=1.13] "
     ]
    }
   ],
   "source": [
    "m.lr_find()"
   ]
  },
  {
   "cell_type": "code",
   "execution_count": 332,
   "metadata": {
    "scrolled": true
   },
   "outputs": [
    {
     "data": {
      "image/png": "[encoded data removed]",
      "text/plain": [
       "<Figure size 432x288 with 1 Axes>"
      ]
     },
     "metadata": {
      "needs_background": "light"
     },
     "output_type": "display_data"
    }
   ],
   "source": [
    "m.sched.plot(1000)"
   ]
  },
  {
   "cell_type": "code",
   "execution_count": 333,
   "metadata": {},
   "outputs": [],
   "source": [
    "lr = 1e-3"
   ]
  },
  {
   "cell_type": "code",
   "execution_count": 334,
   "metadata": {},
   "outputs": [],
   "source": [
    "def inv_y(a):\n",
    "    return np.expm1(a)\n",
    "\n",
    "def exp_rmspe(y_pred, targ):\n",
    "    return math.sqrt(((targ - y_pred)**2).sum())"
   ]
  },
  {
   "cell_type": "code",
   "execution_count": 335,
   "metadata": {
    "scrolled": true
   },
   "outputs": [
    {
     "data": {
      "text/plain": [
       "array([ 0.,  0., 15., 10.,  0.,  0.,  5.,  2.,  0.,  0.], dtype=float32)"
      ]
     },
     "execution_count": 335,
     "metadata": {},
     "output_type": "execute_result"
    }
   ],
   "source": [
    "inv_y(y)[:10]"
   ]
  },
  {
   "cell_type": "code",
   "execution_count": 336,
   "metadata": {
    "scrolled": true
   },
   "outputs": [
    {
     "data": {
      "application/vnd.jupyter.widget-view+json": {
       "model_id": "c96184e0362e4d6a93407c2552ac4ba9",
       "version_major": 2,
       "version_minor": 0
      },
      "text/plain": [
       "HBox(children=(IntProgress(value=0, description='Epoch', max=3), HTML(value='')))"
      ]
     },
     "metadata": {},
     "output_type": "display_data"
    },
    {
     "name": "stdout",
     "output_type": "stream",
     "text": [
      "epoch      trn_loss   val_loss   exp_rmspe                        \n",
      "    0      0.286988   0.284874   8.514985  \n",
      "    1      0.280247   0.274277   8.355234                         \n",
      "    2      0.273987   0.274879   8.364321                         \n",
      "CPU times: user 11min 9s, sys: 19.4 s, total: 11min 28s\n",
      "Wall time: 10min 51s\n"
     ]
    },
    {
     "data": {
      "text/plain": [
       "[array([0.27488]), 8.364321197482585]"
      ]
     },
     "execution_count": 336,
     "metadata": {},
     "output_type": "execute_result"
    }
   ],
   "source": [
    "%%time\n",
    "m.fit(lr, 3, metrics=[exp_rmspe])"
   ]
  },
  {
   "cell_type": "code",
   "execution_count": 337,
   "metadata": {},
   "outputs": [
    {
     "data": {
      "application/vnd.jupyter.widget-view+json": {
       "model_id": "185242be9925480bb655cd2ad0ad5110",
       "version_major": 2,
       "version_minor": 0
      },
      "text/plain": [
       "HBox(children=(IntProgress(value=0, description='Epoch', max=3), HTML(value='')))"
      ]
     },
     "metadata": {},
     "output_type": "display_data"
    },
    {
     "name": "stdout",
     "output_type": "stream",
     "text": [
      "epoch      trn_loss   val_loss   exp_rmspe                        \n",
      "    0      0.255079   0.258873   8.116612  \n",
      "    1      0.254134   0.257833   8.100403                         \n",
      "    2      0.246636   0.256994   8.087222                         \n",
      "CPU times: user 11min 14s, sys: 18.6 s, total: 11min 33s\n",
      "Wall time: 10min 55s\n"
     ]
    },
    {
     "data": {
      "text/plain": [
       "[array([0.25699]), 8.087221688975134]"
      ]
     },
     "execution_count": 337,
     "metadata": {},
     "output_type": "execute_result"
    }
   ],
   "source": [
    "%%time\n",
    "m.fit(lr, 3, metrics=[exp_rmspe], cycle_len=1)"
   ]
  },
  {
   "cell_type": "markdown",
   "metadata": {},
   "source": [
    "### 8.2 Test"
   ]
  },
  {
   "cell_type": "code",
   "execution_count": 338,
   "metadata": {},
   "outputs": [
    {
     "data": {
      "text/html": [
       "<div>\n",
       "<style scoped>\n",
       "    .dataframe tbody tr th:only-of-type {\n",
       "        vertical-align: middle;\n",
       "    }\n",
       "\n",
       "    .dataframe tbody tr th {\n",
       "        vertical-align: top;\n",
       "    }\n",
       "\n",
       "    .dataframe thead th {\n",
       "        text-align: right;\n",
       "    }\n",
       "</style>\n",
       "<table border=\"1\" class=\"dataframe\">\n",
       "  <thead>\n",
       "    <tr style=\"text-align: right;\">\n",
       "      <th></th>\n",
       "      <th>3370459</th>\n",
       "      <th>3370460</th>\n",
       "      <th>3370461</th>\n",
       "      <th>3370462</th>\n",
       "      <th>3370463</th>\n",
       "    </tr>\n",
       "  </thead>\n",
       "  <tbody>\n",
       "    <tr>\n",
       "      <th>item_nbr</th>\n",
       "      <td>2132163</td>\n",
       "      <td>2132318</td>\n",
       "      <td>2132945</td>\n",
       "      <td>2132957</td>\n",
       "      <td>2134244</td>\n",
       "    </tr>\n",
       "    <tr>\n",
       "      <th>class</th>\n",
       "      <td>1040</td>\n",
       "      <td>1002</td>\n",
       "      <td>1026</td>\n",
       "      <td>1068</td>\n",
       "      <td>1364</td>\n",
       "    </tr>\n",
       "    <tr>\n",
       "      <th>onpromotion</th>\n",
       "      <td>False</td>\n",
       "      <td>False</td>\n",
       "      <td>False</td>\n",
       "      <td>False</td>\n",
       "      <td>False</td>\n",
       "    </tr>\n",
       "    <tr>\n",
       "      <th>Before_national_holiday</th>\n",
       "      <td>0</td>\n",
       "      <td>0</td>\n",
       "      <td>0</td>\n",
       "      <td>0</td>\n",
       "      <td>0</td>\n",
       "    </tr>\n",
       "    <tr>\n",
       "      <th>After_national_holiday</th>\n",
       "      <td>0</td>\n",
       "      <td>0</td>\n",
       "      <td>0</td>\n",
       "      <td>0</td>\n",
       "      <td>0</td>\n",
       "    </tr>\n",
       "    <tr>\n",
       "      <th>Dayofyear</th>\n",
       "      <td>243</td>\n",
       "      <td>243</td>\n",
       "      <td>243</td>\n",
       "      <td>243</td>\n",
       "      <td>243</td>\n",
       "    </tr>\n",
       "    <tr>\n",
       "      <th>store_type</th>\n",
       "      <td>C</td>\n",
       "      <td>C</td>\n",
       "      <td>C</td>\n",
       "      <td>C</td>\n",
       "      <td>C</td>\n",
       "    </tr>\n",
       "    <tr>\n",
       "      <th>Day</th>\n",
       "      <td>31</td>\n",
       "      <td>31</td>\n",
       "      <td>31</td>\n",
       "      <td>31</td>\n",
       "      <td>31</td>\n",
       "    </tr>\n",
       "    <tr>\n",
       "      <th>store_nbr</th>\n",
       "      <td>54</td>\n",
       "      <td>54</td>\n",
       "      <td>54</td>\n",
       "      <td>54</td>\n",
       "      <td>54</td>\n",
       "    </tr>\n",
       "    <tr>\n",
       "      <th>Before_local_holiday</th>\n",
       "      <td>0</td>\n",
       "      <td>0</td>\n",
       "      <td>0</td>\n",
       "      <td>0</td>\n",
       "      <td>0</td>\n",
       "    </tr>\n",
       "    <tr>\n",
       "      <th>Dayofweek</th>\n",
       "      <td>3</td>\n",
       "      <td>3</td>\n",
       "      <td>3</td>\n",
       "      <td>3</td>\n",
       "      <td>3</td>\n",
       "    </tr>\n",
       "    <tr>\n",
       "      <th>family</th>\n",
       "      <td>GROCERY I</td>\n",
       "      <td>GROCERY I</td>\n",
       "      <td>GROCERY I</td>\n",
       "      <td>GROCERY I</td>\n",
       "      <td>LIQUOR,WINE,BEER</td>\n",
       "    </tr>\n",
       "    <tr>\n",
       "      <th>dcoilwtico</th>\n",
       "      <td>47</td>\n",
       "      <td>47</td>\n",
       "      <td>47</td>\n",
       "      <td>47</td>\n",
       "      <td>47</td>\n",
       "    </tr>\n",
       "    <tr>\n",
       "      <th>After_local_holiday</th>\n",
       "      <td>0</td>\n",
       "      <td>0</td>\n",
       "      <td>0</td>\n",
       "      <td>0</td>\n",
       "      <td>0</td>\n",
       "    </tr>\n",
       "    <tr>\n",
       "      <th>cluster</th>\n",
       "      <td>3</td>\n",
       "      <td>3</td>\n",
       "      <td>3</td>\n",
       "      <td>3</td>\n",
       "      <td>3</td>\n",
       "    </tr>\n",
       "    <tr>\n",
       "      <th>Month</th>\n",
       "      <td>8</td>\n",
       "      <td>8</td>\n",
       "      <td>8</td>\n",
       "      <td>8</td>\n",
       "      <td>8</td>\n",
       "    </tr>\n",
       "    <tr>\n",
       "      <th>state</th>\n",
       "      <td>Manabi</td>\n",
       "      <td>Manabi</td>\n",
       "      <td>Manabi</td>\n",
       "      <td>Manabi</td>\n",
       "      <td>Manabi</td>\n",
       "    </tr>\n",
       "    <tr>\n",
       "      <th>city</th>\n",
       "      <td>El Carmen</td>\n",
       "      <td>El Carmen</td>\n",
       "      <td>El Carmen</td>\n",
       "      <td>El Carmen</td>\n",
       "      <td>El Carmen</td>\n",
       "    </tr>\n",
       "    <tr>\n",
       "      <th>perishable</th>\n",
       "      <td>False</td>\n",
       "      <td>False</td>\n",
       "      <td>False</td>\n",
       "      <td>False</td>\n",
       "      <td>False</td>\n",
       "    </tr>\n",
       "    <tr>\n",
       "      <th>unit_sales</th>\n",
       "      <td>0</td>\n",
       "      <td>0</td>\n",
       "      <td>0</td>\n",
       "      <td>0</td>\n",
       "      <td>0</td>\n",
       "    </tr>\n",
       "    <tr>\n",
       "      <th>id</th>\n",
       "      <td>128867499</td>\n",
       "      <td>128867500</td>\n",
       "      <td>128867501</td>\n",
       "      <td>128867502</td>\n",
       "      <td>128867503</td>\n",
       "    </tr>\n",
       "    <tr>\n",
       "      <th>m_ratio</th>\n",
       "      <td>0.00</td>\n",
       "      <td>0.00</td>\n",
       "      <td>0.00</td>\n",
       "      <td>0.00</td>\n",
       "      <td>0.00</td>\n",
       "    </tr>\n",
       "  </tbody>\n",
       "</table>\n",
       "</div>"
      ],
      "text/plain": [
       "                                     3370459              3370460  \\\n",
       "item_nbr                             2132163              2132318   \n",
       "class                                   1040                 1002   \n",
       "onpromotion                            False                False   \n",
       "Before_national_holiday                    0                    0   \n",
       "After_national_holiday                     0                    0   \n",
       "Dayofyear                                243                  243   \n",
       "store_type                                 C                    C   \n",
       "Day                                       31                   31   \n",
       "store_nbr                                 54                   54   \n",
       "Before_local_holiday                       0                    0   \n",
       "Dayofweek                                  3                    3   \n",
       "family                             GROCERY I            GROCERY I   \n",
       "dcoilwtico                                47                   47   \n",
       "After_local_holiday                        0                    0   \n",
       "cluster                                    3                    3   \n",
       "Month                                      8                    8   \n",
       "state                                 Manabi               Manabi   \n",
       "city                               El Carmen            El Carmen   \n",
       "perishable                             False                False   \n",
       "unit_sales                                 0                    0   \n",
       "id                                 128867499            128867500   \n",
       "m_ratio                                 0.00                 0.00   \n",
       "\n",
       "                                     3370461              3370462  \\\n",
       "item_nbr                             2132945              2132957   \n",
       "class                                   1026                 1068   \n",
       "onpromotion                            False                False   \n",
       "Before_national_holiday                    0                    0   \n",
       "After_national_holiday                     0                    0   \n",
       "Dayofyear                                243                  243   \n",
       "store_type                                 C                    C   \n",
       "Day                                       31                   31   \n",
       "store_nbr                                 54                   54   \n",
       "Before_local_holiday                       0                    0   \n",
       "Dayofweek                                  3                    3   \n",
       "family                             GROCERY I            GROCERY I   \n",
       "dcoilwtico                                47                   47   \n",
       "After_local_holiday                        0                    0   \n",
       "cluster                                    3                    3   \n",
       "Month                                      8                    8   \n",
       "state                                 Manabi               Manabi   \n",
       "city                               El Carmen            El Carmen   \n",
       "perishable                             False                False   \n",
       "unit_sales                                 0                    0   \n",
       "id                                 128867501            128867502   \n",
       "m_ratio                                 0.00                 0.00   \n",
       "\n",
       "                                     3370463  \n",
       "item_nbr                             2134244  \n",
       "class                                   1364  \n",
       "onpromotion                            False  \n",
       "Before_national_holiday                    0  \n",
       "After_national_holiday                     0  \n",
       "Dayofyear                                243  \n",
       "store_type                                 C  \n",
       "Day                                       31  \n",
       "store_nbr                                 54  \n",
       "Before_local_holiday                       0  \n",
       "Dayofweek                                  3  \n",
       "family                      LIQUOR,WINE,BEER  \n",
       "dcoilwtico                                47  \n",
       "After_local_holiday                        0  \n",
       "cluster                                    3  \n",
       "Month                                      8  \n",
       "state                                 Manabi  \n",
       "city                               El Carmen  \n",
       "perishable                             False  \n",
       "unit_sales                                 0  \n",
       "id                                 128867503  \n",
       "m_ratio                                 0.00  "
      ]
     },
     "metadata": {},
     "output_type": "display_data"
    }
   ],
   "source": [
    "display_all(test_keep.tail().T)"
   ]
  },
  {
   "cell_type": "code",
   "execution_count": 339,
   "metadata": {},
   "outputs": [],
   "source": [
    "pd.options.display.float_format = '{:20,.5f}'.format"
   ]
  },
  {
   "cell_type": "code",
   "execution_count": 340,
   "metadata": {},
   "outputs": [
    {
     "data": {
      "text/html": [
       "<div>\n",
       "<style scoped>\n",
       "    .dataframe tbody tr th:only-of-type {\n",
       "        vertical-align: middle;\n",
       "    }\n",
       "\n",
       "    .dataframe tbody tr th {\n",
       "        vertical-align: top;\n",
       "    }\n",
       "\n",
       "    .dataframe thead th {\n",
       "        text-align: right;\n",
       "    }\n",
       "</style>\n",
       "<table border=\"1\" class=\"dataframe\">\n",
       "  <thead>\n",
       "    <tr style=\"text-align: right;\">\n",
       "      <th></th>\n",
       "      <th>3370459</th>\n",
       "      <th>3370460</th>\n",
       "      <th>3370461</th>\n",
       "      <th>3370462</th>\n",
       "      <th>3370463</th>\n",
       "    </tr>\n",
       "  </thead>\n",
       "  <tbody>\n",
       "    <tr>\n",
       "      <th>item_nbr</th>\n",
       "      <td>3,897.00000</td>\n",
       "      <td>3,898.00000</td>\n",
       "      <td>3,899.00000</td>\n",
       "      <td>3,900.00000</td>\n",
       "      <td>3,901.00000</td>\n",
       "    </tr>\n",
       "    <tr>\n",
       "      <th>class</th>\n",
       "      <td>27.00000</td>\n",
       "      <td>1.00000</td>\n",
       "      <td>15.00000</td>\n",
       "      <td>44.00000</td>\n",
       "      <td>101.00000</td>\n",
       "    </tr>\n",
       "    <tr>\n",
       "      <th>onpromotion</th>\n",
       "      <td>1.00000</td>\n",
       "      <td>1.00000</td>\n",
       "      <td>1.00000</td>\n",
       "      <td>1.00000</td>\n",
       "      <td>1.00000</td>\n",
       "    </tr>\n",
       "    <tr>\n",
       "      <th>Before_national_holiday</th>\n",
       "      <td>-3.85299</td>\n",
       "      <td>-3.85299</td>\n",
       "      <td>-3.85299</td>\n",
       "      <td>-3.85299</td>\n",
       "      <td>-3.85299</td>\n",
       "    </tr>\n",
       "    <tr>\n",
       "      <th>After_national_holiday</th>\n",
       "      <td>-1.31753</td>\n",
       "      <td>-1.31753</td>\n",
       "      <td>-1.31753</td>\n",
       "      <td>-1.31753</td>\n",
       "      <td>-1.31753</td>\n",
       "    </tr>\n",
       "    <tr>\n",
       "      <th>Dayofyear</th>\n",
       "      <td>16.00000</td>\n",
       "      <td>16.00000</td>\n",
       "      <td>16.00000</td>\n",
       "      <td>16.00000</td>\n",
       "      <td>16.00000</td>\n",
       "    </tr>\n",
       "    <tr>\n",
       "      <th>store_type</th>\n",
       "      <td>3.00000</td>\n",
       "      <td>3.00000</td>\n",
       "      <td>3.00000</td>\n",
       "      <td>3.00000</td>\n",
       "      <td>3.00000</td>\n",
       "    </tr>\n",
       "    <tr>\n",
       "      <th>Day</th>\n",
       "      <td>16.00000</td>\n",
       "      <td>16.00000</td>\n",
       "      <td>16.00000</td>\n",
       "      <td>16.00000</td>\n",
       "      <td>16.00000</td>\n",
       "    </tr>\n",
       "    <tr>\n",
       "      <th>store_nbr</th>\n",
       "      <td>54.00000</td>\n",
       "      <td>54.00000</td>\n",
       "      <td>54.00000</td>\n",
       "      <td>54.00000</td>\n",
       "      <td>54.00000</td>\n",
       "    </tr>\n",
       "    <tr>\n",
       "      <th>Before_local_holiday</th>\n",
       "      <td>-0.52578</td>\n",
       "      <td>-0.52578</td>\n",
       "      <td>-0.52578</td>\n",
       "      <td>-0.52578</td>\n",
       "      <td>-0.52578</td>\n",
       "    </tr>\n",
       "    <tr>\n",
       "      <th>Dayofweek</th>\n",
       "      <td>4.00000</td>\n",
       "      <td>4.00000</td>\n",
       "      <td>4.00000</td>\n",
       "      <td>4.00000</td>\n",
       "      <td>4.00000</td>\n",
       "    </tr>\n",
       "    <tr>\n",
       "      <th>family</th>\n",
       "      <td>13.00000</td>\n",
       "      <td>13.00000</td>\n",
       "      <td>13.00000</td>\n",
       "      <td>13.00000</td>\n",
       "      <td>23.00000</td>\n",
       "    </tr>\n",
       "    <tr>\n",
       "      <th>dcoilwtico</th>\n",
       "      <td>-0.61462</td>\n",
       "      <td>-0.61462</td>\n",
       "      <td>-0.61462</td>\n",
       "      <td>-0.61462</td>\n",
       "      <td>-0.61462</td>\n",
       "    </tr>\n",
       "    <tr>\n",
       "      <th>After_local_holiday</th>\n",
       "      <td>-0.29264</td>\n",
       "      <td>-0.29264</td>\n",
       "      <td>-0.29264</td>\n",
       "      <td>-0.29264</td>\n",
       "      <td>-0.29264</td>\n",
       "    </tr>\n",
       "    <tr>\n",
       "      <th>cluster</th>\n",
       "      <td>3.00000</td>\n",
       "      <td>3.00000</td>\n",
       "      <td>3.00000</td>\n",
       "      <td>3.00000</td>\n",
       "      <td>3.00000</td>\n",
       "    </tr>\n",
       "    <tr>\n",
       "      <th>Month</th>\n",
       "      <td>1.00000</td>\n",
       "      <td>1.00000</td>\n",
       "      <td>1.00000</td>\n",
       "      <td>1.00000</td>\n",
       "      <td>1.00000</td>\n",
       "    </tr>\n",
       "    <tr>\n",
       "      <th>state</th>\n",
       "      <td>11.00000</td>\n",
       "      <td>11.00000</td>\n",
       "      <td>11.00000</td>\n",
       "      <td>11.00000</td>\n",
       "      <td>11.00000</td>\n",
       "    </tr>\n",
       "    <tr>\n",
       "      <th>city</th>\n",
       "      <td>6.00000</td>\n",
       "      <td>6.00000</td>\n",
       "      <td>6.00000</td>\n",
       "      <td>6.00000</td>\n",
       "      <td>6.00000</td>\n",
       "    </tr>\n",
       "    <tr>\n",
       "      <th>perishable</th>\n",
       "      <td>1.00000</td>\n",
       "      <td>1.00000</td>\n",
       "      <td>1.00000</td>\n",
       "      <td>1.00000</td>\n",
       "      <td>1.00000</td>\n",
       "    </tr>\n",
       "    <tr>\n",
       "      <th>m_ratio</th>\n",
       "      <td>-0.88655</td>\n",
       "      <td>-0.88655</td>\n",
       "      <td>-0.88655</td>\n",
       "      <td>-0.88655</td>\n",
       "      <td>-0.88655</td>\n",
       "    </tr>\n",
       "  </tbody>\n",
       "</table>\n",
       "</div>"
      ],
      "text/plain": [
       "                                     3370459              3370460  \\\n",
       "item_nbr                         3,897.00000          3,898.00000   \n",
       "class                               27.00000              1.00000   \n",
       "onpromotion                          1.00000              1.00000   \n",
       "Before_national_holiday             -3.85299             -3.85299   \n",
       "After_national_holiday              -1.31753             -1.31753   \n",
       "Dayofyear                           16.00000             16.00000   \n",
       "store_type                           3.00000              3.00000   \n",
       "Day                                 16.00000             16.00000   \n",
       "store_nbr                           54.00000             54.00000   \n",
       "Before_local_holiday                -0.52578             -0.52578   \n",
       "Dayofweek                            4.00000              4.00000   \n",
       "family                              13.00000             13.00000   \n",
       "dcoilwtico                          -0.61462             -0.61462   \n",
       "After_local_holiday                 -0.29264             -0.29264   \n",
       "cluster                              3.00000              3.00000   \n",
       "Month                                1.00000              1.00000   \n",
       "state                               11.00000             11.00000   \n",
       "city                                 6.00000              6.00000   \n",
       "perishable                           1.00000              1.00000   \n",
       "m_ratio                             -0.88655             -0.88655   \n",
       "\n",
       "                                     3370461              3370462  \\\n",
       "item_nbr                         3,899.00000          3,900.00000   \n",
       "class                               15.00000             44.00000   \n",
       "onpromotion                          1.00000              1.00000   \n",
       "Before_national_holiday             -3.85299             -3.85299   \n",
       "After_national_holiday              -1.31753             -1.31753   \n",
       "Dayofyear                           16.00000             16.00000   \n",
       "store_type                           3.00000              3.00000   \n",
       "Day                                 16.00000             16.00000   \n",
       "store_nbr                           54.00000             54.00000   \n",
       "Before_local_holiday                -0.52578             -0.52578   \n",
       "Dayofweek                            4.00000              4.00000   \n",
       "family                              13.00000             13.00000   \n",
       "dcoilwtico                          -0.61462             -0.61462   \n",
       "After_local_holiday                 -0.29264             -0.29264   \n",
       "cluster                              3.00000              3.00000   \n",
       "Month                                1.00000              1.00000   \n",
       "state                               11.00000             11.00000   \n",
       "city                                 6.00000              6.00000   \n",
       "perishable                           1.00000              1.00000   \n",
       "m_ratio                             -0.88655             -0.88655   \n",
       "\n",
       "                                     3370463  \n",
       "item_nbr                         3,901.00000  \n",
       "class                              101.00000  \n",
       "onpromotion                          1.00000  \n",
       "Before_national_holiday             -3.85299  \n",
       "After_national_holiday              -1.31753  \n",
       "Dayofyear                           16.00000  \n",
       "store_type                           3.00000  \n",
       "Day                                 16.00000  \n",
       "store_nbr                           54.00000  \n",
       "Before_local_holiday                -0.52578  \n",
       "Dayofweek                            4.00000  \n",
       "family                              23.00000  \n",
       "dcoilwtico                          -0.61462  \n",
       "After_local_holiday                 -0.29264  \n",
       "cluster                              3.00000  \n",
       "Month                                1.00000  \n",
       "state                               11.00000  \n",
       "city                                 6.00000  \n",
       "perishable                           1.00000  \n",
       "m_ratio                             -0.88655  "
      ]
     },
     "metadata": {},
     "output_type": "display_data"
    }
   ],
   "source": [
    "display_all(df_test.tail().T)"
   ]
  },
  {
   "cell_type": "code",
   "execution_count": 341,
   "metadata": {},
   "outputs": [
    {
     "name": "stdout",
     "output_type": "stream",
     "text": [
      "CPU times: user 1min 16s, sys: 1.35 s, total: 1min 17s\n",
      "Wall time: 1min 11s\n"
     ]
    }
   ],
   "source": [
    "%%time\n",
    "pred_test = m.predict(True)"
   ]
  },
  {
   "cell_type": "code",
   "execution_count": 342,
   "metadata": {},
   "outputs": [],
   "source": [
    "df_test[\"pred_unit_sales\"] = pred_test"
   ]
  },
  {
   "cell_type": "code",
   "execution_count": 343,
   "metadata": {},
   "outputs": [],
   "source": [
    "df_test[\"unit_sales\"] = inv_y(df_test[\"pred_unit_sales\"])"
   ]
  },
  {
   "cell_type": "code",
   "execution_count": 344,
   "metadata": {},
   "outputs": [
    {
     "data": {
      "text/plain": [
       "count        3,370,464.00000\n",
       "mean                 0.78157\n",
       "std                  0.82085\n",
       "min                  0.00000\n",
       "25%                  0.05729\n",
       "50%                  0.53136\n",
       "75%                  1.27366\n",
       "max                  6.09357\n",
       "Name: pred_unit_sales, dtype: float64"
      ]
     },
     "execution_count": 344,
     "metadata": {},
     "output_type": "execute_result"
    }
   ],
   "source": [
    "df_test.pred_unit_sales.describe()"
   ]
  },
  {
   "cell_type": "code",
   "execution_count": 345,
   "metadata": {},
   "outputs": [
    {
     "data": {
      "text/plain": [
       "count       50,120,532.00000\n",
       "mean                 0.82229\n",
       "std                  1.04408\n",
       "min                  0.00000\n",
       "25%                  0.00000\n",
       "50%                  0.00000\n",
       "75%                  1.60944\n",
       "max                  9.74958\n",
       "Name: unit_sales, dtype: float64"
      ]
     },
     "execution_count": 345,
     "metadata": {},
     "output_type": "execute_result"
    }
   ],
   "source": [
    "train_keep.unit_sales.describe()"
   ]
  },
  {
   "cell_type": "code",
   "execution_count": 346,
   "metadata": {},
   "outputs": [],
   "source": [
    "df_test[\"id\"] = test_keep.id"
   ]
  },
  {
   "cell_type": "code",
   "execution_count": 347,
   "metadata": {},
   "outputs": [
    {
     "data": {
      "text/html": [
       "<div>\n",
       "<style scoped>\n",
       "    .dataframe tbody tr th:only-of-type {\n",
       "        vertical-align: middle;\n",
       "    }\n",
       "\n",
       "    .dataframe tbody tr th {\n",
       "        vertical-align: top;\n",
       "    }\n",
       "\n",
       "    .dataframe thead th {\n",
       "        text-align: right;\n",
       "    }\n",
       "</style>\n",
       "<table border=\"1\" class=\"dataframe\">\n",
       "  <thead>\n",
       "    <tr style=\"text-align: right;\">\n",
       "      <th></th>\n",
       "      <th>3370459</th>\n",
       "      <th>3370460</th>\n",
       "      <th>3370461</th>\n",
       "      <th>3370462</th>\n",
       "      <th>3370463</th>\n",
       "    </tr>\n",
       "  </thead>\n",
       "  <tbody>\n",
       "    <tr>\n",
       "      <th>item_nbr</th>\n",
       "      <td>3,897.00000</td>\n",
       "      <td>3,898.00000</td>\n",
       "      <td>3,899.00000</td>\n",
       "      <td>3,900.00000</td>\n",
       "      <td>3,901.00000</td>\n",
       "    </tr>\n",
       "    <tr>\n",
       "      <th>class</th>\n",
       "      <td>27.00000</td>\n",
       "      <td>1.00000</td>\n",
       "      <td>15.00000</td>\n",
       "      <td>44.00000</td>\n",
       "      <td>101.00000</td>\n",
       "    </tr>\n",
       "    <tr>\n",
       "      <th>onpromotion</th>\n",
       "      <td>1.00000</td>\n",
       "      <td>1.00000</td>\n",
       "      <td>1.00000</td>\n",
       "      <td>1.00000</td>\n",
       "      <td>1.00000</td>\n",
       "    </tr>\n",
       "    <tr>\n",
       "      <th>Before_national_holiday</th>\n",
       "      <td>-3.85299</td>\n",
       "      <td>-3.85299</td>\n",
       "      <td>-3.85299</td>\n",
       "      <td>-3.85299</td>\n",
       "      <td>-3.85299</td>\n",
       "    </tr>\n",
       "    <tr>\n",
       "      <th>After_national_holiday</th>\n",
       "      <td>-1.31753</td>\n",
       "      <td>-1.31753</td>\n",
       "      <td>-1.31753</td>\n",
       "      <td>-1.31753</td>\n",
       "      <td>-1.31753</td>\n",
       "    </tr>\n",
       "    <tr>\n",
       "      <th>Dayofyear</th>\n",
       "      <td>16.00000</td>\n",
       "      <td>16.00000</td>\n",
       "      <td>16.00000</td>\n",
       "      <td>16.00000</td>\n",
       "      <td>16.00000</td>\n",
       "    </tr>\n",
       "    <tr>\n",
       "      <th>store_type</th>\n",
       "      <td>3.00000</td>\n",
       "      <td>3.00000</td>\n",
       "      <td>3.00000</td>\n",
       "      <td>3.00000</td>\n",
       "      <td>3.00000</td>\n",
       "    </tr>\n",
       "    <tr>\n",
       "      <th>Day</th>\n",
       "      <td>16.00000</td>\n",
       "      <td>16.00000</td>\n",
       "      <td>16.00000</td>\n",
       "      <td>16.00000</td>\n",
       "      <td>16.00000</td>\n",
       "    </tr>\n",
       "    <tr>\n",
       "      <th>store_nbr</th>\n",
       "      <td>54.00000</td>\n",
       "      <td>54.00000</td>\n",
       "      <td>54.00000</td>\n",
       "      <td>54.00000</td>\n",
       "      <td>54.00000</td>\n",
       "    </tr>\n",
       "    <tr>\n",
       "      <th>Before_local_holiday</th>\n",
       "      <td>-0.52578</td>\n",
       "      <td>-0.52578</td>\n",
       "      <td>-0.52578</td>\n",
       "      <td>-0.52578</td>\n",
       "      <td>-0.52578</td>\n",
       "    </tr>\n",
       "    <tr>\n",
       "      <th>Dayofweek</th>\n",
       "      <td>4.00000</td>\n",
       "      <td>4.00000</td>\n",
       "      <td>4.00000</td>\n",
       "      <td>4.00000</td>\n",
       "      <td>4.00000</td>\n",
       "    </tr>\n",
       "    <tr>\n",
       "      <th>family</th>\n",
       "      <td>13.00000</td>\n",
       "      <td>13.00000</td>\n",
       "      <td>13.00000</td>\n",
       "      <td>13.00000</td>\n",
       "      <td>23.00000</td>\n",
       "    </tr>\n",
       "    <tr>\n",
       "      <th>dcoilwtico</th>\n",
       "      <td>-0.61462</td>\n",
       "      <td>-0.61462</td>\n",
       "      <td>-0.61462</td>\n",
       "      <td>-0.61462</td>\n",
       "      <td>-0.61462</td>\n",
       "    </tr>\n",
       "    <tr>\n",
       "      <th>After_local_holiday</th>\n",
       "      <td>-0.29264</td>\n",
       "      <td>-0.29264</td>\n",
       "      <td>-0.29264</td>\n",
       "      <td>-0.29264</td>\n",
       "      <td>-0.29264</td>\n",
       "    </tr>\n",
       "    <tr>\n",
       "      <th>cluster</th>\n",
       "      <td>3.00000</td>\n",
       "      <td>3.00000</td>\n",
       "      <td>3.00000</td>\n",
       "      <td>3.00000</td>\n",
       "      <td>3.00000</td>\n",
       "    </tr>\n",
       "    <tr>\n",
       "      <th>Month</th>\n",
       "      <td>1.00000</td>\n",
       "      <td>1.00000</td>\n",
       "      <td>1.00000</td>\n",
       "      <td>1.00000</td>\n",
       "      <td>1.00000</td>\n",
       "    </tr>\n",
       "    <tr>\n",
       "      <th>state</th>\n",
       "      <td>11.00000</td>\n",
       "      <td>11.00000</td>\n",
       "      <td>11.00000</td>\n",
       "      <td>11.00000</td>\n",
       "      <td>11.00000</td>\n",
       "    </tr>\n",
       "    <tr>\n",
       "      <th>city</th>\n",
       "      <td>6.00000</td>\n",
       "      <td>6.00000</td>\n",
       "      <td>6.00000</td>\n",
       "      <td>6.00000</td>\n",
       "      <td>6.00000</td>\n",
       "    </tr>\n",
       "    <tr>\n",
       "      <th>perishable</th>\n",
       "      <td>1.00000</td>\n",
       "      <td>1.00000</td>\n",
       "      <td>1.00000</td>\n",
       "      <td>1.00000</td>\n",
       "      <td>1.00000</td>\n",
       "    </tr>\n",
       "    <tr>\n",
       "      <th>m_ratio</th>\n",
       "      <td>-0.88655</td>\n",
       "      <td>-0.88655</td>\n",
       "      <td>-0.88655</td>\n",
       "      <td>-0.88655</td>\n",
       "      <td>-0.88655</td>\n",
       "    </tr>\n",
       "    <tr>\n",
       "      <th>pred_unit_sales</th>\n",
       "      <td>0.00004</td>\n",
       "      <td>0.00011</td>\n",
       "      <td>0.04722</td>\n",
       "      <td>0.00000</td>\n",
       "      <td>0.01470</td>\n",
       "    </tr>\n",
       "    <tr>\n",
       "      <th>unit_sales</th>\n",
       "      <td>0.00004</td>\n",
       "      <td>0.00011</td>\n",
       "      <td>0.04836</td>\n",
       "      <td>0.00000</td>\n",
       "      <td>0.01481</td>\n",
       "    </tr>\n",
       "    <tr>\n",
       "      <th>id</th>\n",
       "      <td>128,867,499.00000</td>\n",
       "      <td>128,867,500.00000</td>\n",
       "      <td>128,867,501.00000</td>\n",
       "      <td>128,867,502.00000</td>\n",
       "      <td>128,867,503.00000</td>\n",
       "    </tr>\n",
       "  </tbody>\n",
       "</table>\n",
       "</div>"
      ],
      "text/plain": [
       "                                     3370459              3370460  \\\n",
       "item_nbr                         3,897.00000          3,898.00000   \n",
       "class                               27.00000              1.00000   \n",
       "onpromotion                          1.00000              1.00000   \n",
       "Before_national_holiday             -3.85299             -3.85299   \n",
       "After_national_holiday              -1.31753             -1.31753   \n",
       "Dayofyear                           16.00000             16.00000   \n",
       "store_type                           3.00000              3.00000   \n",
       "Day                                 16.00000             16.00000   \n",
       "store_nbr                           54.00000             54.00000   \n",
       "Before_local_holiday                -0.52578             -0.52578   \n",
       "Dayofweek                            4.00000              4.00000   \n",
       "family                              13.00000             13.00000   \n",
       "dcoilwtico                          -0.61462             -0.61462   \n",
       "After_local_holiday                 -0.29264             -0.29264   \n",
       "cluster                              3.00000              3.00000   \n",
       "Month                                1.00000              1.00000   \n",
       "state                               11.00000             11.00000   \n",
       "city                                 6.00000              6.00000   \n",
       "perishable                           1.00000              1.00000   \n",
       "m_ratio                             -0.88655             -0.88655   \n",
       "pred_unit_sales                      0.00004              0.00011   \n",
       "unit_sales                           0.00004              0.00011   \n",
       "id                         128,867,499.00000    128,867,500.00000   \n",
       "\n",
       "                                     3370461              3370462  \\\n",
       "item_nbr                         3,899.00000          3,900.00000   \n",
       "class                               15.00000             44.00000   \n",
       "onpromotion                          1.00000              1.00000   \n",
       "Before_national_holiday             -3.85299             -3.85299   \n",
       "After_national_holiday              -1.31753             -1.31753   \n",
       "Dayofyear                           16.00000             16.00000   \n",
       "store_type                           3.00000              3.00000   \n",
       "Day                                 16.00000             16.00000   \n",
       "store_nbr                           54.00000             54.00000   \n",
       "Before_local_holiday                -0.52578             -0.52578   \n",
       "Dayofweek                            4.00000              4.00000   \n",
       "family                              13.00000             13.00000   \n",
       "dcoilwtico                          -0.61462             -0.61462   \n",
       "After_local_holiday                 -0.29264             -0.29264   \n",
       "cluster                              3.00000              3.00000   \n",
       "Month                                1.00000              1.00000   \n",
       "state                               11.00000             11.00000   \n",
       "city                                 6.00000              6.00000   \n",
       "perishable                           1.00000              1.00000   \n",
       "m_ratio                             -0.88655             -0.88655   \n",
       "pred_unit_sales                      0.04722              0.00000   \n",
       "unit_sales                           0.04836              0.00000   \n",
       "id                         128,867,501.00000    128,867,502.00000   \n",
       "\n",
       "                                     3370463  \n",
       "item_nbr                         3,901.00000  \n",
       "class                              101.00000  \n",
       "onpromotion                          1.00000  \n",
       "Before_national_holiday             -3.85299  \n",
       "After_national_holiday              -1.31753  \n",
       "Dayofyear                           16.00000  \n",
       "store_type                           3.00000  \n",
       "Day                                 16.00000  \n",
       "store_nbr                           54.00000  \n",
       "Before_local_holiday                -0.52578  \n",
       "Dayofweek                            4.00000  \n",
       "family                              23.00000  \n",
       "dcoilwtico                          -0.61462  \n",
       "After_local_holiday                 -0.29264  \n",
       "cluster                              3.00000  \n",
       "Month                                1.00000  \n",
       "state                               11.00000  \n",
       "city                                 6.00000  \n",
       "perishable                           1.00000  \n",
       "m_ratio                             -0.88655  \n",
       "pred_unit_sales                      0.01470  \n",
       "unit_sales                           0.01481  \n",
       "id                         128,867,503.00000  "
      ]
     },
     "metadata": {},
     "output_type": "display_data"
    }
   ],
   "source": [
    "display_all(df_test.tail().T)"
   ]
  },
  {
   "cell_type": "code",
   "execution_count": 348,
   "metadata": {},
   "outputs": [],
   "source": [
    "csv_fn = f'{PATH}submission.csv'"
   ]
  },
  {
   "cell_type": "code",
   "execution_count": 349,
   "metadata": {},
   "outputs": [],
   "source": [
    "df_test[['id','unit_sales']].to_csv(csv_fn, index=False, float_format='%.5f')"
   ]
  },
  {
   "cell_type": "code",
   "execution_count": 350,
   "metadata": {},
   "outputs": [
    {
     "data": {
      "text/html": [
       "<a href='data/grocery/submission.csv' target='_blank'>data/grocery/submission.csv</a><br>"
      ],
      "text/plain": [
       "/home/ubuntu/fastai/courses/dl1/data/grocery/submission.csv"
      ]
     },
     "execution_count": 350,
     "metadata": {},
     "output_type": "execute_result"
    }
   ],
   "source": [
    "FileLink(csv_fn)"
   ]
  },
  {
   "cell_type": "markdown",
   "metadata": {},
   "source": [
    "## 8. Conclusions"
   ]
  },
  {
   "cell_type": "markdown",
   "metadata": {},
   "source": [
    "It turned out that it is not enough just to throw this problem at a deep neural network and hope for the best. After a lot of struggling I realized that the key to getting better scores on this competition is to create new features. Once I added a feature - \"moving average\",  that someone else had come up with - there was a huge improvement. Before I had nothing - a score much worse than even the sample submission, which are only zeros ! After adding this engineered feature I suddenly had at least something - close to the mean item sales benchmark, which is of course also not very impressing. I conclude that the way to improve further is to go through the kernels and find more of those ingenious features that people have come up with. But I will not invest more time in this competition, at least not at this point in time."
   ]
  },
  {
   "cell_type": "markdown",
   "metadata": {},
   "source": [
    "In my view this was quite a challenging data set to have for a competition, and in the discussions I have seen similar comments. First of all there is an issue that the training set has been stripped of all 0-sales, so you need to recreate those lines because otherwise you will have no information at all on most of the item / store combinations of the test set. How should you be able to predict anything about something you have never seen? I wanted to learn the most, so at the beginning I didn't look into any forums or kernels and tried it out myself, and it took only quite long til I realized this huge issue. You can do any learning you want without getting one millimeter ahead if you do not fully understand the deficiencies of the data set(s) you are working on. "
   ]
  },
  {
   "cell_type": "markdown",
   "metadata": {},
   "source": [
    "Another conclusion is that the approach we used in the course for the Rossmann competition is not 1:1 applicable on this data set. Without the extra feature engineering you are lost. For the Rossman we did create some own features, in particular the \"elapsed time\" features, but also the \"add_datepart\" can be counted as feature engineering. Maybe I was a bit naive about this aspect, after all we are dealing with a time series, and you need to adress that somehow. I have seen in the kernels that the good guys are using LSTMs, so maybe I will come back to this competition once I have learned more about LSTMs."
   ]
  },
  {
   "cell_type": "markdown",
   "metadata": {},
   "source": [
    "All that said, I am not the least disappointed about my scores, because this was a great learning experience. Not only did I learn a lot about the practical use of the fast-ai library, and pandas, but I also had to learn not to give up in the face of very frustrating setbacks. I did not only struggle with the machine learning as such, but much more with the practicalities of handling huge data sets, finding the right pandas tools for some particular task, handling subtle bugs and so on..."
   ]
  },
  {
   "cell_type": "markdown",
   "metadata": {},
   "source": [
    "Final word: Kaggle competitions is a great way to learn, because you get a feedback via the scores if you are on the right track or totally off-track. You can learn from others, and learn by doing. And Kaggle competitions make a lot of fun too. "
   ]
  }
 ],
 "metadata": {
  "kernelspec": {
   "display_name": "Python 3",
   "language": "python",
   "name": "python3"
  },
  "language_info": {
   "codemirror_mode": {
    "name": "ipython",
    "version": 3
   },
   "file_extension": ".py",
   "mimetype": "text/x-python",
   "name": "python",
   "nbconvert_exporter": "python",
   "pygments_lexer": "ipython3",
   "version": "3.6.5"
  }
 },
 "nbformat": 4,
 "nbformat_minor": 2
}
